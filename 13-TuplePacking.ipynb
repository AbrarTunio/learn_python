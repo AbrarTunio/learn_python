{
 "cells": [
  {
   "cell_type": "markdown",
   "id": "grand-secretary",
   "metadata": {},
   "source": [
    "**TUPLE-PACKING**"
   ]
  },
  {
   "cell_type": "code",
   "execution_count": 2,
   "id": "indonesian-intranet",
   "metadata": {},
   "outputs": [
    {
     "name": "stdout",
     "output_type": "stream",
     "text": [
      "These\n",
      "2021\n"
     ]
    }
   ],
   "source": [
    "maketuple = (\"This\",\"That\",29,\"These\",\"Those\",2021)\n",
    "#or Equivalant to \n",
    "maketuple2 = \"This\",\"That\",29,\"These\",\"Those\",2021\n",
    "\n",
    "print(maketuple[3])\n",
    "print(maketuple2[5])"
   ]
  },
  {
   "cell_type": "markdown",
   "id": "afraid-strength",
   "metadata": {},
   "source": [
    "**Some Functions also return tuple as a result** "
   ]
  },
  {
   "cell_type": "code",
   "execution_count": 10,
   "id": "tamil-cornwall",
   "metadata": {},
   "outputs": [
    {
     "name": "stdout",
     "output_type": "stream",
     "text": [
      "(62.8318, 314.159)\n"
     ]
    }
   ],
   "source": [
    "def circleInfo(r):\n",
    "    circumference  =   2 * 3.14159 * r\n",
    "    area           =   3.14159 * r * r\n",
    "    return circumference , area\n",
    "\n",
    "print(circleInfo(10)) # a tuple will be returned!"
   ]
  },
  {
   "cell_type": "code",
   "execution_count": 11,
   "id": "aboriginal-peeing",
   "metadata": {},
   "outputs": [
    {
     "ename": "SyntaxError",
     "evalue": "invalid syntax (<ipython-input-11-84c1bd95f864>, line 1)",
     "output_type": "error",
     "traceback": [
      "\u001b[1;36m  File \u001b[1;32m\"<ipython-input-11-84c1bd95f864>\"\u001b[1;36m, line \u001b[1;32m1\u001b[0m\n\u001b[1;33m    **Check your understanding**\u001b[0m\n\u001b[1;37m    ^\u001b[0m\n\u001b[1;31mSyntaxError\u001b[0m\u001b[1;31m:\u001b[0m invalid syntax\n"
     ]
    }
   ],
   "source": [
    "**Check your understanding**\n",
    "\n",
    "tuples-4-1: Which of the following statements will output Atlanta, Georgia\n",
    "\n",
    "A. print(julia['city'])\n",
    "B. print(julia[-1])\n",
    "C. print(julia(-1))\n",
    "D. print(julia(6))\n",
    "E. print(julia[7])\n",
    "\n",
    "✔️Correct.\n",
    "[-1] picks out the last item in the sequence. (b)"
   ]
  },
  {
   "cell_type": "code",
   "execution_count": 14,
   "id": "sound-trustee",
   "metadata": {},
   "outputs": [
    {
     "name": "stdout",
     "output_type": "stream",
     "text": [
      "('y', 'h', 'z', 'x')\n"
     ]
    }
   ],
   "source": [
    "#2. Create a tuple called practice that has four elements: ‘y’, ‘h’, ‘z’, and ‘x’.\n",
    "practice = \"y\", \"h\" , \"z\" , \"x\"\n",
    "print(practice)"
   ]
  },
  {
   "cell_type": "code",
   "execution_count": 15,
   "id": "comfortable-niger",
   "metadata": {},
   "outputs": [],
   "source": [
    "#3. Create a tuple named tup1 that has three elements: ‘a’, ‘b’, and ‘c’.\n",
    "tup1 = \"a\", \"b\", 'c'"
   ]
  },
  {
   "cell_type": "code",
   "execution_count": 17,
   "id": "conscious-matrix",
   "metadata": {},
   "outputs": [
    {
     "name": "stdout",
     "output_type": "stream",
     "text": [
      "['Zaptos', 'Charizard', 'Diglett', 'Tauros', 'Lanturn', 'Wailord']\n"
     ]
    }
   ],
   "source": [
    "#4. Provided is a list of tuples. \n",
    "#Create another list called \n",
    "#t_check \n",
    "#that contains the third element of every tuple.\n",
    "\n",
    "lst_tups = [('Articuno', 'Moltres', 'Zaptos'), ('Beedrill', 'Metapod', 'Charizard', 'Venasaur', 'Squirtle'), ('Oddish', 'Poliwag', 'Diglett', 'Bellsprout'), ('Ponyta', \"Farfetch'd\", \"Tauros\", 'Dragonite'), ('Hoothoot', 'Chikorita', 'Lanturn', 'Flaaffy', 'Unown', 'Teddiursa', 'Phanpy'), ('Loudred', 'Volbeat', 'Wailord', 'Seviper', 'Sealeo')]\n",
    "\n",
    "t_check = []\n",
    "\n",
    "for tup in lst_tups:\n",
    "    t_check.append(tup[2])\n",
    "print(t_check)\n"
   ]
  },
  {
   "cell_type": "code",
   "execution_count": 19,
   "id": "potential-niagara",
   "metadata": {},
   "outputs": [
    {
     "name": "stdout",
     "output_type": "stream",
     "text": [
      "['b', 7, 'green', 9.99, 'chipmunk']\n"
     ]
    }
   ],
   "source": [
    "#5. Below, we have provided a list of tuples. \n",
    "#Write a for loop that saves \n",
    "#the second element of each tuple into a list called \n",
    "#seconds.\n",
    "\n",
    "\n",
    "tups = [('a', 'b', 'c'), (8, 7, 6, 5), ('blue', 'green', 'yellow', 'orange', 'red'), (5.6, 9.99, 2.5, 8.2), ('squirrel', 'chipmunk')]\n",
    "\n",
    "seconds = []\n",
    "\n",
    "for element in tups:\n",
    "    seconds.append(element[1])\n",
    "\n",
    "print(seconds)    "
   ]
  },
  {
   "cell_type": "code",
   "execution_count": null,
   "id": "wired-enough",
   "metadata": {},
   "outputs": [],
   "source": []
  }
 ],
 "metadata": {
  "kernelspec": {
   "display_name": "Python 3",
   "language": "python",
   "name": "python3"
  },
  "language_info": {
   "codemirror_mode": {
    "name": "ipython",
    "version": 3
   },
   "file_extension": ".py",
   "mimetype": "text/x-python",
   "name": "python",
   "nbconvert_exporter": "python",
   "pygments_lexer": "ipython3",
   "version": "3.9.2"
  }
 },
 "nbformat": 4,
 "nbformat_minor": 5
}
