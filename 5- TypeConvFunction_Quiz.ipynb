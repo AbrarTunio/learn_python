{
 "cells": [
  {
   "cell_type": "code",
   "execution_count": null,
   "id": "arranged-diversity",
   "metadata": {},
   "outputs": [],
   "source": [
    "data-6-1: What value is printed when the following statement executes?\n",
    "\n",
    "print(int(53.785))\n",
    "A. Nothing is printed. It generates a runtime error.\n",
    "B. 53\n",
    "C. 54\n",
    "D. 53.785\n",
    "\n",
    "✔️ The int function truncates all values after the decimal and prints the integer value."
   ]
  }
 ],
 "metadata": {
  "kernelspec": {
   "display_name": "Python 3",
   "language": "python",
   "name": "python3"
  },
  "language_info": {
   "codemirror_mode": {
    "name": "ipython",
    "version": 3
   },
   "file_extension": ".py",
   "mimetype": "text/x-python",
   "name": "python",
   "nbconvert_exporter": "python",
   "pygments_lexer": "ipython3",
   "version": "3.9.1"
  }
 },
 "nbformat": 4,
 "nbformat_minor": 5
}
