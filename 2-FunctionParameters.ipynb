{
 "cells": [
  {
   "cell_type": "markdown",
   "id": "asian-distribution",
   "metadata": {},
   "source": [
    "FUNCTION PARAMETERS"
   ]
  },
  {
   "cell_type": "code",
   "execution_count": 15,
   "id": "honey-toner",
   "metadata": {},
   "outputs": [
    {
     "name": "stdout",
     "output_type": "stream",
     "text": [
      "Hello Abrar Hello Abrar Hello Abrar Hello Abrar \n"
     ]
    }
   ],
   "source": [
    "def greetings(name,number):\n",
    "    greetings = \"Hello {} \".format(name)\n",
    "    #greetings2 = greetings*number\n",
    "    print(greetings*number)\n",
    "greetings(\"Abrar\",4) "
   ]
  },
  {
   "cell_type": "code",
   "execution_count": null,
   "id": "available-actor",
   "metadata": {},
   "outputs": [],
   "source": []
  },
  {
   "cell_type": "code",
   "execution_count": null,
   "id": "proud-infrastructure",
   "metadata": {},
   "outputs": [],
   "source": []
  }
 ],
 "metadata": {
  "kernelspec": {
   "display_name": "Python 3",
   "language": "python",
   "name": "python3"
  },
  "language_info": {
   "codemirror_mode": {
    "name": "ipython",
    "version": 3
   },
   "file_extension": ".py",
   "mimetype": "text/x-python",
   "name": "python",
   "nbconvert_exporter": "python",
   "pygments_lexer": "ipython3",
   "version": "3.9.2"
  }
 },
 "nbformat": 4,
 "nbformat_minor": 5
}
