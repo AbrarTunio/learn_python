{
 "cells": [
  {
   "cell_type": "code",
   "execution_count": 2,
   "id": "brutal-domestic",
   "metadata": {},
   "outputs": [
    {
     "name": "stdout",
     "output_type": "stream",
     "text": [
      "Welcome to Python Time\n",
      "Welcome to Python Time\n",
      "Welcome\n",
      "to \n",
      "Python \n",
      "time\n"
     ]
    }
   ],
   "source": [
    "any_string1 = \"Welcome to Python Time\"\n",
    "#It is ok to start with Double Quotes\n",
    "any_string2 = 'Welcome to Python Time'\n",
    "#It is also fine to use Single Quotes\n",
    "any_string3 = '''Welcome\n",
    "to \n",
    "Python \n",
    "time'''\n",
    "#Triple single or triple double quotes for multiline\n",
    "#string\n",
    "print(any_string1)\n",
    "print(any_string2)\n",
    "print(any_string3)"
   ]
  },
  {
   "cell_type": "code",
   "execution_count": 3,
   "id": "imported-fabric",
   "metadata": {},
   "outputs": [
    {
     "name": "stdout",
     "output_type": "stream",
     "text": [
      "<class 'str'>\n",
      "<class 'int'>\n"
     ]
    }
   ],
   "source": [
    "number1 = \"5\"   #string\n",
    "number2 = 5     #integer\n",
    "\n",
    "print(  type(number1)  )\n",
    "print(  type(number2)  )"
   ]
  },
  {
   "cell_type": "code",
   "execution_count": 8,
   "id": "differential-hamilton",
   "metadata": {},
   "outputs": [
    {
     "ename": "TypeError",
     "evalue": "can only concatenate str (not \"int\") to str",
     "output_type": "error",
     "traceback": [
      "\u001b[1;31m---------------------------------------------------------------------------\u001b[0m",
      "\u001b[1;31mTypeError\u001b[0m                                 Traceback (most recent call last)",
      "\u001b[1;32m<ipython-input-8-997b2f3a80f3>\u001b[0m in \u001b[0;36m<module>\u001b[1;34m\u001b[0m\n\u001b[0;32m      2\u001b[0m \u001b[0mnumber2\u001b[0m \u001b[1;33m=\u001b[0m \u001b[1;36m5\u001b[0m\u001b[1;33m\u001b[0m\u001b[1;33m\u001b[0m\u001b[0m\n\u001b[0;32m      3\u001b[0m \u001b[1;33m\u001b[0m\u001b[0m\n\u001b[1;32m----> 4\u001b[1;33m \u001b[0mprint\u001b[0m\u001b[1;33m(\u001b[0m  \u001b[0mnumber1\u001b[0m \u001b[1;33m+\u001b[0m \u001b[1;36m10\u001b[0m  \u001b[1;33m)\u001b[0m\u001b[1;33m\u001b[0m\u001b[1;33m\u001b[0m\u001b[0m\n\u001b[0m",
      "\u001b[1;31mTypeError\u001b[0m: can only concatenate str (not \"int\") to str"
     ]
    }
   ],
   "source": [
    "number1 = \"5\"\n",
    "number2 = 5\n",
    "\n",
    "print(  number1 + 10  )"
   ]
  },
  {
   "cell_type": "code",
   "execution_count": 10,
   "id": "congressional-netherlands",
   "metadata": {},
   "outputs": [
    {
     "name": "stdout",
     "output_type": "stream",
     "text": [
      "15\n"
     ]
    }
   ],
   "source": [
    "print( number2 + 10)"
   ]
  },
  {
   "cell_type": "code",
   "execution_count": 11,
   "id": "narrow-allen",
   "metadata": {},
   "outputs": [
    {
     "name": "stdout",
     "output_type": "stream",
     "text": [
      "15\n"
     ]
    }
   ],
   "source": [
    "print( int(number1) + 10)  \n",
    "#string is not converted into int\n",
    "#10 can be added now"
   ]
  },
  {
   "cell_type": "code",
   "execution_count": 12,
   "id": "balanced-stack",
   "metadata": {},
   "outputs": [
    {
     "ename": "ValueError",
     "evalue": "invalid literal for int() with base 10: '2 hundred'",
     "output_type": "error",
     "traceback": [
      "\u001b[1;31m---------------------------------------------------------------------------\u001b[0m",
      "\u001b[1;31mValueError\u001b[0m                                Traceback (most recent call last)",
      "\u001b[1;32m<ipython-input-12-ea19dd55ad16>\u001b[0m in \u001b[0;36m<module>\u001b[1;34m\u001b[0m\n\u001b[0;32m      2\u001b[0m \u001b[1;31m#this type of strings can not be\u001b[0m\u001b[1;33m\u001b[0m\u001b[1;33m\u001b[0m\u001b[1;33m\u001b[0m\u001b[0m\n\u001b[0;32m      3\u001b[0m \u001b[1;31m#converted into int or float\u001b[0m\u001b[1;33m\u001b[0m\u001b[1;33m\u001b[0m\u001b[1;33m\u001b[0m\u001b[0m\n\u001b[1;32m----> 4\u001b[1;33m \u001b[0mprint\u001b[0m \u001b[1;33m(\u001b[0m \u001b[0mint\u001b[0m\u001b[1;33m(\u001b[0m\u001b[0mnumber3\u001b[0m\u001b[1;33m)\u001b[0m \u001b[1;33m+\u001b[0m \u001b[1;36m10\u001b[0m\u001b[1;33m)\u001b[0m\u001b[1;33m\u001b[0m\u001b[1;33m\u001b[0m\u001b[0m\n\u001b[0m",
      "\u001b[1;31mValueError\u001b[0m: invalid literal for int() with base 10: '2 hundred'"
     ]
    }
   ],
   "source": [
    "number3 = \"2 hundred\"\n",
    "#this type of strings can not be\n",
    "#converted into int or float\n",
    "print ( int(number3) + 10)"
   ]
  },
  {
   "cell_type": "code",
   "execution_count": null,
   "id": "fabulous-villa",
   "metadata": {},
   "outputs": [],
   "source": []
  },
  {
   "cell_type": "code",
   "execution_count": null,
   "id": "cleared-signal",
   "metadata": {},
   "outputs": [],
   "source": []
  }
 ],
 "metadata": {
  "kernelspec": {
   "display_name": "Python 3",
   "language": "python",
   "name": "python3"
  },
  "language_info": {
   "codemirror_mode": {
    "name": "ipython",
    "version": 3
   },
   "file_extension": ".py",
   "mimetype": "text/x-python",
   "name": "python",
   "nbconvert_exporter": "python",
   "pygments_lexer": "ipython3",
   "version": "3.9.2"
  }
 },
 "nbformat": 4,
 "nbformat_minor": 5
}
