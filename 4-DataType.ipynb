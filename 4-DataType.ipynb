{
 "cells": [
  {
   "cell_type": "markdown",
   "id": "satisfied-profession",
   "metadata": {},
   "source": [
    "In this section we will learn to implement the function named TYPE"
   ]
  },
  {
   "cell_type": "code",
   "execution_count": 1,
   "id": "civil-english",
   "metadata": {},
   "outputs": [
    {
     "name": "stdout",
     "output_type": "stream",
     "text": [
      "This is Engr. Abrar Hussain\n",
      "<class 'str'>\n",
      "<class 'int'>\n",
      "<class 'float'>\n"
     ]
    }
   ],
   "source": [
    "print(\"This is Engr. Abrar Hussain\")\n",
    "print(type(\"This is Engr. Abrar Hussain\"))\n",
    "print(type(32))\n",
    "print(type(32.0))"
   ]
  },
  {
   "cell_type": "code",
   "execution_count": 2,
   "id": "returning-fountain",
   "metadata": {},
   "outputs": [
    {
     "name": "stdout",
     "output_type": "stream",
     "text": [
      "<class 'str'>\n",
      "<class 'str'>\n"
     ]
    }
   ],
   "source": [
    "print(type(\"32\"))\n",
    "print(type(\"32.0\"))"
   ]
  },
  {
   "cell_type": "code",
   "execution_count": 3,
   "id": "random-newsletter",
   "metadata": {},
   "outputs": [
    {
     "name": "stdout",
     "output_type": "stream",
     "text": [
      "<class 'str'>\n",
      "<class 'str'>\n",
      "<class 'str'>\n",
      "<class 'str'>\n"
     ]
    }
   ],
   "source": [
    "print(type(\"This is in double quotes\"))\n",
    "print(type('This is in single quotes'))\n",
    "print(type(\"\"\"\"This is in triple double quotes\"\"\"))\n",
    "print(type('''This is in triple single quotes'''))"
   ]
  },
  {
   "cell_type": "code",
   "execution_count": 10,
   "id": "painted-relaxation",
   "metadata": {},
   "outputs": [
    {
     "ename": "IndentationError",
     "evalue": "unexpected indent (<ipython-input-10-f12df9751980>, line 3)",
     "output_type": "error",
     "traceback": [
      "\u001b[1;36m  File \u001b[1;32m\"<ipython-input-10-f12df9751980>\"\u001b[1;36m, line \u001b[1;32m3\u001b[0m\n\u001b[1;33m    print('''Abrar's beared look rough!''')\u001b[0m\n\u001b[1;37m    ^\u001b[0m\n\u001b[1;31mIndentationError\u001b[0m\u001b[1;31m:\u001b[0m unexpected indent\n"
     ]
    }
   ],
   "source": [
    "#Few people are lazy enought to use double quotes here is what happens when you use single quotes!\n",
    "\n",
    "#print('Abrar's beared look rough!')\n",
    "\n",
    "#Your are required to resolve it!"
   ]
  },
  {
   "cell_type": "code",
   "execution_count": 16,
   "id": "finished-range",
   "metadata": {},
   "outputs": [
    {
     "name": "stdout",
     "output_type": "stream",
     "text": [
      "And here's an example of why and where to use't\n",
      "\"Hi\", This is Abrar Hussain\n",
      "\"Oh no!\", \n",
      "she exclaimed, \n",
      "\"Ben's bike is broken!\"\n"
     ]
    }
   ],
   "source": [
    "print(\"And here's an example of why and where to use't\")\n",
    "print('\"Hi\", This is Abrar Hussain')\n",
    "\n",
    "#Tripple quotation marks not only resolves problem of single and double quotes \n",
    "#but by using it we can also resolve issue of strings that spans over more than one line. \n",
    "\n",
    "print('''\"Oh no!\", \n",
    "she exclaimed, \n",
    "\"Ben's bike is broken!\"''')"
   ]
  },
  {
   "cell_type": "code",
   "execution_count": 20,
   "id": "organic-catalog",
   "metadata": {},
   "outputs": [
    {
     "name": "stdout",
     "output_type": "stream",
     "text": [
      "42 500\n",
      "42,500\n"
     ]
    }
   ],
   "source": [
    "#usage of comma as a space or seperator\n",
    "print(42,500)\n",
    "print(\"42,500\")"
   ]
  },
  {
   "cell_type": "code",
   "execution_count": null,
   "id": "interested-break",
   "metadata": {},
   "outputs": [],
   "source": []
  }
 ],
 "metadata": {
  "kernelspec": {
   "display_name": "Python 3",
   "language": "python",
   "name": "python3"
  },
  "language_info": {
   "codemirror_mode": {
    "name": "ipython",
    "version": 3
   },
   "file_extension": ".py",
   "mimetype": "text/x-python",
   "name": "python",
   "nbconvert_exporter": "python",
   "pygments_lexer": "ipython3",
   "version": "3.9.2"
  }
 },
 "nbformat": 4,
 "nbformat_minor": 5
}
