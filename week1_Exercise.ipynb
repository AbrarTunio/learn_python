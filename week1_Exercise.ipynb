{
 "cells": [
  {
   "cell_type": "markdown",
   "id": "raising-potential",
   "metadata": {},
   "source": [
    "<h5 style=\"color:orange\">Q 1: What will be printed after execuation of following code</h5><code>print(18/4)</code>\n"
   ]
  },
  {
   "cell_type": "markdown",
   "id": "standard-decision",
   "metadata": {},
   "source": [
    "<code>4.5 \n",
    "4\n",
    "2</code>"
   ]
  },
  {
   "cell_type": "code",
   "execution_count": null,
   "id": "complete-citizenship",
   "metadata": {},
   "outputs": [],
   "source": []
  },
  {
   "cell_type": "markdown",
   "id": "removable-trade",
   "metadata": {},
   "source": [
    "<h5 style=\"color:green\">Q 2: What is printed when the following statements execute?</h5>"
   ]
  },
  {
   "cell_type": "markdown",
   "id": "foreign-beach",
   "metadata": {},
   "source": [
    "<code>day = \"Thursday\"  \n",
    "day = 32.5        \n",
    "day = 19 \n",
    "print(day) </code>"
   ]
  },
  {
   "cell_type": "markdown",
   "id": "personal-calculator",
   "metadata": {},
   "source": [
    "<h5 style=\"color:navy\">Q 3: True or False: the following is a legal variable name in Python:</h5> <code>A_good_grade_is_A+</code>"
   ]
  },
  {
   "cell_type": "code",
   "execution_count": null,
   "id": "higher-spiritual",
   "metadata": {},
   "outputs": [],
   "source": []
  },
  {
   "cell_type": "markdown",
   "id": "simplified-samba",
   "metadata": {},
   "source": [
    "<h5 style=\"color:red\"> Q 4:After the following statements, what are the values of x and y?</h5>"
   ]
  },
  {
   "cell_type": "markdown",
   "id": "young-command",
   "metadata": {},
   "source": [
    "<code>x = 15\n",
    "y = x\n",
    "x = 22\n",
    "</code>"
   ]
  },
  {
   "cell_type": "code",
   "execution_count": null,
   "id": "lovely-joyce",
   "metadata": {},
   "outputs": [],
   "source": []
  },
  {
   "cell_type": "markdown",
   "id": "loved-relative",
   "metadata": {},
   "source": [
    "<h5 style=\"color:navy\">Q 5: What is printed when the following statements execute?</h5>"
   ]
  },
  {
   "cell_type": "markdown",
   "id": "manufactured-wayne",
   "metadata": {},
   "source": [
    "<code>n = input(\"Please enter your age: \")\n",
    "user types in 18\n",
    "print(type(n))\n",
    "</code>"
   ]
  },
  {
   "cell_type": "code",
   "execution_count": null,
   "id": "great-petite",
   "metadata": {},
   "outputs": [],
   "source": [
    "A. <class 'str'>\n",
    "B. <class 'int'>\n",
    "C. <class 18>\n",
    "D. 18"
   ]
  },
  {
   "cell_type": "code",
   "execution_count": null,
   "id": "rough-nature",
   "metadata": {},
   "outputs": [],
   "source": []
  }
 ],
 "metadata": {
  "kernelspec": {
   "display_name": "Python 3",
   "language": "python",
   "name": "python3"
  },
  "language_info": {
   "codemirror_mode": {
    "name": "ipython",
    "version": 3
   },
   "file_extension": ".py",
   "mimetype": "text/x-python",
   "name": "python",
   "nbconvert_exporter": "python",
   "pygments_lexer": "ipython3",
   "version": "3.9.6"
  }
 },
 "nbformat": 4,
 "nbformat_minor": 5
}
