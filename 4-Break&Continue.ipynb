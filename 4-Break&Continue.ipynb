{
 "cells": [
  {
   "cell_type": "markdown",
   "id": "linear-undergraduate",
   "metadata": {},
   "source": [
    "<h2>Break and Continue</h2>"
   ]
  },
  {
   "cell_type": "code",
   "execution_count": 1,
   "id": "shaped-stocks",
   "metadata": {},
   "outputs": [
    {
     "name": "stdout",
     "output_type": "stream",
     "text": [
      "I have entered the While!\n",
      "It worked well!\n"
     ]
    }
   ],
   "source": [
    "while True:\n",
    "    print(\"I have entered the While!\")\n",
    "    break\n",
    "    print(\"I have skipped the break\") #This will not be printed due to break\n",
    "print(\"It worked well!\")"
   ]
  },
  {
   "cell_type": "code",
   "execution_count": 4,
   "id": "dense-retrieval",
   "metadata": {},
   "outputs": [
    {
     "name": "stdout",
     "output_type": "stream",
     "text": [
      "0 is less than 10\n",
      "0 is divisible by 2\n",
      "3 is less than 10\n",
      "3 is divisible by 3\n",
      "8 is less than 10\n",
      "8 is divisible by 2\n",
      "11 is the my last stored value\n",
      "All is well!\n"
     ]
    }
   ],
   "source": [
    "x = 0\n",
    "while x < 10:\n",
    "    print(x, \"is less than 10\")\n",
    "    if x % 2 == 0:\n",
    "        print(x, \"is divisible by 2\") \n",
    "        x += 3\n",
    "        \n",
    "        continue\n",
    "    if x % 3 == 0: # This if will not be execute if above if condition is true!\n",
    "        print(x, \"is divisible by 3\")\n",
    "        x += 5\n",
    "print(x, \"is the my last stored value\")        \n",
    "print(\"All is well!\")"
   ]
  },
  {
   "cell_type": "code",
   "execution_count": null,
   "id": "equipped-pharmacology",
   "metadata": {},
   "outputs": [],
   "source": []
  }
 ],
 "metadata": {
  "kernelspec": {
   "display_name": "Python 3",
   "language": "python",
   "name": "python3"
  },
  "language_info": {
   "codemirror_mode": {
    "name": "ipython",
    "version": 3
   },
   "file_extension": ".py",
   "mimetype": "text/x-python",
   "name": "python",
   "nbconvert_exporter": "python",
   "pygments_lexer": "ipython3",
   "version": "3.9.2"
  }
 },
 "nbformat": 4,
 "nbformat_minor": 5
}
