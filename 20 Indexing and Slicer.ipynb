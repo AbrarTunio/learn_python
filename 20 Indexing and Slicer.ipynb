{
 "cells": [
  {
   "cell_type": "code",
   "execution_count": 11,
   "id": "headed-allen",
   "metadata": {},
   "outputs": [],
   "source": [
    "mytuple = (\"This\", \"is\", \"Abrar\", \"Hussain\", \"Tunio\", \"Nawabshah\")\n",
    "#Remember few functions below will not work for lists\n",
    "#Few lines will issue errors for tuples as well so students be careful and understand!"
   ]
  },
  {
   "cell_type": "code",
   "execution_count": 12,
   "id": "approximate-kingston",
   "metadata": {},
   "outputs": [
    {
     "name": "stdout",
     "output_type": "stream",
     "text": [
      "('Abrar', 'Hussain')\n"
     ]
    }
   ],
   "source": [
    "print( mytuple[2:4]) #4 is not included"
   ]
  },
  {
   "cell_type": "code",
   "execution_count": 13,
   "id": "confirmed-transportation",
   "metadata": {},
   "outputs": [
    {
     "name": "stdout",
     "output_type": "stream",
     "text": [
      "('Abrar', 'Hussain', 'Tunio')\n"
     ]
    }
   ],
   "source": [
    "print( mytuple[2:5]) #5 in not included"
   ]
  },
  {
   "cell_type": "code",
   "execution_count": 14,
   "id": "oriental-traveler",
   "metadata": {},
   "outputs": [
    {
     "name": "stdout",
     "output_type": "stream",
     "text": [
      "('This', 'is')\n"
     ]
    }
   ],
   "source": [
    "print( mytuple[:2])"
   ]
  },
  {
   "cell_type": "code",
   "execution_count": 36,
   "id": "approximate-mitchell",
   "metadata": {},
   "outputs": [
    {
     "name": "stdout",
     "output_type": "stream",
     "text": [
      "This\n"
     ]
    }
   ],
   "source": [
    "print(mytuple[-6])"
   ]
  },
  {
   "cell_type": "code",
   "execution_count": 28,
   "id": "psychological-alexander",
   "metadata": {},
   "outputs": [
    {
     "ename": "TypeError",
     "evalue": "can only concatenate str (not \"tuple\") to str",
     "output_type": "error",
     "traceback": [
      "\u001b[1;31m---------------------------------------------------------------------------\u001b[0m",
      "\u001b[1;31mTypeError\u001b[0m                                 Traceback (most recent call last)",
      "\u001b[1;32m<ipython-input-28-84011df41665>\u001b[0m in \u001b[0;36m<module>\u001b[1;34m\u001b[0m\n\u001b[1;32m----> 1\u001b[1;33m \u001b[0mprint\u001b[0m\u001b[1;33m(\u001b[0m \u001b[0mmytuple\u001b[0m\u001b[1;33m[\u001b[0m\u001b[1;33m-\u001b[0m\u001b[1;36m1\u001b[0m\u001b[1;33m]\u001b[0m \u001b[1;33m+\u001b[0m \u001b[1;33m(\u001b[0m\u001b[1;34m\"Hyderabad\"\u001b[0m\u001b[1;33m,\u001b[0m\u001b[1;36m24\u001b[0m\u001b[1;33m)\u001b[0m \u001b[1;33m+\u001b[0m \u001b[0mmytuple\u001b[0m\u001b[1;33m[\u001b[0m\u001b[1;36m2\u001b[0m\u001b[1;33m:\u001b[0m\u001b[1;36m5\u001b[0m\u001b[1;33m]\u001b[0m\u001b[1;33m)\u001b[0m\u001b[1;33m\u001b[0m\u001b[1;33m\u001b[0m\u001b[0m\n\u001b[0m",
      "\u001b[1;31mTypeError\u001b[0m: can only concatenate str (not \"tuple\") to str"
     ]
    }
   ],
   "source": [
    "print( mytuple[-1] + (\"Hyderabad\",24) + mytuple[2:5])"
   ]
  },
  {
   "cell_type": "code",
   "execution_count": 32,
   "id": "british-sweet",
   "metadata": {},
   "outputs": [
    {
     "ename": "TypeError",
     "evalue": "can only concatenate str (not \"tuple\") to str",
     "output_type": "error",
     "traceback": [
      "\u001b[1;31m---------------------------------------------------------------------------\u001b[0m",
      "\u001b[1;31mTypeError\u001b[0m                                 Traceback (most recent call last)",
      "\u001b[1;32m<ipython-input-32-16912d956d8b>\u001b[0m in \u001b[0;36m<module>\u001b[1;34m\u001b[0m\n\u001b[1;32m----> 1\u001b[1;33m \u001b[0mmytuple\u001b[0m \u001b[1;33m=\u001b[0m \u001b[0mmytuple\u001b[0m\u001b[1;33m[\u001b[0m\u001b[1;33m-\u001b[0m\u001b[1;36m2\u001b[0m\u001b[1;33m]\u001b[0m \u001b[1;33m+\u001b[0m \u001b[1;33m(\u001b[0m\u001b[1;34m\"Hyderabad\"\u001b[0m\u001b[1;33m,\u001b[0m\u001b[1;36m24\u001b[0m\u001b[1;33m)\u001b[0m \u001b[1;33m+\u001b[0m \u001b[0mmytuple\u001b[0m\u001b[1;33m[\u001b[0m\u001b[1;36m2\u001b[0m\u001b[1;33m:\u001b[0m\u001b[1;36m5\u001b[0m\u001b[1;33m]\u001b[0m\u001b[1;33m\u001b[0m\u001b[1;33m\u001b[0m\u001b[0m\n\u001b[0m\u001b[0;32m      2\u001b[0m \u001b[0mprint\u001b[0m\u001b[1;33m(\u001b[0m\u001b[0mmytuple\u001b[0m\u001b[1;33m)\u001b[0m\u001b[1;33m\u001b[0m\u001b[1;33m\u001b[0m\u001b[0m\n",
      "\u001b[1;31mTypeError\u001b[0m: can only concatenate str (not \"tuple\") to str"
     ]
    }
   ],
   "source": [
    "mytuple = mytuple[-2] + (\"Hyderabad\",24) + mytuple[2:5]\n",
    "print(mytuple)"
   ]
  },
  {
   "cell_type": "code",
   "execution_count": 29,
   "id": "charming-cleanup",
   "metadata": {},
   "outputs": [],
   "source": [
    "new_tuple = mytuple[:5] + (\"Hyderabad\",24) + mytuple[2:5]"
   ]
  },
  {
   "cell_type": "code",
   "execution_count": 30,
   "id": "violent-claim",
   "metadata": {},
   "outputs": [
    {
     "name": "stdout",
     "output_type": "stream",
     "text": [
      "('This', 'is', 'Abrar', 'Hussain', 'Tunio', 'Hyderabad', 24, 'Abrar', 'Hussain', 'Tunio')\n"
     ]
    }
   ],
   "source": [
    "print(new_tuple)"
   ]
  },
  {
   "cell_type": "markdown",
   "id": "valuable-joining",
   "metadata": {},
   "source": [
    "There are two ways to solve the question below."
   ]
  },
  {
   "cell_type": "code",
   "execution_count": 1,
   "id": "unsigned-stranger",
   "metadata": {},
   "outputs": [
    {
     "name": "stdout",
     "output_type": "stream",
     "text": [
      "['curling', 'ping pong', 'hockey']\n"
     ]
    }
   ],
   "source": [
    "#Write a program that extracts the last three items in the \n",
    "#list sports and assigns it to the variable last. \n",
    "#Make sure to write your code so that it works \n",
    "#no matter how many items are in the list.\n",
    "\n",
    "sports = ['cricket', 'football', 'volleyball', 'baseball', 'softball', 'track and field', 'curling', 'ping pong', 'hockey']\n",
    "last = sports[-3:]\n",
    "print(last)\n",
    "\n",
    "\n",
    "#last = []\n",
    "#i = 3\n",
    "#for value in sports:\n",
    "#    if i <= 3 and i > 0:\n",
    "#        last.append(sports[-i])\n",
    "#    i -= 1\n",
    "#print(last)"
   ]
  },
  {
   "cell_type": "code",
   "execution_count": null,
   "id": "graduate-heating",
   "metadata": {},
   "outputs": [],
   "source": []
  }
 ],
 "metadata": {
  "kernelspec": {
   "display_name": "Python 3",
   "language": "python",
   "name": "python3"
  },
  "language_info": {
   "codemirror_mode": {
    "name": "ipython",
    "version": 3
   },
   "file_extension": ".py",
   "mimetype": "text/x-python",
   "name": "python",
   "nbconvert_exporter": "python",
   "pygments_lexer": "ipython3",
   "version": "3.9.2"
  }
 },
 "nbformat": 4,
 "nbformat_minor": 5
}
