{
 "cells": [
  {
   "cell_type": "markdown",
   "id": "straight-explorer",
   "metadata": {},
   "source": [
    "**WHILE LOOP**"
   ]
  },
  {
   "cell_type": "code",
   "execution_count": 17,
   "id": "invisible-south",
   "metadata": {},
   "outputs": [
    {
     "name": "stdout",
     "output_type": "stream",
     "text": [
      "5050\n",
      "500500\n"
     ]
    }
   ],
   "source": [
    "def toSum (number):\n",
    "    start_number = 1\n",
    "    total = 0\n",
    "    while number >= start_number:\n",
    "        total = total + start_number\n",
    "        start_number += 1\n",
    "        #print(total, start_number)\n",
    "    return total\n",
    "#print(toSum(4))\n",
    "print(toSum(100))\n",
    "print(toSum(1000))\n"
   ]
  },
  {
   "cell_type": "markdown",
   "id": "supposed-howard",
   "metadata": {},
   "source": [
    "**Another Way of Doing the Same!**"
   ]
  },
  {
   "cell_type": "code",
   "execution_count": 18,
   "id": "stock-emergency",
   "metadata": {},
   "outputs": [
    {
     "name": "stdout",
     "output_type": "stream",
     "text": [
      "10\n",
      "500500\n"
     ]
    }
   ],
   "source": [
    "def sumTo(aBound):\n",
    "    \"\"\" Return the sum of 1+2+3 ... n \"\"\"\n",
    "\n",
    "    theSum  = 0\n",
    "    aNumber = 1\n",
    "    while aNumber <= aBound:\n",
    "        theSum = theSum + aNumber\n",
    "        aNumber = aNumber + 1\n",
    "    return theSum\n",
    "\n",
    "print(sumTo(4))\n",
    "\n",
    "print(sumTo(1000))\n"
   ]
  },
  {
   "cell_type": "markdown",
   "id": "needed-bidding",
   "metadata": {},
   "source": [
    "**Check your understanding**\n",
    "\n",
    "moreiter-2-1: True or False: You can rewrite any for-loop as a while-loop.\n",
    "\n",
    "A. True\n",
    "B. False\n",
    "\n",
    "✔️ Although the while loop uses a different syntax, it is just as powerful as a for-loop and often more flexible. (a)"
   ]
  },
  {
   "cell_type": "markdown",
   "id": "oriental-zealand",
   "metadata": {},
   "source": [
    "**moreiter-2-2: The following code contains an infinite loop. Which is the best explanation for why the loop does not terminate?**\n",
    "\n",
    "n = 10\n",
    "answer = 1\n",
    "while ( n > 0 ):\n",
    "  answer = answer + n\n",
    "  n = n + 1\n",
    "print(answer)\n",
    "A. n starts at 10 and is incremented by 1 each time through the loop, so it will always be positive\n",
    "B. answer starts at 1 and is incremented by n each time, so it will always be positive\n",
    "C. You cannot compare n to 0 in while loop. You must compare it to another variable.\n",
    "D. In the while loop body, we must set n to False, and this code does not do that.\n",
    "\n",
    "✔️ The loop will run as long as n is positive. In this case, we can see that n will never become non-positive. **(a)**"
   ]
  },
  {
   "cell_type": "markdown",
   "id": "first-lodging",
   "metadata": {},
   "source": [
    "**moreiter-2-3: Which type of loop can be used to perform the following iteration: You choose a positive integer at random and then print the numbers from 1 up to and including the selected integer.**\n",
    "\n",
    "**A.** a for-loop or a while-loop\n",
    "\n",
    "B. only a for-loop\n",
    "\n",
    "C. only a while-loop\n",
    "\n",
    "✔️ Although you do not know how many iterations you loop will run before the program starts running, once you have chosen your random integer, Python knows exactly how many iterations the loop will run, so either a for-loop or a while-loop will work."
   ]
  },
  {
   "cell_type": "code",
   "execution_count": 22,
   "id": "recent-measurement",
   "metadata": {},
   "outputs": [
    {
     "name": "stdout",
     "output_type": "stream",
     "text": [
      "[2, 4, 6, 8, 10, 12, 14]\n"
     ]
    }
   ],
   "source": [
    "#Write a while loop that is initialized at 0 and stops at 15. \n",
    "#If the counter is an even number, append the counter to a list called eve_nums.\n",
    "\n",
    "init = 0\n",
    "eve_nums = []\n",
    "while init < 15:\n",
    "    if  init % 2 == 0:\n",
    "        eve_nums.append(init)\n",
    "    init = init + 1"
   ]
  },
  {
   "cell_type": "markdown",
   "id": "introductory-halloween",
   "metadata": {},
   "source": [
    "<marquee><h3 style= \"color:green\">Below, we’ve provided a for loop that sums all the elements of list1.</h3> </marquee>\n",
    "#Write code that accomplishes the same task, but instead uses a <b>while loop</b>. \n",
    "#Assign the accumulator variable to the name <b>accum</b>."
   ]
  },
  {
   "cell_type": "code",
   "execution_count": 40,
   "id": "characteristic-detail",
   "metadata": {},
   "outputs": [
    {
     "name": "stdout",
     "output_type": "stream",
     "text": [
      "42\n",
      "42\n"
     ]
    }
   ],
   "source": [
    "list1 = [8, 3, 4, 5, 6, 7, 9]\n",
    "\n",
    "tot = 0\n",
    "for elem in list1:\n",
    "    tot = tot + elem\n",
    "print(tot)\n",
    "#Here I will write while code\n",
    "idx = 0\n",
    "accum = 0\n",
    "while idx < len(list1):\n",
    "    accum = accum + list1[idx]\n",
    "    idx += 1 \n",
    "print(accum)"
   ]
  },
  {
   "cell_type": "markdown",
   "id": "close-saudi",
   "metadata": {},
   "source": [
    "Write a function called <b>stop_at_four</b> that iterates through a list of numbers. Using a while loop, append each number to a new list until the number 4 appears. \n",
    "<i>The function should return the new list.</i>"
   ]
  },
  {
   "cell_type": "code",
   "execution_count": 39,
   "id": "korean-opening",
   "metadata": {},
   "outputs": [
    {
     "name": "stdout",
     "output_type": "stream",
     "text": [
      "[1, 2, 3, 5]\n"
     ]
    }
   ],
   "source": [
    "def stop_at_four(lst):\n",
    "    new_list = []\n",
    "    number = 0\n",
    "    while number < len(lst):\n",
    "        if lst[number] != 4: \n",
    "            new_list.append(lst[number])\n",
    "        elif lst[number] == 4:\n",
    "            break\n",
    "        number += 1\n",
    "    return new_list\n",
    "\n",
    "mylist= [1,2,3,5,4,7]\n",
    "\n",
    "print(stop_at_four(mylist))        \n"
   ]
  },
  {
   "cell_type": "code",
   "execution_count": null,
   "id": "reduced-trustee",
   "metadata": {},
   "outputs": [],
   "source": []
  }
 ],
 "metadata": {
  "kernelspec": {
   "display_name": "Python 3",
   "language": "python",
   "name": "python3"
  },
  "language_info": {
   "codemirror_mode": {
    "name": "ipython",
    "version": 3
   },
   "file_extension": ".py",
   "mimetype": "text/x-python",
   "name": "python",
   "nbconvert_exporter": "python",
   "pygments_lexer": "ipython3",
   "version": "3.9.2"
  }
 },
 "nbformat": 4,
 "nbformat_minor": 5
}
