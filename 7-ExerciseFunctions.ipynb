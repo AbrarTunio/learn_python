{
 "cells": [
  {
   "cell_type": "markdown",
   "id": "peaceful-neighbor",
   "metadata": {},
   "source": [
    "CREATE YOUR OWN LEN FUNCTION"
   ]
  },
  {
   "cell_type": "code",
   "execution_count": 3,
   "id": "incident-border",
   "metadata": {},
   "outputs": [
    {
     "data": {
      "text/plain": [
       "3"
      ]
     },
     "execution_count": 3,
     "metadata": {},
     "output_type": "execute_result"
    }
   ],
   "source": [
    "def mylen(yourinput):\n",
    "    count = 0\n",
    "    for value in yourinput:\n",
    "        count += 1 \n",
    "    return count\n",
    "#mylen(\"This is Abrar\")\n",
    "mylen([1,4,5])"
   ]
  },
  {
   "cell_type": "code",
   "execution_count": 4,
   "id": "gorgeous-slovenia",
   "metadata": {},
   "outputs": [],
   "source": [
    "#1. Write a function named total that takes \n",
    "#a list of integers as input, and returns \n",
    "#the total value of all those integers added together.\n",
    "\n",
    "def total(myinput):\n",
    "    count = 0\n",
    "    for num in myinput:\n",
    "        count = count + num \n",
    "    return count"
   ]
  },
  {
   "cell_type": "markdown",
   "id": "mineral-jefferson",
   "metadata": {},
   "source": [
    "2. Write a function called \n",
    "count \n",
    "that takes a list of numbers as input and \n",
    "returns a count of the number of elements in the list.\n",
    "\n",
    "#This is same as above len() function"
   ]
  },
  {
   "cell_type": "code",
   "execution_count": null,
   "id": "classified-calibration",
   "metadata": {},
   "outputs": [],
   "source": []
  }
 ],
 "metadata": {
  "kernelspec": {
   "display_name": "Python 3",
   "language": "python",
   "name": "python3"
  },
  "language_info": {
   "codemirror_mode": {
    "name": "ipython",
    "version": 3
   },
   "file_extension": ".py",
   "mimetype": "text/x-python",
   "name": "python",
   "nbconvert_exporter": "python",
   "pygments_lexer": "ipython3",
   "version": "3.9.2"
  }
 },
 "nbformat": 4,
 "nbformat_minor": 5
}
