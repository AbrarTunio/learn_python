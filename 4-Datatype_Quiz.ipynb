{
 "cells": [
  {
   "cell_type": "code",
   "execution_count": null,
   "id": "greenhouse-obligation",
   "metadata": {},
   "outputs": [],
   "source": [
    "Check your understanding\n",
    "\n",
    "data-5-1: How can you determine the type of a variable?\n",
    "\n",
    "A. Print out the value and determine the data type based on the value printed.\n",
    "B. Use the type function.\n",
    "C. Use it in a known equation and print the result.\n",
    "D. Look at the declaration of the variable.\n",
    "\n",
    "✔️ The type function will tell you the class the value belongs to.\n",
    "Multiple Choice (question2_5_1)\n",
    "\n",
    "data-5-2: What is the data type of ‘this is what kind of data’?\n",
    "\n",
    "A. Character\n",
    "B. Integer\n",
    "C. Float\n",
    "D. String\n",
    "\n",
    "✔️ Strings can be enclosed in single quotes."
   ]
  }
 ],
 "metadata": {
  "kernelspec": {
   "display_name": "Python 3",
   "language": "python",
   "name": "python3"
  },
  "language_info": {
   "codemirror_mode": {
    "name": "ipython",
    "version": 3
   },
   "file_extension": ".py",
   "mimetype": "text/x-python",
   "name": "python",
   "nbconvert_exporter": "python",
   "pygments_lexer": "ipython3",
   "version": "3.9.1"
  }
 },
 "nbformat": 4,
 "nbformat_minor": 5
}
