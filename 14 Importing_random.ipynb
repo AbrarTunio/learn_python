{
 "cells": [
  {
   "cell_type": "markdown",
   "id": "fitting-firewall",
   "metadata": {},
   "source": [
    "Importing a module in Python"
   ]
  },
  {
   "cell_type": "code",
   "execution_count": 38,
   "id": "natural-cinema",
   "metadata": {},
   "outputs": [],
   "source": [
    "import random\n",
    "\n",
    "variable1 = random.random()              #generating values btw 0 and 1\n",
    "variable2 = random.randrange(1,10)        #generating values specified range"
   ]
  },
  {
   "cell_type": "code",
   "execution_count": 39,
   "id": "determined-africa",
   "metadata": {},
   "outputs": [
    {
     "name": "stdout",
     "output_type": "stream",
     "text": [
      "0.1814614984584777\n",
      "2\n"
     ]
    }
   ],
   "source": [
    "print(variable1)\n",
    "print(variable2)"
   ]
  },
  {
   "cell_type": "code",
   "execution_count": null,
   "id": "funny-assurance",
   "metadata": {},
   "outputs": [],
   "source": []
  }
 ],
 "metadata": {
  "kernelspec": {
   "display_name": "Python 3",
   "language": "python",
   "name": "python3"
  },
  "language_info": {
   "codemirror_mode": {
    "name": "ipython",
    "version": 3
   },
   "file_extension": ".py",
   "mimetype": "text/x-python",
   "name": "python",
   "nbconvert_exporter": "python",
   "pygments_lexer": "ipython3",
   "version": "3.9.2"
  }
 },
 "nbformat": 4,
 "nbformat_minor": 5
}
