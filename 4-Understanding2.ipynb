{
 "cells": [
  {
   "cell_type": "code",
   "execution_count": 1,
   "id": "possible-description",
   "metadata": {},
   "outputs": [
    {
     "ename": "SyntaxError",
     "evalue": "illegal target for annotation (<ipython-input-1-a9f0cb75bfb3>, line 1)",
     "output_type": "error",
     "traceback": [
      "\u001b[1;36m  File \u001b[1;32m\"<ipython-input-1-a9f0cb75bfb3>\"\u001b[1;36m, line \u001b[1;32m1\u001b[0m\n\u001b[1;33m    func-4-1: What is wrong with the following function definition:\u001b[0m\n\u001b[1;37m    ^\u001b[0m\n\u001b[1;31mSyntaxError\u001b[0m\u001b[1;31m:\u001b[0m illegal target for annotation\n"
     ]
    }
   ],
   "source": [
    "func-4-1: What is wrong with the following function definition:\n",
    "\n",
    "def addEm(x, y, z):\n",
    "    return x+y+z\n",
    "    print('the answer is', x+y+z)\n",
    "A. You should never use a print statement in a function definition.\n",
    "B. You should not have any statements in a function after the return statement. Once the function gets to the return statement it will immediately stop executing the function.\n",
    "C. You must calculate the value of x+y+z before you return it.\n",
    "D. A function cannot return a number.\n",
    "\n",
    "✔️ This is a very common mistake so be sure to watch out for it when you write your code!"
   ]
  },
  {
   "cell_type": "code",
   "execution_count": 2,
   "id": "secondary-victim",
   "metadata": {},
   "outputs": [
    {
     "ename": "SyntaxError",
     "evalue": "invalid syntax (<ipython-input-2-2402e546e2c6>, line 5)",
     "output_type": "error",
     "traceback": [
      "\u001b[1;36m  File \u001b[1;32m\"<ipython-input-2-2402e546e2c6>\"\u001b[1;36m, line \u001b[1;32m5\u001b[0m\n\u001b[1;33m    A. The value None\u001b[0m\n\u001b[1;37m           ^\u001b[0m\n\u001b[1;31mSyntaxError\u001b[0m\u001b[1;31m:\u001b[0m invalid syntax\n"
     ]
    }
   ],
   "source": [
    "func-4-2: What will the following function return?\n",
    "\n",
    "def addEm(x, y, z):\n",
    "    print(x+y+z)\n",
    "A. The value None\n",
    "B. The value of x+y+z\n",
    "C. The string 'x+y+z'\n",
    "\n",
    "✔️ We have accidentally used print where we mean return. Therefore, the function will return the value None by default. This is a VERY COMMON mistake so watch out! This mistake is also particularly difficult to find because when you run the function the output looks the same. It is not until you try to assign its value to a variable that you can notice a difference.\n"
   ]
  },
  {
   "cell_type": "code",
   "execution_count": 3,
   "id": "elect-female",
   "metadata": {},
   "outputs": [
    {
     "ename": "SyntaxError",
     "evalue": "invalid syntax (<ipython-input-3-b90cb4d9e009>, line 8)",
     "output_type": "error",
     "traceback": [
      "\u001b[1;36m  File \u001b[1;32m\"<ipython-input-3-b90cb4d9e009>\"\u001b[1;36m, line \u001b[1;32m8\u001b[0m\n\u001b[1;33m    A. 25\u001b[0m\n\u001b[1;37m       ^\u001b[0m\n\u001b[1;31mSyntaxError\u001b[0m\u001b[1;31m:\u001b[0m invalid syntax\n"
     ]
    }
   ],
   "source": [
    "func-4-3: What will the following code output?\n",
    "\n",
    "def square(x):\n",
    "    y = x * x\n",
    "    return y\n",
    "\n",
    "print(square(5) + square(5))\n",
    "A. 25\n",
    "B. 50\n",
    "C. 25 + 25\n",
    "\n",
    "✔️ The two return values are added together."
   ]
  },
  {
   "cell_type": "code",
   "execution_count": 4,
   "id": "about-hometown",
   "metadata": {},
   "outputs": [
    {
     "ename": "SyntaxError",
     "evalue": "invalid syntax (<ipython-input-4-4cbf0a26a5c3>, line 8)",
     "output_type": "error",
     "traceback": [
      "\u001b[1;36m  File \u001b[1;32m\"<ipython-input-4-4cbf0a26a5c3>\"\u001b[1;36m, line \u001b[1;32m8\u001b[0m\n\u001b[1;33m    A. 8\u001b[0m\n\u001b[1;37m       ^\u001b[0m\n\u001b[1;31mSyntaxError\u001b[0m\u001b[1;31m:\u001b[0m invalid syntax\n"
     ]
    }
   ],
   "source": [
    "func-4-4: What will the following code output?\n",
    "\n",
    "def square(x):\n",
    "    y = x * x\n",
    "    return y\n",
    "\n",
    "print(square(square(2)))\n",
    "A. 8\n",
    "B. 16\n",
    "C. Error: can't put a function invocation inside parentheses\n",
    "\n",
    "✔️ It squares 2, yielding the value 4. 4 is then passed as a value to square again, yeilding 16."
   ]
  },
  {
   "cell_type": "code",
   "execution_count": 5,
   "id": "minus-pittsburgh",
   "metadata": {},
   "outputs": [
    {
     "ename": "SyntaxError",
     "evalue": "invalid syntax (<ipython-input-5-8ecf9e2bb491>, line 13)",
     "output_type": "error",
     "traceback": [
      "\u001b[1;36m  File \u001b[1;32m\"<ipython-input-5-8ecf9e2bb491>\"\u001b[1;36m, line \u001b[1;32m13\u001b[0m\n\u001b[1;33m    A. 1\u001b[0m\n\u001b[1;37m       ^\u001b[0m\n\u001b[1;31mSyntaxError\u001b[0m\u001b[1;31m:\u001b[0m invalid syntax\n"
     ]
    }
   ],
   "source": [
    "func-4-5: What will the following code output?\n",
    "\n",
    "def cyu2(s1, s2):\n",
    "    x = len(s1)\n",
    "    y = len(s2)\n",
    "    return x-y\n",
    "\n",
    "z = cyu2(\"Yes\", \"no\")\n",
    "if z > 0:\n",
    "    print(\"First one was longer\")\n",
    "else:\n",
    "    print(\"Second one was at least as long\")\n",
    "A. 1\n",
    "B. Yes\n",
    "C. First one was longer\n",
    "D. Second one was at least as long\n",
    "E. Error\n",
    "\n",
    "✔️ cyu2 returns the value 1, which is assigned to z."
   ]
  },
  {
   "cell_type": "code",
   "execution_count": 6,
   "id": "norwegian-gambling",
   "metadata": {},
   "outputs": [
    {
     "ename": "SyntaxError",
     "evalue": "invalid syntax (<ipython-input-6-4bac9029d523>, line 14)",
     "output_type": "error",
     "traceback": [
      "\u001b[1;36m  File \u001b[1;32m\"<ipython-input-6-4bac9029d523>\"\u001b[1;36m, line \u001b[1;32m14\u001b[0m\n\u001b[1;33m    C. a number\u001b[0m\n\u001b[1;37m         ^\u001b[0m\n\u001b[1;31mSyntaxError\u001b[0m\u001b[1;31m:\u001b[0m invalid syntax\n"
     ]
    }
   ],
   "source": [
    "func-4-6: Which will print out first, square, g, or a number?\n",
    "\n",
    "def square(x):\n",
    "    print(\"square\")\n",
    "    return x*x\n",
    "\n",
    "def g(y):\n",
    "    print(\"g\")\n",
    "    return y + 3\n",
    "\n",
    "print(square(g(2)))\n",
    "A. square\n",
    "B. g\n",
    "C. a number\n",
    "\n",
    "✔️ g has to be executed and return a value in order to know what paramater value to provide to x."
   ]
  },
  {
   "cell_type": "code",
   "execution_count": 7,
   "id": "shaped-essence",
   "metadata": {},
   "outputs": [
    {
     "ename": "SyntaxError",
     "evalue": "invalid syntax (<ipython-input-7-dd58584aa4ed>, line 13)",
     "output_type": "error",
     "traceback": [
      "\u001b[1;36m  File \u001b[1;32m\"<ipython-input-7-dd58584aa4ed>\"\u001b[1;36m, line \u001b[1;32m13\u001b[0m\n\u001b[1;33m    A. 3\u001b[0m\n\u001b[1;37m       ^\u001b[0m\n\u001b[1;31mSyntaxError\u001b[0m\u001b[1;31m:\u001b[0m invalid syntax\n"
     ]
    }
   ],
   "source": [
    "func-4-7: How many lines will the following code print?\n",
    "\n",
    "def show_me_numbers(list_of_ints):\n",
    "    print(10)\n",
    "    print(\"Next we'll accumulate the sum\")\n",
    "    accum = 0\n",
    "    for num in list_of_ints:\n",
    "        accum = accum + num\n",
    "    return accum\n",
    "    print(\"All done with accumulation!\")\n",
    "\n",
    "show_me_numbers([4,2,3])\n",
    "A. 3\n",
    "B. 2\n",
    "C. None\n",
    "\n",
    "✔️ Yes! Two printed lines, and then the function body execution reaches a return statement."
   ]
  },
  {
   "cell_type": "code",
   "execution_count": null,
   "id": "legitimate-butter",
   "metadata": {},
   "outputs": [],
   "source": []
  }
 ],
 "metadata": {
  "kernelspec": {
   "display_name": "Python 3",
   "language": "python",
   "name": "python3"
  },
  "language_info": {
   "codemirror_mode": {
    "name": "ipython",
    "version": 3
   },
   "file_extension": ".py",
   "mimetype": "text/x-python",
   "name": "python",
   "nbconvert_exporter": "python",
   "pygments_lexer": "ipython3",
   "version": "3.9.2"
  }
 },
 "nbformat": 4,
 "nbformat_minor": 5
}
