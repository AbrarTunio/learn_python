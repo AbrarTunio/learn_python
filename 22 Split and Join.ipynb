{
 "cells": [
  {
   "cell_type": "markdown",
   "id": "electronic-silence",
   "metadata": {},
   "source": [
    "Split is used to convert string of text into LIST... Rules applied"
   ]
  },
  {
   "cell_type": "code",
   "execution_count": 7,
   "id": "ignored-journey",
   "metadata": {},
   "outputs": [],
   "source": [
    "string = \"I still have a long way to go to learn programming 4 you\"\n",
    "email = \"abrar.tunio@yahoo.com\""
   ]
  },
  {
   "cell_type": "code",
   "execution_count": 5,
   "id": "physical-entrepreneur",
   "metadata": {},
   "outputs": [
    {
     "name": "stdout",
     "output_type": "stream",
     "text": [
      "['I', 'still', 'have', 'a', 'long', 'way', 'to', 'go', 'to', 'learn', 'programming', '4', 'you']\n"
     ]
    }
   ],
   "source": [
    "new_list = string.split() #no rule defined\n",
    "print(new_list) #number 4 is also converted into string rather int"
   ]
  },
  {
   "cell_type": "code",
   "execution_count": 6,
   "id": "bibliographic-function",
   "metadata": {},
   "outputs": [
    {
     "name": "stdout",
     "output_type": "stream",
     "text": [
      "['I still have a l', 'ng way t', ' g', ' t', ' learn pr', 'gramming 4 y', 'u']\n"
     ]
    }
   ],
   "source": [
    "new_list2 = string.split(\"o\")\n",
    "print(new_list2)"
   ]
  },
  {
   "cell_type": "code",
   "execution_count": 16,
   "id": "metallic-newark",
   "metadata": {},
   "outputs": [
    {
     "name": "stdout",
     "output_type": "stream",
     "text": [
      "['abrar.tunio', 'yahoo.com']\n",
      "yahoo.com\n"
     ]
    }
   ],
   "source": [
    "new_list3 = email.split(\"@\") #Rule is to cut at @\n",
    "print(new_list3)\n",
    "print(new_list3[1])          #This should show me only the domain "
   ]
  },
  {
   "cell_type": "code",
   "execution_count": 17,
   "id": "sized-census",
   "metadata": {},
   "outputs": [
    {
     "name": "stdout",
     "output_type": "stream",
     "text": [
      "<class 'list'>\n",
      "<class 'str'>\n"
     ]
    }
   ],
   "source": [
    "print( type(new_list3))     #this is a list\n",
    "print(type(new_list3[1]))   #using index you can extract string out of list! wow"
   ]
  },
  {
   "cell_type": "code",
   "execution_count": null,
   "id": "nuclear-distinction",
   "metadata": {},
   "outputs": [],
   "source": []
  }
 ],
 "metadata": {
  "kernelspec": {
   "display_name": "Python 3",
   "language": "python",
   "name": "python3"
  },
  "language_info": {
   "codemirror_mode": {
    "name": "ipython",
    "version": 3
   },
   "file_extension": ".py",
   "mimetype": "text/x-python",
   "name": "python",
   "nbconvert_exporter": "python",
   "pygments_lexer": "ipython3",
   "version": "3.9.2"
  }
 },
 "nbformat": 4,
 "nbformat_minor": 5
}
