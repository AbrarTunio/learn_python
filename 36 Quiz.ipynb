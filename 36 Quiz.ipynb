{
 "cells": [
  {
   "cell_type": "markdown",
   "id": "laden-psychiatry",
   "metadata": {},
   "source": [
    "Create one conditional to find whether “false” is in string str1. If so, assign variable output the string “False. You aren’t you?”. Check to see if “true” is in string str1 and if it is then assign “True! You are you!” to the variable output. If neither are in str1, assign “Neither true nor false!” to output."
   ]
  },
  {
   "cell_type": "code",
   "execution_count": 1,
   "id": "bridal-daniel",
   "metadata": {},
   "outputs": [],
   "source": [
    "str1 = \"Today you are you! That is truer than true! There is no one alive who is you-er than you!\"\n",
    "output = \"\"\n",
    "if \"false\" in str1:\n",
    "    output = \"False. You aren’t you?\"\n",
    "elif \"true\" in str1:\n",
    "    output = \"True! You are you!\"\n",
    "else:\n",
    "    output = \"Neither true nor false!\""
   ]
  },
  {
   "cell_type": "markdown",
   "id": "italic-lancaster",
   "metadata": {},
   "source": [
    "Assign an empty string to the variable output. Using the range function, write code to make it so that the variable output has 35 a s inside it (like \"aaaaaaaaaaaaaaaaaaaaaaaaaaaaaaaaaaa\"). Hint: use the accumulation pattern!"
   ]
  },
  {
   "cell_type": "code",
   "execution_count": 5,
   "id": "abandoned-proposal",
   "metadata": {},
   "outputs": [
    {
     "name": "stdout",
     "output_type": "stream",
     "text": [
      "35\n"
     ]
    }
   ],
   "source": [
    "output = \"\"\n",
    "for x in range(35):\n",
    "    output = output + \"a\"\n"
   ]
  },
  {
   "cell_type": "markdown",
   "id": "downtown-brook",
   "metadata": {},
   "source": [
    "Currently there is a string called str1. Write code to create a list called chars which should contain the characters from str1. Each character in str1 should be its own element in the list chars."
   ]
  },
  {
   "cell_type": "code",
   "execution_count": 6,
   "id": "dress-cambridge",
   "metadata": {},
   "outputs": [],
   "source": [
    "str1 = \"I love python\"\n",
    "# HINT: what's the accumulator? That should go here.\n",
    "chars = []\n",
    "for element in str1:\n",
    "    chars.append(element)"
   ]
  },
  {
   "cell_type": "code",
   "execution_count": 10,
   "id": "electoral-adrian",
   "metadata": {},
   "outputs": [
    {
     "name": "stdout",
     "output_type": "stream",
     "text": [
      "Hello Ibrar\n"
     ]
    }
   ],
   "source": [
    "greetings = \"Hello Abrar\"\n",
    "greetings = greetings[:6] + \"I\" + greetings[7:]\n",
    "print(greetings)"
   ]
  },
  {
   "cell_type": "code",
   "execution_count": 11,
   "id": "copyrighted-orbit",
   "metadata": {},
   "outputs": [
    {
     "ename": "SyntaxError",
     "evalue": "invalid syntax (<ipython-input-11-5c44629b8966>, line 1)",
     "output_type": "error",
     "traceback": [
      "\u001b[1;36m  File \u001b[1;32m\"<ipython-input-11-5c44629b8966>\"\u001b[1;36m, line \u001b[1;32m1\u001b[0m\n\u001b[1;33m    Tuples are Immutable\u001b[0m\n\u001b[1;37m           ^\u001b[0m\n\u001b[1;31mSyntaxError\u001b[0m\u001b[1;31m:\u001b[0m invalid syntax\n"
     ]
    }
   ],
   "source": [
    "Tuples are Immutable\n",
    "As with strings, if we try to use item assignment to modify one of the elements of a tuple, we get an error. In fact, that’s the key difference between lists and tuples: tuples are like immutable lists. None of the operations on lists that mutate them are available for tuples. Once a tuple is created, it can’t be changed.\n",
    "\n",
    "julia[0] = 'X'  # TypeError: 'tuple' object does not support item assignment\n",
    "Check your understanding\n",
    "\n",
    "seqmut-1-1: What is printed by the following statements?\n",
    "\n",
    "alist = [4,2,8,6,5]\n",
    "alist[2] = True\n",
    "print(alist)\n",
    "A. [4,2,True,8,6,5]\n",
    "B. [4,2,True,6,5]\n",
    "C. Error, it is illegal to assign\n",
    "\n",
    "✔️ Yes, the value True is placed in the list at index 2. It replaces 8."
   ]
  },
  {
   "cell_type": "code",
   "execution_count": 12,
   "id": "defined-transport",
   "metadata": {},
   "outputs": [
    {
     "ename": "SyntaxError",
     "evalue": "invalid syntax (<ipython-input-12-eccc35f04eba>, line 1)",
     "output_type": "error",
     "traceback": [
      "\u001b[1;36m  File \u001b[1;32m\"<ipython-input-12-eccc35f04eba>\"\u001b[1;36m, line \u001b[1;32m1\u001b[0m\n\u001b[1;33m    What is printed by the following statements:\u001b[0m\n\u001b[1;37m                    ^\u001b[0m\n\u001b[1;31mSyntaxError\u001b[0m\u001b[1;31m:\u001b[0m invalid syntax\n"
     ]
    }
   ],
   "source": [
    "What is printed by the following statements:\n",
    "\n",
    "s = \"Ball\"\n",
    "s[0] = \"C\"\n",
    "print(s)\n",
    "A. Ball\n",
    "B. Call\n",
    "C. Error\n",
    "\n",
    "✔️ Yes, strings are immutable."
   ]
  },
  {
   "cell_type": "code",
   "execution_count": null,
   "id": "compatible-buddy",
   "metadata": {},
   "outputs": [],
   "source": []
  }
 ],
 "metadata": {
  "kernelspec": {
   "display_name": "Python 3",
   "language": "python",
   "name": "python3"
  },
  "language_info": {
   "codemirror_mode": {
    "name": "ipython",
    "version": 3
   },
   "file_extension": ".py",
   "mimetype": "text/x-python",
   "name": "python",
   "nbconvert_exporter": "python",
   "pygments_lexer": "ipython3",
   "version": "3.9.2"
  }
 },
 "nbformat": 4,
 "nbformat_minor": 5
}
