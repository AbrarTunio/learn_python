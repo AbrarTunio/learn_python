{
 "cells": [
  {
   "cell_type": "code",
   "execution_count": 1,
   "id": "indirect-prison",
   "metadata": {},
   "outputs": [
    {
     "ename": "SyntaxError",
     "evalue": "invalid syntax (<ipython-input-1-414294b2dfd4>, line 3)",
     "output_type": "error",
     "traceback": [
      "\u001b[1;36m  File \u001b[1;32m\"<ipython-input-1-414294b2dfd4>\"\u001b[1;36m, line \u001b[1;32m3\u001b[0m\n\u001b[1;33m    A. Its value\u001b[0m\n\u001b[1;37m           ^\u001b[0m\n\u001b[1;31mSyntaxError\u001b[0m\u001b[1;31m:\u001b[0m invalid syntax\n"
     ]
    }
   ],
   "source": [
    "func-8-1: What is a variable’s scope?\n",
    "\n",
    "A. Its value\n",
    "B. The range of statements in the code where a variable can be accessed.\n",
    "C. Its name\n",
    "\n",
    "✔️ Correct. (b)"
   ]
  },
  {
   "cell_type": "code",
   "execution_count": 2,
   "id": "adaptive-quick",
   "metadata": {},
   "outputs": [
    {
     "ename": "SyntaxError",
     "evalue": "invalid syntax (<ipython-input-2-bff7bb9db00c>, line 3)",
     "output_type": "error",
     "traceback": [
      "\u001b[1;36m  File \u001b[1;32m\"<ipython-input-2-bff7bb9db00c>\"\u001b[1;36m, line \u001b[1;32m3\u001b[0m\n\u001b[1;33m    A. A temporary variable that is only used inside a function\u001b[0m\n\u001b[1;37m         ^\u001b[0m\n\u001b[1;31mSyntaxError\u001b[0m\u001b[1;31m:\u001b[0m invalid syntax\n"
     ]
    }
   ],
   "source": [
    "func-8-2: What is a local variable?\n",
    "\n",
    "A. A temporary variable that is only used inside a function\n",
    "B. The same as a parameter\n",
    "C. Another name for any variable\n",
    "\n",
    "✔️ Yes, a local variable is a temporary variable that is only known (only exists) in the function it is defined in. (a)"
   ]
  },
  {
   "cell_type": "markdown",
   "id": "sensitive-softball",
   "metadata": {},
   "source": [
    "func-8-3: Can you use the same name for a local variable as a global variable?\n",
    "\n",
    "A. Yes, and there is no reason not to.\n",
    "B. Yes, but it is considered bad form.\n",
    "C. No, it will cause an error.\n",
    "\n",
    "✔️ it is generally considered bad style because of the potential for the programmer to get confused. If you must use global variables (also generally bad form) make sure they have unique names. (b)"
   ]
  },
  {
   "cell_type": "markdown",
   "id": "alpha-latitude",
   "metadata": {},
   "source": [
    "**Note\n",
    "\n",
    "WP: <Scope>\n",
    "\n",
    "You may be asking yourself at this point when you should make some object a local variable and when should you make it a global variable. Generally, we do not recommend making variables global. Imagine you are trying to write a program that keeps track of money while purchasing groceries. You may make a variable that represents how much money the person has, called wallet. You also want to make a function called purchase, which will take the name of the item and its price, and then add the item to a list of groceries, and deduct the price from the amount stored in wallet. If you initialize wallet before the function as a variable within the global scope instead of passing it as a third parameter for purchase, then an error would occur because wallet would not be found in the local scope. Though there are ways to get around this, as outlined in this page, if your program was supposed to handle groceries for multiple people, then you would need to declare each wallet as a global variable in the functions that want to use wallet, and that would become very confusing and tedious to deal with."
   ]
  }
 ],
 "metadata": {
  "kernelspec": {
   "display_name": "Python 3",
   "language": "python",
   "name": "python3"
  },
  "language_info": {
   "codemirror_mode": {
    "name": "ipython",
    "version": 3
   },
   "file_extension": ".py",
   "mimetype": "text/x-python",
   "name": "python",
   "nbconvert_exporter": "python",
   "pygments_lexer": "ipython3",
   "version": "3.9.2"
  }
 },
 "nbformat": 4,
 "nbformat_minor": 5
}
