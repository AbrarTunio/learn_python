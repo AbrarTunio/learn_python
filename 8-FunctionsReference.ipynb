{
 "cells": [
  {
   "cell_type": "code",
   "execution_count": 1,
   "id": "thirty-piano",
   "metadata": {},
   "outputs": [
    {
     "ename": "NameError",
     "evalue": "name 'y' is not defined",
     "output_type": "error",
     "traceback": [
      "\u001b[1;31m---------------------------------------------------------------------------\u001b[0m",
      "\u001b[1;31mNameError\u001b[0m                                 Traceback (most recent call last)",
      "\u001b[1;32m<ipython-input-1-841403ea9ae9>\u001b[0m in \u001b[0;36m<module>\u001b[1;34m\u001b[0m\n\u001b[0;32m      3\u001b[0m     \u001b[1;32mreturn\u001b[0m \u001b[0my\u001b[0m\u001b[1;33m\u001b[0m\u001b[1;33m\u001b[0m\u001b[0m\n\u001b[0;32m      4\u001b[0m \u001b[0mz\u001b[0m \u001b[1;33m=\u001b[0m \u001b[0msquare\u001b[0m \u001b[1;33m(\u001b[0m\u001b[1;36m10\u001b[0m\u001b[1;33m)\u001b[0m\u001b[1;33m\u001b[0m\u001b[1;33m\u001b[0m\u001b[0m\n\u001b[1;32m----> 5\u001b[1;33m \u001b[0mprint\u001b[0m\u001b[1;33m(\u001b[0m\u001b[0my\u001b[0m\u001b[1;33m)\u001b[0m   \u001b[1;31m# you can not access y here therefore you will get a error\u001b[0m\u001b[1;33m\u001b[0m\u001b[1;33m\u001b[0m\u001b[0m\n\u001b[0m\u001b[0;32m      6\u001b[0m \u001b[0mprint\u001b[0m\u001b[1;33m(\u001b[0m\u001b[0mz\u001b[0m\u001b[1;33m)\u001b[0m \u001b[1;31m#however you can get returned value in z\u001b[0m\u001b[1;33m\u001b[0m\u001b[1;33m\u001b[0m\u001b[0m\n\u001b[0;32m      7\u001b[0m \u001b[1;33m\u001b[0m\u001b[0m\n",
      "\u001b[1;31mNameError\u001b[0m: name 'y' is not defined"
     ]
    }
   ],
   "source": [
    "def square(x):\n",
    "    y = x * x\n",
    "    return y\n",
    "z = square (10)\n",
    "print(y)   # you can not access y here therefore you will get a error. Because y is in local space but not in global space.\n",
    "print(z) #however you can get returned value in z\n",
    "    "
   ]
  },
  {
   "cell_type": "code",
   "execution_count": 2,
   "id": "immediate-middle",
   "metadata": {},
   "outputs": [
    {
     "ename": "SyntaxError",
     "evalue": "invalid syntax (<ipython-input-2-798e96f50926>, line 1)",
     "output_type": "error",
     "traceback": [
      "\u001b[1;36m  File \u001b[1;32m\"<ipython-input-2-798e96f50926>\"\u001b[1;36m, line \u001b[1;32m1\u001b[0m\n\u001b[1;33m    Check Your Understanding\u001b[0m\n\u001b[1;37m          ^\u001b[0m\n\u001b[1;31mSyntaxError\u001b[0m\u001b[1;31m:\u001b[0m invalid syntax\n"
     ]
    }
   ],
   "source": [
    "Check Your Understanding\n",
    "\n",
    "func-7-1: True or False: Local variables can be referenced outside of the function they were defined in.\n",
    "\n",
    "A. True\n",
    "B. False\n",
    "\n",
    "✔️ Local variables cannot be referenced outside of the function they were defined in."
   ]
  },
  {
   "cell_type": "code",
   "execution_count": 3,
   "id": "rough-static",
   "metadata": {},
   "outputs": [
    {
     "ename": "SyntaxError",
     "evalue": "illegal target for annotation (<ipython-input-3-4103c40463a9>, line 1)",
     "output_type": "error",
     "traceback": [
      "\u001b[1;36m  File \u001b[1;32m\"<ipython-input-3-4103c40463a9>\"\u001b[1;36m, line \u001b[1;32m1\u001b[0m\n\u001b[1;33m    func-7-2: Which of the following are local variables? Please, write them in order of what line they are on in the code.\u001b[0m\n\u001b[1;37m    ^\u001b[0m\n\u001b[1;31mSyntaxError\u001b[0m\u001b[1;31m:\u001b[0m illegal target for annotation\n"
     ]
    }
   ],
   "source": [
    "func-7-2: Which of the following are local variables? Please, write them in order of what line they are on in the code.\n",
    "\n",
    "numbers = [1, 12, 13, 4]\n",
    "def foo(bar):\n",
    "    aug = str(bar) + \"street\"\n",
    "    return aug\n",
    "\n",
    "addresses = []\n",
    "for item in numbers:\n",
    "    addresses.append(foo(item))\n",
    "The local variables are\n",
    "\n",
    "bar\n",
    "aug\n",
    "\n",
    "\n",
    "\n",
    "Good work!\n",
    "\n",
    "Good work!"
   ]
  },
  {
   "cell_type": "code",
   "execution_count": 4,
   "id": "suspended-potential",
   "metadata": {},
   "outputs": [
    {
     "ename": "SyntaxError",
     "evalue": "invalid syntax (<ipython-input-4-ea063af2fc91>, line 13)",
     "output_type": "error",
     "traceback": [
      "\u001b[1;36m  File \u001b[1;32m\"<ipython-input-4-ea063af2fc91>\"\u001b[1;36m, line \u001b[1;32m13\u001b[0m\n\u001b[1;33m    A. 33\u001b[0m\n\u001b[1;37m       ^\u001b[0m\n\u001b[1;31mSyntaxError\u001b[0m\u001b[1;31m:\u001b[0m invalid syntax\n"
     ]
    }
   ],
   "source": [
    "func-7-3: What is the result of the following code?\n",
    "\n",
    "def adding(x):\n",
    "    y = 3\n",
    "    z = y + x + x\n",
    "    return z\n",
    "\n",
    "def producing(x):\n",
    "    z = x * y\n",
    "    return z\n",
    "\n",
    "print(producing(adding(4)))\n",
    "A. 33\n",
    "B. 12\n",
    "C. There is an error in the code.\n",
    "\n",
    "✔️ Yes! There is an error because we reference y in the producing function, but it was defined in adding. \n",
    "Because y is a local variable, we can't use it in both functions without initializing it in both. If we initialized y as 3 in both though, the answer would be 33."
   ]
  },
  {
   "cell_type": "code",
   "execution_count": null,
   "id": "subject-delta",
   "metadata": {},
   "outputs": [],
   "source": []
  }
 ],
 "metadata": {
  "kernelspec": {
   "display_name": "Python 3",
   "language": "python",
   "name": "python3"
  },
  "language_info": {
   "codemirror_mode": {
    "name": "ipython",
    "version": 3
   },
   "file_extension": ".py",
   "mimetype": "text/x-python",
   "name": "python",
   "nbconvert_exporter": "python",
   "pygments_lexer": "ipython3",
   "version": "3.9.2"
  }
 },
 "nbformat": 4,
 "nbformat_minor": 5
}
