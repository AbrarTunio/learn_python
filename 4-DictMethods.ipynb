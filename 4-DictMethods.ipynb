{
 "cells": [
  {
   "cell_type": "markdown",
   "id": "pediatric-sperm",
   "metadata": {},
   "source": [
    "PRINTING ONLY KEY OR ONLY VALUES IN A GIVEN DICTIONARY!"
   ]
  },
  {
   "cell_type": "code",
   "execution_count": 1,
   "id": "formal-country",
   "metadata": {},
   "outputs": [],
   "source": [
    "my_dict = {\"abrar\":33,\"israr\":34,\"iqrar\":28,\"moiz\":55,\"iftikhar\":28,\"salman\":31}"
   ]
  },
  {
   "cell_type": "code",
   "execution_count": 7,
   "id": "gentle-algebra",
   "metadata": {},
   "outputs": [
    {
     "name": "stdout",
     "output_type": "stream",
     "text": [
      "abrar <------This is a key\n",
      "israr <------This is a key\n",
      "iqrar <------This is a key\n",
      "moiz <------This is a key\n",
      "iftikhar <------This is a key\n",
      "salman <------This is a key\n",
      "*********************************\n",
      "33 <------This is a value\n",
      "34 <------This is a value\n",
      "28 <------This is a value\n",
      "55 <------This is a value\n",
      "28 <------This is a value\n",
      "31 <------This is a value\n"
     ]
    }
   ],
   "source": [
    "for key in my_dict.keys():\n",
    "    print(key,\"<------This is a key\")\n",
    "print(\"*********************************\")\n",
    "for value in my_dict.values():\n",
    "    print(value,\"<------This is a value\")"
   ]
  },
  {
   "cell_type": "markdown",
   "id": "extra-effects",
   "metadata": {},
   "source": [
    "ANOTHER WAY OF PRINTING KEYS AND VALUE IN SINGLE FOR LOOP!"
   ]
  },
  {
   "cell_type": "code",
   "execution_count": 8,
   "id": "renewable-offense",
   "metadata": {},
   "outputs": [
    {
     "name": "stdout",
     "output_type": "stream",
     "text": [
      "abrar 33\n",
      "israr 34\n",
      "iqrar 28\n",
      "moiz 55\n",
      "iftikhar 28\n",
      "salman 31\n"
     ]
    }
   ],
   "source": [
    "for key in my_dict.keys():\n",
    "    print(key         ,           my_dict[key])\n",
    "#will print values relavent to keys"
   ]
  },
  {
   "cell_type": "code",
   "execution_count": 9,
   "id": "weird-inflation",
   "metadata": {},
   "outputs": [
    {
     "name": "stdout",
     "output_type": "stream",
     "text": [
      "abrar dict_values([33, 34, 28, 55, 28, 31])\n",
      "israr dict_values([33, 34, 28, 55, 28, 31])\n",
      "iqrar dict_values([33, 34, 28, 55, 28, 31])\n",
      "moiz dict_values([33, 34, 28, 55, 28, 31])\n",
      "iftikhar dict_values([33, 34, 28, 55, 28, 31])\n",
      "salman dict_values([33, 34, 28, 55, 28, 31])\n"
     ]
    }
   ],
   "source": [
    "for key in my_dict.keys():\n",
    "    print(key         ,           my_dict.values())\n",
    "#This is very important to remember!\n",
    "#Will print all values"
   ]
  },
  {
   "cell_type": "code",
   "execution_count": 12,
   "id": "seasonal-buddy",
   "metadata": {},
   "outputs": [
    {
     "name": "stdout",
     "output_type": "stream",
     "text": [
      "dict_keys(['abrar', 'israr', 'iqrar', 'moiz', 'iftikhar', 'salman'])\n",
      "['abrar', 'israr', 'iqrar', 'moiz', 'iftikhar', 'salman']\n"
     ]
    }
   ],
   "source": [
    "key_names = my_dict.keys()\n",
    "print(key_names)\n",
    "key_list = list ( my_dict.keys())\n",
    "print(key_list)\n",
    "\n",
    "#you want a list of keys then put LIST before calling dictionary keys"
   ]
  },
  {
   "cell_type": "code",
   "execution_count": 13,
   "id": "honey-cargo",
   "metadata": {},
   "outputs": [
    {
     "name": "stdout",
     "output_type": "stream",
     "text": [
      "dict_values([33, 34, 28, 55, 28, 31])\n",
      "[33, 34, 28, 55, 28, 31]\n"
     ]
    }
   ],
   "source": [
    "value_names = my_dict.values()\n",
    "print(value_names)\n",
    "value_list = list ( my_dict.values())\n",
    "print(value_list)"
   ]
  },
  {
   "cell_type": "code",
   "execution_count": 15,
   "id": "appropriate-store",
   "metadata": {},
   "outputs": [
    {
     "name": "stdout",
     "output_type": "stream",
     "text": [
      "dict_items([('abrar', 33), ('israr', 34), ('iqrar', 28), ('moiz', 55), ('iftikhar', 28), ('salman', 31)])\n",
      "[('abrar', 33), ('israr', 34), ('iqrar', 28), ('moiz', 55), ('iftikhar', 28), ('salman', 31)]\n"
     ]
    }
   ],
   "source": [
    "dict_tuple_name = my_dict.items()\n",
    "print(dict_tuple_name)\n",
    "\n",
    "tuple_list = list(  my_dict.items() )\n",
    "print(tuple_list)\n"
   ]
  },
  {
   "cell_type": "markdown",
   "id": "split-batman",
   "metadata": {},
   "source": [
    "USAGE OF IN within DICTIONARY!"
   ]
  },
  {
   "cell_type": "code",
   "execution_count": 18,
   "id": "brazilian-amendment",
   "metadata": {},
   "outputs": [
    {
     "name": "stdout",
     "output_type": "stream",
     "text": [
      "abrar is there and his age is 33\n"
     ]
    }
   ],
   "source": [
    "if \"abrar\" in my_dict:\n",
    "    print(\"abrar is there and his age is\",my_dict[\"abrar\"])\n",
    "else:\n",
    "    print(\"abrar is not there\")"
   ]
  },
  {
   "cell_type": "code",
   "execution_count": 19,
   "id": "compatible-reservation",
   "metadata": {},
   "outputs": [
    {
     "name": "stdout",
     "output_type": "stream",
     "text": [
      "Naveed is out of contact!\n"
     ]
    }
   ],
   "source": [
    "if \"naveed\" in my_dict:\n",
    "    print(\"naveed is there and his age is\",my_dict[\"naveed\"])\n",
    "else:\n",
    "    print(\"Naveed is out of contact!\")"
   ]
  },
  {
   "cell_type": "markdown",
   "id": "parental-amplifier",
   "metadata": {},
   "source": [
    "USAGE OF \".get()\" method!  and its similarity with indexing method"
   ]
  },
  {
   "cell_type": "code",
   "execution_count": 22,
   "id": "immediate-mills",
   "metadata": {},
   "outputs": [
    {
     "name": "stdout",
     "output_type": "stream",
     "text": [
      "33\n",
      "33\n"
     ]
    }
   ],
   "source": [
    "print ( my_dict.get(\"abrar\") )\n",
    "print( my_dict[\"abrar\"] )\n",
    "#output of both is similar!"
   ]
  },
  {
   "cell_type": "code",
   "execution_count": 23,
   "id": "imperial-electricity",
   "metadata": {},
   "outputs": [
    {
     "name": "stdout",
     "output_type": "stream",
     "text": [
      "None\n"
     ]
    }
   ],
   "source": [
    "print( my_dict.get(\"naveed\") )\n",
    "#.get is good in a sense that it is returning some value atleast than giving nothing or error!"
   ]
  },
  {
   "cell_type": "code",
   "execution_count": 26,
   "id": "trying-japan",
   "metadata": {},
   "outputs": [
    {
     "name": "stdout",
     "output_type": "stream",
     "text": [
      "999\n"
     ]
    }
   ],
   "source": [
    "print ( my_dict.get(\"naveed\",999) )\n",
    "#it is useful when key is not available in dictionary but we want to print a key with some default value if it\n",
    "#does not exits\n",
    "#Caution: It will not append value of this missing key in that dictionary"
   ]
  },
  {
   "cell_type": "code",
   "execution_count": 27,
   "id": "brilliant-interest",
   "metadata": {},
   "outputs": [
    {
     "name": "stdout",
     "output_type": "stream",
     "text": [
      "{'abrar': 33, 'israr': 34, 'iqrar': 28, 'moiz': 55, 'iftikhar': 28, 'salman': 31}\n"
     ]
    }
   ],
   "source": [
    "print(my_dict)"
   ]
  },
  {
   "cell_type": "markdown",
   "id": "disturbed-premium",
   "metadata": {},
   "source": [
    "What if we already have naveed in our dictionary and then we use .get method for default values!"
   ]
  },
  {
   "cell_type": "code",
   "execution_count": 29,
   "id": "rough-paste",
   "metadata": {},
   "outputs": [
    {
     "name": "stdout",
     "output_type": "stream",
     "text": [
      "55\n"
     ]
    }
   ],
   "source": [
    "my_dict[\"naveed\"] = 55\n",
    "print ( my_dict.get(\"naveed\",999) )\n",
    "#now the answer is 55 not the 999!"
   ]
  },
  {
   "cell_type": "code",
   "execution_count": null,
   "id": "bizarre-twenty",
   "metadata": {},
   "outputs": [],
   "source": []
  }
 ],
 "metadata": {
  "kernelspec": {
   "display_name": "Python 3",
   "language": "python",
   "name": "python3"
  },
  "language_info": {
   "codemirror_mode": {
    "name": "ipython",
    "version": 3
   },
   "file_extension": ".py",
   "mimetype": "text/x-python",
   "name": "python",
   "nbconvert_exporter": "python",
   "pygments_lexer": "ipython3",
   "version": "3.9.2"
  }
 },
 "nbformat": 4,
 "nbformat_minor": 5
}
