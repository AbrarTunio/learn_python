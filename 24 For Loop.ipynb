{
 "cells": [
  {
   "cell_type": "code",
   "execution_count": 1,
   "id": "biological-circumstances",
   "metadata": {},
   "outputs": [],
   "source": [
    "#FOR loop in Strings"
   ]
  },
  {
   "cell_type": "code",
   "execution_count": null,
   "id": "emerging-average",
   "metadata": {},
   "outputs": [],
   "source": []
  },
  {
   "cell_type": "code",
   "execution_count": null,
   "id": "opposed-graham",
   "metadata": {},
   "outputs": [],
   "source": [
    "for strings in \"This is Abrar Hussain Tunio\":\n",
    "    print(strings)"
   ]
  },
  {
   "cell_type": "code",
   "execution_count": null,
   "id": "brutal-joining",
   "metadata": {},
   "outputs": [],
   "source": [
    "i = \"many times\"\n",
    "for yohu in i:\n",
    "    print(\"I am printing!\")"
   ]
  },
  {
   "cell_type": "code",
   "execution_count": null,
   "id": "headed-buffer",
   "metadata": {},
   "outputs": [],
   "source": [
    "for kareena in i[5:10]:\n",
    "    print(\"I will print!\")"
   ]
  },
  {
   "cell_type": "code",
   "execution_count": 4,
   "id": "silent-selling",
   "metadata": {},
   "outputs": [],
   "source": [
    "#For Loop in Lists"
   ]
  },
  {
   "cell_type": "code",
   "execution_count": null,
   "id": "sound-aging",
   "metadata": {},
   "outputs": [],
   "source": [
    "for lst in [\"abrar\",\"hussain\",\"tunio\",[],\"2\",22]:\n",
    "    print(lst)"
   ]
  },
  {
   "cell_type": "code",
   "execution_count": 21,
   "id": "disciplinary-pound",
   "metadata": {},
   "outputs": [],
   "source": [
    "import turtle\n",
    "tv = turtle.Screen()\n",
    "abrar = turtle.Turtle()\n",
    "list_of_colors = [\"yellow\",\"black\",\"green\",\"blue\"]\n",
    "for chimoi in list_of_colors:\n",
    "    abrar.color(chimoi)\n",
    "    abrar.forward(350)\n",
    "    abrar.left(90)\n",
    "tv.exitonclick()"
   ]
  },
  {
   "cell_type": "code",
   "execution_count": null,
   "id": "adopted-birth",
   "metadata": {},
   "outputs": [],
   "source": [
    "Back when we drew the images with turtle it could be quite tedious. If we wanted to draw a square then we had to move then turn, move then turn, etc. etc. four times. If we were drawing a hexagon, or an octagon, or a polygon with 42 sides, it would have been a nightmare to duplicate all that code.\n",
    "\n",
    "A basic building block of all programs is to be able to repeat some code over and over again. We refer to this repetitive idea as iteration. In this section, we will explore some mechanisms for basic iteration.\n",
    "\n",
    "In Python, the for statement allows us to write programs that implement iteration. As a simple example, let’s say we have some friends, and we’d like to send them each an email inviting them to our party. We don’t quite know how to send email yet, so for the moment we’ll just print a message for each friend.\n",
    "\n",
    "9/7/2020, 10:39:48 PM - 2 of 2\n",
    "1\n",
    "for name in [\"Joe\", \"Amy\", \"Brad\", \"Angelina\", \"Zuki\", \"Thandi\", \"Paris\"]:\n",
    "2\n",
    "    print(\"Hi\", name, \"Please come to my party on Saturday!\")\n",
    "3\n",
    "​\n",
    "Hi Joe Please come to my party on Saturday!\n",
    "Hi Amy Please come to my party on Saturday!\n",
    "Hi Brad Please come to my party on Saturday!\n",
    "Hi Angelina Please come to my party on Saturday!\n",
    "Hi Zuki Please come to my party on Saturday!\n",
    "Hi Thandi Please come to my party on Saturday!\n",
    "Hi Paris Please come to my party on Saturday!\n",
    "ActiveCode (ac6_2_1)\n",
    "\n",
    "Take a look at the output produced when you press the run button. There is one line printed for each friend. Here’s how it works:\n",
    "\n",
    "name in this for statement is called the loop variable or, alternatively, the iterator variable.\n",
    "\n",
    "The list of names in the square brackets is the sequence over which we will iterate.\n",
    "\n",
    "Line 2 is the loop body. The loop body is always indented. The indentation determines exactly what statements are “in the loop”. The loop body is performed one time for each name in the list.\n",
    "\n",
    "On each iteration or pass of the loop, first a check is done to see if there are still more items to be processed. If there are none left (this is called the terminating condition of the loop), the loop has finished. Program execution continues at the next statement after the loop body.\n",
    "\n",
    "If there are items still to be processed, the loop variable is updated to refer to the next item in the list. This means, in this case, that the loop body is executed here 7 times, and each time name will refer to a different friend.\n",
    "\n",
    "At the end of each execution of the body of the loop, Python returns to the for statement, to see if there are more items to be handled.\n",
    "\n",
    "The overall syntax is for <loop_var_name> in <sequence>:\n",
    "\n",
    "Between the words for and in, there must be a variable name for the loop variable. You can’t put a whole expression there.\n",
    "\n",
    "A colon is required at the end of the line\n",
    "\n",
    "After the word in and before the colon is an expression that must evaluate to a sequence (e.g, a string or a list or a tuple). It could be a literal, or a variable name, or a more complex expression.\n",
    "\n",
    "You have attempted 3 of 2 activities on this page"
   ]
  },
  {
   "cell_type": "code",
   "execution_count": null,
   "id": "underlying-binding",
   "metadata": {},
   "outputs": [],
   "source": [
    "iter-4-1: How many times is the word HELLO printed by the following statements?\n",
    "\n",
    "s = \"python rocks\"\n",
    "for ch in s:\n",
    "   print(\"HELLO\")\n",
    "A. 10\n",
    "B. 11\n",
    "C. 12\n",
    "D. Error, the for statement needs to use the range function.\n",
    "\n",
    "✔️ Yes, there are 12 characters, including the blank.\n",
    "Multiple Choice (question6_4_1)\n",
    "\n",
    "iter-4-2: How many times is the word HELLO printed by the following statements?\n",
    "\n",
    "s = \"python rocks\"\n",
    "for ch in s[3:8]:\n",
    "   print(\"HELLO\")\n",
    "A. 4\n",
    "B. 5\n",
    "C. 6\n",
    "D. Error, the for statement cannot use slice.\n",
    "\n",
    "✔️ Yes, The blank is part of the sequence returned by slice."
   ]
  }
 ],
 "metadata": {
  "kernelspec": {
   "display_name": "Python 3",
   "language": "python",
   "name": "python3"
  },
  "language_info": {
   "codemirror_mode": {
    "name": "ipython",
    "version": 3
   },
   "file_extension": ".py",
   "mimetype": "text/x-python",
   "name": "python",
   "nbconvert_exporter": "python",
   "pygments_lexer": "ipython3",
   "version": "3.9.2"
  }
 },
 "nbformat": 4,
 "nbformat_minor": 5
}
