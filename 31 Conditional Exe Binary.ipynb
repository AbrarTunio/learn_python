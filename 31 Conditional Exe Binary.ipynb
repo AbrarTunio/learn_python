{
 "cells": [
  {
   "cell_type": "code",
   "execution_count": 1,
   "id": "liable-panic",
   "metadata": {},
   "outputs": [],
   "source": [
    "#Conditional Execution-Binary Selection"
   ]
  },
  {
   "cell_type": "code",
   "execution_count": 6,
   "id": "surprised-prague",
   "metadata": {},
   "outputs": [
    {
     "name": "stdout",
     "output_type": "stream",
     "text": [
      "23 is odd\n"
     ]
    }
   ],
   "source": [
    "x = 23\n",
    "if x%2 == 0:\n",
    "    print(x,\"is even\")\n",
    "else:\n",
    "    print(x,\"is odd\")"
   ]
  },
  {
   "cell_type": "code",
   "execution_count": null,
   "id": "disabled-heading",
   "metadata": {},
   "outputs": [],
   "source": [
    "Check your understanding\n",
    "\n",
    "condition-6-1: How many lines of code can appear in the indented code block below the if and else lines in a conditional?\n",
    "\n",
    "A. Just one.\n",
    "B. Zero or more.\n",
    "C. One or more.\n",
    "D. One or more, and each must contain the same number.\n",
    "\n",
    "✔️ Yes, a block must contain at least one statement and can have many statements.\n",
    "Multiple Choice (question7_6_1)\n",
    "\n",
    "condition-6-2: What does the following code print? (choose from output a, b, c or nothing)\n",
    "\n",
    "if (4 + 5 == 10):\n",
    "    print(\"TRUE\")\n",
    "else:\n",
    "    print(\"FALSE\")\n",
    "A. TRUE\n",
    "B. FALSE\n",
    "C. TRUE on one line and FALSE on the next\n",
    "D. Nothing will be printed\n",
    "\n",
    "✔️ Since 4+5==10 evaluates to False, Python will skip over the if block and execute the statement in the else block.\n",
    "Multiple Choice (question7_6_2)\n",
    "\n",
    "condition-6-3: What does the following code print?\n",
    "\n",
    "if (4 + 5 == 10):\n",
    "    print(\"TRUE\")\n",
    "else:\n",
    "    print(\"FALSE\")\n",
    "print(\"TRUE\")\n",
    "a. TRUE\n",
    "\n",
    "b.\n",
    "   TRUE\n",
    "   FALSE\n",
    "\n",
    "c.\n",
    "   FALSE\n",
    "   TRUE\n",
    "d.\n",
    "   TRUE\n",
    "   FALSE\n",
    "   TRUE\n",
    "A. Output a\n",
    "B. Output b\n",
    "C. Output c\n",
    "D. Output d\n",
    "\n",
    "✔️ Python will print FALSE from within the else-block (because 5+4 does not equal 10), and then print TRUE after the if-else statement completes."
   ]
  },
  {
   "cell_type": "code",
   "execution_count": 7,
   "id": "accredited-messenger",
   "metadata": {},
   "outputs": [
    {
     "name": "stdout",
     "output_type": "stream",
     "text": [
      "You can apply to SI!\n"
     ]
    }
   ],
   "source": [
    "# Write code to assign the string \"You can apply to SI!\" \n",
    "# to output if the string \"SI 106\" is in the list courses. \n",
    "# If it is not in courses, assign the value \"Take SI 106!\" to the variable output.\n",
    "\n",
    "courses = [\"ENGR 101\", \"SI 110\", \"ENG 125\", \"SI 106\", \"CHEM 130\"]\n",
    "\n",
    "if \"SI 106\" in courses:\n",
    "    print(\"You can apply to SI!\")\n",
    "else:\n",
    "    print(\"Take SI 106!\")"
   ]
  },
  {
   "cell_type": "code",
   "execution_count": 10,
   "id": "catholic-leather",
   "metadata": {},
   "outputs": [
    {
     "name": "stdout",
     "output_type": "stream",
     "text": [
      "35\n"
     ]
    }
   ],
   "source": [
    "#Create a variable, b, and assign it the value of 15. \n",
    "#Then, write code to see \n",
    "#if the value b is greater than that of a. \n",
    "#If it is, \n",
    "#a’s value should be multiplied by 2. \n",
    "#If the value of b is less than or equal to a, nothing should happen. \n",
    "#Finally, create variable c and assign it the value of the sum of a and b.\n",
    "\n",
    "a = 20\n",
    "b = 15\n",
    "\n",
    "if b > a:\n",
    "    a = a*2\n",
    "    print(a)\n",
    "else: \n",
    "    b <= a\n",
    "c = a + b\n",
    "print(c)\n",
    "    \n",
    "\n"
   ]
  },
  {
   "cell_type": "code",
   "execution_count": null,
   "id": "explicit-phrase",
   "metadata": {},
   "outputs": [],
   "source": []
  }
 ],
 "metadata": {
  "kernelspec": {
   "display_name": "Python 3",
   "language": "python",
   "name": "python3"
  },
  "language_info": {
   "codemirror_mode": {
    "name": "ipython",
    "version": 3
   },
   "file_extension": ".py",
   "mimetype": "text/x-python",
   "name": "python",
   "nbconvert_exporter": "python",
   "pygments_lexer": "ipython3",
   "version": "3.9.2"
  }
 },
 "nbformat": 4,
 "nbformat_minor": 5
}
