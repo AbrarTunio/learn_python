{
 "cells": [
  {
   "cell_type": "markdown",
   "id": "extra-credits",
   "metadata": {},
   "source": [
    "<b > LISTENER LOOP!</b>"
   ]
  },
  {
   "cell_type": "code",
   "execution_count": 5,
   "id": "joined-rental",
   "metadata": {},
   "outputs": [
    {
     "name": "stdin",
     "output_type": "stream",
     "text": [
      "Enter The Number to Add up: [Enter 0 to Exit]  10\n",
      "Enter The Number to Add up: [Enter 0 to Exit]  0\n"
     ]
    },
    {
     "name": "stdout",
     "output_type": "stream",
     "text": [
      "10\n"
     ]
    }
   ],
   "source": [
    "sumUp = 0\n",
    "exit = -1        #Make sure to initialize exit with some unique number that you will not put into for sumUp   \n",
    "while (exit != 0):\n",
    "    exit = int (input(\"Enter The Number to Add up: [Enter 0 to Exit] \"))\n",
    "    sumUp = sumUp + exit\n",
    "print(sumUp)    "
   ]
  },
  {
   "cell_type": "code",
   "execution_count": null,
   "id": "beautiful-heavy",
   "metadata": {},
   "outputs": [],
   "source": []
  },
  {
   "cell_type": "code",
   "execution_count": null,
   "id": "nutritional-induction",
   "metadata": {},
   "outputs": [],
   "source": []
  },
  {
   "cell_type": "code",
   "execution_count": 12,
   "id": "molecular-ecuador",
   "metadata": {},
   "outputs": [
    {
     "name": "stdin",
     "output_type": "stream",
     "text": [
      "Do you Like Mango? y/n n\n"
     ]
    },
    {
     "name": "stdout",
     "output_type": "stream",
     "text": [
      "Have tried one before?\n"
     ]
    }
   ],
   "source": [
    "def get_yes_or_no(message):\n",
    "    valid_input = False\n",
    "    while not valid_input:\n",
    "        answer = input(message)\n",
    "        answer = answer.lower()\n",
    "        if answer == \"y\" or answer == \"n\":\n",
    "            valid_input = True\n",
    "        else:\n",
    "            input(\"Please Enter a valid response: \")\n",
    "    return answer\n",
    "\n",
    "\n",
    "\n",
    "response = get_yes_or_no(\"Do you Like Mango? y/n\")\n",
    "if response == \"y\":\n",
    "    print(\"Great, These are delicious!\")\n",
    "else: print(\"Have tried one before?\")"
   ]
  },
  {
   "cell_type": "code",
   "execution_count": 24,
   "id": "partial-fever",
   "metadata": {},
   "outputs": [
    {
     "name": "stdin",
     "output_type": "stream",
     "text": [
      "Do you live in Pakistan: [y/n]:  n\n"
     ]
    },
    {
     "name": "stdout",
     "output_type": "stream",
     "text": [
      "You should come visit someday!\n"
     ]
    }
   ],
   "source": [
    "def ask_yes_no(msg):\n",
    "    valid = False\n",
    "    while not valid:\n",
    "        answer = input(msg)\n",
    "        answer.lower()\n",
    "        if answer == \"y\" or answer == \"n\":\n",
    "            valid = True\n",
    "        else: print(\"Enter y for Yes and n for No\")\n",
    "    return answer\n",
    "\n",
    "\n",
    "rsp = ask_yes_no( \"Do you live in Pakistan: [y/n]: \")\n",
    "if rsp == \"y\":\n",
    "    print(\"It's is great country and a hostile nation\")\n",
    "else: print(\"You should come visit someday!\")"
   ]
  },
  {
   "cell_type": "markdown",
   "id": "wired-person",
   "metadata": {},
   "source": [
    "#Groceroy Store Items and Charging Customer over total items\n",
    "14.3.1.1. Sentinel Values\n",
    "Indefinite loops are much more common in the real world than definite loops.\n",
    "\n",
    "If you are selling tickets to an event, you don’t know in advance how many tickets you will sell. You keep selling tickets as long as people come to the door and there’s room in the hall.\n",
    "\n",
    "When the baggage crew unloads a plane, they don’t know in advance how many suitcases there are. They just keep unloading while there are bags left in the cargo hold. (Why your suitcase is always the last one is an entirely different problem.)\n",
    "\n",
    "When you go through the checkout line at the grocery, the clerks don’t know in advance how many items there are. They just keep ringing up items as long as there are more on the conveyor belt.\n",
    "\n",
    "Let’s implement the last of these in Python, by asking the user for prices and keeping a running total and count of items. When the last item is entered, the program gives the grand total, number of items, and average price. We’ll need these variables:\n",
    "\n",
    "total - this will start at zero\n",
    "\n",
    "count - the number of items, which also starts at zero\n",
    "\n",
    "moreItems - a boolean that tells us whether more items are waiting; this starts as True\n",
    "\n",
    "The pseudocode (code written half in English, half in Python) for the body of the loop looks something like this:\n",
    "\n",
    "while moreItems\n",
    "    ask for price\n",
    "    add price to total\n",
    "    add one to count\n",
    "This pseudocode has no option to set moreItems to False, so it would run forever. In a grocery store, there’s a little plastic bar that you put after your last item to separate your groceries from those of the person behind you; that’s how the clerk knows you have no more items. We don’t have a “little plastic bar” data type in Python, so we’ll do the next best thing: we will use a price of zero to mean “this is my last item.” In this program, zero is a sentinel value, a value used to signal the end of the loop. Here’s the code:"
   ]
  },
  {
   "cell_type": "code",
   "execution_count": 28,
   "id": "increased-greensboro",
   "metadata": {},
   "outputs": [
    {
     "name": "stdin",
     "output_type": "stream",
     "text": [
      "Enter the price of item [Enter 0 to end]:  10\n",
      "Enter the price of item [Enter 0 to end]:  10\n",
      "Enter the price of item [Enter 0 to end]:  10\n",
      "Enter the price of item [Enter 0 to end]:  0\n"
     ]
    },
    {
     "name": "stdout",
     "output_type": "stream",
     "text": [
      "total_items = 3 \n",
      "total price = 30 \n",
      "average price per item = 10.0\n"
     ]
    }
   ],
   "source": [
    "#if you do not understand what following code does the read above section\n",
    "def checkout():\n",
    "    count = 0\n",
    "    total_price = 0\n",
    "    moreItems = True\n",
    "    while moreItems:\n",
    "        price = int(input(\"Enter the price of item [Enter 0 to end]: \"))\n",
    "        if price != 0:\n",
    "            total_price = total_price + price\n",
    "            count += 1\n",
    "        else: moreItems = False\n",
    "    average = total_price/count\n",
    "    return f'''total_items = {count} \\ntotal price = {total_price} \\naverage price per item = {average}'''\n",
    "\n",
    "print(checkout()) # we are calling function with no arguments"
   ]
  },
  {
   "cell_type": "markdown",
   "id": "opposite-american",
   "metadata": {},
   "source": [
    "There are still a few problems with this program.\n",
    "\n",
    "If you enter a negative number, it will be added to the total and count. Modify the code so that negative numbers give an error message instead (but don’t end the loop) Hint: elif is your friend.\n",
    "\n",
    "If you enter zero the first time you are asked for a price, the loop will end, and the program will try to divide by zero. Use an if/else statement outside the loop to avoid the division by zero and tell the user that you can’t compute an average without data.\n",
    "\n",
    "This program doesn’t display the amounts to two decimal places. You’ll be introduced to that in another chapter."
   ]
  },
  {
   "cell_type": "code",
   "execution_count": null,
   "id": "alive-closing",
   "metadata": {},
   "outputs": [],
   "source": [
    "#if you do not understand what following code does the read above section\n",
    "def checkout():\n",
    "    count = 0\n",
    "    total_price = 0\n",
    "    moreItems = True\n",
    "    \n",
    "    while moreItems:\n",
    "        price = int(input(\"Enter the price of item [Enter 0 to end]: \"))\n",
    "        if price < 0:\n",
    "            print(\"Price can not be negative: \")\n",
    "        elif price != 0:\n",
    "            total_price = total_price + price\n",
    "            count += 1\n",
    "        else: moreItems = False\n",
    "    average = total_price/count\n",
    "    \n",
    "    return f'''total_items = {count} \\ntotal price = {total_price} \\naverage price per item = {average}'''\n",
    "\n",
    "print(checkout()) # we are calling function with no arguments"
   ]
  },
  {
   "cell_type": "code",
   "execution_count": 48,
   "id": "fifty-range",
   "metadata": {},
   "outputs": [
    {
     "ename": "SyntaxError",
     "evalue": "invalid syntax (<ipython-input-48-fd9626156fae>, line 8)",
     "output_type": "error",
     "traceback": [
      "\u001b[1;36m  File \u001b[1;32m\"<ipython-input-48-fd9626156fae>\"\u001b[1;36m, line \u001b[1;32m8\u001b[0m\n\u001b[1;33m    if price < 0:\u001b[0m\n\u001b[1;37m                ^\u001b[0m\n\u001b[1;31mSyntaxError\u001b[0m\u001b[1;31m:\u001b[0m invalid syntax\n"
     ]
    }
   ],
   "source": []
  },
  {
   "cell_type": "code",
   "execution_count": null,
   "id": "reported-physiology",
   "metadata": {},
   "outputs": [],
   "source": []
  }
 ],
 "metadata": {
  "kernelspec": {
   "display_name": "Python 3",
   "language": "python",
   "name": "python3"
  },
  "language_info": {
   "codemirror_mode": {
    "name": "ipython",
    "version": 3
   },
   "file_extension": ".py",
   "mimetype": "text/x-python",
   "name": "python",
   "nbconvert_exporter": "python",
   "pygments_lexer": "ipython3",
   "version": "3.9.2"
  }
 },
 "nbformat": 4,
 "nbformat_minor": 5
}
