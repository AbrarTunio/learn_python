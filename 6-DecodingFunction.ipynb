{
 "cells": [
  {
   "cell_type": "code",
   "execution_count": 1,
   "id": "blond-jesus",
   "metadata": {},
   "outputs": [
    {
     "ename": "SyntaxError",
     "evalue": "invalid syntax (<ipython-input-1-a6449418142a>, line 1)",
     "output_type": "error",
     "traceback": [
      "\u001b[1;36m  File \u001b[1;32m\"<ipython-input-1-a6449418142a>\"\u001b[1;36m, line \u001b[1;32m1\u001b[0m\n\u001b[1;33m    Check your understanding: decode this function definition\u001b[0m\n\u001b[1;37m          ^\u001b[0m\n\u001b[1;31mSyntaxError\u001b[0m\u001b[1;31m:\u001b[0m invalid syntax\n"
     ]
    }
   ],
   "source": [
    "Check your understanding: decode this function definition\n",
    "\n",
    "UFunc-1-1: How many parameters does function cyu3 take?\n",
    "\n",
    "def cyu3(x, y, z):\n",
    "   if x - y > 0:\n",
    "      return y -2\n",
    "   else:\n",
    "      z.append(y)\n",
    "      return x + 3\n",
    "A. 0\n",
    "B. 1\n",
    "C. 2\n",
    "D. 3\n",
    "E. Can't tell\n",
    "\n",
    "✔️ x, y, and z."
   ]
  },
  {
   "cell_type": "code",
   "execution_count": 2,
   "id": "collectible-taste",
   "metadata": {},
   "outputs": [
    {
     "ename": "SyntaxError",
     "evalue": "EOL while scanning string literal (<ipython-input-2-ccbb199aa46a>, line 13)",
     "output_type": "error",
     "traceback": [
      "\u001b[1;36m  File \u001b[1;32m\"<ipython-input-2-ccbb199aa46a>\"\u001b[1;36m, line \u001b[1;32m13\u001b[0m\n\u001b[1;33m    E. Can't tell\u001b[0m\n\u001b[1;37m                 ^\u001b[0m\n\u001b[1;31mSyntaxError\u001b[0m\u001b[1;31m:\u001b[0m EOL while scanning string literal\n"
     ]
    }
   ],
   "source": [
    "UFunc-1-2: What are the possible types of variables x and y?\n",
    "\n",
    "def cyu3(x, y, z):\n",
    "   if x - y > 0:\n",
    "      return y -2\n",
    "   else:\n",
    "      z.append(y)\n",
    "      return x + 3\n",
    "A. integer\n",
    "B. float\n",
    "C. list\n",
    "D. string\n",
    "E. Can't tell\n",
    "\n",
    "✔️Correct.\n",
    "x - y, y-2, and x+3 can all be performed on integers.\n",
    "x - y, y-2, and x+3 can all be performed on floats."
   ]
  },
  {
   "cell_type": "code",
   "execution_count": 3,
   "id": "equal-honolulu",
   "metadata": {},
   "outputs": [
    {
     "ename": "SyntaxError",
     "evalue": "EOL while scanning string literal (<ipython-input-3-e74a0cb583d2>, line 13)",
     "output_type": "error",
     "traceback": [
      "\u001b[1;36m  File \u001b[1;32m\"<ipython-input-3-e74a0cb583d2>\"\u001b[1;36m, line \u001b[1;32m13\u001b[0m\n\u001b[1;33m    E. Can't tell\u001b[0m\n\u001b[1;37m                 ^\u001b[0m\n\u001b[1;31mSyntaxError\u001b[0m\u001b[1;31m:\u001b[0m EOL while scanning string literal\n"
     ]
    }
   ],
   "source": [
    "UFunc-1-3: What are the possible types of variable z?\n",
    "\n",
    "def cyu3(x, y, z):\n",
    "   if x - y > 0:\n",
    "      return y -2\n",
    "   else:\n",
    "      z.append(y)\n",
    "      return x + 3\n",
    "A. integer\n",
    "B. float\n",
    "C. list\n",
    "D. string\n",
    "E. Can't tell\n",
    "\n",
    "✔️Correct.\n",
    "append can be performed on lists."
   ]
  },
  {
   "cell_type": "code",
   "execution_count": 4,
   "id": "julian-blank",
   "metadata": {},
   "outputs": [
    {
     "ename": "SyntaxError",
     "evalue": "EOL while scanning string literal (<ipython-input-4-e679f3e50a6a>, line 13)",
     "output_type": "error",
     "traceback": [
      "\u001b[1;36m  File \u001b[1;32m\"<ipython-input-4-e679f3e50a6a>\"\u001b[1;36m, line \u001b[1;32m13\u001b[0m\n\u001b[1;33m    E. Can't tell\u001b[0m\n\u001b[1;37m                 ^\u001b[0m\n\u001b[1;31mSyntaxError\u001b[0m\u001b[1;31m:\u001b[0m EOL while scanning string literal\n"
     ]
    }
   ],
   "source": [
    "UFunc-1-4: What are the possible types of the return value from cyu3?\n",
    "\n",
    "def cyu3(x, y, z):\n",
    "   if x - y > 0:\n",
    "      return y -2\n",
    "   else:\n",
    "      z.append(y)\n",
    "      return x + 3\n",
    "A. integer\n",
    "B. float\n",
    "C. list\n",
    "D. string\n",
    "E. Can't tell\n",
    "\n",
    "✔️Correct.\n",
    "y-2 or x+3 could produce an integer.\n",
    "y-2 or x+3 could produce a float."
   ]
  },
  {
   "cell_type": "code",
   "execution_count": null,
   "id": "danish-helen",
   "metadata": {},
   "outputs": [],
   "source": []
  }
 ],
 "metadata": {
  "kernelspec": {
   "display_name": "Python 3",
   "language": "python",
   "name": "python3"
  },
  "language_info": {
   "codemirror_mode": {
    "name": "ipython",
    "version": 3
   },
   "file_extension": ".py",
   "mimetype": "text/x-python",
   "name": "python",
   "nbconvert_exporter": "python",
   "pygments_lexer": "ipython3",
   "version": "3.9.2"
  }
 },
 "nbformat": 4,
 "nbformat_minor": 5
}
