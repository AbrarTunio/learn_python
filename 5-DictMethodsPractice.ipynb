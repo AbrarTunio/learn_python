{
 "cells": [
  {
   "cell_type": "markdown",
   "id": "domestic-beach",
   "metadata": {},
   "source": [
    "There are 5 methods on dictionaries!\n",
    "1-  keys\n",
    "2-  values\n",
    "3-  items\n",
    "4-  get\n",
    "5-  get,alt"
   ]
  },
  {
   "cell_type": "code",
   "execution_count": 2,
   "id": "young-marine",
   "metadata": {},
   "outputs": [
    {
     "name": "stdout",
     "output_type": "stream",
     "text": [
      "Got key apples which maps to value 430\n",
      "with some other method\n",
      "Got other key apples which maps to other value 430\n",
      "Got key bananas which maps to value 312\n",
      "with some other method\n",
      "Got other key bananas which maps to other value 312\n",
      "Got key oranges which maps to value 525\n",
      "with some other method\n",
      "Got other key oranges which maps to other value 525\n",
      "Got key pears which maps to value 217\n",
      "with some other method\n",
      "Got other key pears which maps to other value 217\n",
      "['apples', 'bananas', 'oranges', 'pears']\n"
     ]
    }
   ],
   "source": [
    "inventory = {'apples': 430, 'bananas': 312, 'oranges': 525, 'pears': 217}\n",
    "\n",
    "for akey in inventory.keys():     # the order in which we get the keys is not defined\n",
    "    print(\"Got key\", akey, \"which maps to value\", inventory[akey])\n",
    "    print(\"with some other method\")\n",
    "    print(\"Got other key\", akey, \"which maps to other value\", inventory.get(akey))\n",
    "\n",
    "ks = list(  inventory.keys()  )  #this will put keys into the list\n",
    "print(ks)"
   ]
  },
  {
   "cell_type": "code",
   "execution_count": 2,
   "id": "absent-underground",
   "metadata": {},
   "outputs": [
    {
     "name": "stdout",
     "output_type": "stream",
     "text": [
      "Got key apples\n",
      "Got key bananas\n",
      "Got key oranges\n",
      "Got key pears\n"
     ]
    }
   ],
   "source": [
    "inventory = {'apples': 430, 'bananas': 312, 'oranges': 525, 'pears': 217}\n",
    "\n",
    "for k in inventory:\n",
    "    print(\"Got key\", k)"
   ]
  },
  {
   "cell_type": "code",
   "execution_count": 3,
   "id": "parallel-beatles",
   "metadata": {},
   "outputs": [
    {
     "name": "stdout",
     "output_type": "stream",
     "text": [
      "Got value 430\n",
      "Got value 312\n",
      "Got value 525\n",
      "Got value 217\n"
     ]
    }
   ],
   "source": [
    "inventory = {'apples': 430, 'bananas': 312, 'oranges': 525, 'pears': 217}\n",
    "\n",
    "for k in inventory:\n",
    "    print(\"Got value\", inventory[k])"
   ]
  },
  {
   "cell_type": "code",
   "execution_count": 4,
   "id": "paperback-township",
   "metadata": {},
   "outputs": [
    {
     "name": "stdout",
     "output_type": "stream",
     "text": [
      "[430, 312, 525, 217]\n",
      "[('apples', 430), ('bananas', 312), ('oranges', 525), ('pears', 217)]\n",
      "Got apples that maps to 430\n",
      "Got bananas that maps to 312\n",
      "Got oranges that maps to 525\n",
      "Got pears that maps to 217\n"
     ]
    }
   ],
   "source": [
    "inventory = {'apples': 430, 'bananas': 312, 'oranges': 525, 'pears': 217}\n",
    "\n",
    "print(list(inventory.values()))\n",
    "print(list(inventory.items()))\n",
    "\n",
    "for k in inventory:\n",
    "    print(\"Got\",k,\"that maps to\",inventory[k])"
   ]
  },
  {
   "cell_type": "code",
   "execution_count": 5,
   "id": "becoming-garden",
   "metadata": {},
   "outputs": [
    {
     "name": "stdout",
     "output_type": "stream",
     "text": [
      "True\n",
      "False\n",
      "312\n"
     ]
    }
   ],
   "source": [
    "inventory = {'apples': 430, 'bananas': 312, 'oranges': 525, 'pears': 217}\n",
    "print('apples' in inventory)\n",
    "print('cherries' in inventory)\n",
    "\n",
    "if 'bananas' in inventory:\n",
    "    print(inventory['bananas'])\n",
    "else:\n",
    "    print(\"We have no bananas\")"
   ]
  },
  {
   "cell_type": "code",
   "execution_count": 6,
   "id": "proved-inquiry",
   "metadata": {},
   "outputs": [
    {
     "name": "stdout",
     "output_type": "stream",
     "text": [
      "430\n",
      "None\n",
      "0\n"
     ]
    }
   ],
   "source": [
    "inventory = {'apples': 430, 'bananas': 312, 'oranges': 525, 'pears': 217}\n",
    "\n",
    "print(inventory.get(\"apples\"))\n",
    "print(inventory.get(\"cherries\"))\n",
    "\n",
    "print(inventory.get(\"cherries\",0))"
   ]
  },
  {
   "cell_type": "code",
   "execution_count": 7,
   "id": "typical-hawaii",
   "metadata": {},
   "outputs": [
    {
     "name": "stdout",
     "output_type": "stream",
     "text": [
      "2\n"
     ]
    }
   ],
   "source": [
    "#dictionaries-3-1: What is printed by the following statements?\n",
    "\n",
    "mydict = {\"cat\":12, \"dog\":6, \"elephant\":23, \"bear\":20}\n",
    "answer = mydict.get(\"cat\")//mydict.get(\"dog\")\n",
    "print(answer)"
   ]
  },
  {
   "cell_type": "code",
   "execution_count": 8,
   "id": "administrative-removal",
   "metadata": {},
   "outputs": [
    {
     "name": "stdout",
     "output_type": "stream",
     "text": [
      "True\n"
     ]
    }
   ],
   "source": [
    "#dictionaries-3-2: What is printed by the following statements?\n",
    "\n",
    "mydict = {\"cat\":12, \"dog\":6, \"elephant\":23, \"bear\":20}\n",
    "print(\"dog\" in mydict)"
   ]
  },
  {
   "cell_type": "code",
   "execution_count": 9,
   "id": "binding-pitch",
   "metadata": {},
   "outputs": [
    {
     "name": "stdout",
     "output_type": "stream",
     "text": [
      "False\n"
     ]
    }
   ],
   "source": [
    "#dictionaries-3-3: What is printed by the following statements? remember \"in\" method points to keys only\n",
    "\n",
    "mydict = {\"cat\":12, \"dog\":6, \"elephant\":23, \"bear\":20}\n",
    "print(23 in mydict)"
   ]
  },
  {
   "cell_type": "code",
   "execution_count": 10,
   "id": "civic-messenger",
   "metadata": {},
   "outputs": [
    {
     "name": "stdout",
     "output_type": "stream",
     "text": [
      "43\n"
     ]
    }
   ],
   "source": [
    "#dictionaries-3-4: What is printed by the following statements?\n",
    "\n",
    "total = 0\n",
    "mydict = {\"cat\":12, \"dog\":6, \"elephant\":23, \"bear\":20}\n",
    "for akey in mydict:\n",
    "   if len(akey) > 3:\n",
    "      total = total + mydict[akey]\n",
    "print(total)"
   ]
  },
  {
   "cell_type": "markdown",
   "id": "talented-starter",
   "metadata": {},
   "source": [
    "5. Every four years, the summer Olympics are held in a different country. Add a key-value pair to the dictionary ----places------ that reflects that the 2016 Olympics were held in Brazil. Do not rewrite the entire dictionary to do this!"
   ]
  },
  {
   "cell_type": "code",
   "execution_count": 13,
   "id": "overhead-bhutan",
   "metadata": {},
   "outputs": [
    {
     "name": "stdout",
     "output_type": "stream",
     "text": [
      "{'Australia': 2000, 'Greece': 2004, 'China': 2008, 'England': 2012, 'Brazil': 2016}\n"
     ]
    }
   ],
   "source": [
    "places = {\"Australia\":2000, \"Greece\":2004, \"China\":2008, \"England\":2012}\n",
    "places[\"Brazil\"] = 2016\n",
    "print(places)\n"
   ]
  },
  {
   "cell_type": "markdown",
   "id": "declared-custom",
   "metadata": {},
   "source": [
    "6. We have a dictionary of the specific events that Italy has won medals in and the number of medals they have won for each event. Assign to the variable ----events---- a list of the keys from the dictionary ----medal_events----. Do not hard code this."
   ]
  },
  {
   "cell_type": "code",
   "execution_count": 14,
   "id": "pursuant-short",
   "metadata": {},
   "outputs": [
    {
     "name": "stdout",
     "output_type": "stream",
     "text": [
      "['Shooting', 'Fencing', 'Judo', 'Swimming', 'Diving']\n"
     ]
    }
   ],
   "source": [
    "medal_events = {'Shooting': 7, 'Fencing': 4, 'Judo': 2, 'Swimming': 3, 'Diving': 2}\n",
    "events = list (medal_events.keys())\n",
    "print(events)"
   ]
  },
  {
   "cell_type": "code",
   "execution_count": null,
   "id": "treated-registrar",
   "metadata": {},
   "outputs": [],
   "source": []
  }
 ],
 "metadata": {
  "kernelspec": {
   "display_name": "Python 3",
   "language": "python",
   "name": "python3"
  },
  "language_info": {
   "codemirror_mode": {
    "name": "ipython",
    "version": 3
   },
   "file_extension": ".py",
   "mimetype": "text/x-python",
   "name": "python",
   "nbconvert_exporter": "python",
   "pygments_lexer": "ipython3",
   "version": "3.9.2"
  }
 },
 "nbformat": 4,
 "nbformat_minor": 5
}
