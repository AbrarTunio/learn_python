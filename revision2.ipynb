{
 "cells": [
  {
   "cell_type": "code",
   "execution_count": null,
   "id": "atomic-surfing",
   "metadata": {},
   "outputs": [],
   "source": [
    "number = 9\n",
    "number = \"abrar\"\n",
    "print(\"You have entered:\",number)"
   ]
  },
  {
   "cell_type": "code",
   "execution_count": null,
   "id": "indoor-reaction",
   "metadata": {},
   "outputs": [],
   "source": [
    "first = 5\n",
    "second = \"abrar\"\n",
    "third = \"5\"\n",
    "forth = 5.0\n",
    "\n",
    "print(first,second,third,forth)\n",
    "print(  type(forth)  )\n",
    "\n"
   ]
  },
  {
   "cell_type": "code",
   "execution_count": null,
   "id": "devoted-senegal",
   "metadata": {},
   "outputs": [],
   "source": [
    "num1 = \"5\"\n",
    "num2 = \"6\"\n",
    "print(\"The sum of two numbers is\", num1 + num2)\n",
    "\n"
   ]
  },
  {
   "cell_type": "code",
   "execution_count": null,
   "id": "preliminary-institution",
   "metadata": {},
   "outputs": [],
   "source": [
    "num1 = 5\n",
    "num2 = 6\n",
    "print(\"The sum of two numbers is\", num1 + num2)"
   ]
  },
  {
   "cell_type": "code",
   "execution_count": null,
   "id": "alone-diabetes",
   "metadata": {},
   "outputs": [],
   "source": [
    "name = \"abrar\"\n",
    "num  = 5\n",
    "\n",
    "print(\"The answer is:\", name * num)"
   ]
  },
  {
   "cell_type": "code",
   "execution_count": null,
   "id": "beginning-framework",
   "metadata": {},
   "outputs": [],
   "source": [
    "name = \"abrar\"\n",
    "num  = 5\n",
    "\n",
    "print(\"The answer is:\", name + num)\n",
    "#operation between string and number is not allowed expect * \"multiplication\""
   ]
  },
  {
   "cell_type": "code",
   "execution_count": 29,
   "id": "formed-copyright",
   "metadata": {},
   "outputs": [
    {
     "name": "stdin",
     "output_type": "stream",
     "text": [
      "please enter any value here: 5\n"
     ]
    },
    {
     "name": "stdout",
     "output_type": "stream",
     "text": [
      "value in the selected variable is:  5\n",
      "<class 'str'>\n",
      "<class 'int'>\n"
     ]
    }
   ],
   "source": [
    "a = input(\"please enter any value here:\") \n",
    "print(\"value in the selected variable is: \", a)\n",
    "\n",
    "i_a = int(a)\n",
    "\n",
    "print(type(a))\n",
    "print(type(i_a))"
   ]
  },
  {
   "cell_type": "code",
   "execution_count": 33,
   "id": "consecutive-biodiversity",
   "metadata": {},
   "outputs": [
    {
     "name": "stdin",
     "output_type": "stream",
     "text": [
      "What is status of your laptop? off\n"
     ]
    },
    {
     "name": "stdout",
     "output_type": "stream",
     "text": [
      "Complete\n"
     ]
    }
   ],
   "source": [
    "laptop_status = input(\"What is status of your laptop?\")\n",
    "\n",
    "if laptop_status == \"on\":\n",
    "    print(\"your laptop is on\")\n",
    "    \n",
    "print(\"Complete\")"
   ]
  },
  {
   "cell_type": "code",
   "execution_count": null,
   "id": "dietary-disease",
   "metadata": {},
   "outputs": [],
   "source": []
  }
 ],
 "metadata": {
  "kernelspec": {
   "display_name": "Python 3",
   "language": "python",
   "name": "python3"
  },
  "language_info": {
   "codemirror_mode": {
    "name": "ipython",
    "version": 3
   },
   "file_extension": ".py",
   "mimetype": "text/x-python",
   "name": "python",
   "nbconvert_exporter": "python",
   "pygments_lexer": "ipython3",
   "version": "3.9.6"
  }
 },
 "nbformat": 4,
 "nbformat_minor": 5
}
