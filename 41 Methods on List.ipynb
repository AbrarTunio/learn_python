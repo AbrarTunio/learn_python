{
 "cells": [
  {
   "cell_type": "code",
   "execution_count": null,
   "id": "demanding-richmond",
   "metadata": {},
   "outputs": [],
   "source": [
    "#There are several methods on list\n",
    "#1- Append\n",
    "#2- Insert\n",
    "#3- Count\n",
    "#4- Index\n",
    "#5- Reverse\n",
    "#6- Sort"
   ]
  },
  {
   "cell_type": "markdown",
   "id": "reported-appointment",
   "metadata": {},
   "source": [
    "USING APPEND METHOD"
   ]
  },
  {
   "cell_type": "code",
   "execution_count": null,
   "id": "native-graphics",
   "metadata": {},
   "outputs": [],
   "source": [
    "brothers = [\"Israr\", \"Abrar\"]\n",
    "brothers.append(\"Iqrar\")  #insert value into the end of list.\n",
    "print(brothers)"
   ]
  },
  {
   "cell_type": "markdown",
   "id": "moved-frank",
   "metadata": {},
   "source": [
    "USING INSERT METHOD"
   ]
  },
  {
   "cell_type": "code",
   "execution_count": 18,
   "id": "coupled-diary",
   "metadata": {},
   "outputs": [
    {
     "name": "stdout",
     "output_type": "stream",
     "text": [
      "['Israr', 'Abrar', 'Iqrar']\n"
     ]
    }
   ],
   "source": [
    "brothers = [\"Israr\",\"Iqrar\"]\n",
    "brothers.insert(1,\"Abrar\")\n",
    "print(brothers)"
   ]
  },
  {
   "cell_type": "markdown",
   "id": "marked-teddy",
   "metadata": {},
   "source": [
    "USING COUNT METHOD"
   ]
  },
  {
   "cell_type": "code",
   "execution_count": 19,
   "id": "rough-coalition",
   "metadata": {},
   "outputs": [
    {
     "name": "stdout",
     "output_type": "stream",
     "text": [
      "['Israr', 'Abrar', 'Iqrar', 'Israr', 'Abrar', 'Iqrar']\n"
     ]
    },
    {
     "data": {
      "text/plain": [
       "2"
      ]
     },
     "execution_count": 19,
     "metadata": {},
     "output_type": "execute_result"
    }
   ],
   "source": [
    "brothers = brothers*2\n",
    "print(brothers)\n",
    "brothers.count(\"Israr\")"
   ]
  },
  {
   "cell_type": "markdown",
   "id": "aggressive-disaster",
   "metadata": {},
   "source": [
    "USING INDEX METHOD"
   ]
  },
  {
   "cell_type": "code",
   "execution_count": 20,
   "id": "smoking-mexican",
   "metadata": {},
   "outputs": [
    {
     "name": "stdout",
     "output_type": "stream",
     "text": [
      "2\n",
      "['Israr', 'Abrar', 'Iqrar', 'Israr', 'Abrar', 'Iqrar']\n"
     ]
    }
   ],
   "source": [
    "print(brothers.index(\"Iqrar\")) #Provides you the position of element in list\n",
    "print(brothers)"
   ]
  },
  {
   "cell_type": "markdown",
   "id": "static-virginia",
   "metadata": {},
   "source": [
    "USING REVERSE METHOD"
   ]
  },
  {
   "cell_type": "code",
   "execution_count": 33,
   "id": "empty-copyright",
   "metadata": {},
   "outputs": [
    {
     "name": "stdout",
     "output_type": "stream",
     "text": [
      "['Israr', 'Israr', 'Iqrar', 'Iqrar', 'Abrar', 'Abrar']\n"
     ]
    }
   ],
   "source": [
    "#Reverse does not make a copy of list but reverse the originol one.\n",
    "brothers.reverse()   #You can not put this into print\n",
    "print(brothers)"
   ]
  },
  {
   "cell_type": "markdown",
   "id": "premier-phase",
   "metadata": {},
   "source": [
    "USING SORT METHOD"
   ]
  },
  {
   "cell_type": "code",
   "execution_count": 34,
   "id": "expanded-execution",
   "metadata": {},
   "outputs": [
    {
     "name": "stdout",
     "output_type": "stream",
     "text": [
      "['Abrar', 'Abrar', 'Iqrar', 'Iqrar', 'Israr', 'Israr']\n"
     ]
    }
   ],
   "source": [
    "#What is the difference between REVERSE and SORT\n",
    "brothers.sort()\n",
    "print(brothers)"
   ]
  },
  {
   "cell_type": "markdown",
   "id": "referenced-conjunction",
   "metadata": {},
   "source": [
    "USING REMOVE METHOD"
   ]
  },
  {
   "cell_type": "markdown",
   "id": "chemical-dylan",
   "metadata": {},
   "source": [
    "What is difference between ROMOVE and DEL then"
   ]
  },
  {
   "cell_type": "code",
   "execution_count": 35,
   "id": "violent-advancement",
   "metadata": {},
   "outputs": [],
   "source": [
    "# Del takes index or position however remove takes name of element."
   ]
  },
  {
   "cell_type": "code",
   "execution_count": 36,
   "id": "guilty-encounter",
   "metadata": {},
   "outputs": [
    {
     "name": "stdout",
     "output_type": "stream",
     "text": [
      "['Israr', 'Iqrar']\n"
     ]
    }
   ],
   "source": [
    "brothers = [\"Israr\", \"Abrar\", \"Iqrar\"]\n",
    "del brothers[1]\n",
    "print(brothers)"
   ]
  },
  {
   "cell_type": "code",
   "execution_count": 38,
   "id": "completed-yacht",
   "metadata": {},
   "outputs": [
    {
     "name": "stdout",
     "output_type": "stream",
     "text": [
      "['Israr', 'Abrar']\n"
     ]
    }
   ],
   "source": [
    "brothers = [\"Israr\", \"Abrar\", \"Iqrar\"]\n",
    "brothers.remove(\"Iqrar\")\n",
    "print(brothers)"
   ]
  },
  {
   "cell_type": "markdown",
   "id": "coral-lightning",
   "metadata": {},
   "source": [
    "USIN POP METHOD. THE MOST IMPORTATN ONE!!!"
   ]
  },
  {
   "cell_type": "code",
   "execution_count": 39,
   "id": "lightweight-polls",
   "metadata": {},
   "outputs": [
    {
     "name": "stdout",
     "output_type": "stream",
     "text": [
      "Iqrar\n"
     ]
    }
   ],
   "source": [
    "#it will remove last item from list\n",
    "#it will return that removed item.\n",
    "brothers = [\"Israr\", \"Abrar\", \"Iqrar\"]\n",
    "print(brothers.pop()) #pop does not take argument"
   ]
  },
  {
   "cell_type": "code",
   "execution_count": 40,
   "id": "royal-spectacular",
   "metadata": {},
   "outputs": [
    {
     "name": "stdout",
     "output_type": "stream",
     "text": [
      "['Israr', 'Abrar']\n"
     ]
    }
   ],
   "source": [
    "print(brothers)"
   ]
  },
  {
   "cell_type": "code",
   "execution_count": null,
   "id": "honey-vatican",
   "metadata": {},
   "outputs": [],
   "source": []
  }
 ],
 "metadata": {
  "kernelspec": {
   "display_name": "Python 3",
   "language": "python",
   "name": "python3"
  },
  "language_info": {
   "codemirror_mode": {
    "name": "ipython",
    "version": 3
   },
   "file_extension": ".py",
   "mimetype": "text/x-python",
   "name": "python",
   "nbconvert_exporter": "python",
   "pygments_lexer": "ipython3",
   "version": "3.9.2"
  }
 },
 "nbformat": 4,
 "nbformat_minor": 5
}
