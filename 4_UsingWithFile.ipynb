{
 "cells": [
  {
   "cell_type": "code",
   "execution_count": 4,
   "id": "elegant-checklist",
   "metadata": {},
   "outputs": [],
   "source": [
    "#If you use WITH then you do not need to close the file but it closes itself\n",
    "with open(\"withFile.txt\",\"w\") as wfile:\n",
    "    for value in range(10):\n",
    "        value +=3\n",
    "        wfile.write(str(value) + \"\\n\")"
   ]
  },
  {
   "cell_type": "code",
   "execution_count": 11,
   "id": "bronze-master",
   "metadata": {},
   "outputs": [],
   "source": [
    "newfile = open(\"withfile2.txt\", \"w\")\n",
    "for val in range(10):\n",
    "    val +=2\n",
    "    newfile.write(str(val) + \"\\n\")\n",
    "newfile.close()"
   ]
  },
  {
   "cell_type": "code",
   "execution_count": null,
   "id": "superior-establishment",
   "metadata": {},
   "outputs": [],
   "source": [
    "10.7. Recipe for Reading and Processing a File\n",
    "Here’s a foolproof recipe for processing the contents of a text file. If you’ve fully digested the previous sections, you’ll understand that there are other options as well. Some of those options are preferable for some situations, and some are preferred by python programmers for efficiency reasons. In this course, though, you can always succeed by following this recipe.\n",
    "\n",
    "#1. Open the file using with and open.\n",
    "\n",
    "#2. Use .readlines() to get a list of the lines of text in the file.\n",
    "\n",
    "#3. Use a for loop to iterate through the strings in the list, each being one line from the file. On each iteration, process that line of text\n",
    "\n",
    "#4. When you are done extracting data from the file, continue writing your code outside of the indentation. Using with will automatically close the file once the program exits the with block.\n",
    "\n",
    "fname = \"yourfile.txt\"\n",
    "with open(fname, 'r') as fileref:         # step 1\n",
    "    lines = fileref.readlines()           # step 2\n",
    "    for lin in lines:                     # step 3\n",
    "        #some code that references the variable lin\n",
    "#some other code not relying on fileref   # step 4\n",
    "However, this will not be good to use when you are working with large data. Imagine working with a datafile that has 1000 rows of data. It would take a long time to read in all the data and then if you had to iterate over it, even more time would be necessary. This would be a case where programmers prefer another option for efficiency reasons.\n",
    "\n",
    "This option involves iterating over the file itself while still iterating over each line in the file:\n",
    "\n",
    "fname = \"yourfile.txt\"\n",
    "with open(fname, 'r') as fileref:         # step 1\n",
    "    for lin in fileref:                   # step 2\n",
    "        ## some code that reference the variable lin\n",
    "#some other code not relying on fileref   # step 3"
   ]
  }
 ],
 "metadata": {
  "kernelspec": {
   "display_name": "Python 3",
   "language": "python",
   "name": "python3"
  },
  "language_info": {
   "codemirror_mode": {
    "name": "ipython",
    "version": 3
   },
   "file_extension": ".py",
   "mimetype": "text/x-python",
   "name": "python",
   "nbconvert_exporter": "python",
   "pygments_lexer": "ipython3",
   "version": "3.9.2"
  }
 },
 "nbformat": 4,
 "nbformat_minor": 5
}
