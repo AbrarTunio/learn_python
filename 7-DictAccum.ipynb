{
 "cells": [
  {
   "cell_type": "markdown",
   "id": "bearing-fundamentals",
   "metadata": {},
   "source": [
    "Old way of counting letters in any file"
   ]
  },
  {
   "cell_type": "code",
   "execution_count": 1,
   "id": "lasting-mathematics",
   "metadata": {},
   "outputs": [],
   "source": [
    "fh = open(\"abrar.txt\",\"r\")\n",
    "reading = fh.read()\n",
    "#print(reading)\n",
    "#################################\n",
    "#initialize counting variable\n",
    "t_count = 0\n",
    "#################################\n",
    "for letter in reading:\n",
    "    if letter == \"t\":\n",
    "        t_count = t_count + 1\n",
    "print(t_count)  "
   ]
  },
  {
   "cell_type": "code",
   "execution_count": 6,
   "id": "further-notification",
   "metadata": {},
   "outputs": [
    {
     "name": "stdout",
     "output_type": "stream",
     "text": [
      "4 7\n"
     ]
    }
   ],
   "source": [
    "fh = open(\"abrar.txt\",\"r\")\n",
    "reading = fh.read()\n",
    "#print(reading)\n",
    "#################################\n",
    "#initialize counting variable\n",
    "t_count = 0\n",
    "s_count = 0\n",
    "#################################\n",
    "for letter in reading:\n",
    "    if letter == \"t\":\n",
    "        t_count = t_count + 1\n",
    "    elif letter == \"s\":\n",
    "        s_count = s_count + 1\n",
    "print(t_count,s_count)  "
   ]
  },
  {
   "cell_type": "markdown",
   "id": "roman-bulgaria",
   "metadata": {},
   "source": [
    "NOW DOING IT WITH DICTIONARY!"
   ]
  },
  {
   "cell_type": "code",
   "execution_count": 7,
   "id": "pursuant-strengthening",
   "metadata": {},
   "outputs": [
    {
     "name": "stdout",
     "output_type": "stream",
     "text": [
      "4 7\n"
     ]
    }
   ],
   "source": [
    "fh = open(\"abrar.txt\",\"r\")\n",
    "reading = fh.read()\n",
    "#################################\n",
    "#initialize counting dictionary\n",
    "my_dict = {}\n",
    "my_dict[\"t\"] = 0\n",
    "my_dict[\"s\"] = 0\n",
    "#################################\n",
    "for letter in reading:\n",
    "    if letter == \"t\":\n",
    "        my_dict[\"t\"] += 1\n",
    "    elif letter == \"s\":\n",
    "        my_dict[\"s\"] += 1 \n",
    "print(t_count,s_count)  "
   ]
  },
  {
   "cell_type": "markdown",
   "id": "young-introduction",
   "metadata": {},
   "source": [
    "DOING THE SAME THING IN A MUCH MORE BETTER WAY"
   ]
  },
  {
   "cell_type": "code",
   "execution_count": 9,
   "id": "agricultural-conspiracy",
   "metadata": {},
   "outputs": [
    {
     "name": "stdout",
     "output_type": "stream",
     "text": [
      "4 7\n"
     ]
    }
   ],
   "source": [
    "fh = open(\"abrar.txt\",\"r\")\n",
    "reading = fh.read()\n",
    "#################################\n",
    "#initialize counting dictionary\n",
    "my_dict = {}\n",
    "my_dict[\"t\"] = 0\n",
    "my_dict[\"s\"] = 0\n",
    "#################################\n",
    "for letter in reading:\n",
    "    if letter == \"t\":\n",
    "        my_dict[letter] += 1   #put the iterating variable here! that is \"letter\" instead of s or t\n",
    "    elif letter == \"s\":\n",
    "        my_dict[letter] += 1 \n",
    "print(t_count,s_count)        # and the answer is same!"
   ]
  },
  {
   "cell_type": "markdown",
   "id": "agricultural-tennis",
   "metadata": {},
   "source": [
    "DOING IT EVEN THE MORE BETTER WAY AND COUNTING EVERY SINGLE CHARACTER IN DICTIONARY\n"
   ]
  },
  {
   "cell_type": "code",
   "execution_count": 13,
   "id": "nominated-mobile",
   "metadata": {},
   "outputs": [
    {
     "name": "stdout",
     "output_type": "stream",
     "text": [
      "counting letter s 7\n",
      "counting letter h 4\n",
      "counting letter t 4\n",
      "counting letter a 9\n"
     ]
    }
   ],
   "source": [
    "fh = open(\"abrar.txt\",\"r\")\n",
    "reading = fh.read()\n",
    "#################################\n",
    "#initialize counting dictionary\n",
    "my_dict = {}\n",
    "#################################\n",
    "for letter in reading:\n",
    "    if letter not in my_dict:\n",
    "        my_dict[letter] = 0   #initialize the new letter with 0\n",
    "    my_dict[letter] += 1 \n",
    "print(\"counting letter s\", my_dict[\"s\"])# and the answer is same!\n",
    "print(\"counting letter h\", my_dict[\"h\"])\n",
    "print(\"counting letter t\", my_dict[\"t\"])\n",
    "print(\"counting letter a\", my_dict[\"a\"])"
   ]
  },
  {
   "cell_type": "code",
   "execution_count": null,
   "id": "engaged-shareware",
   "metadata": {},
   "outputs": [],
   "source": []
  }
 ],
 "metadata": {
  "kernelspec": {
   "display_name": "Python 3",
   "language": "python",
   "name": "python3"
  },
  "language_info": {
   "codemirror_mode": {
    "name": "ipython",
    "version": 3
   },
   "file_extension": ".py",
   "mimetype": "text/x-python",
   "name": "python",
   "nbconvert_exporter": "python",
   "pygments_lexer": "ipython3",
   "version": "3.9.2"
  }
 },
 "nbformat": 4,
 "nbformat_minor": 5
}
