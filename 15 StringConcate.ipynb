{
 "cells": [
  {
   "cell_type": "markdown",
   "id": "frank-tradition",
   "metadata": {},
   "source": [
    "3 Methods of String Concatenation"
   ]
  },
  {
   "cell_type": "code",
   "execution_count": 3,
   "id": "plastic-dominican",
   "metadata": {},
   "outputs": [
    {
     "name": "stdout",
     "output_type": "stream",
     "text": [
      "Welcome to Python Time! Python Lovers.\n",
      "Welcome to Python Time! Python Lovers.\n",
      "Welcome to Python Time! Python Lovers.\n"
     ]
    }
   ],
   "source": [
    "str2 = \"Python Lovers.\"\n",
    "\n",
    "print(\"Welcome to Python Time! \" + str2)\n",
    "print(\"Welcome to Python Time! {}\".format(str2))\n",
    "print(f\"Welcome to Python Time! {str2}\")"
   ]
  },
  {
   "cell_type": "code",
   "execution_count": null,
   "id": "preceding-intent",
   "metadata": {},
   "outputs": [],
   "source": []
  }
 ],
 "metadata": {
  "kernelspec": {
   "display_name": "Python 3",
   "language": "python",
   "name": "python3"
  },
  "language_info": {
   "codemirror_mode": {
    "name": "ipython",
    "version": 3
   },
   "file_extension": ".py",
   "mimetype": "text/x-python",
   "name": "python",
   "nbconvert_exporter": "python",
   "pygments_lexer": "ipython3",
   "version": "3.9.2"
  }
 },
 "nbformat": 4,
 "nbformat_minor": 5
}
