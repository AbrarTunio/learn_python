{
 "cells": [
  {
   "cell_type": "code",
   "execution_count": 1,
   "id": "vanilla-cotton",
   "metadata": {},
   "outputs": [],
   "source": [
    "#Mutability"
   ]
  },
  {
   "cell_type": "code",
   "execution_count": 2,
   "id": "parallel-holocaust",
   "metadata": {},
   "outputs": [],
   "source": [
    "friends = [\"Naveed\",\"Salman\",\"Iftikhar\",\"Moiz\",\"Ali\"]"
   ]
  },
  {
   "cell_type": "code",
   "execution_count": 3,
   "id": "casual-passing",
   "metadata": {},
   "outputs": [],
   "source": [
    "friends[0] = \"Ayaz\"\n",
    "friends[-1] = \"Fatima\""
   ]
  },
  {
   "cell_type": "code",
   "execution_count": 4,
   "id": "private-hammer",
   "metadata": {},
   "outputs": [
    {
     "name": "stdout",
     "output_type": "stream",
     "text": [
      "['Ayaz', 'Salman', 'Iftikhar', 'Moiz', 'Fatima']\n"
     ]
    }
   ],
   "source": [
    "print(friends)"
   ]
  },
  {
   "cell_type": "code",
   "execution_count": 5,
   "id": "irish-inventory",
   "metadata": {},
   "outputs": [],
   "source": [
    "#Chaning list by using indexing\n",
    "alist = [\"a\",\"b\",\"c\",\"o\",\"u\"]"
   ]
  },
  {
   "cell_type": "code",
   "execution_count": 6,
   "id": "female-musician",
   "metadata": {},
   "outputs": [],
   "source": [
    "alist[1:3] = [\"e\",\"i\"]"
   ]
  },
  {
   "cell_type": "code",
   "execution_count": 7,
   "id": "colored-monroe",
   "metadata": {},
   "outputs": [
    {
     "name": "stdout",
     "output_type": "stream",
     "text": [
      "['a', 'e', 'i', 'o', 'u']\n"
     ]
    }
   ],
   "source": [
    "print(alist)"
   ]
  },
  {
   "cell_type": "code",
   "execution_count": 8,
   "id": "contained-injection",
   "metadata": {},
   "outputs": [
    {
     "name": "stdout",
     "output_type": "stream",
     "text": [
      "['a', 'o', 'u']\n"
     ]
    }
   ],
   "source": [
    "#deleting items from the list\n",
    "alist[1:3] = []\n",
    "print(alist)"
   ]
  },
  {
   "cell_type": "markdown",
   "id": "dependent-thomson",
   "metadata": {},
   "source": [
    "Mutability in Strings"
   ]
  },
  {
   "cell_type": "code",
   "execution_count": 19,
   "id": "occasional-jacksonville",
   "metadata": {},
   "outputs": [
    {
     "name": "stdout",
     "output_type": "stream",
     "text": [
      "Asalam O Alekum, Friends\n",
      "Asalam O Alekum Again, Friends\n",
      "Hello, Enemies\n"
     ]
    }
   ],
   "source": [
    "greetings = \"Hello, Friends\"\n",
    "#greetings[0:5] = \"Asalam o Alekum\"   #This will generate error\n",
    "Newgreetings = \"Asalam O Alekum, \" + greetings[7:]\n",
    "Newgreetings2 = f\"Asalam O Alekum Again, {greetings[7:]}\"\n",
    "Newgreetings3 = \"{} Enemies\".format(greetings[:6])\n",
    "print(Newgreetings)\n",
    "print(Newgreetings2)\n",
    "print(Newgreetings3)"
   ]
  },
  {
   "cell_type": "code",
   "execution_count": 21,
   "id": "administrative-joshua",
   "metadata": {},
   "outputs": [
    {
     "name": "stdout",
     "output_type": "stream",
     "text": [
      "Many moons many stars shining in the sky\n"
     ]
    }
   ],
   "source": [
    "#Concatenate larger stings\n",
    "phrase1 = \"many moons\"\n",
    "phrase2 = phrase1 + \" many stars\"\n",
    "phrase3 = phrase2 + \" shining in the sky\"\n",
    "phrase_complete = \"M\" + phrase3[1:]\n",
    "print(phrase_complete)"
   ]
  },
  {
   "cell_type": "markdown",
   "id": "iraqi-concentration",
   "metadata": {},
   "source": [
    "MUTABILITY LIST VS STRING"
   ]
  },
  {
   "cell_type": "code",
   "execution_count": 56,
   "id": "joint-filling",
   "metadata": {
    "tags": []
   },
   "outputs": [
    {
     "name": "stdout",
     "output_type": "stream",
     "text": [
      "[1, 0, 3, 4]\n",
      "[1, 0, 3, 4]\n"
     ]
    }
   ],
   "source": [
    "x = [1,2,3,4]\n",
    "y = x         #If two list are referring to one then both will change! if one changes     \n",
    "y[1] = 0\n",
    "print(y)\n",
    "print(x)"
   ]
  },
  {
   "cell_type": "code",
   "execution_count": 57,
   "id": "treated-charter",
   "metadata": {},
   "outputs": [
    {
     "name": "stdout",
     "output_type": "stream",
     "text": [
      "[1, 0, 3, 4]\n",
      "[1, 0, 3, 4]\n",
      "[1, 0, 3, 4, 1, 0, 3, 4]\n",
      "[1, 0, 3, 4, 1, 0, 3, 4]\n"
     ]
    }
   ],
   "source": [
    "#using append method in list\n",
    "#y.append(55)\n",
    "print(x)\n",
    "print(y)\n",
    "y.count(4)   #How many times 55 appeared!\n",
    "y.extend(x)\n",
    "print(x)\n",
    "print(y)"
   ]
  },
  {
   "cell_type": "code",
   "execution_count": null,
   "id": "smaller-representative",
   "metadata": {},
   "outputs": [],
   "source": []
  },
  {
   "cell_type": "code",
   "execution_count": null,
   "id": "progressive-atlanta",
   "metadata": {},
   "outputs": [],
   "source": []
  }
 ],
 "metadata": {
  "kernelspec": {
   "display_name": "Python 3",
   "language": "python",
   "name": "python3"
  },
  "language_info": {
   "codemirror_mode": {
    "name": "ipython",
    "version": 3
   },
   "file_extension": ".py",
   "mimetype": "text/x-python",
   "name": "python",
   "nbconvert_exporter": "python",
   "pygments_lexer": "ipython3",
   "version": "3.9.2"
  }
 },
 "nbformat": 4,
 "nbformat_minor": 5
}
