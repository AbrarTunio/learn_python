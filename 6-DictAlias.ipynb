{
 "cells": [
  {
   "cell_type": "code",
   "execution_count": 2,
   "id": "practical-bishop",
   "metadata": {},
   "outputs": [
    {
     "name": "stdout",
     "output_type": "stream",
     "text": [
      "True\n"
     ]
    }
   ],
   "source": [
    "brothers = {\"abrar\":\"intelligent\", \"israr\":\"handsome\", \"iqrar\" : \"cute\"}\n",
    "friends = brothers\n",
    "\n",
    "print(brothers is friends)"
   ]
  },
  {
   "cell_type": "code",
   "execution_count": 3,
   "id": "entitled-creek",
   "metadata": {},
   "outputs": [
    {
     "name": "stdout",
     "output_type": "stream",
     "text": [
      "CEO\n"
     ]
    }
   ],
   "source": [
    "friends[\"israr\"] = \"CEO\"     #we only changed the friends\n",
    "print(brothers[\"israr\"])     #but due to aliasing brothers are also changed"
   ]
  },
  {
   "cell_type": "code",
   "execution_count": 4,
   "id": "oriented-tutorial",
   "metadata": {},
   "outputs": [
    {
     "name": "stdout",
     "output_type": "stream",
     "text": [
      "{'abrar': 'intelligent', 'israr': 'CEO', 'iqrar': 'cute'}\n"
     ]
    }
   ],
   "source": [
    "print(brothers)"
   ]
  },
  {
   "cell_type": "markdown",
   "id": "thrown-employment",
   "metadata": {},
   "source": [
    "ANOTHER EXAMPLE "
   ]
  },
  {
   "cell_type": "code",
   "execution_count": 5,
   "id": "lesbian-prisoner",
   "metadata": {},
   "outputs": [
    {
     "name": "stdout",
     "output_type": "stream",
     "text": [
      "True\n",
      "left\n"
     ]
    }
   ],
   "source": [
    "opposites = {'up': 'down', 'right': 'wrong', 'true': 'false'}\n",
    "alias = opposites\n",
    "\n",
    "print(alias is opposites)\n",
    "\n",
    "alias['right'] = 'left'\n",
    "print(opposites['right'])"
   ]
  },
  {
   "cell_type": "code",
   "execution_count": 6,
   "id": "liquid-horror",
   "metadata": {},
   "outputs": [
    {
     "name": "stdout",
     "output_type": "stream",
     "text": [
      "999\n"
     ]
    }
   ],
   "source": [
    "#dictionaries-4-1: What is printed by the following statements?\n",
    "\n",
    "mydict = {\"cat\":12, \"dog\":6, \"elephant\":23, \"bear\":20}\n",
    "yourdict = mydict\n",
    "yourdict[\"elephant\"] = 999\n",
    "print(mydict[\"elephant\"])"
   ]
  },
  {
   "cell_type": "code",
   "execution_count": null,
   "id": "dominant-saying",
   "metadata": {},
   "outputs": [],
   "source": []
  }
 ],
 "metadata": {
  "kernelspec": {
   "display_name": "Python 3",
   "language": "python",
   "name": "python3"
  },
  "language_info": {
   "codemirror_mode": {
    "name": "ipython",
    "version": 3
   },
   "file_extension": ".py",
   "mimetype": "text/x-python",
   "name": "python",
   "nbconvert_exporter": "python",
   "pygments_lexer": "ipython3",
   "version": "3.9.2"
  }
 },
 "nbformat": 4,
 "nbformat_minor": 5
}
