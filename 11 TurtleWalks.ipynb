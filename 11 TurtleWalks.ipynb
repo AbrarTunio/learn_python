{
 "cells": [
  {
   "cell_type": "markdown",
   "id": "modified-travel",
   "metadata": {},
   "source": [
    "Create a simple Turtle"
   ]
  },
  {
   "cell_type": "code",
   "execution_count": 1,
   "id": "stopped-authority",
   "metadata": {},
   "outputs": [],
   "source": [
    "import turtle"
   ]
  },
  {
   "cell_type": "code",
   "execution_count": 2,
   "id": "hollywood-quilt",
   "metadata": {},
   "outputs": [],
   "source": [
    "tv = turtle.Screen()"
   ]
  },
  {
   "cell_type": "code",
   "execution_count": 3,
   "id": "arbitrary-granny",
   "metadata": {},
   "outputs": [],
   "source": [
    "student1 = turtle.Turtle()"
   ]
  },
  {
   "cell_type": "code",
   "execution_count": 4,
   "id": "rental-oliver",
   "metadata": {},
   "outputs": [],
   "source": [
    "student1.shape(\"turtle\")"
   ]
  },
  {
   "cell_type": "code",
   "execution_count": 5,
   "id": "diverse-edward",
   "metadata": {},
   "outputs": [],
   "source": [
    "student1.forward(100) #move forward\n",
    "student1.left(90)     #change angle to 90 degrees\n",
    "student1.forward(100)\n",
    "student1.left(90)\n",
    "student1.forward(100)\n",
    "student1.left(90)\n",
    "student1.forward(100)"
   ]
  },
  {
   "cell_type": "code",
   "execution_count": null,
   "id": "statistical-template",
   "metadata": {},
   "outputs": [],
   "source": []
  },
  {
   "cell_type": "code",
   "execution_count": null,
   "id": "chinese-loading",
   "metadata": {},
   "outputs": [],
   "source": []
  },
  {
   "cell_type": "code",
   "execution_count": null,
   "id": "alert-emphasis",
   "metadata": {},
   "outputs": [],
   "source": []
  },
  {
   "cell_type": "code",
   "execution_count": null,
   "id": "usual-lithuania",
   "metadata": {},
   "outputs": [],
   "source": []
  },
  {
   "cell_type": "code",
   "execution_count": null,
   "id": "continental-adobe",
   "metadata": {},
   "outputs": [],
   "source": []
  },
  {
   "cell_type": "code",
   "execution_count": null,
   "id": "drawn-voice",
   "metadata": {},
   "outputs": [],
   "source": []
  },
  {
   "cell_type": "code",
   "execution_count": null,
   "id": "opponent-retrieval",
   "metadata": {},
   "outputs": [],
   "source": []
  }
 ],
 "metadata": {
  "kernelspec": {
   "display_name": "Python 3",
   "language": "python",
   "name": "python3"
  },
  "language_info": {
   "codemirror_mode": {
    "name": "ipython",
    "version": 3
   },
   "file_extension": ".py",
   "mimetype": "text/x-python",
   "name": "python",
   "nbconvert_exporter": "python",
   "pygments_lexer": "ipython3",
   "version": "3.9.6"
  }
 },
 "nbformat": 4,
 "nbformat_minor": 5
}
