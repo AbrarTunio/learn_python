{
 "cells": [
  {
   "cell_type": "code",
   "execution_count": null,
   "id": "indirect-botswana",
   "metadata": {},
   "outputs": [],
   "source": [
    "# When you become ALIAS you become JURWA"
   ]
  },
  {
   "cell_type": "code",
   "execution_count": 1,
   "id": "contrary-commerce",
   "metadata": {},
   "outputs": [],
   "source": [
    "brothers = [\"Israr\", \"Abrar\", \"Iqrar\"] \n",
    "friends = brothers # Now we have bond them together!"
   ]
  },
  {
   "cell_type": "code",
   "execution_count": 3,
   "id": "cordless-cincinnati",
   "metadata": {},
   "outputs": [],
   "source": [
    "friends[2] = \"Doctor\""
   ]
  },
  {
   "cell_type": "code",
   "execution_count": 4,
   "id": "twelve-conjunction",
   "metadata": {},
   "outputs": [
    {
     "name": "stdout",
     "output_type": "stream",
     "text": [
      "['Israr', 'Abrar', 'Doctor']\n"
     ]
    }
   ],
   "source": [
    "print(brothers)"
   ]
  },
  {
   "cell_type": "code",
   "execution_count": 8,
   "id": "retired-potential",
   "metadata": {},
   "outputs": [],
   "source": [
    "#seqmut-4-1: What is the value of y after the following code has been evaluated:\n",
    "\n",
    "w = ['Jamboree', 'get-together', 'party']\n",
    "y = ['celebration']\n",
    "y = w\n",
    "#A. ['Jamboree', 'get-together', 'party']\n",
    "#B. ['celebration']\n",
    "#C. ['celebration', 'Jamboree', 'get-together', 'party']\n",
    "#D. ['Jamboree', 'get-together', 'party', 'celebration']"
   ]
  },
  {
   "cell_type": "code",
   "execution_count": 6,
   "id": "terminal-model",
   "metadata": {},
   "outputs": [
    {
     "name": "stdout",
     "output_type": "stream",
     "text": [
      "Object `statements` not found.\n",
      "[4, 2, 8, 999, 5]\n"
     ]
    }
   ],
   "source": [
    "#seqmut-4-2: What is printed by the following statements?\n",
    "\n",
    "alist = [4,2,8,6,5]\n",
    "blist = alist\n",
    "blist[3] = 999\n",
    "print(alist)"
   ]
  },
  {
   "cell_type": "code",
   "execution_count": null,
   "id": "stainless-marijuana",
   "metadata": {},
   "outputs": [],
   "source": []
  }
 ],
 "metadata": {
  "kernelspec": {
   "display_name": "Python 3",
   "language": "python",
   "name": "python3"
  },
  "language_info": {
   "codemirror_mode": {
    "name": "ipython",
    "version": 3
   },
   "file_extension": ".py",
   "mimetype": "text/x-python",
   "name": "python",
   "nbconvert_exporter": "python",
   "pygments_lexer": "ipython3",
   "version": "3.9.2"
  }
 },
 "nbformat": 4,
 "nbformat_minor": 5
}
