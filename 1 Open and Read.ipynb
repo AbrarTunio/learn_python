{
 "cells": [
  {
   "cell_type": "code",
   "execution_count": 60,
   "id": "unlimited-minority",
   "metadata": {},
   "outputs": [
    {
     "name": "stdout",
     "output_type": "stream",
     "text": [
      "<_io.TextIOWrapper name='test.txt' mode='r' encoding='cp1252'>\n"
     ]
    }
   ],
   "source": [
    "filehandle = open(\"test.txt\",\"r\") #if you put \"w' here old data will be lost\n",
    "print(filehandle)\n",
    "#filehandle.close()"
   ]
  },
  {
   "cell_type": "code",
   "execution_count": 67,
   "id": "certain-adelaide",
   "metadata": {},
   "outputs": [
    {
     "name": "stdout",
     "output_type": "stream",
     "text": [
      "<class 'str'>\n",
      "\n"
     ]
    }
   ],
   "source": [
    "contents = filehandle.read() #contents is string\n",
    "print(type(contents))\n",
    "#read() the file line by line\n",
    "#comment out above line if you want to use readlines below.\n",
    "print(contents)"
   ]
  },
  {
   "cell_type": "code",
   "execution_count": 62,
   "id": "agricultural-ridge",
   "metadata": {},
   "outputs": [],
   "source": [
    "#print only specific contents"
   ]
  },
  {
   "cell_type": "code",
   "execution_count": 63,
   "id": "healthy-catch",
   "metadata": {},
   "outputs": [],
   "source": [
    "#print(contents[:21])"
   ]
  },
  {
   "cell_type": "code",
   "execution_count": 68,
   "id": "classical-louisiana",
   "metadata": {},
   "outputs": [
    {
     "name": "stdout",
     "output_type": "stream",
     "text": [
      "<class 'list'>\n",
      "['This is Abrar Hussain\\n', 'And I want to earn from Data Scrapping\\n', 'Oh God Please! Help me in earning more...\\n']\n",
      "['This is Abrar Hussain\\n']\n"
     ]
    }
   ],
   "source": [
    "filehandle = open(\"test.txt\",\"r\") #if you put \"w' here old data will be lost\n",
    "lines = filehandle.readlines()\n",
    "print(type(lines))\n",
    "print(lines)     #print all lines but in one list\n",
    "print(lines[:1]) #print only first line"
   ]
  },
  {
   "cell_type": "code",
   "execution_count": 69,
   "id": "empirical-product",
   "metadata": {},
   "outputs": [
    {
     "name": "stdout",
     "output_type": "stream",
     "text": [
      "This is Abrar Hussain\n",
      "\n",
      "And I want to earn from Data Scrapping\n",
      "\n",
      "Oh God Please! Help me in earning more...\n",
      "\n"
     ]
    }
   ],
   "source": [
    "filehandle = open(\"test.txt\",\"r\") #if you put \"w' here old data will be lost\n",
    "lines = filehandle.readlines()\n",
    "for line in lines:\n",
    "    print(line)\n",
    "    #you will see that the lines are seperated from each other with extra new line"
   ]
  },
  {
   "cell_type": "code",
   "execution_count": 70,
   "id": "sudden-count",
   "metadata": {},
   "outputs": [
    {
     "name": "stdout",
     "output_type": "stream",
     "text": [
      "This is Abrar Hussain\n",
      "And I want to earn from Data Scrapping\n",
      "Oh God Please! Help me in earning more...\n"
     ]
    }
   ],
   "source": [
    "filehandle = open(\"test.txt\",\"r\") \n",
    "lines = filehandle.readlines()\n",
    "for line in lines:\n",
    "    print(line.strip()) #strip is the key function here"
   ]
  },
  {
   "cell_type": "code",
   "execution_count": 72,
   "id": "toxic-disposition",
   "metadata": {},
   "outputs": [
    {
     "name": "stdout",
     "output_type": "stream",
     "text": [
      "This is Abrar Hussain\n",
      "And I want to earn from Data Scrapping\n",
      "Oh God Please! Help me in earning more...\n"
     ]
    }
   ],
   "source": [
    "filehandle = open(\"test.txt\",\"r\") #if you put \"w' here old data will be lost\n",
    "#WHILE YOU ITERATE THERE IS NO NEED TO use readlines() and yet get the same output\n",
    "#lines = filehandle.readlines()\n",
    "for line in lines:\n",
    "    print(line.strip())"
   ]
  },
  {
   "cell_type": "code",
   "execution_count": 73,
   "id": "incident-signal",
   "metadata": {},
   "outputs": [
    {
     "name": "stdout",
     "output_type": "stream",
     "text": [
      "3\n"
     ]
    }
   ],
   "source": [
    "#readlines() becomes useful when you want to know the number of lines in a file\n",
    "filehandle = open(\"test.txt\",\"r\") \n",
    "lines = filehandle.readlines()\n",
    "print(len(lines))"
   ]
  },
  {
   "cell_type": "code",
   "execution_count": 74,
   "id": "temporal-rwanda",
   "metadata": {},
   "outputs": [
    {
     "name": "stdout",
     "output_type": "stream",
     "text": [
      "103\n"
     ]
    }
   ],
   "source": [
    "#read() becomes useful when you want to know the number of characters in a file\n",
    "filehandle = open(\"test.txt\",\"r\") \n",
    "lines = filehandle.read()\n",
    "print(len(lines))"
   ]
  },
  {
   "cell_type": "code",
   "execution_count": null,
   "id": "human-certificate",
   "metadata": {},
   "outputs": [],
   "source": []
  }
 ],
 "metadata": {
  "kernelspec": {
   "display_name": "Python 3",
   "language": "python",
   "name": "python3"
  },
  "language_info": {
   "codemirror_mode": {
    "name": "ipython",
    "version": 3
   },
   "file_extension": ".py",
   "mimetype": "text/x-python",
   "name": "python",
   "nbconvert_exporter": "python",
   "pygments_lexer": "ipython3",
   "version": "3.9.2"
  }
 },
 "nbformat": 4,
 "nbformat_minor": 5
}
