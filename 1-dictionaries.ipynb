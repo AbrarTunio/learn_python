{
 "cells": [
  {
   "cell_type": "code",
   "execution_count": 1,
   "id": "recovered-masters",
   "metadata": {},
   "outputs": [],
   "source": [
    "#create an empty dictionary\n",
    "my_dict = {}"
   ]
  },
  {
   "cell_type": "code",
   "execution_count": 2,
   "id": "latter-clone",
   "metadata": {},
   "outputs": [],
   "source": [
    "#put some values in dictionary\n",
    "my_dict[\"one\"] = \"ek\"\n",
    "my_dict[\"two\"] = \"do\"\n",
    "my_dict[\"three\"] = \"teen\""
   ]
  },
  {
   "cell_type": "code",
   "execution_count": 4,
   "id": "purple-valuable",
   "metadata": {},
   "outputs": [
    {
     "name": "stdout",
     "output_type": "stream",
     "text": [
      "{'one': 'ek', 'two': 'do', 'three': 'teen'}\n"
     ]
    }
   ],
   "source": [
    "#now print the dict to see what is in it!\n",
    "print(my_dict)\n",
    "#it will show key:value pairs!"
   ]
  },
  {
   "cell_type": "code",
   "execution_count": 5,
   "id": "funny-artist",
   "metadata": {},
   "outputs": [
    {
     "name": "stdout",
     "output_type": "stream",
     "text": [
      "teen\n"
     ]
    }
   ],
   "source": [
    "#if i want to see value of specific key!\n",
    "value = my_dict[\"three\"]\n",
    "print(value)"
   ]
  },
  {
   "cell_type": "code",
   "execution_count": null,
   "id": "unsigned-relief",
   "metadata": {},
   "outputs": [],
   "source": []
  }
 ],
 "metadata": {
  "kernelspec": {
   "display_name": "Python 3",
   "language": "python",
   "name": "python3"
  },
  "language_info": {
   "codemirror_mode": {
    "name": "ipython",
    "version": 3
   },
   "file_extension": ".py",
   "mimetype": "text/x-python",
   "name": "python",
   "nbconvert_exporter": "python",
   "pygments_lexer": "ipython3",
   "version": "3.9.2"
  }
 },
 "nbformat": 4,
 "nbformat_minor": 5
}
