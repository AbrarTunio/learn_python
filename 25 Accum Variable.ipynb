{
 "cells": [
  {
   "cell_type": "code",
   "execution_count": null,
   "id": "naval-technology",
   "metadata": {},
   "outputs": [],
   "source": [
    "#sum and count variable"
   ]
  },
  {
   "cell_type": "code",
   "execution_count": 35,
   "id": "prompt-technical",
   "metadata": {},
   "outputs": [
    {
     "name": "stdout",
     "output_type": "stream",
     "text": [
      "sum ------count\n",
      "1   ------1\n",
      "3   ------2\n",
      "6   ------3\n",
      "10   ------4\n",
      "15   ------5\n",
      "21   ------6\n",
      "28   ------7\n",
      "36   ------8\n",
      "45   ------9\n"
     ]
    }
   ],
   "source": [
    "#nums = [1,2,3,4,5,6,7,8,9]\n",
    "nums = range(1,10)\n",
    "family = [\"Father\",\"Mother\",\"Sister1\",\"Brother1\",\"Brother2\",\"Brother3\",\"Sister2\",\"Sister3\"]\n",
    "accum = 0\n",
    "count = 0\n",
    "print(\"sum ------count\")\n",
    "for iterating in nums: #replace it with family/nums for above list\n",
    "    accum = accum + iterating\n",
    "    count = count + 1\n",
    "    print(f\"{accum}   ------{count}\")\n",
    "#print(f\"You are {count} family members.\")"
   ]
  },
  {
   "cell_type": "markdown",
   "id": "weird-israel",
   "metadata": {},
   "source": [
    "Range Function in Details"
   ]
  },
  {
   "cell_type": "code",
   "execution_count": 36,
   "id": "crazy-hospital",
   "metadata": {},
   "outputs": [
    {
     "name": "stdout",
     "output_type": "stream",
     "text": [
      "start= 0\n",
      "start= 1\n",
      "start= 2\n",
      "start= 3\n",
      "start= 4\n",
      "second= 0\n",
      "second= 1\n",
      "second= 2\n",
      "second= 3\n",
      "second= 4\n",
      "range(0, 5)\n",
      "[0, 1, 2, 3, 4]\n",
      "[0, 1, 2, 3, 4]\n",
      "[1, 2, 3, 4]\n"
     ]
    }
   ],
   "source": [
    "for i in range(5):\n",
    "    print(\"start=\",i)\n",
    "for i in range(0,5):\n",
    "    print(\"second=\", i)\n",
    "print( range(5) )\n",
    "print(list(range(5)))\n",
    "print(list(range(0,5)))\n",
    "print( list( range(1,5)))"
   ]
  },
  {
   "cell_type": "code",
   "execution_count": null,
   "id": "working-married",
   "metadata": {},
   "outputs": [],
   "source": [
    "iter-6-1: Consider the following code:\n",
    "\n",
    "nums = [1, 2, 3, 4, 5, 6, 7, 8, 9, 10]\n",
    "for w in nums:\n",
    "   accum = 0\n",
    "   accum = accum + w\n",
    "print(accum)\n",
    "What happens if you put the initialization of accum inside the for loop as the first instruction in the loop?\n",
    "\n",
    "A. It will print out 10 instead of 55\n",
    "B. It will cause a run-time error\n",
    "C. It will print out 0 instead of 55\n",
    "\n",
    "✔️ The variable accum will be reset to 0 each time through the loop. Then it will add the current item. Only the last item will count."
   ]
  }
 ],
 "metadata": {
  "kernelspec": {
   "display_name": "Python 3",
   "language": "python",
   "name": "python3"
  },
  "language_info": {
   "codemirror_mode": {
    "name": "ipython",
    "version": 3
   },
   "file_extension": ".py",
   "mimetype": "text/x-python",
   "name": "python",
   "nbconvert_exporter": "python",
   "pygments_lexer": "ipython3",
   "version": "3.9.2"
  }
 },
 "nbformat": 4,
 "nbformat_minor": 5
}
