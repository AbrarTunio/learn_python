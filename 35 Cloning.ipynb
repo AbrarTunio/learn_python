{
 "cells": [
  {
   "cell_type": "code",
   "execution_count": 1,
   "id": "elementary-underwear",
   "metadata": {},
   "outputs": [],
   "source": [
    "#Cloning List\n",
    "# Unlike mutation and aliasing, in cloning changes in one list does not effect on cloned list"
   ]
  },
  {
   "cell_type": "code",
   "execution_count": 5,
   "id": "greek-insider",
   "metadata": {},
   "outputs": [
    {
     "name": "stdout",
     "output_type": "stream",
     "text": [
      "['abrar', 'israr', 'iqrar', 88, 22]\n",
      "['abrar', 'israr', 'iqrar', 88, 22]\n",
      "True\n",
      "False\n"
     ]
    }
   ],
   "source": [
    "names = [\"abrar\",\"israr\",\"iqrar\",88,22]\n",
    "friends = names[:]\n",
    "print(names)\n",
    "print(friends)\n",
    "print(names == friends)\n",
    "print(names is friends)"
   ]
  },
  {
   "cell_type": "code",
   "execution_count": 4,
   "id": "automated-leather",
   "metadata": {},
   "outputs": [
    {
     "name": "stdout",
     "output_type": "stream",
     "text": [
      "['abrar', 'israr', 'Yahoo', 88, 22]\n",
      "['abrar', 'israr', 'iqrar', 88, 22]\n"
     ]
    }
   ],
   "source": [
    "friends[2] = \"Yahoo\"\n",
    "print(friends)\n",
    "print(names)"
   ]
  },
  {
   "cell_type": "code",
   "execution_count": null,
   "id": "treated-packaging",
   "metadata": {},
   "outputs": [],
   "source": []
  }
 ],
 "metadata": {
  "kernelspec": {
   "display_name": "Python 3",
   "language": "python",
   "name": "python3"
  },
  "language_info": {
   "codemirror_mode": {
    "name": "ipython",
    "version": 3
   },
   "file_extension": ".py",
   "mimetype": "text/x-python",
   "name": "python",
   "nbconvert_exporter": "python",
   "pygments_lexer": "ipython3",
   "version": "3.9.2"
  }
 },
 "nbformat": 4,
 "nbformat_minor": 5
}
