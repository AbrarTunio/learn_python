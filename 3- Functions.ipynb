{
 "cells": [
  {
   "cell_type": "code",
   "execution_count": 1,
   "id": "empty-center",
   "metadata": {},
   "outputs": [],
   "source": [
    "#In this class we will learn about Functions"
   ]
  },
  {
   "cell_type": "code",
   "execution_count": 32,
   "id": "color-oxford",
   "metadata": {},
   "outputs": [
    {
     "name": "stdout",
     "output_type": "stream",
     "text": [
      "64\n"
     ]
    }
   ],
   "source": [
    "print(square(8)) \n",
    "#This may give you an error as square may NOT be a function already available in Python\n",
    "#let's make a function and then execute and learn how functions works!\n",
    "#But I will teach you how to create a function at later stage!"
   ]
  },
  {
   "cell_type": "code",
   "execution_count": 31,
   "id": "relative-dietary",
   "metadata": {},
   "outputs": [],
   "source": [
    "# Let's create square and subtraction functions\n",
    "def square(n): #square will take only one argument\n",
    "    return n*n\n",
    "\n",
    "def sub(a,b): #sub will take two arguments\n",
    "    return a-b"
   ]
  },
  {
   "cell_type": "code",
   "execution_count": 30,
   "id": "satellite-cheat",
   "metadata": {
    "scrolled": true
   },
   "outputs": [
    {
     "name": "stdout",
     "output_type": "stream",
     "text": [
      "4\n",
      "2\n",
      "-4\n",
      "20\n",
      "27\n"
     ]
    }
   ],
   "source": [
    "print(square(2)) \n",
    "print(sub(4,2))\n",
    "print(sub(5,9))\n",
    "print( square(3) + 11)\n",
    "print(sub( square(4+2) , square(2+1)))"
   ]
  },
  {
   "cell_type": "markdown",
   "id": "reduced-cancellation",
   "metadata": {},
   "source": [
    "Do remember functions are the objects in Python! We will learn about objects in advance classes for now understand it like a \n",
    "Cup or Table or Computer or Apple"
   ]
  },
  {
   "cell_type": "code",
   "execution_count": 34,
   "id": "atmospheric-nylon",
   "metadata": {
    "scrolled": true
   },
   "outputs": [
    {
     "name": "stdout",
     "output_type": "stream",
     "text": [
      "<class 'function'>\n",
      "<class 'function'>\n",
      "<function square at 0x00000261457EEEE0>\n",
      "<function sub at 0x00000261457EEB80>\n"
     ]
    }
   ],
   "source": [
    "#What do you think what should be the output?\n",
    "print( type(square) )\n",
    "print( type(sub) )\n",
    "print(square)\n",
    "print(sub)"
   ]
  },
  {
   "cell_type": "code",
   "execution_count": null,
   "id": "technological-vault",
   "metadata": {},
   "outputs": [],
   "source": []
  }
 ],
 "metadata": {
  "kernelspec": {
   "display_name": "Python 3",
   "language": "python",
   "name": "python3"
  },
  "language_info": {
   "codemirror_mode": {
    "name": "ipython",
    "version": 3
   },
   "file_extension": ".py",
   "mimetype": "text/x-python",
   "name": "python",
   "nbconvert_exporter": "python",
   "pygments_lexer": "ipython3",
   "version": "3.9.2"
  }
 },
 "nbformat": 4,
 "nbformat_minor": 5
}
