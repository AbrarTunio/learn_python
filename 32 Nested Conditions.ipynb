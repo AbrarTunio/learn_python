{
 "cells": [
  {
   "cell_type": "code",
   "execution_count": 1,
   "id": "composed-director",
   "metadata": {},
   "outputs": [],
   "source": [
    "#Nested Conditions"
   ]
  },
  {
   "cell_type": "code",
   "execution_count": 4,
   "id": "different-uganda",
   "metadata": {},
   "outputs": [
    {
     "name": "stdout",
     "output_type": "stream",
     "text": [
      "50 is greater than 10\n"
     ]
    }
   ],
   "source": [
    "x = 50\n",
    "y = 10\n",
    "\n",
    "if x > y:\n",
    "    print(x,\"is greater than\",y)\n",
    "else:\n",
    "    if x < y:\n",
    "        print(x,\"is less than\",y)\n",
    "    else:\n",
    "        print(\"Both are equal!\")"
   ]
  },
  {
   "cell_type": "code",
   "execution_count": 5,
   "id": "surgical-defensive",
   "metadata": {},
   "outputs": [],
   "source": [
    "#Chained Conditionals with elif"
   ]
  },
  {
   "cell_type": "code",
   "execution_count": 8,
   "id": "vanilla-launch",
   "metadata": {},
   "outputs": [
    {
     "name": "stdout",
     "output_type": "stream",
     "text": [
      "x is less than y\n"
     ]
    }
   ],
   "source": [
    "x = 2\n",
    "y = 10\n",
    "if x > y:\n",
    "    print(\"x is greater than y\")\n",
    "elif x < y:\n",
    "    print(\"x is less than y\")\n",
    "else:\n",
    "    print(\"x and y are equal\")"
   ]
  },
  {
   "cell_type": "markdown",
   "id": "further-blame",
   "metadata": {},
   "source": [
    "Check your understanding\n",
    "\n",
    "condition-7-1: What does the following code print?\n",
    "\n",
    "x = -10\n",
    "if x < 0:\n",
    "    print(\"The negative number \",  x, \" is not valid here.\")\n",
    "print(\"This is always printed\")\n",
    "a.\n",
    "This is always printed\n",
    "\n",
    "b.\n",
    "The negative number -10 is not valid here\n",
    "This is always printed\n",
    "\n",
    "c.\n",
    "The negative number -10 is not valid here\n",
    "A. Output a\n",
    "B. Output b\n",
    "C. Output c\n",
    "D. It will cause an error because every if must have an else clause."
   ]
  },
  {
   "cell_type": "markdown",
   "id": "urban-program",
   "metadata": {},
   "source": [
    "Check your understanding\n",
    "\n",
    "condition-8-1: Will the following code cause an error?\n",
    "\n",
    "x = -10\n",
    "if x < 0:\n",
    "    print(\"The negative number \",  x, \" is not valid here.\")\n",
    "else:\n",
    "    if x > 0:\n",
    "        print(x, \" is a positive number\")\n",
    "    else:\n",
    "        print(x,\" is 0\")\n",
    "A. No\n",
    "B. Yes\n",
    "\n",
    "✔️ This is a legal nested if-else statement. The inner if-else statement is contained completely within the body of the outer else-block."
   ]
  },
  {
   "cell_type": "code",
   "execution_count": 9,
   "id": "hourly-heritage",
   "metadata": {},
   "outputs": [
    {
     "ename": "SyntaxError",
     "evalue": "illegal target for annotation (<ipython-input-9-8c45a134a450>, line 1)",
     "output_type": "error",
     "traceback": [
      "\u001b[1;36m  File \u001b[1;32m\"<ipython-input-9-8c45a134a450>\"\u001b[1;36m, line \u001b[1;32m1\u001b[0m\n\u001b[1;33m    condition-9-2: What will the following code print if x = 3, y = 5, and z = 2?\u001b[0m\n\u001b[1;37m    ^\u001b[0m\n\u001b[1;31mSyntaxError\u001b[0m\u001b[1;31m:\u001b[0m illegal target for annotation\n"
     ]
    }
   ],
   "source": [
    "condition-9-2: What will the following code print if x = 3, y = 5, and z = 2?\n",
    "\n",
    "if x < y and x < z:\n",
    "    print(\"a\")\n",
    "elif y < x and y < z:\n",
    "    print(\"b\")\n",
    "else:\n",
    "    print(\"c\")\n",
    "A. a\n",
    "B. b\n",
    "C. c\n",
    "\n",
    "✔️ Since the first two Boolean expressions are false the else will be executed."
   ]
  },
  {
   "cell_type": "code",
   "execution_count": 10,
   "id": "blind-integration",
   "metadata": {},
   "outputs": [
    {
     "ename": "SyntaxError",
     "evalue": "illegal target for annotation (<ipython-input-10-b466fb407fc2>, line 1)",
     "output_type": "error",
     "traceback": [
      "\u001b[1;36m  File \u001b[1;32m\"<ipython-input-10-b466fb407fc2>\"\u001b[1;36m, line \u001b[1;32m1\u001b[0m\n\u001b[1;33m    condition-11-1: What is the best set of conditonal statements provided based on the following prompt? You want to keep track of all the words that have the letter ‘t’ and in a separate variable you want to keep track of all the words that have the letter ‘z’ in them.\u001b[0m\n\u001b[1;37m    ^\u001b[0m\n\u001b[1;31mSyntaxError\u001b[0m\u001b[1;31m:\u001b[0m illegal target for annotation\n"
     ]
    }
   ],
   "source": [
    "condition-11-1: What is the best set of conditonal statements provided based on the following prompt? You want to keep track of all the words that have the letter ‘t’ and in a separate variable you want to keep track of all the words that have the letter ‘z’ in them.\n",
    "\n",
    "A. If statement - Else statement\n",
    "B. If statement - Elif statement\n",
    "C. If statement - If statement\n",
    "D. If statement - Elif statemenet - Else statement\n",
    "\n",
    "✔️ Yes, two if statements will keep track of - and properly update - the two different accumulator variables."
   ]
  },
  {
   "cell_type": "code",
   "execution_count": 11,
   "id": "unique-friendly",
   "metadata": {},
   "outputs": [
    {
     "ename": "SyntaxError",
     "evalue": "illegal target for annotation (<ipython-input-11-5b2e534c8482>, line 1)",
     "output_type": "error",
     "traceback": [
      "\u001b[1;36m  File \u001b[1;32m\"<ipython-input-11-5b2e534c8482>\"\u001b[1;36m, line \u001b[1;32m1\u001b[0m\n\u001b[1;33m    condition-11-2: Select the most appropriate set of conditonal statements for the situation described:\u001b[0m\n\u001b[1;37m    ^\u001b[0m\n\u001b[1;31mSyntaxError\u001b[0m\u001b[1;31m:\u001b[0m illegal target for annotation\n"
     ]
    }
   ],
   "source": [
    "condition-11-2: Select the most appropriate set of conditonal statements for the situation described: \n",
    "        You want to keep track of all the words that contain both “t” and “z”.\n",
    "\n",
    "A. If statement - Elif statemenet - Else statement\n",
    "B. If statement - Else statement\n",
    "C. If statement - Nested If statement\n",
    "D. If statement\n",
    "E. If statement - Nested If statement - Else statement\n",
    "\n",
    "✔️ Yes, this is the most concise way of writing a conditional for that prompt."
   ]
  },
  {
   "cell_type": "code",
   "execution_count": null,
   "id": "baking-worship",
   "metadata": {},
   "outputs": [],
   "source": []
  }
 ],
 "metadata": {
  "kernelspec": {
   "display_name": "Python 3",
   "language": "python",
   "name": "python3"
  },
  "language_info": {
   "codemirror_mode": {
    "name": "ipython",
    "version": 3
   },
   "file_extension": ".py",
   "mimetype": "text/x-python",
   "name": "python",
   "nbconvert_exporter": "python",
   "pygments_lexer": "ipython3",
   "version": "3.9.2"
  }
 },
 "nbformat": 4,
 "nbformat_minor": 5
}
