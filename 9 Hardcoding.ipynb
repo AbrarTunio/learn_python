{
 "cells": [
  {
   "cell_type": "markdown",
   "id": "welcome-paraguay",
   "metadata": {},
   "source": [
    "Hard Coding"
   ]
  },
  {
   "cell_type": "code",
   "execution_count": 1,
   "id": "continuous-russian",
   "metadata": {},
   "outputs": [
    {
     "name": "stdout",
     "output_type": "stream",
     "text": [
      "15\n"
     ]
    }
   ],
   "source": [
    "value1 = 20\n",
    "value2 = 10\n",
    "\n",
    "avg = 15    #This is hard coding now if i change either value1 or value 2\n",
    "            #avg will alway remain 15 \n",
    "print(avg)"
   ]
  },
  {
   "cell_type": "markdown",
   "id": "swedish-lexington",
   "metadata": {},
   "source": [
    "How to resolve this bug?"
   ]
  },
  {
   "cell_type": "code",
   "execution_count": 2,
   "id": "moderate-netscape",
   "metadata": {},
   "outputs": [
    {
     "name": "stdout",
     "output_type": "stream",
     "text": [
      "15.0\n"
     ]
    }
   ],
   "source": [
    "#You can do it by refrencing\n",
    "avg = (value1 + value2) / 2   #now if you change value in [1] you will\n",
    "                              #NOT face a bug  \n",
    "print (avg)"
   ]
  },
  {
   "cell_type": "code",
   "execution_count": null,
   "id": "nearby-valuation",
   "metadata": {},
   "outputs": [],
   "source": []
  }
 ],
 "metadata": {
  "kernelspec": {
   "display_name": "Python 3",
   "language": "python",
   "name": "python3"
  },
  "language_info": {
   "codemirror_mode": {
    "name": "ipython",
    "version": 3
   },
   "file_extension": ".py",
   "mimetype": "text/x-python",
   "name": "python",
   "nbconvert_exporter": "python",
   "pygments_lexer": "ipython3",
   "version": "3.9.1"
  }
 },
 "nbformat": 4,
 "nbformat_minor": 5
}
