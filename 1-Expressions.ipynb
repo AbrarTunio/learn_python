{
 "cells": [
  {
   "cell_type": "code",
   "execution_count": 2,
   "id": "uniform-lincoln",
   "metadata": {},
   "outputs": [
    {
     "data": {
      "text/plain": [
       "'This is Abrar Hussain'"
      ]
     },
     "execution_count": 2,
     "metadata": {},
     "output_type": "execute_result"
    }
   ],
   "source": [
    "#Expressions are not executable untill and unless used under any commnad i.e. print\n",
    "\n",
    "#See for example:\n",
    "200 #will not be executed\n",
    "8.5 #will not be executed\n",
    "\"This is Abrar Hussain\" # Will not be executed\n",
    "\n",
    "#but following will be executed.\n",
    "\n",
    "print(200)\n",
    "print(8.5)\n",
    "print (\"This is your instructor!\")\n"
   ]
  },
  {
   "cell_type": "markdown",
   "id": "boxed-wiring",
   "metadata": {},
   "source": [
    "Now Lets see their DATA Types"
   ]
  },
  {
   "cell_type": "code",
   "execution_count": 3,
   "id": "flying-renewal",
   "metadata": {},
   "outputs": [],
   "source": [
    "#There are 4 data types in Python\n",
    "#1 --- String\n",
    "#2 --- Integer\n",
    "#3 --- Float\n",
    "#4 --- None\n",
    "#We will learn none type in next lectures"
   ]
  },
  {
   "cell_type": "code",
   "execution_count": 4,
   "id": "posted-vacuum",
   "metadata": {
    "scrolled": true
   },
   "outputs": [
    {
     "name": "stdout",
     "output_type": "stream",
     "text": [
      "<class 'int'>\n",
      "<class 'float'>\n",
      "<class 'str'>\n"
     ]
    }
   ],
   "source": [
    "print(type(200))\n",
    "print(type(8.5))\n",
    "print(type(\"This is your instructor! at TechTime\"))"
   ]
  },
  {
   "cell_type": "code",
   "execution_count": 7,
   "id": "unusual-trouble",
   "metadata": {
    "scrolled": true
   },
   "outputs": [
    {
     "name": "stdout",
     "output_type": "stream",
     "text": [
      "<class 'str'>\n"
     ]
    }
   ],
   "source": [
    "print(type(\"200\")) #Any thing inside quotes either single or double will be of type string!"
   ]
  },
  {
   "cell_type": "code",
   "execution_count": 11,
   "id": "occupied-bearing",
   "metadata": {},
   "outputs": [
    {
     "name": "stdout",
     "output_type": "stream",
     "text": [
      "Literal Expressions are the ones where expression and the value are same!\n",
      "Operators are used to combine multiple expressions!\n"
     ]
    }
   ],
   "source": [
    "#So above examples are of literal expressions\n",
    "print(\"Literal Expressions are the ones where expression and the value are same!\")\n",
    "#However\n",
    "print('Operators are used to combine multiple expressions!')"
   ]
  },
  {
   "cell_type": "code",
   "execution_count": null,
   "id": "boring-arena",
   "metadata": {},
   "outputs": [],
   "source": []
  }
 ],
 "metadata": {
  "kernelspec": {
   "display_name": "Python 3",
   "language": "python",
   "name": "python3"
  },
  "language_info": {
   "codemirror_mode": {
    "name": "ipython",
    "version": 3
   },
   "file_extension": ".py",
   "mimetype": "text/x-python",
   "name": "python",
   "nbconvert_exporter": "python",
   "pygments_lexer": "ipython3",
   "version": "3.9.2"
  }
 },
 "nbformat": 4,
 "nbformat_minor": 5
}
