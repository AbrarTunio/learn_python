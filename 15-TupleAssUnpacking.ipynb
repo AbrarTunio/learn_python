{
 "cells": [
  {
   "cell_type": "markdown",
   "id": "beneficial-there",
   "metadata": {},
   "source": [
    "**TUPLE ASSIGNMENT WITH UNPACKING***"
   ]
  },
  {
   "cell_type": "code",
   "execution_count": 7,
   "id": "strategic-management",
   "metadata": {},
   "outputs": [
    {
     "name": "stdout",
     "output_type": "stream",
     "text": [
      "9\n",
      "5\n"
     ]
    },
    {
     "ename": "TypeError",
     "evalue": "add() missing 1 required positional argument: 'b'",
     "output_type": "error",
     "traceback": [
      "\u001b[1;31m---------------------------------------------------------------------------\u001b[0m",
      "\u001b[1;31mTypeError\u001b[0m                                 Traceback (most recent call last)",
      "\u001b[1;32m<ipython-input-7-eb445388c6a5>\u001b[0m in \u001b[0;36m<module>\u001b[1;34m\u001b[0m\n\u001b[0;32m     10\u001b[0m \u001b[0mprint\u001b[0m\u001b[1;33m(\u001b[0m\u001b[0mhere2\u001b[0m\u001b[1;33m)\u001b[0m\u001b[1;33m\u001b[0m\u001b[1;33m\u001b[0m\u001b[0m\n\u001b[0;32m     11\u001b[0m \u001b[1;31m#***************\u001b[0m\u001b[1;33m\u001b[0m\u001b[1;33m\u001b[0m\u001b[1;33m\u001b[0m\u001b[0m\n\u001b[1;32m---> 12\u001b[1;33m \u001b[0mhere3\u001b[0m \u001b[1;33m=\u001b[0m \u001b[0madd\u001b[0m \u001b[1;33m(\u001b[0m\u001b[0mz\u001b[0m\u001b[1;33m)\u001b[0m \u001b[1;31m#This will give us an error as z is taken as only one argument\u001b[0m\u001b[1;33m\u001b[0m\u001b[1;33m\u001b[0m\u001b[0m\n\u001b[0m",
      "\u001b[1;31mTypeError\u001b[0m: add() missing 1 required positional argument: 'b'"
     ]
    }
   ],
   "source": [
    "def add (a , b):\n",
    "    total = a + b\n",
    "    return total\n",
    "\n",
    "here = add(4,5)\n",
    "print(here)\n",
    "#****************\n",
    "z = (2,3)\n",
    "here2 = add(*z)   #When passed to function * will tell fun to unpack z\n",
    "print(here2)\n",
    "#***************\n",
    "here3 = add (z) #This will give us an error as z is taken as only one argument\n"
   ]
  },
  {
   "cell_type": "markdown",
   "id": "unlike-actress",
   "metadata": {},
   "source": [
    "**TUPLE UNPACKING WITH ITERATOR VARIABLE**"
   ]
  },
  {
   "cell_type": "code",
   "execution_count": 15,
   "id": "editorial-daisy",
   "metadata": {},
   "outputs": [
    {
     "name": "stdout",
     "output_type": "stream",
     "text": [
      "Key: Abrar and its value is 29\n",
      "Key: Israr and its value is 50\n",
      "Key: Iqrar and its value is Some Other Value\n"
     ]
    }
   ],
   "source": [
    "dictionary = {\"Abrar\":29,\"Israr\":50,\"Iqrar\":\"Some Other Value\"}\n",
    "\n",
    "for iteration in dictionary.items():\n",
    "    \n",
    "    k = iteration[0]\n",
    "    v = iteration[1]\n",
    "    \n",
    "    print(f\"Key: {k} and its value is {v}\")"
   ]
  },
  {
   "cell_type": "code",
   "execution_count": 17,
   "id": "spectacular-jesus",
   "metadata": {},
   "outputs": [
    {
     "name": "stdout",
     "output_type": "stream",
     "text": [
      "This is key:  Abrar and This is value:  29\n",
      "This is key:  Israr and This is value:  50\n",
      "This is key:  Iqrar and This is value:  Some Other Value\n"
     ]
    }
   ],
   "source": [
    "#There is another way of doing this as well\n",
    "dictionary = {\"Abrar\":29,\"Israr\":50,\"Iqrar\":\"Some Other Value\"}\n",
    "\n",
    "for key , value in dictionary.items():\n",
    "    print(\"This is key: \", key, \"and This is value: \", value )"
   ]
  },
  {
   "cell_type": "code",
   "execution_count": 18,
   "id": "accurate-hacker",
   "metadata": {},
   "outputs": [
    {
     "name": "stdout",
     "output_type": "stream",
     "text": [
      "first name: Paul last name: Resnick\n",
      "first name: Brad last name: Miller\n",
      "first name: Lauren last name: Murphy\n"
     ]
    }
   ],
   "source": [
    "authors = [('Paul', 'Resnick'), ('Brad', 'Miller'), ('Lauren', 'Murphy')]\n",
    "for first_name, last_name in authors:\n",
    "    print(\"first name:\", first_name, \"last name:\", last_name)\n"
   ]
  },
  {
   "cell_type": "code",
   "execution_count": null,
   "id": "spectacular-georgia",
   "metadata": {},
   "outputs": [],
   "source": []
  }
 ],
 "metadata": {
  "kernelspec": {
   "display_name": "Python 3",
   "language": "python",
   "name": "python3"
  },
  "language_info": {
   "codemirror_mode": {
    "name": "ipython",
    "version": 3
   },
   "file_extension": ".py",
   "mimetype": "text/x-python",
   "name": "python",
   "nbconvert_exporter": "python",
   "pygments_lexer": "ipython3",
   "version": "3.9.2"
  }
 },
 "nbformat": 4,
 "nbformat_minor": 5
}
