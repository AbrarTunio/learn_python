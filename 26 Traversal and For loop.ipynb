{
 "cells": [
  {
   "cell_type": "markdown",
   "id": "latin-building",
   "metadata": {},
   "source": [
    "Traversal and For loop"
   ]
  },
  {
   "cell_type": "code",
   "execution_count": 1,
   "id": "indonesian-pointer",
   "metadata": {},
   "outputs": [
    {
     "name": "stdout",
     "output_type": "stream",
     "text": [
      "0 Father\n",
      "1 Mother\n",
      "2 Sister1\n",
      "3 Brother1\n",
      "4 Brother2\n",
      "5 Brother3\n",
      "6 Sister2\n",
      "7 Sister3\n"
     ]
    }
   ],
   "source": [
    "family = [\"Father\",\"Mother\",\"Sister1\",\"Brother1\",\"Brother2\",\"Brother3\",\"Sister2\",\"Sister3\"]\n",
    "for n in range(len(family)):\n",
    "    print(n,family[n])"
   ]
  },
  {
   "cell_type": "code",
   "execution_count": null,
   "id": "herbal-ordinance",
   "metadata": {},
   "outputs": [],
   "source": [
    "moreiter-6-1: How many times is the letter p printed by the following statements?\n",
    "\n",
    "s = \"python\"\n",
    "for idx in range(len(s)):\n",
    "   print(s[idx % 2])\n",
    "A. 0\n",
    "B. 1\n",
    "C. 2\n",
    "D. 3\n",
    "E. 6\n",
    "\n",
    "✔️ idx % 2 is 0 whenever idx is even"
   ]
  }
 ],
 "metadata": {
  "kernelspec": {
   "display_name": "Python 3",
   "language": "python",
   "name": "python3"
  },
  "language_info": {
   "codemirror_mode": {
    "name": "ipython",
    "version": 3
   },
   "file_extension": ".py",
   "mimetype": "text/x-python",
   "name": "python",
   "nbconvert_exporter": "python",
   "pygments_lexer": "ipython3",
   "version": "3.9.2"
  }
 },
 "nbformat": 4,
 "nbformat_minor": 5
}
