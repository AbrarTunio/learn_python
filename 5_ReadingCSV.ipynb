{
 "cells": [
  {
   "cell_type": "code",
   "execution_count": 37,
   "id": "encouraging-maple",
   "metadata": {},
   "outputs": [],
   "source": [
    "message = \"\"\"Name,Sex,Age,Team,Event,Medal\n",
    "A Dijiang,M,24,China,Basketball,NA\n",
    "A Lamusi,M,23,China,Judo,NA\n",
    "Gunnar Nielsen Aaby,M,24,Denmark,Football,NA\n",
    "Edgar Lindenau Aabye,M,34,Denmark/Sweden,Tug-Of-War,Gold\n",
    "Christine Jacoba Aaftink,F,21,Netherlands,Speed Skating,NA\n",
    "Christine Jacoba Aaftink,F,21,Netherlands,Speed Skating,NA\n",
    "Christine Jacoba Aaftink,F,25,Netherlands,Speed Skating,NA\n",
    "Christine Jacoba Aaftink,F,25,Netherlands,Speed Skating,NA\n",
    "Christine Jacoba Aaftink,F,27,Netherlands,Speed Skating,NA\n",
    "Christine Jacoba Aaftink,F,27,Netherlands,Speed Skating,NA\n",
    "Per Knut Aaland,M,31,United States,Cross Country Skiing,NA\n",
    "Per Knut Aaland,M,31,United States,Cross Country Skiing,NA\n",
    "Per Knut Aaland,M,31,United States,Cross Country Skiing,NA\n",
    "Per Knut Aaland,M,31,United States,Cross Country Skiing,NA\n",
    "Per Knut Aaland,M,33,United States,Cross Country Skiing,NA\n",
    "Per Knut Aaland,M,33,United States,Cross Country Skiing,NA\n",
    "Per Knut Aaland,M,33,United States,Cross Country Skiing,NA\n",
    "Per Knut Aaland,M,33,United States,Cross Country Skiing,NA\n",
    "John Aalberg,M,31,United States,Cross Country Skiing,NA\n",
    "John Aalberg,M,31,United States,Cross Country Skiing,NA\n",
    "John Aalberg,M,31,United States,Cross Country Skiing,NA\n",
    "John Aalberg,M,31,United States,Cross Country Skiing,NA\n",
    "John Aalberg,M,33,United States,Cross Country Skiing,NA\n",
    "John Aalberg,M,33,United States,Cross Country Skiing,NA\n",
    "John Aalberg,M,33,United States,Cross Country Skiing,NA\n",
    "John Aalberg,M,33,United States,Cross Country Skiing,NA\n",
    "\"Cornelia \"\"Cor\"\" Aalten (-Strannood)\",F,18,Netherlands,Athletics,NA\n",
    "\"Cornelia \"\"Cor\"\" Aalten (-Strannood)\",F,18,Netherlands,Athletics,NA\n",
    "Antti Sami Aalto,M,26,Finland,Ice Hockey,NA\n",
    "\"Einar Ferdinand \"\"Einari\"\" Aalto\",M,26,Finland,Swimming,NA\n",
    "Jorma Ilmari Aalto,M,22,Finland,Cross Country Skiing,NA\n",
    "Jyri Tapani Aalto,M,31,Finland,Badminton,NA\n",
    "Minna Maarit Aalto,F,30,Finland,Sailing,NA\n",
    "Minna Maarit Aalto,F,34,Finland,Sailing,NA\n",
    "Pirjo Hannele Aalto (Mattila-),F,32,Finland,Biathlon,NA\n",
    "Arvo Ossian Aaltonen,M,22,Finland,Swimming,NA\n",
    "Arvo Ossian Aaltonen,M,22,Finland,Swimming,NA\n",
    "Arvo Ossian Aaltonen,M,30,Finland,Swimming,Bronze\n",
    "Arvo Ossian Aaltonen,M,30,Finland,Swimming,Bronze\n",
    "Arvo Ossian Aaltonen,M,34,Finland,Swimming,NA\n",
    "Juhamatti Tapio Aaltonen,M,28,Finland,Ice Hockey,Bronze\n",
    "Paavo Johannes Aaltonen,M,28,Finland,Gymnastics,Bronze\n",
    "Paavo Johannes Aaltonen,M,28,Finland,Gymnastics,Gold\n",
    "Paavo Johannes Aaltonen,M,28,Finland,Gymnastics,NA\n",
    "Paavo Johannes Aaltonen,M,28,Finland,Gymnastics,Gold\n",
    "Paavo Johannes Aaltonen,M,28,Finland,Gymnastics,NA\n",
    "Paavo Johannes Aaltonen,M,28,Finland,Gymnastics,NA\n",
    "Paavo Johannes Aaltonen,M,28,Finland,Gymnastics,NA\n",
    "Paavo Johannes Aaltonen,M,28,Finland,Gymnastics,Gold\n",
    "Paavo Johannes Aaltonen,M,32,Finland,Gymnastics,NA\n",
    "Paavo Johannes Aaltonen,M,32,Finland,Gymnastics,Bronze\n",
    "Paavo Johannes Aaltonen,M,32,Finland,Gymnastics,NA\n",
    "Paavo Johannes Aaltonen,M,32,Finland,Gymnastics,NA\n",
    "Paavo Johannes Aaltonen,M,32,Finland,Gymnastics,NA\n",
    "Paavo Johannes Aaltonen,M,32,Finland,Gymnastics,NA\n",
    "Paavo Johannes Aaltonen,M,32,Finland,Gymnastics,NA\n",
    "Paavo Johannes Aaltonen,M,32,Finland,Gymnastics,NA\n",
    "Timo Antero Aaltonen,M,31,Finland,Athletics,NA\n",
    "Win Valdemar Aaltonen,M,54,Finland,Art Competitions,NA\"\"\""
   ]
  },
  {
   "cell_type": "code",
   "execution_count": 38,
   "id": "amazing-sunset",
   "metadata": {},
   "outputs": [],
   "source": [
    "with open(\"olympics.txt\",\"w\") as newfile:\n",
    "    newfile.write(message)"
   ]
  },
  {
   "cell_type": "code",
   "execution_count": 58,
   "id": "typical-render",
   "metadata": {},
   "outputs": [
    {
     "name": "stdout",
     "output_type": "stream",
     "text": [
      "['Name', 'Sex', 'Age', 'Team', 'Event', 'Medal']\n",
      "['Edgar Lindenau Aabye', 'M', '34', 'Denmark/Sweden', 'Tug-Of-War', 'Gold']\n",
      "['Arvo Ossian Aaltonen', 'M', '30', 'Finland', 'Swimming', 'Bronze']\n",
      "['Arvo Ossian Aaltonen', 'M', '30', 'Finland', 'Swimming', 'Bronze']\n",
      "['Juhamatti Tapio Aaltonen', 'M', '28', 'Finland', 'Ice Hockey', 'Bronze']\n",
      "['Paavo Johannes Aaltonen', 'M', '28', 'Finland', 'Gymnastics', 'Bronze']\n",
      "['Paavo Johannes Aaltonen', 'M', '28', 'Finland', 'Gymnastics', 'Gold']\n",
      "['Paavo Johannes Aaltonen', 'M', '28', 'Finland', 'Gymnastics', 'Gold']\n",
      "['Paavo Johannes Aaltonen', 'M', '28', 'Finland', 'Gymnastics', 'Gold']\n",
      "['Paavo Johannes Aaltonen', 'M', '32', 'Finland', 'Gymnastics', 'Bronze']\n"
     ]
    }
   ],
   "source": [
    "myfile = open(\"olympics.txt\",\"r\")\n",
    "medal_list = []\n",
    "line_list = myfile.readlines()\n",
    "header = line_list[0].strip().split(\",\")\n",
    "print(header)\n",
    "for line in line_list[1:]:\n",
    "    striped = line.strip().split(\",\")\n",
    "    #cs = striped.split(\",\")\n",
    "    if striped[-1] != \"NA\":\n",
    "        print(line.strip().split(\",\"))\n",
    "        #medal_list.append(striped)\n",
    "        #print(medal_list[-1])\n",
    "#for line in reading:\n",
    "#print(medal_list)"
   ]
  },
  {
   "cell_type": "code",
   "execution_count": null,
   "id": "brave-muslim",
   "metadata": {},
   "outputs": [],
   "source": []
  }
 ],
 "metadata": {
  "kernelspec": {
   "display_name": "Python 3",
   "language": "python",
   "name": "python3"
  },
  "language_info": {
   "codemirror_mode": {
    "name": "ipython",
    "version": 3
   },
   "file_extension": ".py",
   "mimetype": "text/x-python",
   "name": "python",
   "nbconvert_exporter": "python",
   "pygments_lexer": "ipython3",
   "version": "3.9.2"
  }
 },
 "nbformat": 4,
 "nbformat_minor": 5
}
