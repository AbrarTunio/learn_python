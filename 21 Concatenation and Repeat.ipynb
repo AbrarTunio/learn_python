{
 "cells": [
  {
   "cell_type": "code",
   "execution_count": 1,
   "id": "southwest-disaster",
   "metadata": {},
   "outputs": [],
   "source": [
    "friends = [\"abrar\", \"israr\", \"iqrar\", \"iftikhar\"]\n",
    "salary = [5000]\n"
   ]
  },
  {
   "cell_type": "code",
   "execution_count": 2,
   "id": "major-guidance",
   "metadata": {},
   "outputs": [
    {
     "name": "stdout",
     "output_type": "stream",
     "text": [
      "['abrar', 'israr', 'iqrar', 'iftikhar', 5000]\n"
     ]
    }
   ],
   "source": [
    "print(friends + salary)"
   ]
  },
  {
   "cell_type": "code",
   "execution_count": 4,
   "id": "guided-tourist",
   "metadata": {},
   "outputs": [
    {
     "name": "stdout",
     "output_type": "stream",
     "text": [
      "['abrar', 'israr', 'iqrar', 'iftikhar', 5000, 5000, 5000, 5000, 5000]\n"
     ]
    }
   ],
   "source": [
    "print(friends + salary*5)"
   ]
  },
  {
   "cell_type": "code",
   "execution_count": 5,
   "id": "departmental-karaoke",
   "metadata": {},
   "outputs": [
    {
     "name": "stdout",
     "output_type": "stream",
     "text": [
      "[0, 'abrar', 'israr', 'iqrar', 'iftikhar', 1, 2]\n"
     ]
    }
   ],
   "source": [
    "print([0] + friends + [1,2])"
   ]
  },
  {
   "cell_type": "code",
   "execution_count": 6,
   "id": "logical-passage",
   "metadata": {},
   "outputs": [
    {
     "name": "stdout",
     "output_type": "stream",
     "text": [
      "['abrar', 'israr', 'iqrar', 'iftikhar', 'abrar', 'israr', 'iqrar', 'iftikhar']\n"
     ]
    }
   ],
   "source": [
    "print(friends*2)"
   ]
  },
  {
   "cell_type": "code",
   "execution_count": 7,
   "id": "complex-popularity",
   "metadata": {},
   "outputs": [
    {
     "name": "stdout",
     "output_type": "stream",
     "text": [
      "[0, 2, 3, 0, 2, 3, 0, 2, 3]\n"
     ]
    }
   ],
   "source": [
    "print([0,2,3]*3)"
   ]
  },
  {
   "cell_type": "code",
   "execution_count": null,
   "id": "neutral-tiger",
   "metadata": {},
   "outputs": [],
   "source": [
    "Concatenation and Repetition\n",
    "Again, as with strings, the + operator concatenates lists. Similarly, the * operator repeats the items in a list a given number of times.\n",
    "\n",
    "1\n",
    "fruit = [\"apple\",\"orange\",\"banana\",\"cherry\"]\n",
    "2\n",
    "print([1,2] + [3,4])\n",
    "3\n",
    "print(fruit+[6,7,8,9])\n",
    "4\n",
    "​\n",
    "5\n",
    "print([0] * 4)\n",
    "6\n",
    "​\n",
    "ActiveCode (ac5_7_1)\n",
    "\n",
    "It is important to see that these operators create new lists from the elements of the operand lists. If you concatenate a list with 2 items and a list with 4 items, you will get a new list with 6 items (not a list with two sublists). Similarly, repetition of a list of 2 items 4 times will give a list with 8 items.\n",
    "\n",
    "One way for us to make this more clear is to run a part of this example in codelens. As you step through the code, you will see the variables being created and the lists that they refer to. Pay particular attention to the fact that when newlist is created by the statement newlist = fruit + numlist, it refers to a completely new list formed by making copies of the items from fruit and numlist. You can see this very clearly in the codelens object diagram. The objects are different.\n",
    "\n",
    "Python 3.3\n",
    "1\tfruit = [\"apple\",\"orange\",\"banana\",\"cherry\"]\n",
    "2\tnumlist = [6,7]\n",
    "3\t\n",
    "4\tnewlist = fruit + numlist\n",
    "5\t\n",
    "6\tzeros = [0] * 4\n",
    "  Step 1 of 4  \n",
    " line that has just executed\n",
    " next line to execute\n",
    "\n",
    "Visualized using Online Python Tutor by Philip Guo\n",
    "Frames\n",
    "Objects\n",
    "Program output:\n",
    "CodeLens: (clens5_7_1)\n",
    "\n",
    "Note\n",
    "\n",
    "WP: Adding types together\n",
    "\n",
    "Beware when adding different types together! Python doesn’t understand how to concatenate different types together. Thus, if we try to add a string to a list with ['first'] + \"second\" then the interpreter will return an error. To do this you’ll need to make the two objects the same type. In this case, it means putting the string into its own list and then adding the two together like so: ['first'] + [\"second\"]. This process will look different for other types though. Remember that there are functions to convert types!\n",
    "\n",
    "Check your understanding\n",
    "\n",
    "sequences-7-1: What is printed by the following statements?\n",
    "\n",
    "alist = [1,3,5]\n",
    "blist = [2,4,6]\n",
    "print(alist + blist)\n",
    "A. 6\n",
    "B. [1,2,3,4,5,6]\n",
    "C. [1,3,5,2,4,6]\n",
    "D. [3,7,11]\n",
    "\n",
    "✔️ Yes, a new list with all the items of the first list followed by all those from the second.\n",
    "Multiple Choice (question5_7_1)\n",
    "\n",
    "sequences-7-2: What is printed by the following statements?\n",
    "\n",
    "alist = [1,3,5]\n",
    "print(alist * 3)\n",
    "A. 9\n",
    "B. [1,1,1,3,3,3,5,5,5]\n",
    "C. [1,3,5,1,3,5,1,3,5]\n",
    "D. [3,9,15]\n",
    "\n",
    "✔️ Yes, the items of the list are repeated 3 times, one after another.\n",
    "Multiple Choice (question5_7_2)\n",
    "\n",
    "You have attempted 5 of 4 activities on this page"
   ]
  }
 ],
 "metadata": {
  "kernelspec": {
   "display_name": "Python 3",
   "language": "python",
   "name": "python3"
  },
  "language_info": {
   "codemirror_mode": {
    "name": "ipython",
    "version": 3
   },
   "file_extension": ".py",
   "mimetype": "text/x-python",
   "name": "python",
   "nbconvert_exporter": "python",
   "pygments_lexer": "ipython3",
   "version": "3.9.2"
  }
 },
 "nbformat": 4,
 "nbformat_minor": 5
}
