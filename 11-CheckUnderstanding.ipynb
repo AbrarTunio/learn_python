{
 "cells": [
  {
   "cell_type": "markdown",
   "id": "variable-patio",
   "metadata": {},
   "source": [
    "ACCUMULATING BEST KEY"
   ]
  },
  {
   "cell_type": "code",
   "execution_count": 13,
   "id": "objective-bidder",
   "metadata": {},
   "outputs": [
    {
     "name": "stdout",
     "output_type": "stream",
     "text": [
      "dict_keys(['a', 'b', 'c', 'd', 'e', 'full'])\n",
      "a\n",
      "key full has the highest value, 31\n"
     ]
    }
   ],
   "source": [
    "#Write a program that finds the key in a dictionary that has the maximum value. \n",
    "#If two keys have the same maximum value, it’s OK to print out either one. Fill in the skeleton code\n",
    "\n",
    "d = {'a': 194, 'b': 54, 'c':34, 'd': 44, 'e': 312, 'full':31}\n",
    "\n",
    "ks = d.keys()\n",
    "print(ks)\n",
    "# initialize variable best_key_so_far to be the first key in d\n",
    "best_key_so_far = list (ks)[0] #it is important to convert it into a list\n",
    "print(best_key_so_far)\n",
    "for k in ks:\n",
    "    # check if the value associated with the current key is\n",
    "    # bigger than the value associated with the best_key_so_far\n",
    "    # if so, save the current key as the best so far\n",
    "    if k > best_key_so_far:\n",
    "        best_key_so_far = k\n",
    "\n",
    "print(\"key \" + best_key_so_far + \" has the highest value, \" + str(d[best_key_so_far]))\n"
   ]
  },
  {
   "cell_type": "markdown",
   "id": "accessory-muscle",
   "metadata": {},
   "source": [
    "Create a dictionary called \"d\" that keeps track of all the characters in the string placement and notes how many times each character was seen. Then, find the key with the \"lowest value\" in this dictionary and assign that key to \"min_value\"."
   ]
  },
  {
   "cell_type": "code",
   "execution_count": 34,
   "id": "collaborative-substitute",
   "metadata": {},
   "outputs": [
    {
     "name": "stdout",
     "output_type": "stream",
     "text": [
      "x\n"
     ]
    }
   ],
   "source": [
    "placement = \"Beaches are cool places to visit in spring however the Mackinaw Bridge is near. Most people visit Mackinaw later since the island is a cool place to explore.\"\n",
    "\n",
    "d = {}\n",
    "\n",
    "for char in placement:\n",
    "    if char not in d:\n",
    "        d[char] = 0 #it was not here!\n",
    "    d[char] = d[char] + 1 #it is seen for the first time\n",
    "keys = d.keys()\n",
    "min_value = list (keys)[0]\n",
    "\n",
    "for key in keys:\n",
    "    if d[key] < d[min_value]:\n",
    "        min_value = key\n",
    "        print(min_value)"
   ]
  },
  {
   "cell_type": "markdown",
   "id": "mental-pipeline",
   "metadata": {},
   "source": [
    "Create a dictionary called \"lett_d\" that keeps track of all of the characters in the string product and notes how many times each character was seen. Then, find the key with the highest value in this dictionary and assign that key to max_value."
   ]
  },
  {
   "cell_type": "code",
   "execution_count": 38,
   "id": "fuzzy-favorite",
   "metadata": {},
   "outputs": [
    {
     "name": "stdout",
     "output_type": "stream",
     "text": [
      "{'i': 2, 'p': 2, 'h': 2, 'o': 3, 'n': 4, 'e': 2, ' ': 3, 'a': 2, 'd': 3, 'r': 1, 's': 1}\n",
      "i\n",
      "i\n",
      "i\n",
      "o\n",
      "n\n",
      "n\n",
      "n\n",
      "n\n",
      "n\n",
      "n\n",
      "n\n"
     ]
    }
   ],
   "source": [
    "product = \"iphone and android phones\"\n",
    "\n",
    "lett_d = {}\n",
    "\n",
    "for char in product:\n",
    "    if char not in lett_d:\n",
    "        lett_d[char] = 0\n",
    "    lett_d[char] = lett_d[char] + 1\n",
    "print(lett_d)\n",
    "\n",
    "keys = lett_d.keys()\n",
    "max_value = list (keys)[0]\n",
    "\n",
    "for key in keys:\n",
    "    if lett_d[key] > lett_d[max_value]:\n",
    "        max_value = key\n",
    "    print(max_value)\n"
   ]
  },
  {
   "cell_type": "code",
   "execution_count": null,
   "id": "cooked-attention",
   "metadata": {},
   "outputs": [],
   "source": []
  }
 ],
 "metadata": {
  "kernelspec": {
   "display_name": "Python 3",
   "language": "python",
   "name": "python3"
  },
  "language_info": {
   "codemirror_mode": {
    "name": "ipython",
    "version": 3
   },
   "file_extension": ".py",
   "mimetype": "text/x-python",
   "name": "python",
   "nbconvert_exporter": "python",
   "pygments_lexer": "ipython3",
   "version": "3.9.2"
  }
 },
 "nbformat": 4,
 "nbformat_minor": 5
}
