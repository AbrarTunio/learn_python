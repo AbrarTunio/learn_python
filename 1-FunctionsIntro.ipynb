{
 "cells": [
  {
   "cell_type": "markdown",
   "id": "chicken-possible",
   "metadata": {},
   "source": [
    "DEFINE a SIMPLE GREETING FUNCTION"
   ]
  },
  {
   "cell_type": "code",
   "execution_count": 4,
   "id": "increased-cowboy",
   "metadata": {},
   "outputs": [
    {
     "name": "stdout",
     "output_type": "stream",
     "text": [
      "Welcome Abrar\n",
      "Good to see you back\n",
      "Welcome Abrar\n",
      "Good to see you back\n"
     ]
    }
   ],
   "source": [
    "#Step 1: Define a function\n",
    "def  greetings ():\n",
    "    \"\"\"These are documentation lines. I will write greetings below that\"\"\"\n",
    "    print(\"Welcome Abrar\")\n",
    "    print(\"Good to see you back\")\n",
    "#Step 2: Invoke it\n",
    "greetings()\n",
    "greetings()"
   ]
  },
  {
   "cell_type": "code",
   "execution_count": 11,
   "id": "binary-silver",
   "metadata": {},
   "outputs": [],
   "source": [
    "import turtle\n",
    "\n",
    "def drawSquare(turtleName, SizeofArt):\n",
    "    \"\"\"Make turtle t draw a square of with side sz.\"\"\"\n",
    "\n",
    "    for i in range(20):\n",
    "        turtleName.forward(SizeofArt)\n",
    "        turtleName.left(90)\n",
    "\n",
    "\n",
    "wn = turtle.Screen()      # Set up the window and its attributes\n",
    "wn.bgcolor(\"lightgreen\")\n",
    "\n",
    "alex = turtle.Turtle()    # create alex\n",
    "drawSquare(alex, 120)      # Call the function to draw the square passing the actual turtle and the actual side size\n",
    "\n",
    "wn.exitonclick()\n"
   ]
  },
  {
   "cell_type": "code",
   "execution_count": 12,
   "id": "entire-modern",
   "metadata": {},
   "outputs": [
    {
     "ename": "SyntaxError",
     "evalue": "invalid syntax (<ipython-input-12-fe0c459794a8>, line 3)",
     "output_type": "error",
     "traceback": [
      "\u001b[1;36m  File \u001b[1;32m\"<ipython-input-12-fe0c459794a8>\"\u001b[1;36m, line \u001b[1;32m3\u001b[0m\n\u001b[1;33m    A. A named sequence of statements.\u001b[0m\n\u001b[1;37m         ^\u001b[0m\n\u001b[1;31mSyntaxError\u001b[0m\u001b[1;31m:\u001b[0m invalid syntax\n"
     ]
    }
   ],
   "source": [
    "func-2-1: What is a function in Python?\n",
    "\n",
    "A. A named sequence of statements.\n",
    "B. Any sequence of statements.\n",
    "C. A mathematical expression that calculates a value.\n",
    "D. A statement of the form x = 5 + 4.\n",
    "\n",
    "✔️ Yes, a function is a named sequence of statements."
   ]
  },
  {
   "cell_type": "code",
   "execution_count": 13,
   "id": "flush-refund",
   "metadata": {},
   "outputs": [
    {
     "ename": "SyntaxError",
     "evalue": "invalid syntax (<ipython-input-13-650df526e3ce>, line 3)",
     "output_type": "error",
     "traceback": [
      "\u001b[1;36m  File \u001b[1;32m\"<ipython-input-13-650df526e3ce>\"\u001b[1;36m, line \u001b[1;32m3\u001b[0m\n\u001b[1;33m    A. To improve the speed of execution\u001b[0m\n\u001b[1;37m          ^\u001b[0m\n\u001b[1;31mSyntaxError\u001b[0m\u001b[1;31m:\u001b[0m invalid syntax\n"
     ]
    }
   ],
   "source": [
    "func-2-2: What is one main purpose of a function?\n",
    "\n",
    "A. To improve the speed of execution\n",
    "B. To help the programmer organize programs into chunks that match how they think about the solution to the problem.\n",
    "C. All Python programs must be written using functions\n",
    "D. To calculate values.\n",
    "\n",
    "✔️ While functions are not required, they help the programmer better think about the solution by organizing pieces of the solution into logical chunks that can be reused."
   ]
  },
  {
   "cell_type": "code",
   "execution_count": 14,
   "id": "assumed-couple",
   "metadata": {},
   "outputs": [
    {
     "ename": "SyntaxError",
     "evalue": "invalid syntax (<ipython-input-14-846f2fc1eb99>, line 6)",
     "output_type": "error",
     "traceback": [
      "\u001b[1;36m  File \u001b[1;32m\"<ipython-input-14-846f2fc1eb99>\"\u001b[1;36m, line \u001b[1;32m6\u001b[0m\n\u001b[1;33m    A. 0\u001b[0m\n\u001b[1;37m       ^\u001b[0m\n\u001b[1;31mSyntaxError\u001b[0m\u001b[1;31m:\u001b[0m invalid syntax\n"
     ]
    }
   ],
   "source": [
    "func-2-3: How many lines will be output by executing this code?\n",
    "\n",
    "def hello():\n",
    "   print(\"Hello\")\n",
    "   print(\"Glad to meet you\")\n",
    "A. 0\n",
    "B. 1\n",
    "C. 2\n",
    "\n",
    "✔️ The code only defines the function. Nothing prints until the function is called."
   ]
  },
  {
   "cell_type": "code",
   "execution_count": null,
   "id": "flying-prophet",
   "metadata": {},
   "outputs": [],
   "source": [
    "func-2-4: How many lines will be output by executing this code?\n",
    "\n",
    "def hello():\n",
    "   print(\"Hello\")\n",
    "   print(\"Glad to meet you\")\n",
    "\n",
    "hello()\n",
    "print(\"It works\")\n",
    "hello()\n",
    "hello()\n",
    "A. 0\n",
    "B. 1\n",
    "C. 3\n",
    "D. 4\n",
    "E. 7\n",
    "\n",
    "✔️ Three invocations generate two lines each, plus the line \"It works\"."
   ]
  },
  {
   "cell_type": "code",
   "execution_count": null,
   "id": "abroad-manhattan",
   "metadata": {},
   "outputs": [],
   "source": []
  }
 ],
 "metadata": {
  "kernelspec": {
   "display_name": "Python 3",
   "language": "python",
   "name": "python3"
  },
  "language_info": {
   "codemirror_mode": {
    "name": "ipython",
    "version": 3
   },
   "file_extension": ".py",
   "mimetype": "text/x-python",
   "name": "python",
   "nbconvert_exporter": "python",
   "pygments_lexer": "ipython3",
   "version": "3.9.2"
  }
 },
 "nbformat": 4,
 "nbformat_minor": 5
}
