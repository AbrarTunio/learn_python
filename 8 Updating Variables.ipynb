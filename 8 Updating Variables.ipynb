{
 "cells": [
  {
   "cell_type": "markdown",
   "id": "extraordinary-domestic",
   "metadata": {},
   "source": [
    "Updating Variables"
   ]
  },
  {
   "cell_type": "code",
   "execution_count": 1,
   "id": "clean-negative",
   "metadata": {},
   "outputs": [
    {
     "name": "stdout",
     "output_type": "stream",
     "text": [
      "6\n",
      "7\n"
     ]
    }
   ],
   "source": [
    "variable = 6\n",
    "print (variable)\n",
    "variable = variable + 1 #increament by 1 Method : 1\n",
    "print (variable)"
   ]
  },
  {
   "cell_type": "code",
   "execution_count": null,
   "id": "fantastic-graph",
   "metadata": {},
   "outputs": [],
   "source": [
    "variable += 3    #increament by 3\n",
    "print (variable)\n",
    "variable -= 1    #decrement by 1\n",
    "print (variable)"
   ]
  },
  {
   "cell_type": "markdown",
   "id": "noted-working",
   "metadata": {},
   "source": [
    "Simple Example of Calculating Current bank Balance"
   ]
  },
  {
   "cell_type": "code",
   "execution_count": 3,
   "id": "romance-generic",
   "metadata": {},
   "outputs": [
    {
     "name": "stdout",
     "output_type": "stream",
     "text": [
      "250\n"
     ]
    }
   ],
   "source": [
    "current_bank_balance = 100\n",
    "new_credit = 150\n",
    "current_bank_balance = current_bank_balance + new_credit\n",
    "print(current_bank_balance)"
   ]
  },
  {
   "cell_type": "markdown",
   "id": "buried-worth",
   "metadata": {},
   "source": [
    "A simple TEST for you\n"
   ]
  },
  {
   "cell_type": "code",
   "execution_count": 6,
   "id": "treated-publicity",
   "metadata": {},
   "outputs": [
    {
     "name": "stdout",
     "output_type": "stream",
     "text": [
      "x is = 22 ---- y is = 15\n"
     ]
    }
   ],
   "source": [
    "#What is the value of X and Y\n",
    "x = 15\n",
    "y = x\n",
    "x = 22\n",
    "\n",
    "print(\"x is =\",x,\"----\",\"y is =\",y)\n"
   ]
  },
  {
   "cell_type": "code",
   "execution_count": null,
   "id": "recent-relay",
   "metadata": {},
   "outputs": [],
   "source": []
  },
  {
   "cell_type": "code",
   "execution_count": null,
   "id": "suited-trademark",
   "metadata": {},
   "outputs": [],
   "source": []
  }
 ],
 "metadata": {
  "kernelspec": {
   "display_name": "Python 3",
   "language": "python",
   "name": "python3"
  },
  "language_info": {
   "codemirror_mode": {
    "name": "ipython",
    "version": 3
   },
   "file_extension": ".py",
   "mimetype": "text/x-python",
   "name": "python",
   "nbconvert_exporter": "python",
   "pygments_lexer": "ipython3",
   "version": "3.9.1"
  }
 },
 "nbformat": 4,
 "nbformat_minor": 5
}
