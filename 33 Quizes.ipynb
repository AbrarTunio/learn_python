{
 "cells": [
  {
   "cell_type": "code",
   "execution_count": null,
   "id": "metric-kenya",
   "metadata": {},
   "outputs": [],
   "source": [
    "#Write a for loop to print elements in list and write another loop to print\n",
    "#type of elements in the list\n",
    "several_things = [\"hello\", 2, 4, 6.0, 7.5, 234352354, \"the end\", \"\", 99]\n",
    "\n",
    "for things in several_things:\n",
    "    print(things)\n",
    "for things2 in several_things:\n",
    "    print(type(things2))"
   ]
  },
  {
   "cell_type": "code",
   "execution_count": null,
   "id": "weird-collector",
   "metadata": {},
   "outputs": [],
   "source": [
    "#Write code to create a list of integers from 0 through 52 and \n",
    "#assign that list to the variable numbers. \n",
    "#You should use a special Python function – \n",
    "#do not type out the whole list yourself. \n",
    "#HINT: You can do this in one line of code!\n",
    "numbers = range(0,53)"
   ]
  },
  {
   "cell_type": "code",
   "execution_count": null,
   "id": "floppy-clinton",
   "metadata": {},
   "outputs": [],
   "source": [
    "#How many times is the letter p printed by the following statements?\n",
    "\n",
    "s = \"python\"\n",
    "for idx in range(len(s)):\n",
    "   print(s[idx % 2])"
   ]
  },
  {
   "cell_type": "code",
   "execution_count": null,
   "id": "geographic-fashion",
   "metadata": {},
   "outputs": [],
   "source": [
    "s = \"python\"\n",
    "for idx in range(len(s)):\n",
    "    if s[idx%2] == \"p\":\n",
    "        print(s[idx%2])"
   ]
  }
 ],
 "metadata": {
  "kernelspec": {
   "display_name": "Python 3",
   "language": "python",
   "name": "python3"
  },
  "language_info": {
   "codemirror_mode": {
    "name": "ipython",
    "version": 3
   },
   "file_extension": ".py",
   "mimetype": "text/x-python",
   "name": "python",
   "nbconvert_exporter": "python",
   "pygments_lexer": "ipython3",
   "version": "3.9.2"
  }
 },
 "nbformat": 4,
 "nbformat_minor": 5
}
