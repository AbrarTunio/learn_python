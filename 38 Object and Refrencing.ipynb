{
 "cells": [
  {
   "cell_type": "code",
   "execution_count": 1,
   "id": "invalid-seeker",
   "metadata": {},
   "outputs": [],
   "source": [
    "#This is very important"
   ]
  },
  {
   "cell_type": "code",
   "execution_count": 2,
   "id": "lyric-instrumentation",
   "metadata": {},
   "outputs": [],
   "source": [
    "my_friends = [\"Abrar\",\"Israr\",\"Iqrar\"]\n",
    "my_brothers = my_friends             #Making them alias for eachother"
   ]
  },
  {
   "cell_type": "code",
   "execution_count": 5,
   "id": "engaging-magnet",
   "metadata": {},
   "outputs": [
    {
     "name": "stdout",
     "output_type": "stream",
     "text": [
      "True\n",
      "True\n",
      "2028765377984 2028765377984\n"
     ]
    }
   ],
   "source": [
    "print(my_brothers == my_friends)\n",
    "print(my_friends  is my_brothers)\n",
    "print(id(my_brothers),id(my_friends))"
   ]
  },
  {
   "cell_type": "markdown",
   "id": "nervous-estate",
   "metadata": {},
   "source": [
    "What if i intiate both list seperately"
   ]
  },
  {
   "cell_type": "code",
   "execution_count": 17,
   "id": "reduced-valve",
   "metadata": {},
   "outputs": [],
   "source": [
    "my_friends = [\"Abrar\",\"Israr\",\"Iqrar\"]\n",
    "my_brothers = [\"Abrar\",\"Israr\",\"Iqrar\"]  #Both are seperate lists having same values!"
   ]
  },
  {
   "cell_type": "code",
   "execution_count": 18,
   "id": "earlier-accent",
   "metadata": {},
   "outputs": [
    {
     "name": "stdout",
     "output_type": "stream",
     "text": [
      "True\n",
      "False\n",
      "2028765870720 2028766125376\n"
     ]
    }
   ],
   "source": [
    "print(my_brothers == my_friends)\n",
    "print(my_friends  is my_brothers)   #This will output false!\n",
    "print(id(my_brothers),id(my_friends))"
   ]
  },
  {
   "cell_type": "markdown",
   "id": "unusual-pencil",
   "metadata": {},
   "source": [
    "Even for strings object and refrencings acts very similarly as lists!"
   ]
  },
  {
   "cell_type": "code",
   "execution_count": 20,
   "id": "unknown-announcement",
   "metadata": {},
   "outputs": [
    {
     "name": "stdout",
     "output_type": "stream",
     "text": [
      "True\n",
      "True\n",
      "2028776088160 2028776088160\n"
     ]
    }
   ],
   "source": [
    "friends = \"Israr, Abrar, Iqrar\"\n",
    "brothers = friends\n",
    "print(brothers == friends) \n",
    "print(friends  is brothers)\n",
    "print(id(brothers),id(friends))"
   ]
  },
  {
   "cell_type": "code",
   "execution_count": 23,
   "id": "simple-zimbabwe",
   "metadata": {},
   "outputs": [
    {
     "name": "stdout",
     "output_type": "stream",
     "text": [
      "False\n",
      "True\n",
      "2028776088560 2028776091280\n"
     ]
    }
   ],
   "source": [
    "friends = \"Israr, Abrar, Iqrar\"\n",
    "brothers = \"Israr, Abrar, Iqrar\"\n",
    "print(friends  is brothers)\n",
    "print(brothers == friends) \n",
    "print(id(brothers),id(friends))"
   ]
  },
  {
   "cell_type": "code",
   "execution_count": null,
   "id": "third-valley",
   "metadata": {},
   "outputs": [],
   "source": []
  }
 ],
 "metadata": {
  "kernelspec": {
   "display_name": "Python 3",
   "language": "python",
   "name": "python3"
  },
  "language_info": {
   "codemirror_mode": {
    "name": "ipython",
    "version": 3
   },
   "file_extension": ".py",
   "mimetype": "text/x-python",
   "name": "python",
   "nbconvert_exporter": "python",
   "pygments_lexer": "ipython3",
   "version": "3.9.2"
  }
 },
 "nbformat": 4,
 "nbformat_minor": 5
}
