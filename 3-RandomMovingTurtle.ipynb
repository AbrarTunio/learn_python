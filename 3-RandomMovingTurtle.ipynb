{
 "cells": [
  {
   "cell_type": "markdown",
   "id": "unexpected-perth",
   "metadata": {},
   "source": [
    "<b>Random Moving<b><h4 style=\"color:green\">Turtle</h4>"
   ]
  },
  {
   "cell_type": "markdown",
   "id": "recent-catch",
   "metadata": {},
   "source": [
    "Suppose we want to entertain ourselves by watching a turtle wander around randomly inside the screen. When we run the program we want the turtle and program to behave in the following way:\n",
    "\n",
    "<ol> <li>The turtle begins in the center of the screen.</li>\n",
    "\n",
    "<li>Flip a coin. If it’s heads then turn to the left 90 degrees. If it’s tails then turn to the right 90 degrees.</li>\n",
    "\n",
    "<li>Take 50 steps forward.</li>\n",
    "\n",
    "<li>If the turtle has moved outside the screen then stop, otherwise go back to step 2 and repeat.</li></ol>\n",
    "\n",
    "Notice that we cannot predict how many times the turtle will need to flip the coin before it wanders out of the screen, so we can’t use a for loop in this case. In fact, although very unlikely, this program might never end, that is why we call this indefinite iteration.\n",
    "\n",
    "So based on the problem description above, we can outline a program as follows:"
   ]
  },
  {
   "cell_type": "markdown",
   "id": "healthy-polyester",
   "metadata": {},
   "source": [
    "create a window and a turtle\n",
    "\n",
    "while the turtle is still in the window:\n",
    "    generate a random number between 0 and 1\n",
    "    if the number == 0 (heads):\n",
    "        turn left\n",
    "    else:\n",
    "        turn right\n",
    "    move the turtle forward 50"
   ]
  },
  {
   "cell_type": "markdown",
   "id": "cognitive-happiness",
   "metadata": {},
   "source": [
    "<p style=\"color:green\">Now, probably the only thing that seems a bit confusing to you is the part about whether or not the turtle is still in the screen. But this is the nice thing about programming, we can delay the tough stuff and get something in our program working right away. The way we are going to do this is to delegate the work of deciding whether the turtle is still in the screen or not to a boolean function. Let’s call this boolean function isInScreen We can write a very simple version of this boolean function by having it always return True, or by having it decide randomly, the point is to have it do something simple so that we can focus on the parts we already know how to do well and get them working. Since having it always return True would not be a good idea we will write our version to decide randomly. Let’s say that there is a 90% chance the turtle is still in the window and 10% that the turtle has escaped.</p>"
   ]
  },
  {
   "cell_type": "code",
   "execution_count": null,
   "id": "happy-funeral",
   "metadata": {},
   "outputs": [],
   "source": [
    "import random\n",
    "import turtle\n",
    "\n",
    "def isInScreen(win,turt):\n",
    "    value = random.random()     #this will generate numbers that are less than 1\n",
    "    print(value)\n",
    "    if value > 0.1:             #If generated numbers are greater than 0.1 return true\n",
    "        return True\n",
    "    else: \n",
    "        return False;\n",
    "    \n",
    "\n",
    "myTurtle = turtle.Turtle()\n",
    "myTurtle2 = turtle.Turtle()\n",
    "myScreen = turtle.Screen()\n",
    "\n",
    "myTurtle.shape(\"turtle\")\n",
    "myTurtle2.shape(\"turtle\")\n",
    "myTurtle2.color(\"green\")\n",
    "\n",
    "\n",
    "while isInScreen(myScreen,myTurtle):   #Every time true is returned from isInScreen function\n",
    "                                       #You will see next line going on once False is returned \n",
    "                                       #Program will exit\n",
    "    coin = random.randrange(0,2)       #Make decision for turtle to move left or right?\n",
    "    if coin == 1:\n",
    "        myTurtle.left(90)\n",
    "        myTurtle2.right(90)\n",
    "    else: myTurtle.right(90);myTurtle2.left(90)\n",
    "    myTurtle.forward(50)\n",
    "    myTurtle2.forward(50)\n",
    "        \n",
    "myScreen.exitonclick()"
   ]
  },
  {
   "cell_type": "markdown",
   "id": "experienced-promise",
   "metadata": {},
   "source": [
    "<p style=\"color:blue\">Now we have a working program that draws a random walk of our turtle that has a 90% chance of staying on the screen. We are in a good position, because a large part of our program is working and we can focus on the next bit of work – deciding whether the turtle is inside the screen boundaries or not.</p>\n",
    "<p style=\"color:green\">We can find out the width and the height of the screen using the window_width and window_height methods of the screen object. However, remember that the turtle starts at position 0,0 in the middle of the screen. So we never want the turtle to go farther right than width/2 or farther left than negative width/2. \n",
    "<p style=\"color:blue\">We never want the turtle to go further up than height/2 or further down than negative height/2. Once we know what the boundaries are we can use some conditionals to check the turtle position against the boundaries and return False if the turtle is outside or True if the turtle is inside.</p>\n",
    "<p style=\"color:brown\">Once we have computed our boundaries we can get the current position of the turtle and then use conditionals to decide. Here is one implementation:</p>"
   ]
  },
  {
   "cell_type": "markdown",
   "id": "developing-drain",
   "metadata": {},
   "source": [
    "<hr>Now we have a working program that draws a random walk of our turtle that has a 90% chance of staying on the screen. We are in a good position, because a large part of our program is working and we can focus on the next bit of work – deciding whether the turtle is inside the screen boundaries or not.\n",
    "\n",
    "We can find out the width and the height of the screen using the window_width and window_height methods of the screen object. However, remember that the turtle starts at position 0,0 in the middle of the screen. So we never want the turtle to go farther right than width/2 or farther left than negative width/2. We never want the turtle to go further up than height/2 or further down than negative height/2. Once we know what the boundaries are we can use some conditionals to check the turtle position against the boundaries and return False if the turtle is outside or True if the turtle is inside.\n",
    "\n",
    "Once we have computed our boundaries we can get the current position of the turtle and then use conditionals to decide. Here is one implementation:\n",
    "<hr>\n",
    "\n",
    "    def isInScreen(wn,t):\n",
    "        leftBound = -(wn.window_width() / 2)\n",
    "        rightBound = wn.window_width() / 2\n",
    "        topBound = wn.window_height() / 2\n",
    "        bottomBound = -(wn.window_height() / 2)\n",
    "\n",
    "    turtleX = t.xcor()\n",
    "    turtleY = t.ycor()\n",
    "\n",
    "    stillIn = True\n",
    "    if turtleX > rightBound or turtleX < leftBound:\n",
    "        stillIn = False\n",
    "    if turtleY > topBound or turtleY < bottomBound:\n",
    "        stillIn = False\n",
    "\n",
    "    return stillIn\n",
    "<hr>\n",
    "There are lots of ways that the conditional could be written. In this case we have given stillIn the default value of True and use two if statements to possibly set the value to False. You could rewrite this to use nested conditionals or elif statements and set stillIn to True in an else clause.\n",
    "\n",
    "Here is the full version of our random walk program."
   ]
  },
  {
   "cell_type": "code",
   "execution_count": null,
   "id": "illegal-insured",
   "metadata": {},
   "outputs": [],
   "source": []
  },
  {
   "cell_type": "code",
   "execution_count": null,
   "id": "micro-times",
   "metadata": {},
   "outputs": [],
   "source": [
    "import random\n",
    "import turtle\n",
    "\n",
    "def isInScreen(win,turt):\n",
    "    leftbound   =   -(win.window_width()/2)\n",
    "    rightbound  =    (win.window_width()/2)\n",
    "    bottombound =   -(win.window_height()/2)\n",
    "    topbound    =    (win.window_height()/2)\n",
    "    \n",
    "    turtleX     = turt.xcor()\n",
    "    turtleY     = turt.ycor()\n",
    "\n",
    "    inStill = True\n",
    "    if turtleX < leftbound   or turtleX > rightbound :\n",
    "        inStill = False\n",
    "        \n",
    "    if turtleY < bottombound   or turtleY > topbound :\n",
    "        inStill = False\n",
    "        \n",
    "    return inStill\n",
    "\n",
    "\n",
    "myTurtle = turtle.Turtle()\n",
    "#myTurtle2 = turtle.Turtle()\n",
    "myScreen = turtle.Screen()\n",
    "\n",
    "myTurtle.shape(\"turtle\")\n",
    "#myTurtle2.shape(\"turtle\")\n",
    "#myTurtle2.color(\"green\")\n",
    "\n",
    "\n",
    "while isInScreen(myScreen,myTurtle):   #Every time true is returned from isInScreen function\n",
    "                                       #You will see next line going on once False is returned \n",
    "                                       #Program will exit\n",
    "    coin = random.randrange(0,2)       #Make decision for turtle to move left or right?\n",
    "    if coin == 1:\n",
    "        myTurtle.left(90)\n",
    " #       myTurtle2.right(90)\n",
    "    else: myTurtle.right(90);#myTurtle2.left(90)\n",
    "    myTurtle.forward(50)\n",
    "    #myTurtle2.forward(50)\n",
    "        \n",
    "myScreen.exitonclick()"
   ]
  },
  {
   "cell_type": "code",
   "execution_count": null,
   "id": "pacific-cycling",
   "metadata": {},
   "outputs": [],
   "source": []
  }
 ],
 "metadata": {
  "kernelspec": {
   "display_name": "Python 3",
   "language": "python",
   "name": "python3"
  },
  "language_info": {
   "codemirror_mode": {
    "name": "ipython",
    "version": 3
   },
   "file_extension": ".py",
   "mimetype": "text/x-python",
   "name": "python",
   "nbconvert_exporter": "python",
   "pygments_lexer": "ipython3",
   "version": "3.9.2"
  }
 },
 "nbformat": 4,
 "nbformat_minor": 5
}
