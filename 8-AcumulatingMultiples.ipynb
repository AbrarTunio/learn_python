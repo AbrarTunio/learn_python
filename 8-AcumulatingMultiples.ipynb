{
 "cells": [
  {
   "cell_type": "code",
   "execution_count": 35,
   "id": "canadian-alberta",
   "metadata": {},
   "outputs": [],
   "source": [
    "fh = open(\"abrar.txt\",\"r\")"
   ]
  },
  {
   "cell_type": "code",
   "execution_count": 36,
   "id": "prerequisite-pizza",
   "metadata": {},
   "outputs": [],
   "source": [
    "read_rec = fh.read()\n",
    "#read_rec = fh.readlines()"
   ]
  },
  {
   "cell_type": "code",
   "execution_count": 40,
   "id": "golden-pakistan",
   "metadata": {},
   "outputs": [
    {
     "name": "stdout",
     "output_type": "stream",
     "text": [
      "my dictionary contains number of T ---> 1\n",
      "my dictionary contains number of h ---> 4\n",
      "my dictionary contains number of i ---> 7\n",
      "my dictionary contains number of s ---> 7\n",
      "my dictionary contains number of   ---> 19\n",
      "my dictionary contains number of a ---> 9\n",
      "my dictionary contains number of b ---> 2\n",
      "my dictionary contains number of r ---> 3\n",
      "my dictionary contains number of u ---> 1\n",
      "my dictionary contains number of n ---> 8\n",
      "my dictionary contains number of d ---> 4\n",
      "my dictionary contains number of m ---> 5\n",
      "my dictionary contains number of t ---> 4\n",
      "my dictionary contains number of e ---> 9\n",
      "my dictionary contains number of c ---> 2\n",
      "my dictionary contains number of g ---> 1\n",
      "my dictionary contains number of y ---> 3\n",
      "my dictionary contains number of w ---> 3\n",
      "my dictionary contains number of v ---> 2\n",
      "my dictionary contains number of l ---> 6\n",
      "my dictionary contains number of o ---> 5\n",
      "my dictionary contains number of p ---> 3\n",
      "my dictionary contains number of f ---> 1\n",
      "my dictionary contains number of k ---> 1\n",
      "my dictionary contains number of . ---> 1\n"
     ]
    }
   ],
   "source": [
    "mydict = {}\n",
    "for value in read_rec:\n",
    "    if value not in mydict:\n",
    "        mydict[value] = 0\n",
    "    mydict[value] += 1\n",
    "\n",
    "for value in mydict:    \n",
    "    print(\"my dictionary contains number of\", value , \"--->\" , mydict[value])"
   ]
  },
  {
   "cell_type": "code",
   "execution_count": null,
   "id": "amateur-jonathan",
   "metadata": {},
   "outputs": [],
   "source": []
  },
  {
   "cell_type": "code",
   "execution_count": null,
   "id": "current-luther",
   "metadata": {},
   "outputs": [],
   "source": []
  }
 ],
 "metadata": {
  "kernelspec": {
   "display_name": "Python 3",
   "language": "python",
   "name": "python3"
  },
  "language_info": {
   "codemirror_mode": {
    "name": "ipython",
    "version": 3
   },
   "file_extension": ".py",
   "mimetype": "text/x-python",
   "name": "python",
   "nbconvert_exporter": "python",
   "pygments_lexer": "ipython3",
   "version": "3.9.2"
  }
 },
 "nbformat": 4,
 "nbformat_minor": 5
}
