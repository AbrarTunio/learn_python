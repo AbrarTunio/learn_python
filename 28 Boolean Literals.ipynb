{
 "cells": [
  {
   "cell_type": "markdown",
   "id": "favorite-provision",
   "metadata": {},
   "source": [
    "Boolean Literals"
   ]
  },
  {
   "cell_type": "code",
   "execution_count": 1,
   "id": "falling-frontier",
   "metadata": {},
   "outputs": [
    {
     "name": "stdout",
     "output_type": "stream",
     "text": [
      "True\n"
     ]
    }
   ],
   "source": [
    "print(True)"
   ]
  },
  {
   "cell_type": "code",
   "execution_count": 2,
   "id": "sized-matthew",
   "metadata": {},
   "outputs": [
    {
     "name": "stdout",
     "output_type": "stream",
     "text": [
      "False\n"
     ]
    }
   ],
   "source": [
    "print(False)"
   ]
  },
  {
   "cell_type": "code",
   "execution_count": 5,
   "id": "asian-parks",
   "metadata": {},
   "outputs": [
    {
     "name": "stdout",
     "output_type": "stream",
     "text": [
      "<class 'bool'>\n",
      "<class 'bool'>\n",
      "<class 'str'>\n"
     ]
    }
   ],
   "source": [
    "print( type(True) )\n",
    "print( type(False) )\n",
    "#########\n",
    "print( type( \"False\" ))\n"
   ]
  },
  {
   "cell_type": "markdown",
   "id": "moved-cancellation",
   "metadata": {},
   "source": [
    "Comparison Operator"
   ]
  },
  {
   "cell_type": "code",
   "execution_count": 12,
   "id": "collective-minneapolis",
   "metadata": {},
   "outputs": [
    {
     "name": "stdout",
     "output_type": "stream",
     "text": [
      "True\n",
      "True\n",
      "False\n",
      "True\n",
      "True\n",
      "False\n"
     ]
    }
   ],
   "source": [
    "print( 5 == 5 )\n",
    "print( 2 == (1+1) )\n",
    "print( 5 == 6 )\n",
    "print( 5 != 6 )\n",
    "print( 5 >= 4)\n",
    "print( 6 < 5 )"
   ]
  },
  {
   "cell_type": "markdown",
   "id": "computational-ensemble",
   "metadata": {},
   "source": [
    "So what is difference between double equal to and single equal to?"
   ]
  }
 ],
 "metadata": {
  "kernelspec": {
   "display_name": "Python 3",
   "language": "python",
   "name": "python3"
  },
  "language_info": {
   "codemirror_mode": {
    "name": "ipython",
    "version": 3
   },
   "file_extension": ".py",
   "mimetype": "text/x-python",
   "name": "python",
   "nbconvert_exporter": "python",
   "pygments_lexer": "ipython3",
   "version": "3.9.2"
  }
 },
 "nbformat": 4,
 "nbformat_minor": 5
}
