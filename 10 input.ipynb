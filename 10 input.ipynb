{
 "cells": [
  {
   "cell_type": "markdown",
   "id": "inside-capability",
   "metadata": {},
   "source": [
    "Input Function\n",
    "Method of changing variable value on each execution"
   ]
  },
  {
   "cell_type": "code",
   "execution_count": null,
   "id": "indonesian-nursing",
   "metadata": {},
   "outputs": [],
   "source": [
    "message = input(\"What do you want to send: \")"
   ]
  },
  {
   "cell_type": "code",
   "execution_count": null,
   "id": "demographic-australian",
   "metadata": {},
   "outputs": [],
   "source": [
    "print(\"Message by user is:\", message)"
   ]
  },
  {
   "cell_type": "code",
   "execution_count": null,
   "id": "surprising-twins",
   "metadata": {},
   "outputs": [],
   "source": [
    "#What is the class of message variable?\n",
    "type(message)"
   ]
  },
  {
   "cell_type": "code",
   "execution_count": null,
   "id": "alternate-fitness",
   "metadata": {},
   "outputs": [],
   "source": [
    "#So value needs to be converted into int or float by following\n",
    "#commands\n",
    "#message = float(message)"
   ]
  },
  {
   "cell_type": "code",
   "execution_count": null,
   "id": "ready-material",
   "metadata": {},
   "outputs": [],
   "source": [
    "#type(message)"
   ]
  },
  {
   "cell_type": "code",
   "execution_count": null,
   "id": "personal-delicious",
   "metadata": {
    "tags": []
   },
   "outputs": [],
   "source": [
    "message = int(message)\n",
    "type(message)"
   ]
  },
  {
   "cell_type": "markdown",
   "id": "foster-attempt",
   "metadata": {},
   "source": [
    "Conclusion:"
   ]
  },
  {
   "cell_type": "markdown",
   "id": "primary-commonwealth",
   "metadata": {},
   "source": [
    "String ==> int/float not possible.\n",
    "Strint-Int ==> can be converted into int\n",
    "string-float ==> can not be converted into int but float"
   ]
  },
  {
   "cell_type": "code",
   "execution_count": null,
   "id": "australian-friendship",
   "metadata": {},
   "outputs": [],
   "source": []
  }
 ],
 "metadata": {
  "kernelspec": {
   "display_name": "Python 3",
   "language": "python",
   "name": "python3"
  },
  "language_info": {
   "codemirror_mode": {
    "name": "ipython",
    "version": 3
   },
   "file_extension": ".py",
   "mimetype": "text/x-python",
   "name": "python",
   "nbconvert_exporter": "python",
   "pygments_lexer": "ipython3",
   "version": "3.9.2"
  }
 },
 "nbformat": 4,
 "nbformat_minor": 5
}
