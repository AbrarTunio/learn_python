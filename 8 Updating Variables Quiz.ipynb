{
 "cells": [
  {
   "cell_type": "markdown",
   "id": "stupid-richards",
   "metadata": {},
   "source": [
    "Updating Variables Quiz"
   ]
  },
  {
   "cell_type": "markdown",
   "id": "assumed-victoria",
   "metadata": {},
   "source": [
    "Check your understanding\n",
    "\n",
    "data-14-1: What is printed when the following statements execute?\n",
    "\n",
    "x = 12\n",
    "x = x - 1\n",
    "print(x)\n",
    "A. 12\n",
    "B. -1\n",
    "C. 11\n",
    "D. Nothing. An error occurs because x can never be equal to x - 1.\n",
    "\n",
    "✔️ Yes, this statement sets the value of x equal to the current value minus 1.\n",
    "Multiple Choice (question2_14_1)\n",
    "\n",
    "data-14-2: What is printed when the following statements execute?\n",
    "\n",
    "x = 12\n",
    "x = x - 3\n",
    "x = x + 5\n",
    "x = x + 1\n",
    "print(x)\n",
    "A. 12\n",
    "B. 9\n",
    "C. 15\n",
    "D. Nothing. An error occurs because x cannot be used that many times in assignment statements.\n",
    "\n",
    "✔️ Yes, starting with 12, subtract 3, than add 5, and finally add 1.\n",
    "Multiple Choice (question2_14_2)\n",
    "\n",
    "data-14-3: Construct the code that will result in the value 134 being printed.\n",
    "Perfect! It took you only one try to solve this. Great job!\n",
    "Parsons (pp2_14_1)\n",
    "\n",
    "data-14-4: Which of the following statements are equivalent?\n",
    "\n",
    "A. x = x + y\n",
    "B. y += x\n",
    "C. x += x + y\n",
    "D. x += y\n",
    "E. x++ y\n",
    "\n",
    "✔️Correct.\n",
    "x is updated to be the old value of x plus the value of y.\n",
    "x is updated to be the old value of x plus the value of y."
   ]
  }
 ],
 "metadata": {
  "kernelspec": {
   "display_name": "Python 3",
   "language": "python",
   "name": "python3"
  },
  "language_info": {
   "codemirror_mode": {
    "name": "ipython",
    "version": 3
   },
   "file_extension": ".py",
   "mimetype": "text/x-python",
   "name": "python",
   "nbconvert_exporter": "python",
   "pygments_lexer": "ipython3",
   "version": "3.9.2"
  }
 },
 "nbformat": 4,
 "nbformat_minor": 5
}
