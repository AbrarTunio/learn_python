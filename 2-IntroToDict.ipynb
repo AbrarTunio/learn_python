{
 "cells": [
  {
   "cell_type": "markdown",
   "id": "sized-defeat",
   "metadata": {},
   "source": [
    "3. Create a dictionary that keeps track of the USA’s Olympic medal count. Each key of the dictionary should be the type of medal (gold, silver, or bronze) and each key’s value should be the number of that type of medal the USA’s won. Currently, the USA has 33 gold medals, 17 silver, and 12 bronze. Create a dictionary saved in the variable medals that reflects this information."
   ]
  },
  {
   "cell_type": "code",
   "execution_count": 1,
   "id": "atmospheric-insulin",
   "metadata": {},
   "outputs": [],
   "source": [
    "medals_USA = {\"gold\":33, \"sliver\":17, \"bronze\":12}"
   ]
  },
  {
   "cell_type": "code",
   "execution_count": 2,
   "id": "circular-penguin",
   "metadata": {},
   "outputs": [
    {
     "name": "stdout",
     "output_type": "stream",
     "text": [
      "{'gold': 33, 'sliver': 17, 'bronze': 12}\n"
     ]
    }
   ],
   "source": [
    "print(medals_USA)"
   ]
  },
  {
   "cell_type": "markdown",
   "id": "alone-kruger",
   "metadata": {},
   "source": [
    "You are keeping track of olympic medals for Italy in the 2016 Rio Summer Olympics! At the moment, Italy has 7 gold medals, 8 silver metals, and 6 bronze medals. Create a dictionary called olympics where the keys are the types of medals, and the values are the number of that type of medals that Italy has won so far.\n",
    "\n"
   ]
  },
  {
   "cell_type": "code",
   "execution_count": 3,
   "id": "swedish-seating",
   "metadata": {},
   "outputs": [],
   "source": [
    "olympics = {\"gold\":7, \"silver\":8, \"bronze\":6}\n"
   ]
  },
  {
   "cell_type": "code",
   "execution_count": null,
   "id": "breeding-profile",
   "metadata": {},
   "outputs": [],
   "source": []
  }
 ],
 "metadata": {
  "kernelspec": {
   "display_name": "Python 3",
   "language": "python",
   "name": "python3"
  },
  "language_info": {
   "codemirror_mode": {
    "name": "ipython",
    "version": 3
   },
   "file_extension": ".py",
   "mimetype": "text/x-python",
   "name": "python",
   "nbconvert_exporter": "python",
   "pygments_lexer": "ipython3",
   "version": "3.9.2"
  }
 },
 "nbformat": 4,
 "nbformat_minor": 5
}
