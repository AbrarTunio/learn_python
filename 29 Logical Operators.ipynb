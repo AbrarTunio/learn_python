{
 "cells": [
  {
   "cell_type": "markdown",
   "id": "interim-sarah",
   "metadata": {},
   "source": [
    "condition-2-1: Which of the following is a Boolean expression? Select all that apply.\n",
    "\n",
    "A. True\n",
    "B. 3 == 4\n",
    "C. 3 + 4\n",
    "D. 3 + 4 == 7\n",
    "E. \"False\"\n",
    "\n",
    "✔️Correct.\n",
    "True and False are both Boolean literals.\n",
    "The comparison between two numbers via == results in either True or False (in this case False), both Boolean values.\n",
    "3+4 evaluates to 7. 7 == 7 then evaluates to True, which is a Boolean value."
   ]
  },
  {
   "cell_type": "code",
   "execution_count": 13,
   "id": "formed-puzzle",
   "metadata": {},
   "outputs": [],
   "source": [
    "#So there are 3 types of boolean operators\n",
    "#1 Literal Operator ========= True or False\n",
    "#2 Comparison Operators ===== ( ==, <, >, <=, >= )\n",
    "#3 Logical Operator ========= ( and , or, not )"
   ]
  },
  {
   "cell_type": "code",
   "execution_count": 14,
   "id": "offensive-treasury",
   "metadata": {},
   "outputs": [
    {
     "name": "stdout",
     "output_type": "stream",
     "text": [
      "False\n",
      "True\n",
      "True\n"
     ]
    }
   ],
   "source": [
    "x = 5\n",
    "print(  x>0    and     x>10 )\n",
    "print(  x>0    or      x>10)\n",
    "print(  x!=6  )\n"
   ]
  },
  {
   "cell_type": "code",
   "execution_count": 18,
   "id": "statewide-situation",
   "metadata": {},
   "outputs": [
    {
     "name": "stdout",
     "output_type": "stream",
     "text": [
      "False\n",
      "True\n"
     ]
    }
   ],
   "source": [
    "n = 25\n",
    "print(   n%3 == 0    or   n%2 == 0)\n",
    "print(   n%5 == 0    or   n%2 == 0)\n"
   ]
  },
  {
   "cell_type": "code",
   "execution_count": null,
   "id": "painted-crack",
   "metadata": {},
   "outputs": [],
   "source": [
    "condition-3-1: What is the correct Python expression for checking to see if a number stored in a variable x is between 0 and 5.\n",
    "\n",
    "A. x > 0 and < 5\n",
    "B. 0 < x < 5\n",
    "C. x > 0 or x < 5\n",
    "D. x > 0 and x < 5\n",
    "\n",
    "✔️ Yes, with an ``and`` keyword both expressions must be true so the number must be greater than 0 an less than 5 for this expression to be true."
   ]
  }
 ],
 "metadata": {
  "kernelspec": {
   "display_name": "Python 3",
   "language": "python",
   "name": "python3"
  },
  "language_info": {
   "codemirror_mode": {
    "name": "ipython",
    "version": 3
   },
   "file_extension": ".py",
   "mimetype": "text/x-python",
   "name": "python",
   "nbconvert_exporter": "python",
   "pygments_lexer": "ipython3",
   "version": "3.9.2"
  }
 },
 "nbformat": 4,
 "nbformat_minor": 5
}
