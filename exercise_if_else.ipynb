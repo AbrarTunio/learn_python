{
 "cells": [
  {
   "cell_type": "markdown",
   "id": "overall-ratio",
   "metadata": {},
   "source": [
    "<p style=\"color:brown\"> <b>Exercies 1:</b> Write a <span style=\"color:orange\">Python program</span> to : check whether an alphabet is a <span style=\"color:green\">vowel</span> or <span style=\"color:blue\">consonant</span> <span>. <b>Computer should ask user to input letter everytime a program is executed</span></p>"
   ]
  },
  {
   "cell_type": "code",
   "execution_count": null,
   "id": "sufficient-identity",
   "metadata": {},
   "outputs": [],
   "source": [
    "#hint1 vowels are [a, e, i, o, u]\n",
    "#hint2 letter y is sometimes vowel, all others are consonants"
   ]
  },
  {
   "cell_type": "code",
   "execution_count": 24,
   "id": "romance-survivor",
   "metadata": {},
   "outputs": [
    {
     "name": "stdin",
     "output_type": "stream",
     "text": [
      "Enter the letter you want to check:  y\n"
     ]
    },
    {
     "name": "stdout",
     "output_type": "stream",
     "text": [
      "letter y is sometimes a vowel and sometimes consonant\n"
     ]
    }
   ],
   "source": [
    "______ = input (\"Enter the letter you want to check: \")\n",
    "\n",
    "if ______ == \"a\" or ______ == \"e\" or ______ == \"i\" or ______ == \"o\" or ______ == \"u\":\n",
    "    print(\"The letter entered is vowel\")\n",
    "elif ______ == \"y\":\n",
    "    print(\"letter y is sometimes a vowel and sometimes consonant\")\n",
    "____ :\n",
    "    print(\"letter entered is a consonant\")\n"
   ]
  },
  {
   "cell_type": "markdown",
   "id": "original-things",
   "metadata": {},
   "source": [
    "<p style=\"color:navy\"> <b>Exercise 2: </b>Write an <span style=\"color:green\">if statement</span> that asks for the user's name via <span style=\"color:green\">input() function</span>. If the name is \"Bond\" make it print <span style=\"color:green\">\"Welcome on board 007.\"</span>. Otherwise make it print \"Good morning NAME\". (Replace Name with user's name)<p>"
   ]
  },
  {
   "cell_type": "code",
   "execution_count": 51,
   "id": "available-density",
   "metadata": {},
   "outputs": [
    {
     "name": "stdin",
     "output_type": "stream",
     "text": [
      "Please tell me your name 2365\n"
     ]
    },
    {
     "name": "stdout",
     "output_type": "stream",
     "text": [
      "Good Morning 2365\n"
     ]
    }
   ],
   "source": [
    "name = input(\"Please tell me your name\")\n",
    "if name == \"Bond\":\n",
    "    print(\"Welcome on board 007.\")\n",
    "else: \n",
    "    print(\"Good Morning\",name)"
   ]
  },
  {
   "cell_type": "markdown",
   "id": "jewish-backing",
   "metadata": {},
   "source": [
    "<p style=\"color:navy\"> <b>Exercise 3:</b> Write a Python program to sum two given integers. However, if the sum is between<span style=\"color:red\"> 15 to 20 </span> it will return 20</p>"
   ]
  },
  {
   "cell_type": "code",
   "execution_count": 32,
   "id": "moving-architect",
   "metadata": {},
   "outputs": [
    {
     "name": "stdin",
     "output_type": "stream",
     "text": [
      "Please enter first number:  9\n",
      "Please enter second number:  9\n"
     ]
    },
    {
     "name": "stdout",
     "output_type": "stream",
     "text": [
      "20\n"
     ]
    }
   ],
   "source": [
    "____ = input(\"Please enter first number: \")\n",
    "____ = input(\"Please enter second number: \")\n",
    "add = ___(num1) + ___(num2)\n",
    "\n",
    "if ____ >= 15 and ____ <= 20:\n",
    "    add = 20\n",
    "    print(____)\n",
    "else:\n",
    "    print(add)"
   ]
  },
  {
   "cell_type": "markdown",
   "id": "through-platform",
   "metadata": {},
   "source": [
    "<p > <b><em>Exercise 4:</em></b> Write a program that checks temperature of patient using <span style=\"color:red\">input() function</span> if the temperature is <span style=\"color:red\">greater than 100</span>, it should tell \"You must go to hospital\", <span style=\"color:red\">else</span> it prints, \"you are absolutely fine\"</p> "
   ]
  },
  {
   "cell_type": "code",
   "execution_count": 36,
   "id": "democratic-growth",
   "metadata": {},
   "outputs": [
    {
     "name": "stdin",
     "output_type": "stream",
     "text": [
      "What is your temperature?  104\n"
     ]
    },
    {
     "name": "stdout",
     "output_type": "stream",
     "text": [
      "You must go to hospital\n"
     ]
    }
   ],
   "source": [
    "temp = input(\"What is your temperature? \")\n",
    "\n",
    "i_temp = int(____) \n",
    "\n",
    "if _____ >=  100:\n",
    "    print(\"You must go to hospital\")\n",
    "else:\n",
    "    print(\"you are absolutely fine\")"
   ]
  },
  {
   "cell_type": "markdown",
   "id": "sustainable-oasis",
   "metadata": {},
   "source": [
    "Exercise 5: Write a Python program to display astrological sign for given date of birth. \n",
    "\n",
    "<code>Expected Output:</code>\n",
    "\n",
    "Input birthday: 15                                                      \n",
    "Input month of birth (e.g. march, july etc): may                        \n",
    "Your Astrological sign is : Taurus "
   ]
  },
  {
   "cell_type": "code",
   "execution_count": 52,
   "id": "retained-resident",
   "metadata": {},
   "outputs": [
    {
     "name": "stdout",
     "output_type": "stream",
     "text": [
      "500\n"
     ]
    }
   ],
   "source": [
    "print(1500%\n",
    "      1000)"
   ]
  },
  {
   "cell_type": "code",
   "execution_count": null,
   "id": "mental-applicant",
   "metadata": {},
   "outputs": [],
   "source": []
  }
 ],
 "metadata": {
  "kernelspec": {
   "display_name": "Python 3",
   "language": "python",
   "name": "python3"
  },
  "language_info": {
   "codemirror_mode": {
    "name": "ipython",
    "version": 3
   },
   "file_extension": ".py",
   "mimetype": "text/x-python",
   "name": "python",
   "nbconvert_exporter": "python",
   "pygments_lexer": "ipython3",
   "version": "3.9.6"
  }
 },
 "nbformat": 4,
 "nbformat_minor": 5
}
