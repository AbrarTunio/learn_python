{
 "cells": [
  {
   "cell_type": "markdown",
   "id": "available-granny",
   "metadata": {},
   "source": [
    "**Function Composition"
   ]
  },
  {
   "cell_type": "code",
   "execution_count": 4,
   "id": "reported-bolivia",
   "metadata": {},
   "outputs": [
    {
     "data": {
      "text/plain": [
       "21"
      ]
     },
     "execution_count": 4,
     "metadata": {},
     "output_type": "execute_result"
    }
   ],
   "source": [
    "#Sum of Squares\n",
    "def square(num):\n",
    "    squared = num ** 2\n",
    "    return squared\n",
    "\n",
    "def sum_square(num1,num2,num3):\n",
    "    sq1 = square(num1)\n",
    "    sq2 = square(num2)\n",
    "    sq3 = square(num3)\n",
    "    return sq1 + sq2 + sq3\n",
    "\n",
    "sum_square(2,4,1)"
   ]
  },
  {
   "cell_type": "code",
   "execution_count": 7,
   "id": "intensive-cookbook",
   "metadata": {},
   "outputs": [
    {
     "name": "stdout",
     "output_type": "stream",
     "text": [
      "a\n"
     ]
    }
   ],
   "source": [
    "#When given a string find most common letter which appears repeatatively.\n",
    "\n",
    "#Step 3: Get most common letter when string is supplied.\n",
    "def most_common_word(myword):   #String supplied in form of myword\n",
    "    word = create_dict(myword)  #Create a dictionary out of supplied words/strings\n",
    "    return best_number(word)    #Put that dictionary into best_number function and return its value and \n",
    "                                #print it in call function in the end\n",
    "\n",
    "\n",
    "#Step 1 Create a dictionary with count of words from supplied String\n",
    "def create_dict(words):\n",
    "    d = {}\n",
    "    for word in words:\n",
    "        if word not in d:\n",
    "            d[word] = 0\n",
    "        d[word] += 1\n",
    "    return d    \n",
    "\n",
    "#Step 2 Create a method so if dictionary is supplied, it may take out highest score Alphabet\n",
    "def best_number(dictionary):\n",
    "    keys = dictionary.keys()\n",
    "    best_key = list(keys)[0]\n",
    "    for key in keys:\n",
    "        if dictionary[key] > dictionary[best_key]:\n",
    "            best_key = key\n",
    "    return best_key\n",
    "\n",
    "\n",
    "string = \"aaaaaaabbbbbbccdd\"\n",
    "print(most_common_word(string))"
   ]
  },
  {
   "cell_type": "code",
   "execution_count": 30,
   "id": "concerned-analyst",
   "metadata": {},
   "outputs": [
    {
     "name": "stdout",
     "output_type": "stream",
     "text": [
      " \n"
     ]
    }
   ],
   "source": [
    "def most_common_word(some_sentence):\n",
    "    name_values = name_value_pair(some_sentence)\n",
    "    return best_word(name_values)\n",
    "\n",
    "def name_value_pair(phrase):\n",
    "    d = {}\n",
    "    for name in phrase:\n",
    "        if name not in d:\n",
    "            d[name] = 0\n",
    "        d[name] += 1\n",
    "    #print(d)\n",
    "    return d\n",
    "\n",
    "def best_word(dic):\n",
    "    names = dic.keys()\n",
    "    best_wd = list(names)[0]\n",
    "    #print(best_wd)\n",
    "    for name in names:\n",
    "        #print(dic[best_wd])    \n",
    "        if dic[name] > dic[best_wd]:\n",
    "            best_wd = name\n",
    "            #print(best_wd)\n",
    "    return best_wd\n",
    "\n",
    "sentence = \"This is Abrar Hussain and What is your name Sire?\"\n",
    "output = most_common_word(sentence)\n",
    "print(output) # space is most common word in sentence"
   ]
  },
  {
   "cell_type": "markdown",
   "id": "chinese-support",
   "metadata": {},
   "source": [
    "You may not see anything in above execution because space is the most common word!"
   ]
  },
  {
   "cell_type": "code",
   "execution_count": 33,
   "id": "controlling-ultimate",
   "metadata": {},
   "outputs": [
    {
     "name": "stdout",
     "output_type": "stream",
     "text": [
      "i\n"
     ]
    }
   ],
   "source": [
    "def most_common_word(some_sentence):\n",
    "    name_values = name_value_pair(some_sentence)\n",
    "    return best_word(name_values)\n",
    "\n",
    "def name_value_pair(phrase):\n",
    "    d = {}\n",
    "    for name in phrase:\n",
    "        if name not in d:\n",
    "            d[name] = 0\n",
    "        d[name] += 1\n",
    "    #print(d)\n",
    "    return d\n",
    "\n",
    "def best_word(dic):\n",
    "    names = dic.keys()\n",
    "    best_wd = list(names)[0]\n",
    "    #print(best_wd)\n",
    "    for name in names:\n",
    "        #print(dic[best_wd])    \n",
    "        if dic[name] > dic[best_wd] and name != \" \": #here i have modified so it may not include any spaces\n",
    "            best_wd = name\n",
    "            #print(best_wd)\n",
    "    return best_wd\n",
    "\n",
    "sentence = \"This is Abrar Hussain and What is your name Sire?\"\n",
    "output = most_common_word(sentence)\n",
    "print(output) # space is most common word in sentence"
   ]
  },
  {
   "cell_type": "markdown",
   "id": "faced-escape",
   "metadata": {},
   "source": [
    "1. Write two functions, one called **addit** and one called **mult**. **addit** takes one number as an input and adds **5**. **mult** takes one number as an input, and multiplies that input by whatever is **returned by addit**, and then returns the **result**."
   ]
  },
  {
   "cell_type": "code",
   "execution_count": 36,
   "id": "surgical-antibody",
   "metadata": {},
   "outputs": [
    {
     "data": {
      "text/plain": [
       "14"
      ]
     },
     "execution_count": 36,
     "metadata": {},
     "output_type": "execute_result"
    }
   ],
   "source": [
    "def addit (arg1):\n",
    "    return arg1 + 5\n",
    "def mult ( num1 ):\n",
    "    return num1 * addit(num1)\n",
    "\n",
    "mult(2)"
   ]
  },
  {
   "cell_type": "code",
   "execution_count": 34,
   "id": "motivated-coalition",
   "metadata": {},
   "outputs": [
    {
     "ename": "SyntaxError",
     "evalue": "illegal target for annotation (<ipython-input-34-0129ed27d23a>, line 1)",
     "output_type": "error",
     "traceback": [
      "\u001b[1;36m  File \u001b[1;32m\"<ipython-input-34-0129ed27d23a>\"\u001b[1;36m, line \u001b[1;32m1\u001b[0m\n\u001b[1;33m    unc-10-1: Consider the following Python code. Note that line numbers are included on the left.\u001b[0m\n\u001b[1;37m    ^\u001b[0m\n\u001b[1;31mSyntaxError\u001b[0m\u001b[1;31m:\u001b[0m illegal target for annotation\n"
     ]
    }
   ],
   "source": [
    "unc-10-1: Consider the following Python code. Note that line numbers are included on the left.\n",
    "\n",
    " \n",
    "def pow(b, p):\n",
    "    y = b ** p\n",
    "    return y\n",
    "\n",
    "def square(x):\n",
    "    a = pow(x, 2)\n",
    "    return a\n",
    "\n",
    "n = 5\n",
    "result = square(n)\n",
    "print(result)\n",
    "What does this function print?\n",
    "\n",
    "A. 25\n",
    "B. 5\n",
    "C. 125\n",
    "D. 32\n",
    "\n",
    "✔️ The function square returns the square of its input (via a call to pow). (a)"
   ]
  },
  {
   "cell_type": "code",
   "execution_count": 37,
   "id": "confused-improvement",
   "metadata": {},
   "outputs": [
    {
     "ename": "SyntaxError",
     "evalue": "invalid syntax (<ipython-input-37-98068c20a451>, line 1)",
     "output_type": "error",
     "traceback": [
      "\u001b[1;36m  File \u001b[1;32m\"<ipython-input-37-98068c20a451>\"\u001b[1;36m, line \u001b[1;32m1\u001b[0m\n\u001b[1;33m    Check your understanding\u001b[0m\n\u001b[1;37m          ^\u001b[0m\n\u001b[1;31mSyntaxError\u001b[0m\u001b[1;31m:\u001b[0m invalid syntax\n"
     ]
    }
   ],
   "source": [
    "Check your understanding\n",
    "\n",
    "func-11-1: What will the following code output?\n",
    "\n",
    "def square(x):\n",
    "    return x*x\n",
    "\n",
    "def g(y):\n",
    "    return y + 3\n",
    "\n",
    "def h(y):\n",
    "    return square(y) + 3\n",
    "\n",
    "print(h(2))\n",
    "A. 2\n",
    "B. 5\n",
    "C. 7\n",
    "D. 25\n",
    "E. Error: y has a value but x is an unbound variable inside the square function\n",
    "\n",
    "✔️ First square 2, then add 3. (c)"
   ]
  },
  {
   "cell_type": "code",
   "execution_count": 38,
   "id": "reliable-northwest",
   "metadata": {},
   "outputs": [
    {
     "ename": "SyntaxError",
     "evalue": "invalid syntax (<ipython-input-38-df902bd17b6c>, line 13)",
     "output_type": "error",
     "traceback": [
      "\u001b[1;36m  File \u001b[1;32m\"<ipython-input-38-df902bd17b6c>\"\u001b[1;36m, line \u001b[1;32m13\u001b[0m\n\u001b[1;33m    A. 2\u001b[0m\n\u001b[1;37m    ^\u001b[0m\n\u001b[1;31mSyntaxError\u001b[0m\u001b[1;31m:\u001b[0m invalid syntax\n"
     ]
    }
   ],
   "source": [
    "func-11-2: What will the following code output?\n",
    "\n",
    "def square(x):\n",
    "    return x*x\n",
    "\n",
    "def g(y):\n",
    "    return y + 3\n",
    "\n",
    "def h(y):\n",
    "    return square(y) + 3\n",
    "\n",
    "print(g(h(2))\n",
    "A. 2\n",
    "B. 5\n",
    "C. 7\n",
    "D. 10\n",
    "E. Error: you can't nest function calls\n",
    "\n",
    "✔️ h(2) returns 7, so y is bound to 7 when g is invoked. (d)\n"
   ]
  },
  {
   "cell_type": "code",
   "execution_count": null,
   "id": "negative-necklace",
   "metadata": {},
   "outputs": [],
   "source": []
  }
 ],
 "metadata": {
  "kernelspec": {
   "display_name": "Python 3",
   "language": "python",
   "name": "python3"
  },
  "language_info": {
   "codemirror_mode": {
    "name": "ipython",
    "version": 3
   },
   "file_extension": ".py",
   "mimetype": "text/x-python",
   "name": "python",
   "nbconvert_exporter": "python",
   "pygments_lexer": "ipython3",
   "version": "3.9.2"
  }
 },
 "nbformat": 4,
 "nbformat_minor": 5
}
