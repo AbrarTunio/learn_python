{
 "cells": [
  {
   "cell_type": "code",
   "execution_count": 1,
   "id": "robust-final",
   "metadata": {},
   "outputs": [
    {
     "ename": "SyntaxError",
     "evalue": "illegal target for annotation (<ipython-input-1-6dabd36e916d>, line 1)",
     "output_type": "error",
     "traceback": [
      "\u001b[1;36m  File \u001b[1;32m\"<ipython-input-1-6dabd36e916d>\"\u001b[1;36m, line \u001b[1;32m1\u001b[0m\n\u001b[1;33m    func-3-1: Which of the following is a valid function header (first line of a function definition)?\u001b[0m\n\u001b[1;37m    ^\u001b[0m\n\u001b[1;31mSyntaxError\u001b[0m\u001b[1;31m:\u001b[0m illegal target for annotation\n"
     ]
    }
   ],
   "source": [
    "func-3-1: Which of the following is a valid function header (first line of a function definition)?\n",
    "\n",
    "A. def greet(t):\n",
    "B. def greet:\n",
    "C. greet(t, n):\n",
    "D. def greet(t, n)\n",
    "\n",
    "✔️ A function may take zero or more parameters. In this case it has one."
   ]
  },
  {
   "cell_type": "code",
   "execution_count": 2,
   "id": "cloudy-lover",
   "metadata": {},
   "outputs": [
    {
     "ename": "SyntaxError",
     "evalue": "invalid syntax (<ipython-input-2-8bce061b2ddf>, line 7)",
     "output_type": "error",
     "traceback": [
      "\u001b[1;36m  File \u001b[1;32m\"<ipython-input-2-8bce061b2ddf>\"\u001b[1;36m, line \u001b[1;32m7\u001b[0m\n\u001b[1;33m    A. def print_many(x, y):\u001b[0m\n\u001b[1;37m       ^\u001b[0m\n\u001b[1;31mSyntaxError\u001b[0m\u001b[1;31m:\u001b[0m invalid syntax\n"
     ]
    }
   ],
   "source": [
    "func-3-2: What is the name of the following function?\n",
    "\n",
    "def print_many(x, y):\n",
    "    \"\"\"Print out string x, y times.\"\"\"\n",
    "    for i in range(y):\n",
    "        print(x)\n",
    "A. def print_many(x, y):\n",
    "B. print_many\n",
    "C. print_many(x, y)\n",
    "D. Print out string x, y times.\n",
    "\n",
    "✔️ Yes, the name of the function is given after the keyword def and before the list of parameters."
   ]
  },
  {
   "cell_type": "code",
   "execution_count": 3,
   "id": "associate-combination",
   "metadata": {},
   "outputs": [
    {
     "ename": "SyntaxError",
     "evalue": "invalid character '✔' (U+2714) (<ipython-input-3-92447b7c1ca9>, line 12)",
     "output_type": "error",
     "traceback": [
      "\u001b[1;36m  File \u001b[1;32m\"<ipython-input-3-92447b7c1ca9>\"\u001b[1;36m, line \u001b[1;32m12\u001b[0m\n\u001b[1;33m    ✔️ Yes, the function specifies two parameters: x and y.\u001b[0m\n\u001b[1;37m    ^\u001b[0m\n\u001b[1;31mSyntaxError\u001b[0m\u001b[1;31m:\u001b[0m invalid character '✔' (U+2714)\n"
     ]
    }
   ],
   "source": [
    "func-3-3: What are the parameters of the following function?\n",
    "\n",
    "def print_many(x, y):\n",
    "    \"\"\"Print out string x, y times.\"\"\"\n",
    "    for i in range(y):\n",
    "        print(x)\n",
    "A. i\n",
    "B. x\n",
    "C. x, y\n",
    "D. x, y, i\n",
    "\n",
    "✔️ Yes, the function specifies two parameters: x and y."
   ]
  },
  {
   "cell_type": "code",
   "execution_count": 4,
   "id": "supported-supplier",
   "metadata": {},
   "outputs": [
    {
     "ename": "SyntaxError",
     "evalue": "illegal target for annotation (<ipython-input-4-b319390fbda6>, line 1)",
     "output_type": "error",
     "traceback": [
      "\u001b[1;36m  File \u001b[1;32m\"<ipython-input-4-b319390fbda6>\"\u001b[1;36m, line \u001b[1;32m1\u001b[0m\n\u001b[1;33m    func-3-4: Considering the function below, which of the following statements correctly invokes, or calls, this function (i.e., causes it to run)?\u001b[0m\n\u001b[1;37m    ^\u001b[0m\n\u001b[1;31mSyntaxError\u001b[0m\u001b[1;31m:\u001b[0m illegal target for annotation\n"
     ]
    }
   ],
   "source": [
    "func-3-4: Considering the function below, which of the following statements correctly invokes, or calls, this function (i.e., causes it to run)?\n",
    "\n",
    "def print_many(x, y):\n",
    "   \"\"\"Print out string x, y times.\"\"\"\n",
    "   for i in range(y):\n",
    "       print(x)\n",
    "\n",
    "z = 3\n",
    "A. print_many(x, y)\n",
    "B. print_many\n",
    "C. print_many(\"Greetings\")\n",
    "D. print_many(\"Greetings\", 10):\n",
    "E. print_many(\"Greetings\", z)\n",
    "\n",
    "✔️ Since z has the value 3, we have passed in two correct values for this function. \"Greetings\" will be printed 3 times."
   ]
  },
  {
   "cell_type": "code",
   "execution_count": 5,
   "id": "saving-induction",
   "metadata": {},
   "outputs": [
    {
     "ename": "SyntaxError",
     "evalue": "illegal target for annotation (<ipython-input-5-32e3a95da6dd>, line 1)",
     "output_type": "error",
     "traceback": [
      "\u001b[1;36m  File \u001b[1;32m\"<ipython-input-5-32e3a95da6dd>\"\u001b[1;36m, line \u001b[1;32m1\u001b[0m\n\u001b[1;33m    func-3-5: True or false: A function can be called several times by placing a function call in the body of a for loop.\u001b[0m\n\u001b[1;37m    ^\u001b[0m\n\u001b[1;31mSyntaxError\u001b[0m\u001b[1;31m:\u001b[0m illegal target for annotation\n"
     ]
    }
   ],
   "source": [
    "func-3-5: True or false: A function can be called several times by placing a function call in the body of a for loop.\n",
    "\n",
    "A. True\n",
    "B. False\n",
    "\n",
    "✔️ Yes, you can call a function multiple times by putting the call in a loop."
   ]
  },
  {
   "cell_type": "code",
   "execution_count": 6,
   "id": "recognized-inspiration",
   "metadata": {},
   "outputs": [
    {
     "ename": "SyntaxError",
     "evalue": "invalid character '✔' (U+2714) (<ipython-input-6-4d8b47f5bd7c>, line 15)",
     "output_type": "error",
     "traceback": [
      "\u001b[1;36m  File \u001b[1;32m\"<ipython-input-6-4d8b47f5bd7c>\"\u001b[1;36m, line \u001b[1;32m15\u001b[0m\n\u001b[1;33m    ✔️ \"Goodbye\" is longer than \"Hello\"\u001b[0m\n\u001b[1;37m    ^\u001b[0m\n\u001b[1;31mSyntaxError\u001b[0m\u001b[1;31m:\u001b[0m invalid character '✔' (U+2714)\n"
     ]
    }
   ],
   "source": [
    "func-3-6: What output will the following code produce?\n",
    "\n",
    "def cyu(s1, s2):\n",
    "   if len(s1) > len(s2):\n",
    "      print(s1)\n",
    "   else:\n",
    "      print(s2)\n",
    "\n",
    "cyu(\"Hello\", \"Goodbye\")\n",
    "A. Hello\n",
    "B. Goodbye\n",
    "C. s1\n",
    "D. s2\n",
    "\n",
    "✔️ \"Goodbye\" is longer than \"Hello\""
   ]
  },
  {
   "cell_type": "code",
   "execution_count": null,
   "id": "turned-builder",
   "metadata": {},
   "outputs": [],
   "source": []
  }
 ],
 "metadata": {
  "kernelspec": {
   "display_name": "Python 3",
   "language": "python",
   "name": "python3"
  },
  "language_info": {
   "codemirror_mode": {
    "name": "ipython",
    "version": 3
   },
   "file_extension": ".py",
   "mimetype": "text/x-python",
   "name": "python",
   "nbconvert_exporter": "python",
   "pygments_lexer": "ipython3",
   "version": "3.9.2"
  }
 },
 "nbformat": 4,
 "nbformat_minor": 5
}
