{
 "cells": [
  {
   "cell_type": "markdown",
   "id": "raised-dialogue",
   "metadata": {},
   "source": [
    "Type Conversion Functions"
   ]
  },
  {
   "cell_type": "code",
   "execution_count": 3,
   "id": "white-somerset",
   "metadata": {},
   "outputs": [
    {
     "name": "stdout",
     "output_type": "stream",
     "text": [
      "3.14 ------> 3\n"
     ]
    }
   ],
   "source": [
    "print(3.14,\"------>\",int(3.14))"
   ]
  },
  {
   "cell_type": "code",
   "execution_count": 4,
   "id": "demographic-investor",
   "metadata": {},
   "outputs": [
    {
     "name": "stdout",
     "output_type": "stream",
     "text": [
      "3.0 -----> 3\n"
     ]
    }
   ],
   "source": [
    "print(3.0,\"----->\",int(3.0))"
   ]
  },
  {
   "cell_type": "code",
   "execution_count": 9,
   "id": "behind-creek",
   "metadata": {},
   "outputs": [
    {
     "name": "stdout",
     "output_type": "stream",
     "text": [
      "2\n",
      "<class 'str'>\n",
      "<class 'int'>\n"
     ]
    }
   ],
   "source": [
    "print(           int(\"2\")     )\n",
    "print(    type(      \"2\"   )  )\n",
    "print(    type(  int(\"2\")  )  )"
   ]
  },
  {
   "cell_type": "code",
   "execution_count": 15,
   "id": "impressive-nutrition",
   "metadata": {
    "scrolled": true
   },
   "outputs": [
    {
     "ename": "ValueError",
     "evalue": "invalid literal for int() with base 10: '2.0'",
     "output_type": "error",
     "traceback": [
      "\u001b[1;31m---------------------------------------------------------------------------\u001b[0m",
      "\u001b[1;31mValueError\u001b[0m                                Traceback (most recent call last)",
      "\u001b[1;32m<ipython-input-15-1da4b8b1c083>\u001b[0m in \u001b[0;36m<module>\u001b[1;34m\u001b[0m\n\u001b[0;32m      1\u001b[0m \u001b[1;31m#In this particular example there is a floating point digit which is converted into string by quotes\u001b[0m\u001b[1;33m\u001b[0m\u001b[1;33m\u001b[0m\u001b[1;33m\u001b[0m\u001b[0m\n\u001b[1;32m----> 2\u001b[1;33m \u001b[0mprint\u001b[0m\u001b[1;33m(\u001b[0m\u001b[0mint\u001b[0m\u001b[1;33m(\u001b[0m\u001b[1;34m\"2.0\"\u001b[0m\u001b[1;33m)\u001b[0m\u001b[1;33m)\u001b[0m\u001b[1;33m\u001b[0m\u001b[1;33m\u001b[0m\u001b[0m\n\u001b[0m",
      "\u001b[1;31mValueError\u001b[0m: invalid literal for int() with base 10: '2.0'"
     ]
    }
   ],
   "source": [
    "#In this particular example there is a floating point digit which is converted into string by quotes\n",
    "print(int(\"2.0\"))"
   ]
  },
  {
   "cell_type": "code",
   "execution_count": 13,
   "id": "historic-train",
   "metadata": {},
   "outputs": [
    {
     "name": "stdout",
     "output_type": "stream",
     "text": [
      "2\n"
     ]
    }
   ],
   "source": [
    "#Resolve it by first converting into float out of string and then to int\n",
    "print(int (float(\"2.0\") ))"
   ]
  },
  {
   "cell_type": "code",
   "execution_count": 12,
   "id": "promotional-welcome",
   "metadata": {},
   "outputs": [
    {
     "ename": "ValueError",
     "evalue": "invalid literal for int() with base 10: 'Abrar'",
     "output_type": "error",
     "traceback": [
      "\u001b[1;31m---------------------------------------------------------------------------\u001b[0m",
      "\u001b[1;31mValueError\u001b[0m                                Traceback (most recent call last)",
      "\u001b[1;32m<ipython-input-12-b88dc79b0020>\u001b[0m in \u001b[0;36m<module>\u001b[1;34m\u001b[0m\n\u001b[1;32m----> 1\u001b[1;33m \u001b[0mprint\u001b[0m\u001b[1;33m(\u001b[0m\u001b[0mint\u001b[0m\u001b[1;33m(\u001b[0m\u001b[1;34m\"Abrar\"\u001b[0m\u001b[1;33m)\u001b[0m\u001b[1;33m)\u001b[0m\u001b[1;33m\u001b[0m\u001b[1;33m\u001b[0m\u001b[0m\n\u001b[0m",
      "\u001b[1;31mValueError\u001b[0m: invalid literal for int() with base 10: 'Abrar'"
     ]
    }
   ],
   "source": [
    "print(int(\"Abrar\"))"
   ]
  },
  {
   "cell_type": "markdown",
   "id": "upset-shell",
   "metadata": {},
   "source": [
    "Lets convert values into FLOAT now"
   ]
  },
  {
   "cell_type": "code",
   "execution_count": 18,
   "id": "radical-amber",
   "metadata": {},
   "outputs": [
    {
     "name": "stdout",
     "output_type": "stream",
     "text": [
      "7.27\n",
      "<class 'float'>\n"
     ]
    }
   ],
   "source": [
    "#convert string into float\n",
    "print(        float(\"7.27\") )\n",
    "print(   type(float(\"7.27\") ))\n"
   ]
  },
  {
   "cell_type": "code",
   "execution_count": 19,
   "id": "numeric-watershed",
   "metadata": {},
   "outputs": [
    {
     "name": "stdout",
     "output_type": "stream",
     "text": [
      "7\n",
      "<class 'str'>\n",
      "7.72\n",
      "<class 'str'>\n"
     ]
    }
   ],
   "source": [
    "#convert integer into string\n",
    "#convert float into string\n",
    "\n",
    "print(  str(7)  )\n",
    "print(  type(str(7))  )\n",
    "\n",
    "print(  str(7.72)  )\n",
    "print(  type(str(7.72))  )\n"
   ]
  },
  {
   "cell_type": "markdown",
   "id": "constant-pasta",
   "metadata": {},
   "source": [
    "WHERE CAN WE USE TYPE CONVERSION"
   ]
  },
  {
   "cell_type": "code",
   "execution_count": 21,
   "id": "flexible-albania",
   "metadata": {},
   "outputs": [
    {
     "ename": "TypeError",
     "evalue": "can only concatenate str (not \"int\") to str",
     "output_type": "error",
     "traceback": [
      "\u001b[1;31m---------------------------------------------------------------------------\u001b[0m",
      "\u001b[1;31mTypeError\u001b[0m                                 Traceback (most recent call last)",
      "\u001b[1;32m<ipython-input-21-919d5e9ef5ab>\u001b[0m in \u001b[0;36m<module>\u001b[1;34m\u001b[0m\n\u001b[0;32m      1\u001b[0m \u001b[0mcost_of_item\u001b[0m \u001b[1;33m=\u001b[0m \u001b[1;36m70\u001b[0m \u001b[1;33m+\u001b[0m \u001b[1;36m5\u001b[0m\u001b[1;33m\u001b[0m\u001b[1;33m\u001b[0m\u001b[0m\n\u001b[1;32m----> 2\u001b[1;33m \u001b[0mprint\u001b[0m\u001b[1;33m(\u001b[0m\u001b[1;34m\"The cost of item is\"\u001b[0m \u001b[1;33m+\u001b[0m \u001b[0mcost_of_item\u001b[0m\u001b[1;33m)\u001b[0m\u001b[1;33m\u001b[0m\u001b[1;33m\u001b[0m\u001b[0m\n\u001b[0m",
      "\u001b[1;31mTypeError\u001b[0m: can only concatenate str (not \"int\") to str"
     ]
    }
   ],
   "source": [
    "cost_of_item = 70 + 5\n",
    "print(\"The cost of item is\" + cost_of_item)"
   ]
  },
  {
   "cell_type": "code",
   "execution_count": 24,
   "id": "whole-miller",
   "metadata": {},
   "outputs": [
    {
     "name": "stdout",
     "output_type": "stream",
     "text": [
      "The cost of item is 75\n"
     ]
    }
   ],
   "source": [
    "cost_of_item = 70 + 5\n",
    "print(\"The cost of item is \" + str(cost_of_item))"
   ]
  },
  {
   "cell_type": "code",
   "execution_count": null,
   "id": "looking-brake",
   "metadata": {},
   "outputs": [],
   "source": []
  }
 ],
 "metadata": {
  "kernelspec": {
   "display_name": "Python 3",
   "language": "python",
   "name": "python3"
  },
  "language_info": {
   "codemirror_mode": {
    "name": "ipython",
    "version": 3
   },
   "file_extension": ".py",
   "mimetype": "text/x-python",
   "name": "python",
   "nbconvert_exporter": "python",
   "pygments_lexer": "ipython3",
   "version": "3.9.1"
  }
 },
 "nbformat": 4,
 "nbformat_minor": 5
}
