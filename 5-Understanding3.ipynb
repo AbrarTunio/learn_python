{
 "cells": [
  {
   "cell_type": "code",
   "execution_count": 1,
   "id": "dynamic-grammar",
   "metadata": {},
   "outputs": [
    {
     "data": {
      "text/plain": [
       "'This is Abrar'"
      ]
     },
     "execution_count": 1,
     "metadata": {},
     "output_type": "execute_result"
    }
   ],
   "source": [
    "#8. Write a function named same that takes a string as input, and simply returns that string.\n",
    "\n",
    "def same(string):\n",
    "    return string\n",
    "same(\"This is Abrar\")\n"
   ]
  },
  {
   "cell_type": "code",
   "execution_count": 5,
   "id": "naked-miller",
   "metadata": {},
   "outputs": [
    {
     "data": {
      "text/plain": [
       "'5'"
      ]
     },
     "execution_count": 5,
     "metadata": {},
     "output_type": "execute_result"
    }
   ],
   "source": [
    "#Write a function called same_thing that returns the parameter, unchanged.\n",
    "\n",
    "def same_thing(a):\n",
    "    return a\n",
    "same_thing(\"5\")\n",
    "#same_thing(\"Welcome\")"
   ]
  },
  {
   "cell_type": "code",
   "execution_count": 6,
   "id": "surface-adobe",
   "metadata": {},
   "outputs": [
    {
     "data": {
      "text/plain": [
       "17"
      ]
     },
     "execution_count": 6,
     "metadata": {},
     "output_type": "execute_result"
    }
   ],
   "source": [
    "#10. Write a function called subtract_three that takes an integer or any number as input, and returns that number minus three.\n",
    "def subtract_three(number):\n",
    "    return number - 3\n",
    "subtract_three(20)"
   ]
  },
  {
   "cell_type": "code",
   "execution_count": 7,
   "id": "structured-ownership",
   "metadata": {},
   "outputs": [
    {
     "name": "stdout",
     "output_type": "stream",
     "text": [
      "27\n"
     ]
    }
   ],
   "source": [
    "def change(num):\n",
    "    return num + 7\n",
    "print(change(20))\n",
    "\n"
   ]
  },
  {
   "cell_type": "code",
   "execution_count": 9,
   "id": "laden-dinner",
   "metadata": {},
   "outputs": [
    {
     "name": "stdout",
     "output_type": "stream",
     "text": [
      "Hello, my name is Becky and I love SI 106.\n"
     ]
    }
   ],
   "source": [
    "#12. Write a function named intro that takes a string as input. Given the string “Becky” as input, the function should return: “Hello, my name is Becky and I love SI 106.”\n",
    "\n",
    "def intro(string):\n",
    "    return \"Hello, my name is {} and I love SI 106.\".format(string)\n",
    "print(intro(\"Becky\"))"
   ]
  },
  {
   "cell_type": "code",
   "execution_count": 10,
   "id": "pursuant-chorus",
   "metadata": {},
   "outputs": [
    {
     "name": "stdout",
     "output_type": "stream",
     "text": [
      "Work for fun.\n"
     ]
    }
   ],
   "source": [
    "#13. Write a function called s_change that takes one string as input and returns that string, concatenated with the string ” for fun.”.\n",
    "\n",
    "def s_change (string):\n",
    "    return string + \" \" + \"for fun.\"\n",
    "print(s_change(\"Work\"))\n"
   ]
  },
  {
   "cell_type": "code",
   "execution_count": 11,
   "id": "chubby-romantic",
   "metadata": {},
   "outputs": [],
   "source": [
    "#14. Write a function called decision that takes a string as input, and then checks the number of characters. If it has over 17 characters, return “This is a long string”, if it is shorter or has 17 characters, return “This is a short string”.\n",
    "def decision (string):\n",
    "    if len(string) > 17:\n",
    "        return \"This is a long string\"\n",
    "    elif len(string) <= 17:\n",
    "        return \"This is a short string\"\n",
    "#It is better to use return only once but can you do that??"
   ]
  },
  {
   "cell_type": "code",
   "execution_count": null,
   "id": "overall-burning",
   "metadata": {},
   "outputs": [],
   "source": []
  }
 ],
 "metadata": {
  "kernelspec": {
   "display_name": "Python 3",
   "language": "python",
   "name": "python3"
  },
  "language_info": {
   "codemirror_mode": {
    "name": "ipython",
    "version": 3
   },
   "file_extension": ".py",
   "mimetype": "text/x-python",
   "name": "python",
   "nbconvert_exporter": "python",
   "pygments_lexer": "ipython3",
   "version": "3.9.2"
  }
 },
 "nbformat": 4,
 "nbformat_minor": 5
}
