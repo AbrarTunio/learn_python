{
 "cells": [
  {
   "cell_type": "code",
   "execution_count": 4,
   "id": "hungry-island",
   "metadata": {},
   "outputs": [
    {
     "data": {
      "text/plain": [
       "[0, 2, 4, 6, 8, 10, 12, 14]"
      ]
     },
     "execution_count": 4,
     "metadata": {},
     "output_type": "execute_result"
    }
   ],
   "source": [
    "def counterEven (number):\n",
    "    even_nums = []\n",
    "    startnum = 0\n",
    "    while startnum < number:\n",
    "        if startnum % 2 == 0:\n",
    "            even_nums.append(startnum)\n",
    "        startnum += 1\n",
    "        \n",
    "    return even_nums\n",
    "\n",
    "counterEven(15)"
   ]
  },
  {
   "cell_type": "code",
   "execution_count": 6,
   "id": "nominated-extension",
   "metadata": {},
   "outputs": [],
   "source": [
    "# Sum up the given list using WHILE LOOP"
   ]
  },
  {
   "cell_type": "code",
   "execution_count": 22,
   "id": "oriented-slide",
   "metadata": {},
   "outputs": [
    {
     "name": "stdout",
     "output_type": "stream",
     "text": [
      "38\n"
     ]
    }
   ],
   "source": [
    "list1 = [8,3,9,15,2,1]\n",
    "idx = 0\n",
    "tot = 0\n",
    "while idx < len(list1) :\n",
    "    tot = tot + list1[idx]\n",
    "    idx += 1\n",
    "print(tot)"
   ]
  },
  {
   "cell_type": "code",
   "execution_count": null,
   "id": "capable-harassment",
   "metadata": {},
   "outputs": [],
   "source": []
  }
 ],
 "metadata": {
  "kernelspec": {
   "display_name": "Python 3",
   "language": "python",
   "name": "python3"
  },
  "language_info": {
   "codemirror_mode": {
    "name": "ipython",
    "version": 3
   },
   "file_extension": ".py",
   "mimetype": "text/x-python",
   "name": "python",
   "nbconvert_exporter": "python",
   "pygments_lexer": "ipython3",
   "version": "3.9.2"
  }
 },
 "nbformat": 4,
 "nbformat_minor": 5
}
