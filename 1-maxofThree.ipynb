{
 "cells": [
  {
   "cell_type": "markdown",
   "id": "incomplete-pacific",
   "metadata": {},
   "source": [
    "**1. Write a Python function to find the Max of three numbers.**"
   ]
  },
  {
   "cell_type": "code",
   "execution_count": 4,
   "id": "perceived-aquarium",
   "metadata": {},
   "outputs": [],
   "source": [
    "def maxofThree(x,y,z):\n",
    "    lst = [x,y,z]             #put all three into list\n",
    "    max_num = lst[0]          #let's assume first number we saw is max\n",
    "    for number in lst:        #check all\n",
    "        if number > max_num:  #if you find anyother with higher value\n",
    "            max_num = number  #put that higer value into max_num\n",
    "    return max_num            #Return that max number"
   ]
  },
  {
   "cell_type": "code",
   "execution_count": null,
   "id": "frequent-coral",
   "metadata": {},
   "outputs": [],
   "source": []
  }
 ],
 "metadata": {
  "kernelspec": {
   "display_name": "Python 3",
   "language": "python",
   "name": "python3"
  },
  "language_info": {
   "codemirror_mode": {
    "name": "ipython",
    "version": 3
   },
   "file_extension": ".py",
   "mimetype": "text/x-python",
   "name": "python",
   "nbconvert_exporter": "python",
   "pygments_lexer": "ipython3",
   "version": "3.9.2"
  }
 },
 "nbformat": 4,
 "nbformat_minor": 5
}
