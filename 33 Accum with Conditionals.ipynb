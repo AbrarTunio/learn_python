{
 "cells": [
  {
   "cell_type": "code",
   "execution_count": null,
   "id": "bronze-airline",
   "metadata": {},
   "outputs": [],
   "source": [
    "#Accumulator Pattern with Conditions"
   ]
  },
  {
   "cell_type": "code",
   "execution_count": null,
   "id": "exact-pursuit",
   "metadata": {},
   "outputs": [],
   "source": [
    "#Statement : I want to count spaces and letters\n",
    "state = \"This is The Institute of Management and Enterpreneurship\"\n",
    "state2 = \"Abrar \""
   ]
  },
  {
   "cell_type": "code",
   "execution_count": null,
   "id": "linear-ultimate",
   "metadata": {},
   "outputs": [],
   "source": [
    "non_blank = 0\n",
    "blank = 0\n",
    "for char in state2:\n",
    "    if char != \" \":\n",
    "        non_blank += 1\n",
    "    else:\n",
    "        blank += 1\n",
    "print(f\"blank characters are {blank} and non blank are {non_blank}\")"
   ]
  },
  {
   "cell_type": "code",
   "execution_count": null,
   "id": "still-professional",
   "metadata": {},
   "outputs": [],
   "source": [
    "#Statement : I want to calculate vowels and consonents"
   ]
  },
  {
   "cell_type": "code",
   "execution_count": null,
   "id": "outside-distribution",
   "metadata": {},
   "outputs": [],
   "source": [
    "vowels = [\"a\",\"e\",\"i\",\"o\",\"u\"]\n",
    "vov,blank,const = 0,0,0\n",
    "for v in state:\n",
    "    if v in vowels:\n",
    "        vov += 1\n",
    "    elif v == \" \":\n",
    "        blank += 1\n",
    "    else:\n",
    "        const += 1\n",
    "print(f\"number of vowels are {vov}, constants are {const}, blank are {blank}\")\n",
    "print(len(state))\n",
    "print(vov+const+blank)"
   ]
  },
  {
   "cell_type": "code",
   "execution_count": 28,
   "id": "speaking-robertson",
   "metadata": {},
   "outputs": [],
   "source": [
    "#Finding Highest Number in a list\n",
    "numbers = [3,9,25,19,-1,22,72,5]"
   ]
  },
  {
   "cell_type": "code",
   "execution_count": 29,
   "id": "artificial-austin",
   "metadata": {},
   "outputs": [],
   "source": [
    "#highest_num = numbers[0]\n",
    "highest_num = 0\n",
    "min_value = numbers[0] #This is the best choice to make if you do not the values in list."
   ]
  },
  {
   "cell_type": "code",
   "execution_count": 31,
   "id": "tracked-transparency",
   "metadata": {
    "tags": []
   },
   "outputs": [
    {
     "name": "stdout",
     "output_type": "stream",
     "text": [
      "3 72 3\n",
      "9 72 3\n",
      "25 72 3\n",
      "19 72 3\n",
      "-1 72 -1\n",
      "22 72 -1\n",
      "72 72 -1\n",
      "5 72 -1\n",
      "highest number is 72\n",
      "lowest number is -1\n"
     ]
    }
   ],
   "source": [
    "for num in numbers:\n",
    "    if num > highest_num:\n",
    "        highest_num = num\n",
    "    if num < min_value:\n",
    "        min_value = num\n",
    "    print(num,highest_num,min_value)\n",
    "print(\"highest number is\",highest_num)\n",
    "print(\"lowest number is\",min_value)"
   ]
  },
  {
   "cell_type": "code",
   "execution_count": 32,
   "id": "broken-revolution",
   "metadata": {},
   "outputs": [
    {
     "ename": "SyntaxError",
     "evalue": "invalid syntax (<ipython-input-32-b5e99f688c0e>, line 1)",
     "output_type": "error",
     "traceback": [
      "\u001b[1;36m  File \u001b[1;32m\"<ipython-input-32-b5e99f688c0e>\"\u001b[1;36m, line \u001b[1;32m1\u001b[0m\n\u001b[1;33m    Check your understanding\u001b[0m\n\u001b[1;37m          ^\u001b[0m\n\u001b[1;31mSyntaxError\u001b[0m\u001b[1;31m:\u001b[0m invalid syntax\n"
     ]
    }
   ],
   "source": [
    "Check your understanding\n",
    "\n",
    "condition-10-1: What is printed by the following statements?\n",
    "\n",
    "s = \"We are learning!\"\n",
    "x = 0\n",
    "for i in s:\n",
    "    if i in ['a', 'b', 'c', 'd', 'e']:\n",
    "        x += 1\n",
    "print(x)\n",
    "A. 2\n",
    "B. 5\n",
    "C. 0\n",
    "D. There is an error in the code so it cannot run.\n",
    "\n",
    "✔️ Yes, we add to x each time we come across a letter in the list."
   ]
  },
  {
   "cell_type": "code",
   "execution_count": 33,
   "id": "tested-kitchen",
   "metadata": {},
   "outputs": [
    {
     "ename": "SyntaxError",
     "evalue": "invalid syntax (<ipython-input-33-686eb70fb701>, line 9)",
     "output_type": "error",
     "traceback": [
      "\u001b[1;36m  File \u001b[1;32m\"<ipython-input-33-686eb70fb701>\"\u001b[1;36m, line \u001b[1;32m9\u001b[0m\n\u001b[1;33m    A. 10\u001b[0m\n\u001b[1;37m       ^\u001b[0m\n\u001b[1;31mSyntaxError\u001b[0m\u001b[1;31m:\u001b[0m invalid syntax\n"
     ]
    }
   ],
   "source": [
    "condition-10-2: What is printed by the following statements?\n",
    "\n",
    "list= [5, 2, 1, 4, 9, 10]\n",
    "min_value = 0\n",
    "for item in list:\n",
    "   if item < min_value:\n",
    "       min_value = item\n",
    "print(min_value)\n",
    "A. 10\n",
    "B. 1\n",
    "C. 0\n",
    "D. There is an error in the code so it cannot run.\n",
    "\n",
    "✔️ Yes, min_value was set to a number that was smaller than any of the numbers in the list, so it was never updated in the for loop."
   ]
  },
  {
   "cell_type": "code",
   "execution_count": 34,
   "id": "handled-month",
   "metadata": {},
   "outputs": [
    {
     "ename": "SyntaxError",
     "evalue": "invalid syntax (<ipython-input-34-f118de363b5f>, line 1)",
     "output_type": "error",
     "traceback": [
      "\u001b[1;36m  File \u001b[1;32m\"<ipython-input-34-f118de363b5f>\"\u001b[1;36m, line \u001b[1;32m1\u001b[0m\n\u001b[1;33m    For each string in the list words, find the number of characters in the string. If the number of characters in the string is greater than 3, add 1 to the variable num_words so that num_words should end up with the total number of words with more than 3 characters.\u001b[0m\n\u001b[1;37m        ^\u001b[0m\n\u001b[1;31mSyntaxError\u001b[0m\u001b[1;31m:\u001b[0m invalid syntax\n"
     ]
    }
   ],
   "source": [
    "For each string in the list words, find the number of characters in the string. If the number of characters in the string is greater than 3, add 1 to the variable num_words so that num_words should end up with the total number of words with more than 3 characters.\n",
    "\n",
    "3/11/2021, 2:45:30 PM - 3 of 3\n",
    "1\n",
    "words = [\"water\", \"chair\", \"pen\", \"basket\", \"hi\", \"car\"]\n",
    "2\n",
    "num_words = 0\n",
    "3\n",
    "for word in words:\n",
    "4\n",
    "    if len(word) > 3:\n",
    "5\n",
    "        num_words += 1\n",
    "6\n",
    "print(num_words)\n",
    "7\n"
   ]
  },
  {
   "cell_type": "code",
   "execution_count": null,
   "id": "superb-fifteen",
   "metadata": {},
   "outputs": [],
   "source": [
    "Challenge For each word in words, add ‘d’ to the end of the word if the word ends in “e” to make it past tense. Otherwise, add ‘ed’ to make it past tense. Save these past tense words to a list called past_tense.\n",
    "\n",
    "3/11/2021, 2:49:46 PM - 10 of 10\n",
    "1\n",
    "words = [\"adopt\", \"bake\", \"beam\", \"confide\", \"grill\", \"plant\", \"time\", \"wave\", \"wish\"]\n",
    "2\n",
    "past_tense = []\n",
    "3\n",
    "​\n",
    "4\n",
    "for word in words:\n",
    "5\n",
    "    if word[-1] == \"e\":\n",
    "6\n",
    "        word = word + \"d\"\n",
    "7\n",
    "        past_tense.append(word)\n",
    "8\n",
    "    else:\n",
    "9\n",
    "        word = word + \"ed\"\n",
    "10\n",
    "        past_tense.append(word)\n",
    "11\n",
    "print(past_tense)"
   ]
  }
 ],
 "metadata": {
  "kernelspec": {
   "display_name": "Python 3",
   "language": "python",
   "name": "python3"
  },
  "language_info": {
   "codemirror_mode": {
    "name": "ipython",
    "version": 3
   },
   "file_extension": ".py",
   "mimetype": "text/x-python",
   "name": "python",
   "nbconvert_exporter": "python",
   "pygments_lexer": "ipython3",
   "version": "3.9.2"
  }
 },
 "nbformat": 4,
 "nbformat_minor": 5
}
