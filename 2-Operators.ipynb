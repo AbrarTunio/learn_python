{
 "cells": [
  {
   "cell_type": "code",
   "execution_count": null,
   "id": "fifty-present",
   "metadata": {},
   "outputs": [],
   "source": [
    "#Let's discuss operators and Operators Precedence in this class\n",
    "\n",
    "print(2+3) #this will add up"
   ]
  },
  {
   "cell_type": "code",
   "execution_count": null,
   "id": "broad-strategy",
   "metadata": {},
   "outputs": [],
   "source": [
    "print(3-2) #this will subtract"
   ]
  },
  {
   "cell_type": "code",
   "execution_count": null,
   "id": "royal-custody",
   "metadata": {},
   "outputs": [],
   "source": [
    "print(3*2) #this will multiply"
   ]
  },
  {
   "cell_type": "code",
   "execution_count": null,
   "id": "wooden-gallery",
   "metadata": {},
   "outputs": [],
   "source": [
    "print(15/4) #this will divide\n"
   ]
  },
  {
   "cell_type": "code",
   "execution_count": null,
   "id": "coral-norfolk",
   "metadata": {},
   "outputs": [],
   "source": [
    "#when I do not want remainder of above multiplication \n",
    "#like .75 is un-necessary in this particular case!\n",
    "print(15//4)\n",
    "print(6//4)\n",
    "#output will be truncated division."
   ]
  },
  {
   "cell_type": "code",
   "execution_count": null,
   "id": "solid-first",
   "metadata": {},
   "outputs": [],
   "source": [
    "#What if I only want the remainder!\n",
    "#so we have modulo operator in Python\n",
    "print(15 % 4)\n",
    "print(6 % 4)"
   ]
  },
  {
   "cell_type": "code",
   "execution_count": null,
   "id": "above-championship",
   "metadata": {},
   "outputs": [],
   "source": [
    "#Square of an expression\n",
    "print (2 ** 3) # is NOT same as 2^3 as in other programming languages!\n",
    "print (6 ^ 3)  # I do not know about this operator! will you work on it?"
   ]
  },
  {
   "cell_type": "markdown",
   "id": "german-sampling",
   "metadata": {},
   "source": [
    "Order of Operations!"
   ]
  },
  {
   "cell_type": "code",
   "execution_count": null,
   "id": "tropical-flexibility",
   "metadata": {},
   "outputs": [],
   "source": [
    "#It is very same as in Maths\n",
    "print(\"1- Parantheises First-----> '()' \")\n",
    "print(\"2- Exponentation or Power-----> '**'\")\n",
    "print(\"3- Multiplication and Division----->  '* & /'\")\n",
    "print(\"4- Addition and Subtraction-----> '+ & -'\")"
   ]
  },
  {
   "cell_type": "code",
   "execution_count": null,
   "id": "atomic-ecology",
   "metadata": {},
   "outputs": [],
   "source": [
    "#What should be the answer of following code?\n",
    "print(10+20/5)\n",
    "print( (10+20)/5 )"
   ]
  },
  {
   "cell_type": "markdown",
   "id": "absolute-advocacy",
   "metadata": {},
   "source": [
    "'You can build complex expressions out of simpler ones using operators. Operators are special tokens that represent computations like addition, multiplication and division. The values the operator works on are called operands.\n",
    "\n",
    "The following are all legal Python expressions whose meaning is more or less clear:\n",
    "\n",
    "20 + 32\n",
    "5 ** 2\n",
    "(5 + 9) * (15 - 7)\n",
    "\n",
    "The tokens +, -, and *, and the use of parentheses for grouping, mean in Python what they mean in mathematics. The asterisk (*) is the token for multiplication, and ** is the token for exponentiation. Addition, subtraction, multiplication, and exponentiation all do what you expect.\n",
    "\n",
    "Remember that if we want to see the results of the computation, the program needs to specify that with the word print. The first three computations occur, but their results are not printed out.'"
   ]
  },
  {
   "cell_type": "code",
   "execution_count": 33,
   "id": "grave-modem",
   "metadata": {},
   "outputs": [
    {
     "name": "stdout",
     "output_type": "stream",
     "text": [
      "12\n"
     ]
    }
   ],
   "source": [
    "20 + 32\n",
    "5 ** 2\n",
    "(5 + 9) * (15 - 7)\n",
    "print(7 + 5)\n"
   ]
  },
  {
   "cell_type": "markdown",
   "id": "selected-congo",
   "metadata": {},
   "source": [
    "In Python 3, which we will be using, the division operator / produces a floating point result (even if the result is an integer; 4/2 is 2.0). If you want truncated division, which ignores the remainder, you can use the // operator (for example, 5//2 is 2)."
   ]
  },
  {
   "cell_type": "code",
   "execution_count": 34,
   "id": "ready-doubt",
   "metadata": {},
   "outputs": [
    {
     "name": "stdout",
     "output_type": "stream",
     "text": [
      "1.8\n",
      "0.5555555555555556\n",
      "1\n"
     ]
    }
   ],
   "source": [
    "print(9 / 5)\n",
    "print(5 / 9)\n",
    "print(9 // 5)\n"
   ]
  },
  {
   "cell_type": "markdown",
   "id": "patient-illness",
   "metadata": {},
   "source": [
    "Pay particular attention to the examples above. Note that 9//5 truncates rather than rounding, so it produces the value 1 rather 2.\n",
    "\n",
    "The truncated division operator, //, also works on floating point numbers. It truncates to the nearest integer, but still produces a floating point result. Thus 7.0 // 3.0 is 2.0."
   ]
  },
  {
   "cell_type": "code",
   "execution_count": 35,
   "id": "knowing-senegal",
   "metadata": {},
   "outputs": [
    {
     "name": "stdout",
     "output_type": "stream",
     "text": [
      "2.3333333333333335\n",
      "2.0\n"
     ]
    }
   ],
   "source": [
    "print(7.0 / 3.0)\n",
    "print(7.0 // 3.0)\n"
   ]
  },
  {
   "cell_type": "markdown",
   "id": "enclosed-headquarters",
   "metadata": {},
   "source": [
    "The modulus operator, sometimes also called the remainder operator or integer remainder operator works on integers (and integer expressions) and yields the remainder when the first operand is divided by the second. In Python, the modulus operator is a percent sign (%). The syntax is the same as for other operators.\n",
    "\n"
   ]
  },
  {
   "cell_type": "code",
   "execution_count": 36,
   "id": "greater-constraint",
   "metadata": {},
   "outputs": [
    {
     "name": "stdout",
     "output_type": "stream",
     "text": [
      "2\n",
      "1\n"
     ]
    }
   ],
   "source": [
    "print(7 // 3)    # This is the integer division operator\n",
    "print(7 % 3)     # This is the remainder or modulus operator\n",
    "\n"
   ]
  },
  {
   "cell_type": "code",
   "execution_count": 1,
   "id": "specified-nothing",
   "metadata": {},
   "outputs": [
    {
     "name": "stdout",
     "output_type": "stream",
     "text": [
      "512\n",
      "64\n"
     ]
    }
   ],
   "source": [
    "print(2 ** 3 ** 2)     # the right-most ** operator gets done first!\n",
    "print((2 ** 3) ** 2)   # use parentheses to force the order you want!\n"
   ]
  },
  {
   "cell_type": "code",
   "execution_count": null,
   "id": "ideal-entity",
   "metadata": {},
   "outputs": [],
   "source": []
  }
 ],
 "metadata": {
  "kernelspec": {
   "display_name": "Python 3",
   "language": "python",
   "name": "python3"
  },
  "language_info": {
   "codemirror_mode": {
    "name": "ipython",
    "version": 3
   },
   "file_extension": ".py",
   "mimetype": "text/x-python",
   "name": "python",
   "nbconvert_exporter": "python",
   "pygments_lexer": "ipython3",
   "version": "3.9.2"
  }
 },
 "nbformat": 4,
 "nbformat_minor": 5
}
