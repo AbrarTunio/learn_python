{
 "cells": [
  {
   "cell_type": "code",
   "execution_count": 1,
   "id": "beginning-suspect",
   "metadata": {},
   "outputs": [
    {
     "name": "stdout",
     "output_type": "stream",
     "text": [
      "False\n",
      "True\n",
      "True\n",
      "False\n"
     ]
    }
   ],
   "source": [
    "print( \"a\" in \"Apple\")\n",
    "print( \"A\" in 'Apple')\n",
    "print( \"Ap\" in \"Apple\" )\n",
    "print( \"pa\" in \"Apple\")"
   ]
  },
  {
   "cell_type": "code",
   "execution_count": 2,
   "id": "foster-mediterranean",
   "metadata": {},
   "outputs": [
    {
     "name": "stdout",
     "output_type": "stream",
     "text": [
      "True\n",
      "False\n",
      "True\n"
     ]
    }
   ],
   "source": [
    "print(\"\" in \"a\") #empty string\n",
    "print(\" \" in \"a\") #spcae string\n",
    "print(\"\" in \"apple\") #empty string"
   ]
  },
  {
   "cell_type": "code",
   "execution_count": 3,
   "id": "celtic-relay",
   "metadata": {},
   "outputs": [
    {
     "name": "stdout",
     "output_type": "stream",
     "text": [
      "True\n"
     ]
    }
   ],
   "source": [
    "print( \"x\" not in \"apple\")\n",
    "#this not and boolean !not are different assignment search how?"
   ]
  },
  {
   "cell_type": "code",
   "execution_count": 5,
   "id": "quality-occasions",
   "metadata": {},
   "outputs": [
    {
     "name": "stdout",
     "output_type": "stream",
     "text": [
      "False\n",
      "True\n"
     ]
    }
   ],
   "source": [
    "#usage of in within Lists\n",
    "lst = [\"apple\", \"application\", \"orange\", \"blue\", \"green\"]\n",
    "print( \"a\" in lst)\n",
    "print( \"a\" not in lst)"
   ]
  },
  {
   "cell_type": "code",
   "execution_count": null,
   "id": "continent-stuff",
   "metadata": {},
   "outputs": [],
   "source": [
    "condition-5-1: Which of the following properly expresses the precedence of operators (using parentheses) in the following expression: 5*3 > 10 and 4+6==11\n",
    "\n",
    "A. ((5*3) > 10) and ((4+6) == 11)\n",
    "B. (5*(3 > 10)) and (4 + (6 == 11))\n",
    "C. ((((5*3) > 10) and 4)+6) == 11\n",
    "D. ((5*3) > (10 and (4+6))) == 11\n",
    "\n",
    "✔️ Yes, * and + have higher precedence, followed by > and ==, and then the keyword \"and\""
   ]
  }
 ],
 "metadata": {
  "kernelspec": {
   "display_name": "Python 3",
   "language": "python",
   "name": "python3"
  },
  "language_info": {
   "codemirror_mode": {
    "name": "ipython",
    "version": 3
   },
   "file_extension": ".py",
   "mimetype": "text/x-python",
   "name": "python",
   "nbconvert_exporter": "python",
   "pygments_lexer": "ipython3",
   "version": "3.9.2"
  }
 },
 "nbformat": 4,
 "nbformat_minor": 5
}
