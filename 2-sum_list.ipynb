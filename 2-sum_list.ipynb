{
 "cells": [
  {
   "cell_type": "markdown",
   "id": "processed-laser",
   "metadata": {},
   "source": [
    "<b>2. Write a Python function to <span style=\"color:blue\">sum</span> all the numbers in a <span style=\"color:blue\">list<span>.</b>\n",
    "**Sample List : [8, 2, 3, 0, 7]**\n",
    "Expected Output : 20"
   ]
  },
  {
   "cell_type": "code",
   "execution_count": 3,
   "id": "professional-arrival",
   "metadata": {},
   "outputs": [
    {
     "name": "stdout",
     "output_type": "stream",
     "text": [
      "20\n"
     ]
    }
   ],
   "source": [
    "def sum_list (lst):\n",
    "    tot = 0\n",
    "    for value in lst:\n",
    "        tot = tot + value\n",
    "    return tot\n",
    "sample_list = [8, 2, 3, 0, 7]\n",
    "print(sum_list(sample_list))"
   ]
  },
  {
   "cell_type": "code",
   "execution_count": null,
   "id": "historic-tracker",
   "metadata": {},
   "outputs": [],
   "source": []
  }
 ],
 "metadata": {
  "kernelspec": {
   "display_name": "Python 3",
   "language": "python",
   "name": "python3"
  },
  "language_info": {
   "codemirror_mode": {
    "name": "ipython",
    "version": 3
   },
   "file_extension": ".py",
   "mimetype": "text/x-python",
   "name": "python",
   "nbconvert_exporter": "python",
   "pygments_lexer": "ipython3",
   "version": "3.9.2"
  }
 },
 "nbformat": 4,
 "nbformat_minor": 5
}
