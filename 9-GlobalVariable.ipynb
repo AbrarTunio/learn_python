{
 "cells": [
  {
   "cell_type": "markdown",
   "id": "approximate-elite",
   "metadata": {},
   "source": [
    "***********************GLOBAL VARIABLE"
   ]
  },
  {
   "cell_type": "code",
   "execution_count": 2,
   "id": "abandoned-soviet",
   "metadata": {},
   "outputs": [
    {
     "name": "stdout",
     "output_type": "stream",
     "text": [
      "100\n"
     ]
    }
   ],
   "source": [
    "def badsquare(x):\n",
    "    y = x ** power\n",
    "    return y\n",
    "\n",
    "power = 2                 #this is a global variable and can be accessed by any local namespace like badsquare()\n",
    "result = badsquare(10)\n",
    "print(result)\n"
   ]
  },
  {
   "cell_type": "markdown",
   "id": "unique-signature",
   "metadata": {},
   "source": [
    "Although the badsquare function works, it is silly and poorly written. We have done it here to illustrate an important rule about how variables are looked up in Python. First, Python looks at the variables that are defined as local variables in the function. We call this the local scope. If the variable name is not found in the local scope, then Python looks at the global variables, or global scope. This is exactly the case illustrated in the code above. power is not found locally in badsquare but it does exist globally. The appropriate way to write this function would be to pass power as a parameter. For practice, you should rewrite the badsquare example to have a second parameter called power.\n",
    "\n",
    "There is another variation on this theme of local versus global variables. Assignment statements in the local function cannot change variables defined outside the function. Consider the following codelens example:"
   ]
  },
  {
   "cell_type": "code",
   "execution_count": 3,
   "id": "final-beverage",
   "metadata": {},
   "outputs": [
    {
     "name": "stdout",
     "output_type": "stream",
     "text": [
      "9\n"
     ]
    }
   ],
   "source": [
    "#Let's rectify this code:\n",
    "def goodsquare (num,power):\n",
    "    squared = num ** power\n",
    "    return squared\n",
    "result = goodsquare(3,2)\n",
    "print(result)\n",
    "\n"
   ]
  },
  {
   "cell_type": "code",
   "execution_count": 4,
   "id": "injured-auckland",
   "metadata": {},
   "outputs": [
    {
     "name": "stdout",
     "output_type": "stream",
     "text": [
      "100\n"
     ]
    }
   ],
   "source": [
    "def powerof(x,p):\n",
    "    power = p   # Another dumb mistake\n",
    "    y = x ** power\n",
    "    return y\n",
    "\n",
    "power = 3\n",
    "result = powerof(10,2)\n",
    "print(result)"
   ]
  },
  {
   "cell_type": "markdown",
   "id": "painful-sheffield",
   "metadata": {},
   "source": [
    "Now step through the code. What do you notice about the values of variable power in the local scope compared to the variable power in the global scope?\n",
    "\n",
    "The value of power in the local scope was different than the global scope. That is because in this example power was used on the left hand side of the assignment statement power = p. When a variable name is used on the left hand side of an assignment statement Python creates a local variable. When a local variable has the same name as a global variable we say that the local shadows the global. A shadow means that the global variable cannot be accessed by Python because the local variable will be found first. This is another good reason not to use global variables. As you can see, it makes your code confusing and difficult to understand.\n",
    "\n",
    "If you really want to change the value of a global variable inside a function, you can can do it by explicitly declaring the variable to be global, as in the example below. Again, you should not do this in your code. The example is here only to cement your understanding of how python works."
   ]
  },
  {
   "cell_type": "code",
   "execution_count": 7,
   "id": "under-interim",
   "metadata": {},
   "outputs": [
    {
     "name": "stdout",
     "output_type": "stream",
     "text": [
      "100\n",
      "2\n"
     ]
    }
   ],
   "source": [
    "def powerof(x,p):\n",
    "    global power  # a really...\n",
    "    power = p     # ...bad idea, but valid code\n",
    "    y = x ** power\n",
    "    return y\n",
    "\n",
    "power = 3\n",
    "result = powerof(10,2)\n",
    "print(result)\n",
    "print(power)      #value of power has been changed"
   ]
  },
  {
   "cell_type": "markdown",
   "id": "brazilian-plastic",
   "metadata": {},
   "source": [
    "To cement all of these ideas even further lets look at one final example. Inside the square function we are going to make an assignment to the parameter x There’s no good reason to do this other than to emphasize the fact that the parameter x is a local variable. If you step through the example in codelens you will see that although x is 0 in the local variables for square, the x in the global scope remains 2. This is confusing to many beginning programmers who think that an assignment to a formal parameter will cause a change to the value of the variable that was used as the actual parameter, especially when the two share the same name. But this example demonstrates that that is clearly not how Python operates."
   ]
  },
  {
   "cell_type": "code",
   "execution_count": 11,
   "id": "necessary-bonus",
   "metadata": {},
   "outputs": [
    {
     "name": "stdout",
     "output_type": "stream",
     "text": [
      "value of x is 2\n",
      "value of x in 2nd print is 0\n",
      "4\n",
      "value of x in global is 2\n"
     ]
    }
   ],
   "source": [
    "def square(x):\n",
    "    print(\"value of x is\", x)\n",
    "    y = x * x\n",
    "    x = 0       # assign a new value to the parameter x\n",
    "    print(\"value of x in 2nd print is\",x)\n",
    "    return y\n",
    "\n",
    "x = 2\n",
    "z = square(x)\n",
    "print(z)\n",
    "print(\"value of x in global is\",x)"
   ]
  },
  {
   "cell_type": "code",
   "execution_count": null,
   "id": "nearby-journalist",
   "metadata": {},
   "outputs": [],
   "source": []
  }
 ],
 "metadata": {
  "kernelspec": {
   "display_name": "Python 3",
   "language": "python",
   "name": "python3"
  },
  "language_info": {
   "codemirror_mode": {
    "name": "ipython",
    "version": 3
   },
   "file_extension": ".py",
   "mimetype": "text/x-python",
   "name": "python",
   "nbconvert_exporter": "python",
   "pygments_lexer": "ipython3",
   "version": "3.9.2"
  }
 },
 "nbformat": 4,
 "nbformat_minor": 5
}
