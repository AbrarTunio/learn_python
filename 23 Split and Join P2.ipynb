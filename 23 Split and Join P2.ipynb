{
 "cells": [
  {
   "cell_type": "code",
   "execution_count": null,
   "id": "persistent-insight",
   "metadata": {},
   "outputs": [],
   "source": [
    "string = \"I still have a long way to go to learn programming 4 you\"\n",
    "email = \"abrar.tunio@yahoo.com\""
   ]
  },
  {
   "cell_type": "code",
   "execution_count": null,
   "id": "square-nickel",
   "metadata": {},
   "outputs": [],
   "source": [
    "string_list = string.split()\n",
    "email_list = email.split(\"@\")\n",
    "print(string_list)\n",
    "print(email_list)"
   ]
  },
  {
   "cell_type": "code",
   "execution_count": null,
   "id": "decreased-entertainment",
   "metadata": {},
   "outputs": [],
   "source": [
    "string_join = \" \".join(string_list)\n",
    "email_join = \"@\".join(email_list)"
   ]
  },
  {
   "cell_type": "code",
   "execution_count": null,
   "id": "rapid-module",
   "metadata": {},
   "outputs": [],
   "source": [
    "print(string_join,\"----\",email_join)"
   ]
  },
  {
   "cell_type": "code",
   "execution_count": null,
   "id": "surface-burton",
   "metadata": {},
   "outputs": [],
   "source": []
  },
  {
   "cell_type": "code",
   "execution_count": null,
   "id": "intelligent-breed",
   "metadata": {},
   "outputs": [],
   "source": []
  },
  {
   "cell_type": "code",
   "execution_count": null,
   "id": "magnetic-worker",
   "metadata": {},
   "outputs": [],
   "source": []
  }
 ],
 "metadata": {
  "kernelspec": {
   "display_name": "Python 3",
   "language": "python",
   "name": "python3"
  },
  "language_info": {
   "codemirror_mode": {
    "name": "ipython",
    "version": 3
   },
   "file_extension": ".py",
   "mimetype": "text/x-python",
   "name": "python",
   "nbconvert_exporter": "python",
   "pygments_lexer": "ipython3",
   "version": "3.9.2"
  }
 },
 "nbformat": 4,
 "nbformat_minor": 5
}
