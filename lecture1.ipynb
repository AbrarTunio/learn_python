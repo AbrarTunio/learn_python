{
 "cells": [
  {
   "cell_type": "markdown",
   "id": "arabic-federation",
   "metadata": {},
   "source": [
    "<h3> Print Function </h3>"
   ]
  },
  {
   "cell_type": "code",
   "execution_count": 19,
   "id": "executive-consolidation",
   "metadata": {},
   "outputs": [
    {
     "name": "stdout",
     "output_type": "stream",
     "text": [
      "This is Introduction\n"
     ]
    }
   ],
   "source": [
    "print (\"This is Introduction\")"
   ]
  },
  {
   "cell_type": "markdown",
   "id": "relevant-worker",
   "metadata": {},
   "source": [
    "<h3 style=\"color:navy\"> Expressions and Operators </h3>"
   ]
  },
  {
   "cell_type": "code",
   "execution_count": 30,
   "id": "maritime-solomon",
   "metadata": {},
   "outputs": [
    {
     "name": "stdout",
     "output_type": "stream",
     "text": [
      "sum of two numbers is 7\n"
     ]
    }
   ],
   "source": [
    "num1 = 5 #Mnemonic Variable\n",
    "num2 = 2\n",
    "print (\"sum of two numbers is\" , num1 + num2 )"
   ]
  },
  {
   "cell_type": "code",
   "execution_count": 22,
   "id": "developing-prior",
   "metadata": {},
   "outputs": [],
   "source": [
    "sub = num1-num2"
   ]
  },
  {
   "cell_type": "code",
   "execution_count": 23,
   "id": "atlantic-tobacco",
   "metadata": {},
   "outputs": [
    {
     "name": "stdout",
     "output_type": "stream",
     "text": [
      "-10\n"
     ]
    }
   ],
   "source": [
    "print(sub)"
   ]
  },
  {
   "cell_type": "code",
   "execution_count": 24,
   "id": "incredible-sector",
   "metadata": {},
   "outputs": [
    {
     "name": "stdout",
     "output_type": "stream",
     "text": [
      "The subtraction of two numbers is -10\n"
     ]
    }
   ],
   "source": [
    "print (\"The subtraction of two numbers is\" , sub)"
   ]
  },
  {
   "cell_type": "code",
   "execution_count": 26,
   "id": "educated-defeat",
   "metadata": {},
   "outputs": [
    {
     "name": "stdout",
     "output_type": "stream",
     "text": [
      "The multiplication of two numbers is 375\n"
     ]
    }
   ],
   "source": [
    "print (\"The multiplication of two numbers is\" , num1*num2)"
   ]
  },
  {
   "cell_type": "code",
   "execution_count": 28,
   "id": "editorial-fraud",
   "metadata": {},
   "outputs": [
    {
     "name": "stdout",
     "output_type": "stream",
     "text": [
      "The division of two numbers is 0.6\n"
     ]
    }
   ],
   "source": [
    "print (\"The multiplication of two numbers is\" , num1*num2)"
   ]
  },
  {
   "cell_type": "code",
   "execution_count": 31,
   "id": "elegant-conditions",
   "metadata": {},
   "outputs": [
    {
     "name": "stdout",
     "output_type": "stream",
     "text": [
      "The remainder of two numbers is 1\n"
     ]
    }
   ],
   "source": [
    "print (\"The remainder of two numbers is\" , num1%num2)"
   ]
  },
  {
   "cell_type": "code",
   "execution_count": 34,
   "id": "another-suicide",
   "metadata": {},
   "outputs": [
    {
     "name": "stdout",
     "output_type": "stream",
     "text": [
      "Answer after successful table without decimals is  2\n"
     ]
    }
   ],
   "source": [
    "print (\"Answer after successful table without decimals is \", num1 // num2)"
   ]
  },
  {
   "cell_type": "code",
   "execution_count": 36,
   "id": "healthy-prairie",
   "metadata": {},
   "outputs": [
    {
     "name": "stdout",
     "output_type": "stream",
     "text": [
      "The division is 2.5\n"
     ]
    }
   ],
   "source": [
    "div= num1 / num2\n",
    "print (\"The division is\",div )"
   ]
  },
  {
   "cell_type": "code",
   "execution_count": 38,
   "id": "dimensional-cooperation",
   "metadata": {},
   "outputs": [
    {
     "name": "stdout",
     "output_type": "stream",
     "text": [
      "The Exponent of Two Numbers is :  25\n"
     ]
    }
   ],
   "source": [
    "exp = num1 ** num2\n",
    "print(\"The Exponent of Two Numbers is : \", exp)"
   ]
  },
  {
   "cell_type": "code",
   "execution_count": null,
   "id": "refined-calculation",
   "metadata": {},
   "outputs": [],
   "source": []
  }
 ],
 "metadata": {
  "kernelspec": {
   "display_name": "Python 3",
   "language": "python",
   "name": "python3"
  },
  "language_info": {
   "codemirror_mode": {
    "name": "ipython",
    "version": 3
   },
   "file_extension": ".py",
   "mimetype": "text/x-python",
   "name": "python",
   "nbconvert_exporter": "python",
   "pygments_lexer": "ipython3",
   "version": "3.9.6"
  }
 },
 "nbformat": 4,
 "nbformat_minor": 5
}
