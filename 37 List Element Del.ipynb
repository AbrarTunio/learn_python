{
 "cells": [
  {
   "cell_type": "markdown",
   "id": "suitable-raise",
   "metadata": {},
   "source": [
    "List Element Deletion"
   ]
  },
  {
   "cell_type": "code",
   "execution_count": 1,
   "id": "center-halloween",
   "metadata": {},
   "outputs": [],
   "source": [
    "#Rather than deleting elements using mutation it is better to use del function on list"
   ]
  },
  {
   "cell_type": "code",
   "execution_count": 13,
   "id": "automatic-quilt",
   "metadata": {},
   "outputs": [],
   "source": [
    "my_friends = [\"Naveed\", \"Salman\", \"Iftikhar\", \"Moiz\", \"Ali Raza\", \"Murk\", \"Zara\"]"
   ]
  },
  {
   "cell_type": "code",
   "execution_count": 14,
   "id": "novel-saturday",
   "metadata": {},
   "outputs": [],
   "source": [
    "del my_friends[-2:]"
   ]
  },
  {
   "cell_type": "code",
   "execution_count": 15,
   "id": "brown-montreal",
   "metadata": {},
   "outputs": [
    {
     "name": "stdout",
     "output_type": "stream",
     "text": [
      "['Naveed', 'Salman', 'Iftikhar', 'Moiz', 'Ali Raza']\n"
     ]
    }
   ],
   "source": [
    "print(my_friends)"
   ]
  },
  {
   "cell_type": "code",
   "execution_count": 16,
   "id": "coordinate-cooling",
   "metadata": {},
   "outputs": [
    {
     "name": "stdout",
     "output_type": "stream",
     "text": [
      "['one', 'three']\n",
      "['a', 'f']\n"
     ]
    }
   ],
   "source": [
    "a = ['one', 'two', 'three']\n",
    "del a[1]\n",
    "print(a)\n",
    "\n",
    "alist = ['a', 'b', 'c', 'd', 'e', 'f']\n",
    "del alist[1:5]\n",
    "print(alist)"
   ]
  },
  {
   "cell_type": "code",
   "execution_count": null,
   "id": "civil-fountain",
   "metadata": {},
   "outputs": [],
   "source": []
  }
 ],
 "metadata": {
  "kernelspec": {
   "display_name": "Python 3",
   "language": "python",
   "name": "python3"
  },
  "language_info": {
   "codemirror_mode": {
    "name": "ipython",
    "version": 3
   },
   "file_extension": ".py",
   "mimetype": "text/x-python",
   "name": "python",
   "nbconvert_exporter": "python",
   "pygments_lexer": "ipython3",
   "version": "3.9.2"
  }
 },
 "nbformat": 4,
 "nbformat_minor": 5
}
