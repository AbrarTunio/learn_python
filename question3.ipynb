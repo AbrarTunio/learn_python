{
 "cells": [
  {
   "cell_type": "markdown",
   "id": "choice-pollution",
   "metadata": {},
   "source": [
    "**Question3** <br>\n",
    "\n",
    "**add_str** is a string with a list of numbers separated by the **+ sign**. Write code that uses the accumulation pattern to take the **sum of all of the numbers** and assigns it to **sum_value**."
   ]
  },
  {
   "cell_type": "code",
   "execution_count": 3,
   "id": "above-capture",
   "metadata": {},
   "outputs": [
    {
     "name": "stdout",
     "output_type": "stream",
     "text": [
      "37\n"
     ]
    }
   ],
   "source": [
    "add_str = \"2+5+10+20\"\n",
    "sum_value = 0\n",
    "add_list = add_str.split(\"+\")\n",
    "\n",
    "for value in add_list:\n",
    "    sum_value = sum_value + int(value) \n",
    "print(sum_value)\n",
    "\n",
    "\n"
   ]
  },
  {
   "cell_type": "code",
   "execution_count": null,
   "id": "verified-clone",
   "metadata": {},
   "outputs": [],
   "source": []
  }
 ],
 "metadata": {
  "kernelspec": {
   "display_name": "Python 3",
   "language": "python",
   "name": "python3"
  },
  "language_info": {
   "codemirror_mode": {
    "name": "ipython",
    "version": 3
   },
   "file_extension": ".py",
   "mimetype": "text/x-python",
   "name": "python",
   "nbconvert_exporter": "python",
   "pygments_lexer": "ipython3",
   "version": "3.9.2"
  }
 },
 "nbformat": 4,
 "nbformat_minor": 5
}
