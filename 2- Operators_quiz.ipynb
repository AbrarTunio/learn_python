{
 "cells": [
  {
   "cell_type": "code",
   "execution_count": 1,
   "id": "adequate-muscle",
   "metadata": {},
   "outputs": [
    {
     "ename": "SyntaxError",
     "evalue": "invalid syntax (<ipython-input-1-aeb13e059ebe>, line 4)",
     "output_type": "error",
     "traceback": [
      "\u001b[1;36m  File \u001b[1;32m\"<ipython-input-1-aeb13e059ebe>\"\u001b[1;36m, line \u001b[1;32m4\u001b[0m\n\u001b[1;33m    A. 4.5\u001b[0m\n\u001b[1;37m       ^\u001b[0m\n\u001b[1;31mSyntaxError\u001b[0m\u001b[1;31m:\u001b[0m invalid syntax\n"
     ]
    }
   ],
   "source": [
    "data-3-1: What value is printed when the following statement executes?\n",
    "\n",
    "print(18 / 4)\n",
    "A. 4.5\n",
    "B. 5\n",
    "C. 4\n",
    "D. 4.0\n",
    "E. 2\n",
    "\n",
    "✔️ Because the result is not an integer, a floating point answer is produced.\n",
    "Multiple Choice (question2_3_1)\n",
    "\n",
    "data-3-2: What value is printed when the following statement executes?\n",
    "\n",
    "print(18.0 // 4)\n",
    "A. 4.5\n",
    "B. 5\n",
    "C. 4\n",
    "D. 4.0\n",
    "E. 2\n",
    "\n",
    "✔️ - Yes, even though it truncates, it produces a floating point result because 18.0 is a float\n",
    "Multiple Choice (question2_3_2)\n",
    "\n",
    "data-3-3: What value is printed when the following statement executes?\n",
    "\n",
    "print(18 % 4)\n",
    "A. 4.25\n",
    "B. 5\n",
    "C. 4\n",
    "D. 2\n",
    "\n",
    "✔️ The % operator returns the remainder after division.\n"
   ]
  },
  {
   "cell_type": "code",
   "execution_count": null,
   "id": "executive-nigeria",
   "metadata": {},
   "outputs": [],
   "source": [
    "data-11-1: What is the value of the following expression:\n",
    "\n",
    "16 - 2 * 5 // 3 + 1\n",
    "A. 14\n",
    "B. 24\n",
    "C. 3\n",
    "D. 13.667\n",
    "\n",
    "✔️ Using parentheses, the expression is evaluated as (2*5) first, then (10 // 3), then (16-3), and then (13+1).\n",
    "Multiple Choice (question2_11_1)\n",
    "\n",
    "Here is an animation for the above expression:\n",
    "\n",
    " \n",
    "16 - 2 * 5 // 3 + 1\n",
    "16 - 2 * 5 // 3 + 1"
   ]
  }
 ],
 "metadata": {
  "kernelspec": {
   "display_name": "Python 3",
   "language": "python",
   "name": "python3"
  },
  "language_info": {
   "codemirror_mode": {
    "name": "ipython",
    "version": 3
   },
   "file_extension": ".py",
   "mimetype": "text/x-python",
   "name": "python",
   "nbconvert_exporter": "python",
   "pygments_lexer": "ipython3",
   "version": "3.9.1"
  }
 },
 "nbformat": 4,
 "nbformat_minor": 5
}
