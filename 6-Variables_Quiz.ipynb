{
 "cells": [
  {
   "cell_type": "code",
   "execution_count": null,
   "id": "analyzed-keeping",
   "metadata": {},
   "outputs": [],
   "source": [
    "data-7-1: What is printed when the following statements execute?\n",
    "\n",
    "day = \"Thursday\"\n",
    "day = 32.5\n",
    "day = 19\n",
    "print(day)\n",
    "A. Nothing is printed. A runtime error occurs.\n",
    "B. Thursday\n",
    "C. 32.5\n",
    "D. 19\n",
    "✔️ The variable day will contain the last value assigned to it when it is printed."
   ]
  },
  {
   "cell_type": "code",
   "execution_count": null,
   "id": "ancient-scenario",
   "metadata": {},
   "outputs": [],
   "source": [
    "Variable Names and Keywords\n",
    "Variable names can be arbitrarily long. They can contain both letters and digits, \n",
    "but they have to begin with a letter or an underscore. \n",
    "Although it is legal to use uppercase letters, by convention we don’t. \n",
    "If you do, remember that case matters. Bruce and bruce are different variables.\n",
    "\n",
    "*Caution*\n",
    "\n",
    "Variable names can never contain spaces.\n",
    "\n",
    "The underscore character (_) can also appear in a name. \n",
    "It is often used in names with multiple words, such as my_name or price_of_tea_in_china. \n",
    "There are some situations in which names beginning with an underscore have special meaning, \n",
    "so a safe rule for beginners is to start all names with a letter.\n",
    "\n",
    "If you give a variable an illegal name, you get a syntax error. \n",
    "In the example below, each of the variable names is illegal.\n",
    "\n",
    "76trombones = \"big parade\"\n",
    "more$ = 1000000\n",
    "class = \"Computer Science 101\"\n",
    "76trombones is illegal because it does not begin with a letter. \n",
    "more$ is illegal because it contains an illegal character, the dollar sign. But what’s wrong with class?\n",
    "\n",
    "It turns out that class is one of the Python keywords. \n",
    "Keywords define the language’s syntax rules and structure, and \n",
    "they cannot be used as variable names. Python has thirty-something keywords \n",
    "(and every now and again improvements to Python introduce or eliminate one or two):\n",
    "\n",
    "and ----- as ----- assert ----- break ------ class ------ continue ------ def ----- del ----- elif ----- else ---- except\n",
    "exec ---- finally ----- for ----- from ----- global ----- if ----- import ----- in ----- is ------ lambda ------ nonlocal\n",
    "--- not ------ or ------ pass ----- raise ----- return ----- try ----- while ------ with ------ yield ------ True ---- False\n",
    "----- None\n",
    "\n",
    "You might want to keep this list handy. \n",
    "If the interpreter complains about one of your variable names and you don’t know why, see if it is on this list.\n",
    "\n",
    "Check your understanding\n"
   ]
  },
  {
   "cell_type": "code",
   "execution_count": null,
   "id": "geographic-swing",
   "metadata": {},
   "outputs": [],
   "source": [
    "data-8-1: True or False: the following is a legal variable name in Python: A_good_grade_is_A+\n",
    "\n",
    "A. True\n",
    "B. False\n",
    "\n",
    "✔️ - The + character is not allowed in variable names (everything else in this name is fine)."
   ]
  }
 ],
 "metadata": {
  "kernelspec": {
   "display_name": "Python 3",
   "language": "python",
   "name": "python3"
  },
  "language_info": {
   "codemirror_mode": {
    "name": "ipython",
    "version": 3
   },
   "file_extension": ".py",
   "mimetype": "text/x-python",
   "name": "python",
   "nbconvert_exporter": "python",
   "pygments_lexer": "ipython3",
   "version": "3.9.1"
  }
 },
 "nbformat": 4,
 "nbformat_minor": 5
}
