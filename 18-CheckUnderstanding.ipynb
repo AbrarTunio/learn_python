{
 "cells": [
  {
   "cell_type": "code",
   "execution_count": 1,
   "id": "thrown-approval",
   "metadata": {},
   "outputs": [
    {
     "ename": "SyntaxError",
     "evalue": "invalid syntax (<ipython-input-1-ab84a55df763>, line 1)",
     "output_type": "error",
     "traceback": [
      "\u001b[1;36m  File \u001b[1;32m\"<ipython-input-1-ab84a55df763>\"\u001b[1;36m, line \u001b[1;32m1\u001b[0m\n\u001b[1;33m    Check your Understanding\u001b[0m\n\u001b[1;37m          ^\u001b[0m\n\u001b[1;31mSyntaxError\u001b[0m\u001b[1;31m:\u001b[0m invalid syntax\n"
     ]
    }
   ],
   "source": [
    "Check your Understanding\n",
    "\n",
    "tuples-4-1: Consider the following alternative way to swap the values of variables x and y. What’s wrong with it?\n",
    "\n",
    "# assume x and y already have values assigned to them\n",
    "y = x\n",
    "x = y\n",
    "A. You can't use different variable names on the left and right side of an assignment statement.\n",
    "B. At the end, x still has it's original value instead of y's original value.\n",
    "C. Actually, it works just fine!\n",
    "\n",
    "✔️ Once you assign x's value to y, y's original value is gone. (b)\n"
   ]
  },
  {
   "cell_type": "code",
   "execution_count": 3,
   "id": "danish-wallpaper",
   "metadata": {},
   "outputs": [],
   "source": [
    "#With only one line of code, assign the variables water, fire, electric, and grass to the values “Squirtle”, “Charmander”, “Pikachu”, and “Bulbasaur”\n",
    "\n",
    "water, fire, electric, grass = \"Squirtle\", \"Charmander\", \"Pikachu\", \"Bulbasaur\"\n"
   ]
  },
  {
   "cell_type": "code",
   "execution_count": 5,
   "id": "antique-boulder",
   "metadata": {},
   "outputs": [],
   "source": [
    "#With only one line of code, assign four variables, v1, v2, v3, and v4, to the following four values: 1, 2, 3, 4.\n",
    "\n",
    "v1, v2, v3, v4 = 1, 2, 3, 4"
   ]
  },
  {
   "cell_type": "markdown",
   "id": "pharmaceutical-hearing",
   "metadata": {},
   "source": [
    "If you remember, the **.items()** dictionary method produces a sequence of tuples. Keeping this in mind, we have provided you a dictionary called **pokemon**. For every key value pair, append the **key to the list p_names**, and append the **value to the list p_number**. Do not use the .keys() or .values() methods."
   ]
  },
  {
   "cell_type": "code",
   "execution_count": 6,
   "id": "brown-hearts",
   "metadata": {},
   "outputs": [
    {
     "name": "stdout",
     "output_type": "stream",
     "text": [
      "['Rattata', 'Machop', 'Seel', 'Volbeat', 'Solrock'] ---> [19, 66, 86, 86, 126]\n"
     ]
    }
   ],
   "source": [
    "\n",
    "pokemon = {'Rattata': 19, 'Machop': 66, 'Seel': 86, 'Volbeat': 86, 'Solrock': 126}\n",
    "p_names = []\n",
    "p_number = []\n",
    "\n",
    "for key , value in pokemon.items():\n",
    "    p_names.append(key)\n",
    "    p_number.append(value)\n",
    "print(p_names, \"--->\", p_number)\n",
    "\n",
    "\n"
   ]
  },
  {
   "cell_type": "code",
   "execution_count": 10,
   "id": "dietary-constant",
   "metadata": {},
   "outputs": [
    {
     "name": "stdout",
     "output_type": "stream",
     "text": [
      "['shot put', 'long jump', '100 meters', '400 meters', '100 meter hurdles', 'triple jump', 'steeplechase', '1500 meters', '5K', '10K', 'marathon', '200 meters', '400 meter hurdles', 'high jump']\n"
     ]
    }
   ],
   "source": [
    "#The .items() method produces a sequence of key-value pair tuples. \n",
    "#With this in mind, write code to create a list of keys from the dictionary track_medal_counts \n",
    "#and assign the list to the variable name track_events. Do NOT use the .keys() method.\n",
    "\n",
    "\n",
    "track_medal_counts = {'shot put': 1, 'long jump': 3, '100 meters': 2, '400 meters': 2, '100 meter hurdles': 3, 'triple jump': 3, 'steeplechase': 2, '1500 meters': 1, '5K': 0, '10K': 0, 'marathon': 0, '200 meters': 0, '400 meter hurdles': 0, 'high jump': 1}\n",
    "\n",
    "track_events = []\n",
    "\n",
    "for key, value in track_medal_counts.items():  #it is very necessary to put both key and value in for loop otherwise you\n",
    "                                               #you will get tuple rather than list!\n",
    "    track_events.append(key)\n",
    "print(track_events)\n",
    "\n",
    "\n"
   ]
  },
  {
   "cell_type": "code",
   "execution_count": null,
   "id": "proof-photographer",
   "metadata": {},
   "outputs": [],
   "source": []
  }
 ],
 "metadata": {
  "kernelspec": {
   "display_name": "Python 3",
   "language": "python",
   "name": "python3"
  },
  "language_info": {
   "codemirror_mode": {
    "name": "ipython",
    "version": 3
   },
   "file_extension": ".py",
   "mimetype": "text/x-python",
   "name": "python",
   "nbconvert_exporter": "python",
   "pygments_lexer": "ipython3",
   "version": "3.9.2"
  }
 },
 "nbformat": 4,
 "nbformat_minor": 5
}
