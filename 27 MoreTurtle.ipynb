{
 "cells": [
  {
   "cell_type": "code",
   "execution_count": 1,
   "id": "dental-murray",
   "metadata": {},
   "outputs": [],
   "source": [
    "import turtle"
   ]
  },
  {
   "cell_type": "code",
   "execution_count": 2,
   "id": "alone-triple",
   "metadata": {},
   "outputs": [],
   "source": [
    "tv = turtle.Screen()"
   ]
  },
  {
   "cell_type": "code",
   "execution_count": 3,
   "id": "employed-person",
   "metadata": {},
   "outputs": [],
   "source": [
    "tv.screensize(500,500)"
   ]
  },
  {
   "cell_type": "code",
   "execution_count": 4,
   "id": "upper-breeding",
   "metadata": {},
   "outputs": [],
   "source": [
    "tur1 = turtle.Turtle()\n",
    "tur1.pencolor(\"Purple\")\n",
    "tur2 = turtle.Turtle()\n",
    "tur1.pencolor(\"Yellow\")"
   ]
  },
  {
   "cell_type": "code",
   "execution_count": 5,
   "id": "funny-person",
   "metadata": {},
   "outputs": [],
   "source": [
    "colors = [\"Purple\", \"Yellow\", \"Orange\", \"Pink\", \"Orange\", \"Yellow\", \"Purple\", \"Orange\", \"Pink\", \"Pink\", \"Orange\", \"Yellow\", \"Purple\", \"Orange\", \"Purple\", \"Yellow\", \"Orange\", \"Pink\", \"Orange\", \"Purple\", \"Purple\", \"Yellow\", \"Orange\", \"Pink\", \"Orange\", \"Yellow\", \"Purple\", \"Yellow\"]"
   ]
  },
  {
   "cell_type": "code",
   "execution_count": 6,
   "id": "printable-basics",
   "metadata": {},
   "outputs": [],
   "source": [
    "for color in colors:\n",
    "    if tur1.pencolor()==\"Purple\":\n",
    "        tur1.left(30)\n",
    "        tur1.forward(20)\n",
    "    else:\n",
    "        tur1.right(80)\n",
    "        tur1.forward(20)\n",
    "    if tur2.pencolor()==\"Yellow\":\n",
    "        tur2.left(30)\n",
    "        tur2.forward(20)\n",
    "    else:\n",
    "        tur2.right(80)\n",
    "        tur2.forward(5)\n",
    "    tur1.pencolor(color)\n",
    "    tur2.pencolor(color)\n",
    "tv.exitonclick()"
   ]
  },
  {
   "cell_type": "code",
   "execution_count": null,
   "id": "coral-morgan",
   "metadata": {},
   "outputs": [],
   "source": []
  }
 ],
 "metadata": {
  "kernelspec": {
   "display_name": "Python 3",
   "language": "python",
   "name": "python3"
  },
  "language_info": {
   "codemirror_mode": {
    "name": "ipython",
    "version": 3
   },
   "file_extension": ".py",
   "mimetype": "text/x-python",
   "name": "python",
   "nbconvert_exporter": "python",
   "pygments_lexer": "ipython3",
   "version": "3.9.6"
  }
 },
 "nbformat": 4,
 "nbformat_minor": 5
}
