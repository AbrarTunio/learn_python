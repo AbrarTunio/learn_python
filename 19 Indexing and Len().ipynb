{
 "cells": [
  {
   "cell_type": "code",
   "execution_count": 1,
   "id": "blessed-eight",
   "metadata": {},
   "outputs": [],
   "source": [
    "#Indexing and Len() Function"
   ]
  },
  {
   "cell_type": "code",
   "execution_count": 2,
   "id": "settled-solomon",
   "metadata": {},
   "outputs": [],
   "source": [
    "string = \"Python 4 You\"\n",
    "myList = [\"Python\", 4 , 'You']\n",
    "mytuple = ('Python', 4, 'You')"
   ]
  },
  {
   "cell_type": "code",
   "execution_count": 5,
   "id": "alternative-illustration",
   "metadata": {},
   "outputs": [
    {
     "name": "stdout",
     "output_type": "stream",
     "text": [
      "P\n",
      "Python\n",
      "You\n"
     ]
    }
   ],
   "source": [
    "print(string[0])\n",
    "print(myList[0])\n",
    "print(mytuple[2])"
   ]
  },
  {
   "cell_type": "code",
   "execution_count": 6,
   "id": "supreme-bachelor",
   "metadata": {},
   "outputs": [
    {
     "name": "stdout",
     "output_type": "stream",
     "text": [
      "12\n",
      "3\n",
      "3\n"
     ]
    }
   ],
   "source": [
    "print(len(string)) #spaces counts\n",
    "print(len(myList))\n",
    "print(len(mytuple))"
   ]
  },
  {
   "cell_type": "code",
   "execution_count": 7,
   "id": "located-credit",
   "metadata": {},
   "outputs": [
    {
     "name": "stdout",
     "output_type": "stream",
     "text": [
      "11\n",
      "1\n",
      "0\n"
     ]
    }
   ],
   "source": [
    "print(len(string) - 1) \n",
    "print(len(myList) - 2)\n",
    "print(len(mytuple) - 3)"
   ]
  },
  {
   "cell_type": "code",
   "execution_count": 9,
   "id": "sophisticated-injury",
   "metadata": {},
   "outputs": [
    {
     "name": "stdout",
     "output_type": "stream",
     "text": [
      "u\n",
      "4\n",
      "Python\n"
     ]
    }
   ],
   "source": [
    "print(string [len(string) - 1]) \n",
    "print(myList [len(myList) - 2])\n",
    "print(mytuple [len(mytuple) - 3])"
   ]
  },
  {
   "cell_type": "code",
   "execution_count": 24,
   "id": "opened-victorian",
   "metadata": {},
   "outputs": [],
   "source": [
    "#Creating list and assigning list index to variable/instance\n",
    "\n",
    "mylist = [0]\n",
    "new_list_indexing = mylist[0]"
   ]
  },
  {
   "cell_type": "code",
   "execution_count": 25,
   "id": "opened-communication",
   "metadata": {},
   "outputs": [
    {
     "name": "stdout",
     "output_type": "stream",
     "text": [
      "<class 'list'>\n",
      "<class 'int'>\n"
     ]
    }
   ],
   "source": [
    "print(type(mylist))\n",
    "print(type(new_list_indexing))"
   ]
  },
  {
   "cell_type": "code",
   "execution_count": 26,
   "id": "certain-discipline",
   "metadata": {},
   "outputs": [
    {
     "name": "stdout",
     "output_type": "stream",
     "text": [
      "87\n",
      "123\n",
      "8398\n"
     ]
    }
   ],
   "source": [
    "numbers = [17, 123, 87, 34, 66, 8398, 44]\n",
    "print(numbers[2])\n",
    "print(numbers[9-8])\n",
    "print(numbers[-2])"
   ]
  },
  {
   "cell_type": "code",
   "execution_count": null,
   "id": "reverse-silver",
   "metadata": {},
   "outputs": [],
   "source": [
    "Check your understanding\n",
    "\n",
    "sequences-3-1: What is printed by the following statements?\n",
    "\n",
    "s = \"python rocks\"\n",
    "print(s[3])\n",
    "A. t\n",
    "B. h\n",
    "C. c\n",
    "D. Error, you cannot use the [ ] operator with a string.\n",
    "\n",
    "✔️ Yes, index locations start with 0.\n",
    "Multiple Choice (question5_3_1)\n",
    "\n",
    "sequences-3-2: What is printed by the following statements?\n",
    "\n",
    "s = \"python rocks\"\n",
    "print(s[2] + s[-4])\n",
    "A. tr\n",
    "B. to\n",
    "C. ps\n",
    "D. nn\n",
    "E. Error, you cannot use the [ ] operator with the + operator.\n",
    "\n",
    "✔️ For -4 you count from right to left, starting with -1.\n",
    "Multiple Choice (question5_3_2)\n",
    "\n",
    "sequences-3-3: What is printed by the following statements?\n",
    "\n",
    "alist = [3, 67, \"cat\", [56, 57, \"dog\"], [ ], 3.14, False]\n",
    "print(alist[5])\n",
    "A. [ ]\n",
    "B. 3.14\n",
    "C. False\n",
    "D. \"dog\"\n",
    "\n",
    "✔️ Yes, 3.14 is at index 5 since we start counting at 0 and sublists count as one item.\n",
    "Multiple Choice (question5_3_3)\n",
    "\n",
    "Assign the value of the 34th element of lst to the variable output.\n",
    "\n",
    "1\n",
    "lst = [\"hi\", \"morning\", \"dog\", \"506\", \"caterpillar\", \"balloons\", 106, \"yo-yo\", \"python\", \"moon\", \"water\", \"sleepy\", \"daffy\", 45, \"donald\", \"whiteboard\", \"glasses\", \"markers\", \"couches\", \"butterfly\", \"100\", \"magazine\", \"door\", \"picture\", \"window\", [\"Olympics\", \"handle\"], \"chair\", \"pages\", \"readings\", \"burger\", \"juggle\", \"craft\", [\"store\", \"poster\", \"board\"], \"laptop\", \"computer\", \"plates\", \"hotdog\", \"salad\", \"backpack\", \"zipper\", \"ring\", \"watch\", \"finger\", \"bags\", \"boxes\", \"pods\", \"peas\", \"apples\", \"horse\", \"guinea pig\", \"bowl\", \"EECS\"]\n",
    "2\n",
    "​\n",
    "3\n",
    "​\n",
    "ActiveCode (ac5_3_4)\n",
    "\n",
    "Assign the value of the 23rd element of l to the variable checking.\n",
    "\n",
    "1\n",
    "l = (\"hi\", \"goodbye\", \"python\", \"106\", \"506\", 91, ['all', 'Paul', 'Jackie', \"UMSI\", 1, \"Stephen\", 4.5], 109, \"chair\", \"pizza\", \"wolverine\", 2017, 3.92, 1817, \"account\", \"readings\", \"papers\", 12, \"facebook\", \"twitter\", 193.2, \"snapchat\", \"leaders and the best\", \"social\", \"1986\", 9, 29, \"holiday\", [\"women\", \"olympics\", \"gold\", \"rio\", 21, \"2016\", \"men\"], \"26trombones\")\n",
    "2\n",
    "​\n",
    "3\n",
    "​\n",
    "ActiveCode (ac5_3_5)\n",
    "\n",
    "Assign the value of the last chacter of lst to the variable output. Do this so that the length of lst doesn’t matter.\n",
    "\n",
    "1\n",
    "lst = \"Every chess or checkers game begins from the same position and has a finite number of moves that can be played. While the number of possible scenarios and moves is quite large, it is still possible for computers to calculate that number and even be programmed to respond well against a human player...\"\n",
    "2\n",
    "​\n",
    "3\n",
    "​\n",
    "ActiveCode (ac5_3_6)\n",
    "\n",
    "Note\n",
    "\n",
    "Why does counting start at 0 going from left to right, but at -1 going from right to left? Well, indexing starting at 0 has a long history in computer science having to do with some low-level implementation details that we won’t go into. For indexing from right to left, it might seem natural to do the analgous thing and start at -0. Unfortunately, -0 is the same as 0, so s[-0] can’t be the last item. Remember we said that programming languages are formal languages where details matter and everything is taken literally?\n",
    "\n",
    "You have attempted 10 of 9 activities on this page"
   ]
  }
 ],
 "metadata": {
  "kernelspec": {
   "display_name": "Python 3",
   "language": "python",
   "name": "python3"
  },
  "language_info": {
   "codemirror_mode": {
    "name": "ipython",
    "version": 3
   },
   "file_extension": ".py",
   "mimetype": "text/x-python",
   "name": "python",
   "nbconvert_exporter": "python",
   "pygments_lexer": "ipython3",
   "version": "3.9.2"
  }
 },
 "nbformat": 4,
 "nbformat_minor": 5
}
