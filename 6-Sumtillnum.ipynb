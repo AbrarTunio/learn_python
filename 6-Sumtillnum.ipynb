{
 "cells": [
  {
   "cell_type": "code",
   "execution_count": 10,
   "id": "partial-jason",
   "metadata": {},
   "outputs": [
    {
     "data": {
      "text/plain": [
       "(2, 3)"
      ]
     },
     "execution_count": 10,
     "metadata": {},
     "output_type": "execute_result"
    }
   ],
   "source": [
    "def sumupTo (anynumber):\n",
    "    sumis = 0\n",
    "    num   = 1\n",
    "    while (num <= anynumber):\n",
    "        sumis = sumis + num\n",
    "        num = num + 1\n",
    "        \n",
    "        if num > anynumber:\n",
    "            num = anynumber\n",
    "            break\n",
    "        #         print(num , sumis)\n",
    "    return num, sumis\n",
    "\n",
    "sumupTo (2)\n",
    "# sumupTo (4)\n",
    "# sumupTo (10)"
   ]
  },
  {
   "cell_type": "code",
   "execution_count": null,
   "id": "artificial-maximum",
   "metadata": {},
   "outputs": [],
   "source": []
  }
 ],
 "metadata": {
  "kernelspec": {
   "display_name": "Python 3",
   "language": "python",
   "name": "python3"
  },
  "language_info": {
   "codemirror_mode": {
    "name": "ipython",
    "version": 3
   },
   "file_extension": ".py",
   "mimetype": "text/x-python",
   "name": "python",
   "nbconvert_exporter": "python",
   "pygments_lexer": "ipython3",
   "version": "3.9.2"
  }
 },
 "nbformat": 4,
 "nbformat_minor": 5
}
