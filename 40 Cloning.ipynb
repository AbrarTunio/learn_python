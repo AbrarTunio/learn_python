{
 "cells": [
  {
   "cell_type": "markdown",
   "id": "royal-annotation",
   "metadata": {},
   "source": [
    "Making a CLONE/COPY rather than ALIAS"
   ]
  },
  {
   "cell_type": "code",
   "execution_count": 5,
   "id": "international-asian",
   "metadata": {},
   "outputs": [],
   "source": [
    "brothers = [\"Israr\", \"Abrar\", \"Iqrar\"]\n",
    "friends = brothers[:]     #now it is not an alias"
   ]
  },
  {
   "cell_type": "code",
   "execution_count": 6,
   "id": "vocational-casino",
   "metadata": {},
   "outputs": [
    {
     "name": "stdout",
     "output_type": "stream",
     "text": [
      "True\n",
      "False\n"
     ]
    }
   ],
   "source": [
    "print(brothers == friends)\n",
    "print(brothers is friends)"
   ]
  },
  {
   "cell_type": "code",
   "execution_count": 7,
   "id": "laughing-fight",
   "metadata": {},
   "outputs": [
    {
     "name": "stdout",
     "output_type": "stream",
     "text": [
      "['Israr', 'Abrar', 'Iqrar']\n",
      "['Israr', 'Abrar', 'Doctor']\n"
     ]
    }
   ],
   "source": [
    "friends[-1] = \"Doctor\"\n",
    "print(brothers)\n",
    "print(friends)"
   ]
  },
  {
   "cell_type": "code",
   "execution_count": 8,
   "id": "informed-yesterday",
   "metadata": {},
   "outputs": [],
   "source": [
    "#Conclusion: Changes made on one does not effect on other!"
   ]
  },
  {
   "cell_type": "code",
   "execution_count": null,
   "id": "second-scanner",
   "metadata": {},
   "outputs": [],
   "source": [
    "#What is printed by the following statements?\n",
    "\n",
    "alist = [4,2,8,6,5]\n",
    "blist = alist * 2\n",
    "blist[3] = 999\n",
    "print(alist)\n",
    "#A. [4,2,8,999,5,4,2,8,6,5]\n",
    "#B. [4,2,8,999,5]\n",
    "#C. [4,2,8,6,5]"
   ]
  }
 ],
 "metadata": {
  "kernelspec": {
   "display_name": "Python 3",
   "language": "python",
   "name": "python3"
  },
  "language_info": {
   "codemirror_mode": {
    "name": "ipython",
    "version": 3
   },
   "file_extension": ".py",
   "mimetype": "text/x-python",
   "name": "python",
   "nbconvert_exporter": "python",
   "pygments_lexer": "ipython3",
   "version": "3.9.2"
  }
 },
 "nbformat": 4,
 "nbformat_minor": 5
}
