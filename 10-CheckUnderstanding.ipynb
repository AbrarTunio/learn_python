{
 "cells": [
  {
   "cell_type": "markdown",
   "id": "reliable-china",
   "metadata": {},
   "source": [
    "1. The dictionary travel contains the number of countries within each continent that Jackie has traveled to. Find the total number of countries that Jackie has been to, and save this number to the variable name total. Do not hard code this!"
   ]
  },
  {
   "cell_type": "code",
   "execution_count": 3,
   "id": "higher-failing",
   "metadata": {},
   "outputs": [
    {
     "name": "stdout",
     "output_type": "stream",
     "text": [
      "19\n"
     ]
    }
   ],
   "source": [
    "travel = {\"North America\": 2, \"Europe\": 8, \"South America\": 3, \"Asia\": 4, \"Africa\":1, \"Antarctica\": 0, \"Australia\": 1}\n",
    "\n",
    "total = 0\n",
    "for country in travel:\n",
    "    total = total + travel [country]\n",
    "print(total)\n"
   ]
  },
  {
   "cell_type": "markdown",
   "id": "fitting-summary",
   "metadata": {},
   "source": [
    "schedule is a dictionary where a class name is a key and its value is how many credits it was worth. Go through and accumulate the total number of credits that have been earned so far and assign that to the variable total_credits. Do not hardcode."
   ]
  },
  {
   "cell_type": "code",
   "execution_count": 5,
   "id": "atmospheric-hudson",
   "metadata": {},
   "outputs": [
    {
     "name": "stdout",
     "output_type": "stream",
     "text": [
      "63\n"
     ]
    }
   ],
   "source": [
    "schedule = {\"UARTS 150\": 3, \"SPANISH 103\": 4, \"ENGLISH 125\": 4, \"SI 110\": 4, \"ENS 356\": 2, \"WOMENSTD 240\": 4, \"SI 106\": 4, \"BIO 118\": 3, \"SPANISH 231\": 4, \"PSYCH 111\": 4, \"LING 111\": 3, \"SPANISH 232\": 4, \"STATS 250\": 4, \"SI 206\": 4, \"COGSCI 200\": 4, \"AMCULT 202\": 4, \"ANTHRO 101\": 4}\n",
    "\n",
    "total_credits = 0\n",
    "\n",
    "for c in schedule:\n",
    "    total_credits = total_credits + schedule[c]\n",
    "print(total_credits)\n"
   ]
  },
  {
   "cell_type": "code",
   "execution_count": null,
   "id": "standard-hearts",
   "metadata": {},
   "outputs": [],
   "source": []
  }
 ],
 "metadata": {
  "kernelspec": {
   "display_name": "Python 3",
   "language": "python",
   "name": "python3"
  },
  "language_info": {
   "codemirror_mode": {
    "name": "ipython",
    "version": 3
   },
   "file_extension": ".py",
   "mimetype": "text/x-python",
   "name": "python",
   "nbconvert_exporter": "python",
   "pygments_lexer": "ipython3",
   "version": "3.9.2"
  }
 },
 "nbformat": 4,
 "nbformat_minor": 5
}
