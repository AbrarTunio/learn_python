{
 "cells": [
  {
   "cell_type": "markdown",
   "id": "important-sheep",
   "metadata": {},
   "source": [
    "1st operation is DELETE !!"
   ]
  },
  {
   "cell_type": "code",
   "execution_count": 9,
   "id": "spread-closure",
   "metadata": {},
   "outputs": [],
   "source": [
    "my_dict = {\"abrar\":31,\"iqrar\":28,\"israr\":34}\n",
    "#print(my_dict)"
   ]
  },
  {
   "cell_type": "code",
   "execution_count": 10,
   "id": "conditional-military",
   "metadata": {},
   "outputs": [
    {
     "name": "stdout",
     "output_type": "stream",
     "text": [
      "BEFORE DELETING\n",
      "{'abrar': 31, 'iqrar': 28, 'israr': 34}\n",
      "AFTER DELETING\n",
      "{'iqrar': 28, 'israr': 34}\n"
     ]
    }
   ],
   "source": [
    "print(\"BEFORE DELETING\")\n",
    "print(my_dict)\n",
    "\n",
    "del my_dict[\"abrar\"]\n",
    "\n",
    "print(\"AFTER DELETING\")\n",
    "print(my_dict)"
   ]
  },
  {
   "cell_type": "markdown",
   "id": "hazardous-disorder",
   "metadata": {},
   "source": [
    "Changing the value of anyone key!"
   ]
  },
  {
   "cell_type": "code",
   "execution_count": 11,
   "id": "coordinated-virtue",
   "metadata": {},
   "outputs": [
    {
     "name": "stdout",
     "output_type": "stream",
     "text": [
      "{'abrar': 31, 'iqrar': 28, 'israr': 34} before changing value\n",
      "{'abrar': 50, 'iqrar': 28, 'israr': 34} after changing value\n"
     ]
    }
   ],
   "source": [
    "my_dict = {\"abrar\":31,\"iqrar\":28,\"israr\":34}\n",
    "print(my_dict,\"before changing value\")\n",
    "my_dict[\"abrar\"] = 50\n",
    "print(my_dict,\"after changing value\")\n"
   ]
  },
  {
   "cell_type": "markdown",
   "id": "funny-turning",
   "metadata": {},
   "source": [
    "2. Update the value for “Phelps” in the dictionary swimmers to include his medals from the Rio Olympics by adding 5 to the current value (Phelps will now have 28 total medals). Do not rewrite the dictionary."
   ]
  },
  {
   "cell_type": "code",
   "execution_count": 1,
   "id": "unlimited-jimmy",
   "metadata": {},
   "outputs": [
    {
     "name": "stdout",
     "output_type": "stream",
     "text": [
      "{'Manuel': 4, 'Lochte': 12, 'Adrian': 7, 'Ledecky': 5, 'Dirado': 4, 'Phelps': 23} before updating\n",
      "{'Manuel': 4, 'Lochte': 12, 'Adrian': 7, 'Ledecky': 5, 'Dirado': 4, 'Phelps': 28} after updating\n"
     ]
    }
   ],
   "source": [
    "swimmers = {'Manuel':4, 'Lochte':12, 'Adrian':7, 'Ledecky':5, 'Dirado':4, 'Phelps':23}\n",
    "print(swimmers,\"before updating\")\n",
    "\n",
    "swimmers[\"Phelps\"] = swimmers[\"Phelps\"] + 5 \n",
    "print(swimmers,\"after updating\")\n"
   ]
  },
  {
   "cell_type": "code",
   "execution_count": 2,
   "id": "abroad-treasure",
   "metadata": {},
   "outputs": [],
   "source": [
    "swimmers[\"Phelps\"] += 20"
   ]
  },
  {
   "cell_type": "code",
   "execution_count": 3,
   "id": "martial-volunteer",
   "metadata": {},
   "outputs": [
    {
     "name": "stdout",
     "output_type": "stream",
     "text": [
      "{'Manuel': 4, 'Lochte': 12, 'Adrian': 7, 'Ledecky': 5, 'Dirado': 4, 'Phelps': 48}\n"
     ]
    }
   ],
   "source": [
    "print(swimmers)"
   ]
  },
  {
   "cell_type": "code",
   "execution_count": null,
   "id": "mexican-buffer",
   "metadata": {},
   "outputs": [],
   "source": []
  }
 ],
 "metadata": {
  "kernelspec": {
   "display_name": "Python 3",
   "language": "python",
   "name": "python3"
  },
  "language_info": {
   "codemirror_mode": {
    "name": "ipython",
    "version": 3
   },
   "file_extension": ".py",
   "mimetype": "text/x-python",
   "name": "python",
   "nbconvert_exporter": "python",
   "pygments_lexer": "ipython3",
   "version": "3.9.2"
  }
 },
 "nbformat": 4,
 "nbformat_minor": 5
}
