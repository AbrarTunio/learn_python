{
 "cells": [
  {
   "cell_type": "raw",
   "id": "whole-application",
   "metadata": {},
   "source": [
    "----------Expression----------Value----------Type\n",
    "literal---500-----------------500------------Integer\n",
    "literal---3.14----------------3.14-----------Float\n",
    "----------200 + 300-----------500------------Integer\n",
    "----------2.2 + 2.6-----------4.8------------Float"
   ]
  },
  {
   "cell_type": "code",
   "execution_count": null,
   "id": "circular-laptop",
   "metadata": {},
   "outputs": [],
   "source": [
    "#Taking out value of any integer/float expresssion\n",
    "print(1+2+(2*3))"
   ]
  },
  {
   "cell_type": "code",
   "execution_count": null,
   "id": "adolescent-locking",
   "metadata": {},
   "outputs": [],
   "source": [
    "#Taking out value of any string expression\n",
    "print( len(\"Hello!\") )           #len function is used to take lenght or value of string expression"
   ]
  },
  {
   "cell_type": "code",
   "execution_count": null,
   "id": "endangered-devil",
   "metadata": {},
   "outputs": [],
   "source": [
    "#What will be value of following expression\n",
    "print( len(\"Hello! Students\"))\n"
   ]
  },
  {
   "cell_type": "code",
   "execution_count": 6,
   "id": "composed-prospect",
   "metadata": {},
   "outputs": [
    {
     "name": "stdout",
     "output_type": "stream",
     "text": [
      "15\n"
     ]
    }
   ],
   "source": [
    "#Let's make things more complicated!\n",
    "print( 2 * len(\"hello\") + len(\"abrar\"))"
   ]
  },
  {
   "cell_type": "code",
   "execution_count": 7,
   "id": "residential-color",
   "metadata": {},
   "outputs": [],
   "source": []
  },
  {
   "cell_type": "code",
   "execution_count": 8,
   "id": "legitimate-index",
   "metadata": {},
   "outputs": [
    {
     "ename": "TypeError",
     "evalue": "'tuple' object does not support item assignment",
     "output_type": "error",
     "traceback": [
      "\u001b[1;31m---------------------------------------------------------------------------\u001b[0m",
      "\u001b[1;31mTypeError\u001b[0m                                 Traceback (most recent call last)",
      "\u001b[1;32m<ipython-input-8-4844e2bb8cd1>\u001b[0m in \u001b[0;36m<module>\u001b[1;34m\u001b[0m\n\u001b[1;32m----> 1\u001b[1;33m \u001b[0ma\u001b[0m\u001b[1;33m[\u001b[0m\u001b[1;36m0\u001b[0m\u001b[1;33m]\u001b[0m \u001b[1;33m+=\u001b[0m \u001b[1;36m1\u001b[0m\u001b[1;33m\u001b[0m\u001b[1;33m\u001b[0m\u001b[0m\n\u001b[0m",
      "\u001b[1;31mTypeError\u001b[0m: 'tuple' object does not support item assignment"
     ]
    }
   ],
   "source": [
    "\n"
   ]
  },
  {
   "cell_type": "code",
   "execution_count": null,
   "id": "unnecessary-morning",
   "metadata": {},
   "outputs": [],
   "source": []
  }
 ],
 "metadata": {
  "kernelspec": {
   "display_name": "Python 3",
   "language": "python",
   "name": "python3"
  },
  "language_info": {
   "codemirror_mode": {
    "name": "ipython",
    "version": 3
   },
   "file_extension": ".py",
   "mimetype": "text/x-python",
   "name": "python",
   "nbconvert_exporter": "python",
   "pygments_lexer": "ipython3",
   "version": "3.9.1"
  }
 },
 "nbformat": 4,
 "nbformat_minor": 5
}
