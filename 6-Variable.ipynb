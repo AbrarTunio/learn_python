{
 "cells": [
  {
   "cell_type": "markdown",
   "id": "hidden-server",
   "metadata": {},
   "source": [
    "Values computed after you have performed operations on multiple expression \n",
    "should be stored somewhere and that SomeWhere is VARIABLE"
   ]
  },
  {
   "cell_type": "markdown",
   "id": "southern-navigation",
   "metadata": {},
   "source": [
    "Those STORED values can be used later on at any stage!"
   ]
  },
  {
   "cell_type": "code",
   "execution_count": null,
   "id": "floral-consciousness",
   "metadata": {},
   "outputs": [],
   "source": [
    "#Step 1: Setting variable or assigning value to a variable\n",
    "message = \"I want to become a developer!\"\n",
    "n  = 1\n",
    "pi = 3.14\n",
    "\n",
    "# = equal is actually an assignment operator"
   ]
  },
  {
   "cell_type": "code",
   "execution_count": null,
   "id": "moved-indonesia",
   "metadata": {},
   "outputs": [],
   "source": [
    "#Step 2: Refrencing variables\n",
    "print(message)\n",
    "print(n)\n",
    "print(pi)"
   ]
  },
  {
   "cell_type": "markdown",
   "id": "silver-airline",
   "metadata": {},
   "source": [
    "Overwrite Variables"
   ]
  },
  {
   "cell_type": "code",
   "execution_count": null,
   "id": "expensive-value",
   "metadata": {
    "scrolled": true
   },
   "outputs": [],
   "source": [
    "x = \"This is Abrar\"\n",
    "print(x)\n",
    "x = 2\n",
    "print(x)"
   ]
  },
  {
   "cell_type": "code",
   "execution_count": null,
   "id": "through-motor",
   "metadata": {
    "scrolled": true
   },
   "outputs": [],
   "source": [
    "x = \"This is Abrar\"\n",
    "x = 2\n",
    "print(x)\n",
    "print(x)"
   ]
  },
  {
   "cell_type": "code",
   "execution_count": null,
   "id": "ambient-disease",
   "metadata": {},
   "outputs": [],
   "source": [
    "#Python is Case-sensitive\n",
    "\n",
    "xyz = 2\n",
    "XYZ = 5\n",
    "xYz = 8\n",
    "\n",
    "print(xyz)\n",
    "print(XYZ)\n",
    "print(xYz)"
   ]
  },
  {
   "cell_type": "code",
   "execution_count": null,
   "id": "sonic-catering",
   "metadata": {},
   "outputs": [],
   "source": [
    "print(xyZ)"
   ]
  },
  {
   "cell_type": "markdown",
   "id": "organized-dietary",
   "metadata": {},
   "source": [
    "BAD VARIABLES and invalid variables"
   ]
  },
  {
   "cell_type": "code",
   "execution_count": 13,
   "id": "polished-colorado",
   "metadata": {},
   "outputs": [
    {
     "ename": "SyntaxError",
     "evalue": "invalid syntax (<ipython-input-13-7956b94d45b8>, line 1)",
     "output_type": "error",
     "traceback": [
      "\u001b[1;36m  File \u001b[1;32m\"<ipython-input-13-7956b94d45b8>\"\u001b[1;36m, line \u001b[1;32m1\u001b[0m\n\u001b[1;33m    2x = 15\u001b[0m\n\u001b[1;37m     ^\u001b[0m\n\u001b[1;31mSyntaxError\u001b[0m\u001b[1;31m:\u001b[0m invalid syntax\n"
     ]
    }
   ],
   "source": [
    "2x = 15 #this is an invalide"
   ]
  },
  {
   "cell_type": "code",
   "execution_count": 14,
   "id": "desperate-operations",
   "metadata": {},
   "outputs": [],
   "source": [
    "abcDeFgH = 5 #this is a valid variable but bad variable\n",
    "x2 = 20 #What about this one?"
   ]
  },
  {
   "cell_type": "code",
   "execution_count": 15,
   "id": "usual-reliance",
   "metadata": {},
   "outputs": [],
   "source": [
    "_a_ = 50 # Valid variable\n",
    "#What more variables can be valid and invalid? Can you think of any??\n"
   ]
  },
  {
   "cell_type": "code",
   "execution_count": 16,
   "id": "loose-tuesday",
   "metadata": {},
   "outputs": [],
   "source": [
    "#Students should learn from a video as well. Let's show them a video\n"
   ]
  },
  {
   "cell_type": "markdown",
   "id": "otherwise-mother",
   "metadata": {},
   "source": [
    "Note:\n",
    "\n",
    "If you have programmed in another language such as Java or C++, you may be used to the idea that variables have types that are declared when the variable name is first introduced in a program. Python doesn’t do that. Variables don’t have types in Python; values do. That means that it is acceptable in Python to have a variable name refer to an integer and later have the same variable name refer to a string. This is almost never a good idea, because it will confuse human readers (including you), but the Python interpreter will not complain."
   ]
  }
 ],
 "metadata": {
  "kernelspec": {
   "display_name": "Python 3",
   "language": "python",
   "name": "python3"
  },
  "language_info": {
   "codemirror_mode": {
    "name": "ipython",
    "version": 3
   },
   "file_extension": ".py",
   "mimetype": "text/x-python",
   "name": "python",
   "nbconvert_exporter": "python",
   "pygments_lexer": "ipython3",
   "version": "3.9.1"
  }
 },
 "nbformat": 4,
 "nbformat_minor": 5
}
