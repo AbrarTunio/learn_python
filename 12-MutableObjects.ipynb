{
 "cells": [
  {
   "cell_type": "markdown",
   "id": "stopped-promise",
   "metadata": {},
   "source": [
    "**Mutable Objects** Like Lists in Following Example"
   ]
  },
  {
   "cell_type": "code",
   "execution_count": 2,
   "id": "unlikely-documentation",
   "metadata": {},
   "outputs": [
    {
     "name": "stdout",
     "output_type": "stream",
     "text": [
      "5\n",
      "['Michigan', 'Wolverines', 'are', 'awesome']\n"
     ]
    }
   ],
   "source": [
    "def double(y):\n",
    "    y = 2 * y\n",
    "\n",
    "def changeit(lst):\n",
    "    lst[0] = \"Michigan\"\n",
    "    lst[1] = \"Wolverines\"\n",
    "\n",
    "y = 5\n",
    "double(y)\n",
    "print(y)\n",
    "\n",
    "mylst = ['our', 'students', 'are', 'awesome'] #This actual list will be change in global namespace AKA Side effects\n",
    "changeit(mylst)\n",
    "print(mylst)"
   ]
  },
  {
   "cell_type": "markdown",
   "id": "american-mechanism",
   "metadata": {},
   "source": [
    "**12.14. Side Effects**\n",
    "We say that the function <changeit> has a side effect on the list object that is passed to it. Global variables are another way to have side effects. For example, similar to examples you have seen above, we could make double have a side effect on the <global variable y>."
   ]
  },
  {
   "cell_type": "code",
   "execution_count": 4,
   "id": "respected-adobe",
   "metadata": {},
   "outputs": [
    {
     "name": "stdout",
     "output_type": "stream",
     "text": [
      "10\n"
     ]
    }
   ],
   "source": [
    "def double(n):\n",
    "    global y\n",
    "    y = 2 * n\n",
    "\n",
    "y = 5\n",
    "double(y)\n",
    "print(y)\n"
   ]
  },
  {
   "cell_type": "markdown",
   "id": "accomplished-potter",
   "metadata": {},
   "source": [
    "Side effects are sometimes convenient. For example, it may be convenient to have a single dictionary that accumulates information, and pass it around to various functions that might add to it or modify it.\n",
    "\n",
    "However, programs that have side effects can be very difficult to debug. When an object has a value that is not what you expected, it can be difficult to track down exactly where in the code it was set. Wherever it is practical to do so, it is best to avoid side effects. The way to avoid using side effects is to use return values instead.\n",
    "\n",
    "Instead of modifying a global variable inside a function, pass the global variable’s value in as a parameter, and set that global variable to be equal to a value returned from the function. For example, the following is a"
   ]
  },
  {
   "cell_type": "code",
   "execution_count": 6,
   "id": "quantitative-lightning",
   "metadata": {},
   "outputs": [
    {
     "name": "stdout",
     "output_type": "stream",
     "text": [
      "10\n"
     ]
    }
   ],
   "source": [
    "def double(n):\n",
    "    return 2 * n\n",
    "\n",
    "y = 5\n",
    "y = double(y)\n",
    "print(y)"
   ]
  },
  {
   "cell_type": "markdown",
   "id": "arbitrary-edgar",
   "metadata": {},
   "source": [
    "You can use the same coding pattern to avoid confusing side effects with sharing of **mutable objects**. To do that, explicitly make a **copy of an object** and pass the copy in to the function. Then return the modified copy and reassign it to the original variable if you want to save the changes. The built-in **list function**, which takes a sequence as a parameter and returns a new list, works to copy an existing list. For dictionaries, you can similarly call the **dict function**, passing in a dictionary to get a copy of the dictionary back as a return value."
   ]
  },
  {
   "cell_type": "code",
   "execution_count": 8,
   "id": "quarterly-milan",
   "metadata": {},
   "outputs": [
    {
     "name": "stdout",
     "output_type": "stream",
     "text": [
      "['106', 'students', 'are', 'awesome']\n",
      "['Michigan', 'Wolverines', 'are', 'awesome']\n"
     ]
    }
   ],
   "source": [
    "def changeit(lst):\n",
    "    lst[0] = \"Michigan\"\n",
    "    lst[1] = \"Wolverines\"\n",
    "    return lst\n",
    "\n",
    "mylst = ['106', 'students', 'are', 'awesome']\n",
    "newlst = changeit(list(mylst))  #this will make a copy of mylst and pass it into changeit function. \n",
    "                                #Remember: it will not change or touch original mylst \n",
    "print(mylst)\n",
    "print(newlst)"
   ]
  },
  {
   "cell_type": "markdown",
   "id": "ordinary-vacation",
   "metadata": {},
   "source": [
    "In general, any lasting effect that occurs in a function, not through its return value, is called a side effect. There are three ways to have side effects:\n",
    "\n",
    "1. **Printing out a value. This doesn’t change any objects or variable bindings, but it does have a potential lasting effect outside the function execution, because a person might see the output and be influenced by it.**\n",
    "\n",
    "2. **Changing the value of a mutable object.**\n",
    "\n",
    "3. **Changing the binding of a global variable.**"
   ]
  },
  {
   "cell_type": "code",
   "execution_count": null,
   "id": "featured-plant",
   "metadata": {},
   "outputs": [],
   "source": []
  }
 ],
 "metadata": {
  "kernelspec": {
   "display_name": "Python 3",
   "language": "python",
   "name": "python3"
  },
  "language_info": {
   "codemirror_mode": {
    "name": "ipython",
    "version": 3
   },
   "file_extension": ".py",
   "mimetype": "text/x-python",
   "name": "python",
   "nbconvert_exporter": "python",
   "pygments_lexer": "ipython3",
   "version": "3.9.2"
  }
 },
 "nbformat": 4,
 "nbformat_minor": 5
}
