{
 "cells": [
  {
   "cell_type": "markdown",
   "id": "centered-alaska",
   "metadata": {},
   "source": [
    "**Swapping Value Between Variables**"
   ]
  },
  {
   "cell_type": "code",
   "execution_count": 2,
   "id": "characteristic-uncertainty",
   "metadata": {},
   "outputs": [
    {
     "name": "stdout",
     "output_type": "stream",
     "text": [
      "2 1 1\n"
     ]
    }
   ],
   "source": [
    "a = 1\n",
    "b = 2\n",
    "\n",
    "temp = a # 1 is stored into temp\n",
    "\n",
    "a = b    # 1 is replace by 2 in a variable\n",
    "\n",
    "b = temp  # value of temp was 1 and it is now assigned to b\n",
    "\n",
    "print(a, b, temp)\n"
   ]
  },
  {
   "cell_type": "markdown",
   "id": "supposed-engineer",
   "metadata": {},
   "source": [
    "**Above Concept is very Confusing** Try Tuple to do it!!"
   ]
  },
  {
   "cell_type": "code",
   "execution_count": 3,
   "id": "legal-coordinate",
   "metadata": {},
   "outputs": [
    {
     "name": "stdout",
     "output_type": "stream",
     "text": [
      "2 1\n"
     ]
    }
   ],
   "source": [
    "a = 1\n",
    "b = 2\n",
    "(a,b) = (b,a)\n",
    "\n",
    "print(a,b) #Issue resolved and variable swapping without any confusion"
   ]
  },
  {
   "cell_type": "code",
   "execution_count": null,
   "id": "logical-guarantee",
   "metadata": {},
   "outputs": [],
   "source": []
  }
 ],
 "metadata": {
  "kernelspec": {
   "display_name": "Python 3",
   "language": "python",
   "name": "python3"
  },
  "language_info": {
   "codemirror_mode": {
    "name": "ipython",
    "version": 3
   },
   "file_extension": ".py",
   "mimetype": "text/x-python",
   "name": "python",
   "nbconvert_exporter": "python",
   "pygments_lexer": "ipython3",
   "version": "3.9.2"
  }
 },
 "nbformat": 4,
 "nbformat_minor": 5
}
