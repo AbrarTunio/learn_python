{
 "cells": [
  {
   "cell_type": "code",
   "execution_count": 8,
   "id": "awful-yahoo",
   "metadata": {},
   "outputs": [],
   "source": [
    "# Asking user for valid input"
   ]
  },
  {
   "cell_type": "code",
   "execution_count": 11,
   "id": "personal-spotlight",
   "metadata": {},
   "outputs": [
    {
     "name": "stdin",
     "output_type": "stream",
     "text": [
      "Do you Like My Videos? Y / N N\n"
     ]
    },
    {
     "name": "stdout",
     "output_type": "stream",
     "text": [
      "I will try my level best to make these better!\n"
     ]
    }
   ],
   "source": [
    "def Replay(Question):\n",
    "    validresponse  = False\n",
    "    while not validresponse:\n",
    "        answer = input (Question)\n",
    "        answer = answer.upper()\n",
    "        if answer == \"Y\" or answer == \"N\":\n",
    "            validresponse = True\n",
    "        else : print(\"You need submit answer again!\")\n",
    "    return answer\n",
    "        \n",
    "\n",
    "Question = \"Do you Like My Videos? Y / N\"\n",
    "response = Replay (Question)\n",
    "if response == \"Y\":\n",
    "    print(\"Thank you for liking my videos\")\n",
    "if response == \"N\":\n",
    "    print (\"I will try my level best to make these better!\")"
   ]
  },
  {
   "cell_type": "code",
   "execution_count": null,
   "id": "municipal-access",
   "metadata": {},
   "outputs": [],
   "source": []
  },
  {
   "cell_type": "code",
   "execution_count": 19,
   "id": "surprised-internet",
   "metadata": {},
   "outputs": [
    {
     "ename": "SyntaxError",
     "evalue": "'return' outside function (<ipython-input-19-a9c9048148a4>, line 9)",
     "output_type": "error",
     "traceback": [
      "\u001b[1;36m  File \u001b[1;32m\"<ipython-input-19-a9c9048148a4>\"\u001b[1;36m, line \u001b[1;32m9\u001b[0m\n\u001b[1;33m    return answer\u001b[0m\n\u001b[1;37m    ^\u001b[0m\n\u001b[1;31mSyntaxError\u001b[0m\u001b[1;31m:\u001b[0m 'return' outside function\n"
     ]
    }
   ],
   "source": [
    "def ReplyY_N(query):\n",
    "    validresposne = False\n",
    "    while not validresposne:\n",
    "        answer = input (query)\n",
    "        answer = answer.upper()\n",
    "        if answer == \"Y\" or answer == \"N\":\n",
    "            validresposne == True\n",
    "        else: print (\"You response is not understable plz say again!\")\n",
    "    return answer\n",
    "\n",
    "\n",
    "\n",
    "query = \"Would you Like to Order anything else?\"\n",
    "\n",
    "response = ReplyY_N(query)\n",
    "if response == \"Y\":\n",
    "    print(\"Please tell me your preference on next order\")\n",
    "if response == \"N\":\n",
    "    print(\"Thank you for order have a good day!\")\n"
   ]
  },
  {
   "cell_type": "code",
   "execution_count": null,
   "id": "broad-sword",
   "metadata": {},
   "outputs": [],
   "source": []
  },
  {
   "cell_type": "code",
   "execution_count": null,
   "id": "narrow-personality",
   "metadata": {},
   "outputs": [],
   "source": []
  },
  {
   "cell_type": "code",
   "execution_count": null,
   "id": "clean-presence",
   "metadata": {},
   "outputs": [],
   "source": []
  },
  {
   "cell_type": "code",
   "execution_count": null,
   "id": "individual-afternoon",
   "metadata": {},
   "outputs": [],
   "source": []
  },
  {
   "cell_type": "code",
   "execution_count": null,
   "id": "narrow-christian",
   "metadata": {},
   "outputs": [],
   "source": []
  }
 ],
 "metadata": {
  "kernelspec": {
   "display_name": "Python 3",
   "language": "python",
   "name": "python3"
  },
  "language_info": {
   "codemirror_mode": {
    "name": "ipython",
    "version": 3
   },
   "file_extension": ".py",
   "mimetype": "text/x-python",
   "name": "python",
   "nbconvert_exporter": "python",
   "pygments_lexer": "ipython3",
   "version": "3.9.2"
  }
 },
 "nbformat": 4,
 "nbformat_minor": 5
}
