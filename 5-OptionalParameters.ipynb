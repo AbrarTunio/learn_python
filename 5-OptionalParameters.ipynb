{
 "cells": [
  {
   "cell_type": "markdown",
   "id": "outside-argument",
   "metadata": {},
   "source": [
    "<h2 style=\"color:darkblue\"> Optional Parameters </h1>"
   ]
  },
  {
   "cell_type": "code",
   "execution_count": 2,
   "id": "underlying-timeline",
   "metadata": {},
   "outputs": [
    {
     "name": "stdout",
     "output_type": "stream",
     "text": [
      "100\n",
      "100\n",
      "64\n"
     ]
    }
   ],
   "source": [
    "print(int(\"100\"))\n",
    "print(int(\"100\", 10))   # same thing, 10 is the default value for the base\n",
    "print(int(\"100\", 8))     # now the base is 8, so the result is 1*64 = 64\n"
   ]
  },
  {
   "cell_type": "markdown",
   "id": "extreme-minority",
   "metadata": {},
   "source": [
    "<div style=\"background-color:#C8E5FC\"> <b>Note</b>\n",
    "\n",
    "<p>Tom Lehrer’s New Math</p>\n",
    "\n",
    "<p>Some math educators believe that elementary school students will get a much deeper understanding of the place-value system, and set a foundation for learning algebra later, if they learn to do arithmetic not only in base-10 but also in base-8 and other bases. This was part of a movement called “The New Math”, though it’s not so new now (I had it when I was in elementary school!) Tom Lehrer made a really funny song about it, and it’s set with visuals in several YouTube renditions now. Try this very nice lip-synched version.</p></div>"
   ]
  },
  {
   "cell_type": "code",
   "execution_count": 3,
   "id": "cutting-entrepreneur",
   "metadata": {},
   "outputs": [
    {
     "name": "stdout",
     "output_type": "stream",
     "text": [
      "x, y, z, are: 2, 3, 7\n",
      "x, y, z, are: 2, 5, 7\n",
      "x, y, z, are: 2, 5, 8\n"
     ]
    }
   ],
   "source": [
    "initial = 7\n",
    "def f(x, y =3, z=initial):\n",
    "    print(\"x, y, z, are: \" + str(x) + \", \" + str(y) + \", \" + str(z))\n",
    "\n",
    "f(2)\n",
    "f(2, 5)\n",
    "f(2, 5, 8)"
   ]
  },
  {
   "cell_type": "markdown",
   "id": "developmental-forward",
   "metadata": {},
   "source": [
    "**BIT MORE COMPLICATED**"
   ]
  },
  {
   "cell_type": "code",
   "execution_count": 4,
   "id": "critical-modification",
   "metadata": {},
   "outputs": [
    {
     "name": "stdout",
     "output_type": "stream",
     "text": [
      "x, y, z, are: 2, 3, 7\n"
     ]
    }
   ],
   "source": [
    "initial = 7\n",
    "def f(x, y =3, z=initial):\n",
    "    print(\"x, y, z, are: \" + str(x) + \", \" + str(y) + \", \" + str(z))\n",
    "\n",
    "initial = 10 #Neverpass into function\n",
    "f(2)"
   ]
  },
  {
   "cell_type": "code",
   "execution_count": 8,
   "id": "configured-contributor",
   "metadata": {},
   "outputs": [
    {
     "name": "stdout",
     "output_type": "stream",
     "text": [
      "x, y, z, are: 2, 3, 7\n",
      "x, y, z, are: 5, 3, 7\n",
      "x, y, z, are: 3, 3, 7\n"
     ]
    }
   ],
   "source": [
    "initial = 7\n",
    "def f(x, y =3, z=initial):\n",
    "    print(\"x, y, z, are: \" + str(x) + \", \" + str(y) + \", \" + str(z))\n",
    "\n",
    "initial = 10 #Neverpass into function\n",
    "f(2);f(5);f(3)\n"
   ]
  },
  {
   "cell_type": "markdown",
   "id": "unusual-cotton",
   "metadata": {},
   "source": [
    "**Here Comes Another Trick**"
   ]
  },
  {
   "cell_type": "code",
   "execution_count": 12,
   "id": "parliamentary-microphone",
   "metadata": {},
   "outputs": [
    {
     "name": "stdout",
     "output_type": "stream",
     "text": [
      "[1]\n",
      "[1, 2]\n",
      "[1, 2, 3]\n",
      "['Hello', 4]\n",
      "['Hello', 5]\n",
      "['AbrarGreets', 6]\n"
     ]
    }
   ],
   "source": [
    "def f(a, L=[]):\n",
    "    L.append(a)\n",
    "    return L\n",
    "\n",
    "print(f(1))   #You keep 1 in list\n",
    "print(f(2))   #1 is already in list and you put 2\n",
    "print(f(3))   #1 and 2 already in list and you put three.\n",
    "\n",
    "#this is an interesting part\n",
    "print(f(4, [\"Hello\"])) #you put hello in list already and append 4 to it\n",
    "print(f(5, [\"Hello\"])) #Once again you put hello to list and append 5 to it\n",
    "print(f(6, [\"AbrarGreets\"]))\n"
   ]
  },
  {
   "cell_type": "code",
   "execution_count": null,
   "id": "pretty-transcription",
   "metadata": {},
   "outputs": [],
   "source": []
  }
 ],
 "metadata": {
  "kernelspec": {
   "display_name": "Python 3",
   "language": "python",
   "name": "python3"
  },
  "language_info": {
   "codemirror_mode": {
    "name": "ipython",
    "version": 3
   },
   "file_extension": ".py",
   "mimetype": "text/x-python",
   "name": "python",
   "nbconvert_exporter": "python",
   "pygments_lexer": "ipython3",
   "version": "3.9.2"
  }
 },
 "nbformat": 4,
 "nbformat_minor": 5
}
