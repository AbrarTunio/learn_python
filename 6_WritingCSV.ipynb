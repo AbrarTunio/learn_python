{
 "cells": [
  {
   "cell_type": "code",
   "execution_count": 17,
   "id": "seven-yahoo",
   "metadata": {},
   "outputs": [],
   "source": [
    "message = [(\"John Aalberg\", 31, \"Cross Country Skiing\"),\n",
    "             (\"Minna Maarit Aalto\", 30, \"Sailing\"),\n",
    "             (\"Win Valdemar Aaltonen\", 54, \"Art Competitions\"),\n",
    "             (\"Wakako Abe\", 18, \"Cycling\")]\n",
    "#note here that message is list of tuple"
   ]
  },
  {
   "cell_type": "markdown",
   "id": "coordinated-handling",
   "metadata": {},
   "source": [
    "Using format or f ------ > method of concatenation"
   ]
  },
  {
   "cell_type": "code",
   "execution_count": 23,
   "id": "waiting-snake",
   "metadata": {},
   "outputs": [
    {
     "name": "stdout",
     "output_type": "stream",
     "text": [
      "('John Aalberg', 31, 'Cross Country Skiing')\n",
      "('Minna Maarit Aalto', 30, 'Sailing')\n",
      "('Win Valdemar Aaltonen', 54, 'Art Competitions')\n",
      "('Wakako Abe', 18, 'Cycling')\n"
     ]
    }
   ],
   "source": [
    "with open(\"writecsv.cvs\",\"w\") as file:\n",
    "    header = ('\"name\",\"age\",\"sports\"')\n",
    "    file.write(header)\n",
    "    \n",
    "    #header = \"name\",\"age\",\"sports\"\n",
    "    #file.write(f\"{header[0]},{header[1]},{header[2]}\")\n",
    "    \n",
    "    file.write(\"\\n\")\n",
    "    for value in message:\n",
    "        print(value)\n",
    "        # file.write(value)  =====>error===> write() argument must be str, not tuple\n",
    "        file.write(f\"{value[0]},{value[1]},{value[2]}\")\n",
    "        file.write(\"\\n\")"
   ]
  },
  {
   "cell_type": "code",
   "execution_count": 21,
   "id": "engaging-consultancy",
   "metadata": {},
   "outputs": [],
   "source": [
    "olympians = [(\"John Aalberg\", 31, \"Cross Country Skiing\"),\n",
    "             (\"Minna Maarit Aalto\", 30, \"Sailing\"),\n",
    "             (\"Win Valdemar Aaltonen\", 54, \"Art Competitions\"),\n",
    "             (\"Wakako Abe\", 18, \"Cycling\")]\n",
    "\n",
    "outfile = open(\"reduced_olympics.csv\", \"w\")\n",
    "# output the header row\n",
    "outfile.write('Name,Age,Sport')\n",
    "outfile.write('\\n')\n",
    "# output each of the rows:\n",
    "for olympian in olympians:\n",
    "    row_string = '{},{},{}'.format(olympian[0], olympian[1], olympian[2])\n",
    "    outfile.write(row_string)\n",
    "    outfile.write('\\n')\n",
    "outfile.close()"
   ]
  },
  {
   "cell_type": "markdown",
   "id": "essential-minister",
   "metadata": {},
   "source": [
    "Using \",\".join() function ======> method of joining string"
   ]
  },
  {
   "cell_type": "code",
   "execution_count": 61,
   "id": "controversial-furniture",
   "metadata": {},
   "outputs": [],
   "source": [
    "olympians = [(\"John Aalberg\", 31, \"Cross Country Skiing, 15KM\"),\n",
    "             (\"Minna Maarit Aalto\", 30, \"Sailing\"),\n",
    "             (\"Win Valdemar Aaltonen\", 54, \"Art Competitions\"),\n",
    "             (\"Wakako Abe\", 18, \"Cycling\")]\n",
    "\n",
    "outfile = open(\"reduced_olympics2.csv\", \"w\")\n",
    "# output the header row\n",
    "outfile.write('\"Name\",\"Age\",\"Sport\"')\n",
    "outfile.write('\\n')\n",
    "\n",
    "# output each of the rows:\n",
    "for olympian in olympians:\n",
    "    #row_string = \",\".join(olympian[0],str(olympian[1]),olympian[2]) #this does not work with me Michigan\n",
    "    outfile.write(f\"{olympian[0]},{olympian[1]},{olympian[2]}\")\n",
    "    outfile.write(\"\\n\")   #this one is very important to look file properly or you will get confused.\n",
    "outfile.close()\n"
   ]
  },
  {
   "cell_type": "markdown",
   "id": "scheduled-first",
   "metadata": {},
   "source": [
    "When working with files, there are a few things to keep in mind. When naming files, it’s best to not include spaces. While most operating systems can handle files with spaces in their names, not all can.\n",
    "\n",
    "Additionally, suffixes in files names, for example the .txt in FileNameExample.txt, are not magic. Instead, these suffixes are a convention. For some operating systems the suffixes have no special significance, and only have meaning when used in a program. Other operating systems infer information from the suffixes - for example, .EXE is a suffix that means a file is executable.\n",
    "\n",
    "It’s a good idea to follow the conventions. If a file contains CSV formatted data, name it with the extension .csv, not .txt. A Python program will be able to read it either way, but if you follow the convention you will help other people guess what’s in the file. And you will also help the computer’s operating system to guess what application program it should open when you double-click on the file."
   ]
  },
  {
   "cell_type": "markdown",
   "id": "aquatic-friendship",
   "metadata": {},
   "source": [
    "txt for text files\n",
    "xls for excel files\n",
    "cvs for comma sep files\n",
    "doc/docx for Word files"
   ]
  },
  {
   "cell_type": "code",
   "execution_count": null,
   "id": "jewish-federation",
   "metadata": {},
   "outputs": [],
   "source": []
  }
 ],
 "metadata": {
  "kernelspec": {
   "display_name": "Python 3",
   "language": "python",
   "name": "python3"
  },
  "language_info": {
   "codemirror_mode": {
    "name": "ipython",
    "version": 3
   },
   "file_extension": ".py",
   "mimetype": "text/x-python",
   "name": "python",
   "nbconvert_exporter": "python",
   "pygments_lexer": "ipython3",
   "version": "3.9.2"
  }
 },
 "nbformat": 4,
 "nbformat_minor": 5
}
