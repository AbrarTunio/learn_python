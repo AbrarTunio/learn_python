{
 "cells": [
  {
   "cell_type": "markdown",
   "id": "upset-thursday",
   "metadata": {},
   "source": [
    "**3. Write a Python function to multiply all the numbers in a list.**\n",
    "Sample List : (8, 2, 3, -1, 7)\n",
    "Expected Output : -336"
   ]
  },
  {
   "cell_type": "code",
   "execution_count": 2,
   "id": "competent-isaac",
   "metadata": {},
   "outputs": [
    {
     "name": "stdout",
     "output_type": "stream",
     "text": [
      "-336\n"
     ]
    }
   ],
   "source": [
    "def mul_list(lst):\n",
    "    tot = 1\n",
    "    for value in lst:\n",
    "        tot = tot * value\n",
    "    return tot\n",
    "\n",
    "sample = [8,2,3,-1,7]\n",
    "print(   mul_list(sample)   )"
   ]
  },
  {
   "cell_type": "code",
   "execution_count": null,
   "id": "future-perfume",
   "metadata": {},
   "outputs": [],
   "source": []
  }
 ],
 "metadata": {
  "kernelspec": {
   "display_name": "Python 3",
   "language": "python",
   "name": "python3"
  },
  "language_info": {
   "codemirror_mode": {
    "name": "ipython",
    "version": 3
   },
   "file_extension": ".py",
   "mimetype": "text/x-python",
   "name": "python",
   "nbconvert_exporter": "python",
   "pygments_lexer": "ipython3",
   "version": "3.9.2"
  }
 },
 "nbformat": 4,
 "nbformat_minor": 5
}
