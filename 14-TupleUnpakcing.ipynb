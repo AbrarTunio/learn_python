{
 "cells": [
  {
   "cell_type": "markdown",
   "id": "copyrighted-retirement",
   "metadata": {},
   "source": [
    "**TUPLE-UN-PACKING**"
   ]
  },
  {
   "cell_type": "code",
   "execution_count": 1,
   "id": "decent-stephen",
   "metadata": {},
   "outputs": [
    {
     "name": "stdout",
     "output_type": "stream",
     "text": [
      "(62.9038, 314.519)\n"
     ]
    }
   ],
   "source": [
    "def circleInfo (r):\n",
    "    c  = 2 * 3.14519 * r\n",
    "    a  = 3.14519 * r * r\n",
    "    return c , a\n",
    "print(circleInfo(10))"
   ]
  },
  {
   "cell_type": "code",
   "execution_count": 3,
   "id": "signed-provision",
   "metadata": {},
   "outputs": [
    {
     "name": "stdout",
     "output_type": "stream",
     "text": [
      "This is the circumference: 62.9038\n",
      "This is the area: 314.519\n",
      "This is the circumference for 2nd Circle : 157.2595\n",
      "This is the area for 2nd Circle: 1965.74375\n"
     ]
    }
   ],
   "source": [
    "#Now its time to unpack it\n",
    "\n",
    "circumference , area = circleInfo(10)\n",
    "print(\"This is the circumference:\", circumference)\n",
    "print(\"This is the area:\", area)\n",
    "\n",
    "circumference2 , area2 = circleInfo(25)\n",
    "print(\"This is the circumference for 2nd Circle :\", circumference2)\n",
    "print(\"This is the area for 2nd Circle:\", area2)\n",
    "\n"
   ]
  },
  {
   "cell_type": "code",
   "execution_count": 4,
   "id": "supported-voluntary",
   "metadata": {},
   "outputs": [
    {
     "ename": "SyntaxError",
     "evalue": "invalid syntax (<ipython-input-4-fe4df8215e5f>, line 1)",
     "output_type": "error",
     "traceback": [
      "\u001b[1;36m  File \u001b[1;32m\"<ipython-input-4-fe4df8215e5f>\"\u001b[1;36m, line \u001b[1;32m1\u001b[0m\n\u001b[1;33m    Check your Understanding\u001b[0m\n\u001b[1;37m          ^\u001b[0m\n\u001b[1;31mSyntaxError\u001b[0m\u001b[1;31m:\u001b[0m invalid syntax\n"
     ]
    }
   ],
   "source": [
    "Check your Understanding\n",
    "\n",
    "tuples-3-1: If you want a function to return two values, contained in variables x and y, which of the following methods will work?\n",
    "\n",
    "A. Make the last two lines of the function be \"return x\" and \"return y\"\n",
    "B. Include the statement \"return [x, y]\"\n",
    "C. Include the statement \"return (x, y)\"\n",
    "D. Include the statement \"return x, y\"\n",
    "E. It's not possible to return two values; make two functions that each compute one value.\n",
    "\n",
    "✔️Correct.\n",
    "B. return [x,y] is not the preferred method because it returns x and y in a mutable list rather than a tuple which is more efficient. But it is workable.\n",
    "C. return (x, y) returns a tuple.\n",
    "D. return x, y causes the two values to be packed into a tuple."
   ]
  },
  {
   "cell_type": "markdown",
   "id": "referenced-waters",
   "metadata": {},
   "source": [
    "Define a function called **information** that takes as input, the variables **name, birth_year, fav_color, and hometown**. \n",
    "It should return a **tuple** of these variables in this order."
   ]
  },
  {
   "cell_type": "code",
   "execution_count": 6,
   "id": "geological-supervisor",
   "metadata": {},
   "outputs": [
    {
     "name": "stdin",
     "output_type": "stream",
     "text": [
      "Enter Your Name:  Abrar Hussain\n",
      "Enter your Birth Year:  1989\n",
      "Enter your fav_color:  green\n",
      "Enter you hometown:  Nawabshah\n"
     ]
    },
    {
     "data": {
      "text/plain": [
       "('Abrar Hussain', '1989', 'green', 'Nawabshah')"
      ]
     },
     "execution_count": 6,
     "metadata": {},
     "output_type": "execute_result"
    }
   ],
   "source": [
    "def information():\n",
    "    name = input (\"Enter Your Name: \")\n",
    "    birth_year = input (\"Enter your Birth Year: \")\n",
    "    fav_color = input (\"Enter your fav_color: \")\n",
    "    hometown = input (\"Enter you hometown: \")\n",
    "    return name, birth_year, fav_color, hometown\n",
    "\n",
    "information()\n",
    "\n",
    "################Above is also right but below is the answer by Coursera\n",
    "def information(name, birth_year, fav_color, hometown):\n",
    "    return name, birth_year, fav_color, hometown\n"
   ]
  },
  {
   "cell_type": "code",
   "execution_count": 7,
   "id": "streaming-lounge",
   "metadata": {},
   "outputs": [],
   "source": [
    "#Define a function called \n",
    "#info \n",
    "#with the following required parameters: \n",
    "#name, age, birth_year, year_in_college, and hometown. \n",
    "#The function should return a tuple that contains all the inputted information.\n",
    "\n",
    "def info ():\n",
    "    \n",
    "    name = input (\"Enter your name: \")\n",
    "    age = input (\"Enter your age: \")\n",
    "    birth_year = input (\"Enter your birth_year: \")\n",
    "    year_in_college = input (\"Enter your year_in_college: \")\n",
    "    hometown = input (\"Enter your hometown: \")\n",
    "    \n",
    "    return name, age, birth_year, year_in_college, hometown \n",
    "\n",
    "####Above is right way but Coursera Say like This *************\n",
    "def info (name, age, birth_year, year_in_college, hometown):\n",
    "    \n",
    "    return name, age, birth_year, year_in_college, hometown \n",
    "\n"
   ]
  },
  {
   "cell_type": "code",
   "execution_count": null,
   "id": "dedicated-journalism",
   "metadata": {},
   "outputs": [],
   "source": []
  }
 ],
 "metadata": {
  "kernelspec": {
   "display_name": "Python 3",
   "language": "python",
   "name": "python3"
  },
  "language_info": {
   "codemirror_mode": {
    "name": "ipython",
    "version": 3
   },
   "file_extension": ".py",
   "mimetype": "text/x-python",
   "name": "python",
   "nbconvert_exporter": "python",
   "pygments_lexer": "ipython3",
   "version": "3.9.2"
  }
 },
 "nbformat": 4,
 "nbformat_minor": 5
}
