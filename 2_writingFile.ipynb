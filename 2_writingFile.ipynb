{
 "cells": [
  {
   "cell_type": "code",
   "execution_count": 62,
   "id": "cordless-metallic",
   "metadata": {},
   "outputs": [
    {
     "data": {
      "text/plain": [
       "47"
      ]
     },
     "execution_count": 62,
     "metadata": {},
     "output_type": "execute_result"
    }
   ],
   "source": [
    "#Step 1: open file for writing and add lines\n",
    "file = open(\"zwrite.txt\", \"w\")  #a new file write.txt will be created. Or overwritten existing\n",
    "message = \"Overwrite the values that Abrar is giving you \\n\" \n",
    "file.write(message)"
   ]
  },
  {
   "cell_type": "markdown",
   "id": "fallen-trailer",
   "metadata": {},
   "source": [
    "From Here It is a new PROGRAM"
   ]
  },
  {
   "cell_type": "code",
   "execution_count": 6,
   "id": "difficult-fitting",
   "metadata": {},
   "outputs": [
    {
     "name": "stdout",
     "output_type": "stream",
     "text": [
      "0\n",
      "0\n",
      "1\n",
      "1\n",
      "4\n",
      "4\n",
      "9\n",
      "9\n",
      "16\n",
      "16\n",
      "25\n",
      "25\n",
      "36\n",
      "36\n",
      "49\n",
      "49\n",
      "64\n",
      "64\n",
      "81\n",
      "81\n",
      "\n"
     ]
    }
   ],
   "source": [
    "file_obj = open(\"square.txt\",\"w\")\n",
    "for num in range(10):\n",
    "    square = num*num\n",
    "    file_obj.write(str(square)) # It is very necessary to convert \"square\" into str if you want to write it into file.\n",
    "    file_obj.write(\"\\n\")  # This is to make the number look beautiful\n",
    "    file_obj.write(str(square) + \"\\n\")\n",
    "file_read = open(\"square.txt\",\"r\")\n",
    "print(file_read.read())"
   ]
  },
  {
   "cell_type": "code",
   "execution_count": null,
   "id": "stone-donor",
   "metadata": {},
   "outputs": [],
   "source": []
  }
 ],
 "metadata": {
  "kernelspec": {
   "display_name": "Python 3",
   "language": "python",
   "name": "python3"
  },
  "language_info": {
   "codemirror_mode": {
    "name": "ipython",
    "version": 3
   },
   "file_extension": ".py",
   "mimetype": "text/x-python",
   "name": "python",
   "nbconvert_exporter": "python",
   "pygments_lexer": "ipython3",
   "version": "3.9.2"
  }
 },
 "nbformat": 4,
 "nbformat_minor": 5
}
